{
 "cells": [
  {
   "cell_type": "code",
   "execution_count": 1,
   "source": [
    "from tf.app import use\r\n",
    "A = use('bhsa')\r\n",
    "F = A.TF.api.F"
   ],
   "outputs": [
    {
     "output_type": "display_data",
     "data": {
      "text/plain": [
       "<IPython.core.display.HTML object>"
      ],
      "text/html": [
       "<b title=\"local release\">TF-app:</b> <span title=\"rv2.3.0=#113c0687cfce3077734dac1844d244d20f4ace6f offline under ~/text-fabric-data\">C:\\Users\\ittai_n0vs94x/text-fabric-data/annotation/app-bhsa/code</span>"
      ]
     },
     "metadata": {}
    },
    {
     "output_type": "display_data",
     "data": {
      "text/plain": [
       "<IPython.core.display.HTML object>"
      ],
      "text/html": [
       "<b title=\"local release\">data:</b> <span title=\"rv1.6=#bac4a9f5a2bbdede96ba6caea45e762fe88f88c5 offline under ~/text-fabric-data\">C:\\Users\\ittai_n0vs94x/text-fabric-data/etcbc/bhsa/tf/c</span>"
      ]
     },
     "metadata": {}
    },
    {
     "output_type": "display_data",
     "data": {
      "text/plain": [
       "<IPython.core.display.HTML object>"
      ],
      "text/html": [
       "<b title=\"local release\">data:</b> <span title=\"r1.2=#1ac68e976ee4a7f23eb6bb4c6f401a033d0ec169 offline under ~/text-fabric-data\">C:\\Users\\ittai_n0vs94x/text-fabric-data/etcbc/phono/tf/c</span>"
      ]
     },
     "metadata": {}
    },
    {
     "output_type": "display_data",
     "data": {
      "text/plain": [
       "<IPython.core.display.HTML object>"
      ],
      "text/html": [
       "<b title=\"local release\">data:</b> <span title=\"r1.2=#395dfe2cb69c261862fab9f0289e594a52121d5c offline under ~/text-fabric-data\">C:\\Users\\ittai_n0vs94x/text-fabric-data/etcbc/parallels/tf/c</span>"
      ]
     },
     "metadata": {}
    },
    {
     "output_type": "stream",
     "name": "stdout",
     "text": [
      "This is Text-Fabric 9.0.0\n",
      "Api reference : https://annotation.github.io/text-fabric/tf/cheatsheet.html\n",
      "\n",
      "120 features found and 0 ignored\n"
     ]
    },
    {
     "output_type": "display_data",
     "data": {
      "text/plain": [
       "<IPython.core.display.HTML object>"
      ],
      "text/html": [
       "<b>Text-Fabric:</b> <a target=\"_blank\" href=\"https://annotation.github.io/text-fabric/tf/cheatsheet.html\" title=\"text-fabric-api\">Text-Fabric API 9.0.0</a>, <a target=\"_blank\" href=\"https://github.com/annotation/app-bhsa\" title=\"bhsa TF-app\">app-bhsa v3</a>, <a target=\"_blank\" href=\"https://annotation.github.io/text-fabric/tf/about/searchusage.html\" title=\"Search Templates Introduction and Reference\">Search Reference</a><br><b>Data:</b> <a target=\"_blank\" href=\"https://etcbc.github.io/bhsa/0_home\" title=\"provenance of BHSA = Biblia Hebraica Stuttgartensia Amstelodamensis\">BHSA</a>, <a target=\"_blank\" href=\"https://annotation.github.io/text-fabric/tf/writing/hebrew.html\" title=\"How TF features represent text\">Character table</a>, <a target=\"_blank\" href=\"https://etcbc.github.io/bhsa/features/0_home\" title=\"BHSA feature documentation\">Feature docs</a><br><b>Features:</b><br><details><summary><b>Parallel Passages</b></summary><b><i><a target=\"_blank\" href=\"https://nbviewer.jupyter.org/github/etcbc/parallels/blob/master/programs/parallels.ipynb\" title=\"C:\\Users\\ittai_n0vs94x/text-fabric-data/etcbc/parallels/tf/c/crossref.tf\">crossref</a></i></b><br></details><details><summary><b>BHSA = Biblia Hebraica Stuttgartensia Amstelodamensis</b></summary><a target=\"_blank\" href=\"https://etcbc.github.io/bhsa/features/book\" title=\"C:\\Users\\ittai_n0vs94x/text-fabric-data/etcbc/bhsa/tf/c/book.tf\">book</a><br><a target=\"_blank\" href=\"https://etcbc.github.io/bhsa/features/book@ll\" title=\"C:\\Users\\ittai_n0vs94x/text-fabric-data/etcbc/bhsa/tf/c/book@am.tf\">book@ll</a><br><a target=\"_blank\" href=\"https://etcbc.github.io/bhsa/features/chapter\" title=\"C:\\Users\\ittai_n0vs94x/text-fabric-data/etcbc/bhsa/tf/c/chapter.tf\">chapter</a><br><a target=\"_blank\" href=\"https://etcbc.github.io/bhsa/features/code\" title=\"C:\\Users\\ittai_n0vs94x/text-fabric-data/etcbc/bhsa/tf/c/code.tf\">code</a><br><a target=\"_blank\" href=\"https://etcbc.github.io/bhsa/features/det\" title=\"C:\\Users\\ittai_n0vs94x/text-fabric-data/etcbc/bhsa/tf/c/det.tf\">det</a><br><a target=\"_blank\" href=\"https://etcbc.github.io/bhsa/features/domain\" title=\"C:\\Users\\ittai_n0vs94x/text-fabric-data/etcbc/bhsa/tf/c/domain.tf\">domain</a><br><a target=\"_blank\" href=\"https://etcbc.github.io/bhsa/features/freq_lex\" title=\"C:\\Users\\ittai_n0vs94x/text-fabric-data/etcbc/bhsa/tf/c/freq_lex.tf\">freq_lex</a><br><a target=\"_blank\" href=\"https://etcbc.github.io/bhsa/features/function\" title=\"C:\\Users\\ittai_n0vs94x/text-fabric-data/etcbc/bhsa/tf/c/function.tf\">function</a><br><a target=\"_blank\" href=\"https://etcbc.github.io/bhsa/features/g_cons\" title=\"C:\\Users\\ittai_n0vs94x/text-fabric-data/etcbc/bhsa/tf/c/g_cons.tf\">g_cons</a><br><a target=\"_blank\" href=\"https://etcbc.github.io/bhsa/features/g_cons_utf8\" title=\"C:\\Users\\ittai_n0vs94x/text-fabric-data/etcbc/bhsa/tf/c/g_cons_utf8.tf\">g_cons_utf8</a><br><a target=\"_blank\" href=\"https://etcbc.github.io/bhsa/features/g_lex\" title=\"C:\\Users\\ittai_n0vs94x/text-fabric-data/etcbc/bhsa/tf/c/g_lex.tf\">g_lex</a><br><a target=\"_blank\" href=\"https://etcbc.github.io/bhsa/features/g_lex_utf8\" title=\"C:\\Users\\ittai_n0vs94x/text-fabric-data/etcbc/bhsa/tf/c/g_lex_utf8.tf\">g_lex_utf8</a><br><a target=\"_blank\" href=\"https://etcbc.github.io/bhsa/features/g_word\" title=\"C:\\Users\\ittai_n0vs94x/text-fabric-data/etcbc/bhsa/tf/c/g_word.tf\">g_word</a><br><a target=\"_blank\" href=\"https://etcbc.github.io/bhsa/features/g_word_utf8\" title=\"C:\\Users\\ittai_n0vs94x/text-fabric-data/etcbc/bhsa/tf/c/g_word_utf8.tf\">g_word_utf8</a><br><a target=\"_blank\" href=\"https://etcbc.github.io/bhsa/features/gloss\" title=\"C:\\Users\\ittai_n0vs94x/text-fabric-data/etcbc/bhsa/tf/c/gloss.tf\">gloss</a><br><a target=\"_blank\" href=\"https://etcbc.github.io/bhsa/features/gn\" title=\"C:\\Users\\ittai_n0vs94x/text-fabric-data/etcbc/bhsa/tf/c/gn.tf\">gn</a><br><a target=\"_blank\" href=\"https://etcbc.github.io/bhsa/features/label\" title=\"C:\\Users\\ittai_n0vs94x/text-fabric-data/etcbc/bhsa/tf/c/label.tf\">label</a><br><a target=\"_blank\" href=\"https://etcbc.github.io/bhsa/features/language\" title=\"C:\\Users\\ittai_n0vs94x/text-fabric-data/etcbc/bhsa/tf/c/language.tf\">language</a><br><a target=\"_blank\" href=\"https://etcbc.github.io/bhsa/features/lex\" title=\"C:\\Users\\ittai_n0vs94x/text-fabric-data/etcbc/bhsa/tf/c/lex.tf\">lex</a><br><a target=\"_blank\" href=\"https://etcbc.github.io/bhsa/features/lex_utf8\" title=\"C:\\Users\\ittai_n0vs94x/text-fabric-data/etcbc/bhsa/tf/c/lex_utf8.tf\">lex_utf8</a><br><a target=\"_blank\" href=\"https://etcbc.github.io/bhsa/features/ls\" title=\"C:\\Users\\ittai_n0vs94x/text-fabric-data/etcbc/bhsa/tf/c/ls.tf\">ls</a><br><a target=\"_blank\" href=\"https://etcbc.github.io/bhsa/features/nametype\" title=\"C:\\Users\\ittai_n0vs94x/text-fabric-data/etcbc/bhsa/tf/c/nametype.tf\">nametype</a><br><a target=\"_blank\" href=\"https://etcbc.github.io/bhsa/features/nme\" title=\"C:\\Users\\ittai_n0vs94x/text-fabric-data/etcbc/bhsa/tf/c/nme.tf\">nme</a><br><a target=\"_blank\" href=\"https://etcbc.github.io/bhsa/features/nu\" title=\"C:\\Users\\ittai_n0vs94x/text-fabric-data/etcbc/bhsa/tf/c/nu.tf\">nu</a><br><a target=\"_blank\" href=\"https://etcbc.github.io/bhsa/features/number\" title=\"C:\\Users\\ittai_n0vs94x/text-fabric-data/etcbc/bhsa/tf/c/number.tf\">number</a><br><a target=\"_blank\" href=\"https://etcbc.github.io/bhsa/features/otype\" title=\"C:\\Users\\ittai_n0vs94x/text-fabric-data/etcbc/bhsa/tf/c/otype.tf\">otype</a><br><a target=\"_blank\" href=\"https://etcbc.github.io/bhsa/features/pargr\" title=\"C:\\Users\\ittai_n0vs94x/text-fabric-data/etcbc/bhsa/tf/c/pargr.tf\">pargr</a><br><a target=\"_blank\" href=\"https://etcbc.github.io/bhsa/features/pdp\" title=\"C:\\Users\\ittai_n0vs94x/text-fabric-data/etcbc/bhsa/tf/c/pdp.tf\">pdp</a><br><a target=\"_blank\" href=\"https://etcbc.github.io/bhsa/features/pfm\" title=\"C:\\Users\\ittai_n0vs94x/text-fabric-data/etcbc/bhsa/tf/c/pfm.tf\">pfm</a><br><a target=\"_blank\" href=\"https://etcbc.github.io/bhsa/features/prs\" title=\"C:\\Users\\ittai_n0vs94x/text-fabric-data/etcbc/bhsa/tf/c/prs.tf\">prs</a><br><a target=\"_blank\" href=\"https://etcbc.github.io/bhsa/features/prs_gn\" title=\"C:\\Users\\ittai_n0vs94x/text-fabric-data/etcbc/bhsa/tf/c/prs_gn.tf\">prs_gn</a><br><a target=\"_blank\" href=\"https://etcbc.github.io/bhsa/features/prs_nu\" title=\"C:\\Users\\ittai_n0vs94x/text-fabric-data/etcbc/bhsa/tf/c/prs_nu.tf\">prs_nu</a><br><a target=\"_blank\" href=\"https://etcbc.github.io/bhsa/features/prs_ps\" title=\"C:\\Users\\ittai_n0vs94x/text-fabric-data/etcbc/bhsa/tf/c/prs_ps.tf\">prs_ps</a><br><a target=\"_blank\" href=\"https://etcbc.github.io/bhsa/features/ps\" title=\"C:\\Users\\ittai_n0vs94x/text-fabric-data/etcbc/bhsa/tf/c/ps.tf\">ps</a><br><a target=\"_blank\" href=\"https://etcbc.github.io/bhsa/features/qere\" title=\"C:\\Users\\ittai_n0vs94x/text-fabric-data/etcbc/bhsa/tf/c/qere.tf\">qere</a><br><a target=\"_blank\" href=\"https://etcbc.github.io/bhsa/features/qere_trailer\" title=\"C:\\Users\\ittai_n0vs94x/text-fabric-data/etcbc/bhsa/tf/c/qere_trailer.tf\">qere_trailer</a><br><a target=\"_blank\" href=\"https://etcbc.github.io/bhsa/features/qere_trailer_utf8\" title=\"C:\\Users\\ittai_n0vs94x/text-fabric-data/etcbc/bhsa/tf/c/qere_trailer_utf8.tf\">qere_trailer_utf8</a><br><a target=\"_blank\" href=\"https://etcbc.github.io/bhsa/features/qere_utf8\" title=\"C:\\Users\\ittai_n0vs94x/text-fabric-data/etcbc/bhsa/tf/c/qere_utf8.tf\">qere_utf8</a><br><a target=\"_blank\" href=\"https://etcbc.github.io/bhsa/features/rank_lex\" title=\"C:\\Users\\ittai_n0vs94x/text-fabric-data/etcbc/bhsa/tf/c/rank_lex.tf\">rank_lex</a><br><a target=\"_blank\" href=\"https://etcbc.github.io/bhsa/features/rela\" title=\"C:\\Users\\ittai_n0vs94x/text-fabric-data/etcbc/bhsa/tf/c/rela.tf\">rela</a><br><a target=\"_blank\" href=\"https://etcbc.github.io/bhsa/features/sp\" title=\"C:\\Users\\ittai_n0vs94x/text-fabric-data/etcbc/bhsa/tf/c/sp.tf\">sp</a><br><a target=\"_blank\" href=\"https://etcbc.github.io/bhsa/features/st\" title=\"C:\\Users\\ittai_n0vs94x/text-fabric-data/etcbc/bhsa/tf/c/st.tf\">st</a><br><a target=\"_blank\" href=\"https://etcbc.github.io/bhsa/features/tab\" title=\"C:\\Users\\ittai_n0vs94x/text-fabric-data/etcbc/bhsa/tf/c/tab.tf\">tab</a><br><a target=\"_blank\" href=\"https://etcbc.github.io/bhsa/features/trailer\" title=\"C:\\Users\\ittai_n0vs94x/text-fabric-data/etcbc/bhsa/tf/c/trailer.tf\">trailer</a><br><a target=\"_blank\" href=\"https://etcbc.github.io/bhsa/features/trailer_utf8\" title=\"C:\\Users\\ittai_n0vs94x/text-fabric-data/etcbc/bhsa/tf/c/trailer_utf8.tf\">trailer_utf8</a><br><a target=\"_blank\" href=\"https://etcbc.github.io/bhsa/features/txt\" title=\"C:\\Users\\ittai_n0vs94x/text-fabric-data/etcbc/bhsa/tf/c/txt.tf\">txt</a><br><a target=\"_blank\" href=\"https://etcbc.github.io/bhsa/features/typ\" title=\"C:\\Users\\ittai_n0vs94x/text-fabric-data/etcbc/bhsa/tf/c/typ.tf\">typ</a><br><a target=\"_blank\" href=\"https://etcbc.github.io/bhsa/features/uvf\" title=\"C:\\Users\\ittai_n0vs94x/text-fabric-data/etcbc/bhsa/tf/c/uvf.tf\">uvf</a><br><a target=\"_blank\" href=\"https://etcbc.github.io/bhsa/features/vbe\" title=\"C:\\Users\\ittai_n0vs94x/text-fabric-data/etcbc/bhsa/tf/c/vbe.tf\">vbe</a><br><a target=\"_blank\" href=\"https://etcbc.github.io/bhsa/features/vbs\" title=\"C:\\Users\\ittai_n0vs94x/text-fabric-data/etcbc/bhsa/tf/c/vbs.tf\">vbs</a><br><a target=\"_blank\" href=\"https://etcbc.github.io/bhsa/features/verse\" title=\"C:\\Users\\ittai_n0vs94x/text-fabric-data/etcbc/bhsa/tf/c/verse.tf\">verse</a><br><a target=\"_blank\" href=\"https://etcbc.github.io/bhsa/features/voc_lex\" title=\"C:\\Users\\ittai_n0vs94x/text-fabric-data/etcbc/bhsa/tf/c/voc_lex.tf\">voc_lex</a><br><a target=\"_blank\" href=\"https://etcbc.github.io/bhsa/features/voc_lex_utf8\" title=\"C:\\Users\\ittai_n0vs94x/text-fabric-data/etcbc/bhsa/tf/c/voc_lex_utf8.tf\">voc_lex_utf8</a><br><a target=\"_blank\" href=\"https://etcbc.github.io/bhsa/features/vs\" title=\"C:\\Users\\ittai_n0vs94x/text-fabric-data/etcbc/bhsa/tf/c/vs.tf\">vs</a><br><a target=\"_blank\" href=\"https://etcbc.github.io/bhsa/features/vt\" title=\"C:\\Users\\ittai_n0vs94x/text-fabric-data/etcbc/bhsa/tf/c/vt.tf\">vt</a><br><b><i><a target=\"_blank\" href=\"https://etcbc.github.io/bhsa/features/mother\" title=\"C:\\Users\\ittai_n0vs94x/text-fabric-data/etcbc/bhsa/tf/c/mother.tf\">mother</a></i></b><br><b><i><a target=\"_blank\" href=\"https://etcbc.github.io/bhsa/features/oslots\" title=\"C:\\Users\\ittai_n0vs94x/text-fabric-data/etcbc/bhsa/tf/c/oslots.tf\">oslots</a></i></b><br></details><details><summary><b>Phonetic Transcriptions</b></summary><a target=\"_blank\" href=\"https://nbviewer.jupyter.org/github/etcbc/phono/blob/master/programs/phono.ipynb\" title=\"C:\\Users\\ittai_n0vs94x/text-fabric-data/etcbc/phono/tf/c/phono.tf\">phono</a><br><a target=\"_blank\" href=\"https://nbviewer.jupyter.org/github/etcbc/phono/blob/master/programs/phono.ipynb\" title=\"C:\\Users\\ittai_n0vs94x/text-fabric-data/etcbc/phono/tf/c/phono_trailer.tf\">phono_trailer</a><br></details>"
      ]
     },
     "metadata": {}
    },
    {
     "output_type": "display_data",
     "data": {
      "text/plain": [
       "<IPython.core.display.HTML object>"
      ],
      "text/html": [
       "<style>tr.tf.ltr, td.tf.ltr, th.tf.ltr { text-align: left ! important;}\n",
       "tr.tf.rtl, td.tf.rtl, th.tf.rtl { text-align: right ! important;}\n",
       "@font-face {\n",
       "  font-family: \"Gentium Plus\";\n",
       "  src: local('Gentium Plus'), local('GentiumPlus'),\n",
       "    url('/server/static/fonts/GentiumPlus-R.woff') format('woff'),\n",
       "    url('https://github.com/annotation/text-fabric/blob/master/tf/server/static/fonts/GentiumPlus-R.woff?raw=true') format('woff');\n",
       "}\n",
       "\n",
       "@font-face {\n",
       "  font-family: \"Ezra SIL\";\n",
       "  src: local('Ezra SIL'), local('EzraSIL'),\n",
       "    url('/server/static/fonts/SILEOT.woff') format('woff'),\n",
       "    url('https://github.com/annotation/text-fabric/blob/master/tf/server/static/fonts/SILEOT.woff?raw=true') format('woff');\n",
       "}\n",
       "\n",
       "@font-face {\n",
       "  font-family: \"SBL Hebrew\";\n",
       "  src: local('SBL Hebrew'), local('SBLHebrew'),\n",
       "    url('/server/static/fonts/SBL_Hbrw.woff') format('woff'),\n",
       "    url('https://github.com/annotation/text-fabric/blob/master/tf/server/static/fonts/SBL_Hbrw.woff?raw=true') format('woff');\n",
       "}\n",
       "\n",
       "@font-face {\n",
       "  font-family: \"Estrangelo Edessa\";\n",
       "  src: local('Estrangelo Edessa'), local('EstrangeloEdessa');\n",
       "    url('/server/static/fonts/SyrCOMEdessa.woff') format('woff'),\n",
       "    url('https://github.com/annotation/text-fabric/blob/master/tf/server/static/fonts/SyrCOMEdessa.woff?raw=true') format('woff');\n",
       "}\n",
       "\n",
       "@font-face {\n",
       "  font-family: AmiriQuran;\n",
       "  font-style: normal;\n",
       "  font-weight: 400;\n",
       "  src: local('Amiri Quran'), local('AmiriQuran'),\n",
       "    url('/server/static/fonts/AmiriQuran.woff') format('woff'),\n",
       "    url('https://github.com/annotation/text-fabric/blob/master/tf/server/static/fonts/AmiriQuran.woff?raw=true') format('woff');\n",
       "}\n",
       "\n",
       "@font-face {\n",
       "  font-family: AmiriQuranColored;\n",
       "  font-style: normal;\n",
       "  font-weight: 400;\n",
       "  src: local('Amiri Quran Colored'), local('AmiriQuranColored'),\n",
       "    url('/server/static/fonts/AmiriQuranColored.woff') format('woff'),\n",
       "    url('https://github.com/annotation/text-fabric/blob/master/tf/server/static/fonts/AmiriQuranColored.woff?raw=true') format('woff');\n",
       "}\n",
       "\n",
       "@font-face {\n",
       "  font-family: \"Santakku\";\n",
       "  src: local('Santakku'),\n",
       "    url('/server/static/fonts/Santakku.woff') format('woff'),\n",
       "    url('https://github.com/annotation/text-fabric/blob/master/tf/server/static/fonts/Santakku.woff?raw=true') format('woff');\n",
       "}\n",
       "\n",
       "@font-face {\n",
       "  font-family: \"SantakkuM\";\n",
       "  src: local('SantakkuM'),\n",
       "    url('/server/static/fonts/SantakkuM.woff') format('woff'),\n",
       "    url('https://github.com/annotation/text-fabric/blob/master/tf/server/static/fonts/SantakkuM.woff?raw=true') format('woff');\n",
       "}\n",
       "/* bypassing some classical notebook settings */\n",
       "div#notebook {\n",
       "  line-height: unset;\n",
       "}\n",
       "/* neutral text */\n",
       ".txtn,.txtn a:visited,.txtn a:link {\n",
       "    font-family: sans-serif;\n",
       "    font-size: medium;\n",
       "    direction: ltr;\n",
       "    unicode-bidi: embed;\n",
       "    text-decoration: none;\n",
       "    color: var(--text-color);\n",
       "}\n",
       "/* transcription text */\n",
       ".txtt,.txtt a:visited,.txtt a:link {\n",
       "    font-family: monospace;\n",
       "    font-size: medium;\n",
       "    direction: ltr;\n",
       "    unicode-bidi: embed;\n",
       "    text-decoration: none;\n",
       "    color: var(--text-color);\n",
       "}\n",
       "/* source text */\n",
       ".txto,.txto a:visited,.txto a:link {\n",
       "    font-family: serif;\n",
       "    font-size: medium;\n",
       "    direction: ltr;\n",
       "    unicode-bidi: embed;\n",
       "    text-decoration: none;\n",
       "    color: var(--text-color);\n",
       "}\n",
       "/* phonetic text */\n",
       ".txtp,.txtp a:visited,.txtp a:link {\n",
       "    font-family: Gentium, sans-serif;\n",
       "    font-size: medium;\n",
       "    direction: ltr;\n",
       "    unicode-bidi: embed;\n",
       "    text-decoration: none;\n",
       "    color: var(--text-color);\n",
       "}\n",
       "/* original script text */\n",
       ".txtu,.txtu a:visited,.txtu a:link {\n",
       "    font-family: Gentium, sans-serif;\n",
       "    font-size: medium;\n",
       "    text-decoration: none;\n",
       "    color: var(--text-color);\n",
       "}\n",
       "/* hebrew */\n",
       ".txtu.hbo,.lex.hbo {\n",
       "    font-family: \"Ezra SIL\", \"SBL Hebrew\", sans-serif;\n",
       "    font-size: large;\n",
       "    direction: rtl ! important;\n",
       "    unicode-bidi: embed;\n",
       "}\n",
       "/* syriac */\n",
       ".txtu.syc,.lex.syc {\n",
       "    font-family: \"Estrangelo Edessa\", sans-serif;\n",
       "    font-size: medium;\n",
       "    direction: rtl ! important;\n",
       "    unicode-bidi: embed;\n",
       "}\n",
       "/* neo aramaic */\n",
       ".txtu.cld,.lex.cld {\n",
       "    font-family: \"CharisSIL-R\", sans-serif;\n",
       "    font-size: medium;\n",
       "    direction: ltr ! important;\n",
       "    unicode-bidi: embed;\n",
       "}\n",
       "/* standard arabic */\n",
       ".txtu.ara,.lex.ara {\n",
       "    font-family: \"AmiriQuran\", sans-serif;\n",
       "    font-size: large;\n",
       "    direction: rtl ! important;\n",
       "    unicode-bidi: embed;\n",
       "}\n",
       "/* cuneiform */\n",
       ".txtu.akk,.lex.akk {\n",
       "    font-family: Santakku, sans-serif;\n",
       "    font-size: large;\n",
       "    direction: ltr ! important;\n",
       "    unicode-bidi: embed;\n",
       "}\n",
       "/* greek */\n",
       ".txtu.grc,.lex.grc a:link {\n",
       "    font-family: Gentium, sans-serif;\n",
       "    font-size: medium;\n",
       "    direction: ltr ! important;\n",
       "    unicode-bidi: embed;\n",
       "}\n",
       "a:hover {\n",
       "    text-decoration: underline | important;\n",
       "    color: #0000ff | important;\n",
       "}\n",
       ".ltr {\n",
       "    direction: ltr ! important;\n",
       "    unicode-bidi: embed;\n",
       "}\n",
       ".rtl {\n",
       "    direction: rtl ! important;\n",
       "    unicode-bidi: embed;\n",
       "}\n",
       ".ubd {\n",
       "    unicode-bidi: embed;\n",
       "}\n",
       ".col {\n",
       "   display: inline-block;\n",
       "}\n",
       ".features {\n",
       "    font-family: monospace;\n",
       "    font-size: medium;\n",
       "    font-weight: bold;\n",
       "    color: var(--features);\n",
       "    display: flex;\n",
       "    flex-flow: column nowrap;\n",
       "    justify-content: flex-start;\n",
       "    align-items: flex-start;\n",
       "    align-content: flex-start;\n",
       "    padding: 2px;\n",
       "    margin: 2px;\n",
       "    direction: ltr;\n",
       "    unicode-bidi: embed;\n",
       "    border: var(--meta-width) solid var(--meta-color);\n",
       "    border-radius: var(--meta-width);\n",
       "}\n",
       ".features div,.features span {\n",
       "    padding: 0;\n",
       "    margin: -2px 0;\n",
       "}\n",
       ".features .f {\n",
       "    font-family: sans-serif;\n",
       "    font-size: small;\n",
       "    font-weight: normal;\n",
       "    color: #5555bb;\n",
       "}\n",
       ".features .xft {\n",
       "  color: #000000;\n",
       "  background-color: #eeeeee;\n",
       "  font-size: medium;\n",
       "  margin: 2px 0px;\n",
       "}\n",
       ".features .xft .f {\n",
       "  color: #000000;\n",
       "  background-color: #eeeeee;\n",
       "  font-size: small;\n",
       "  font-weight: normal;\n",
       "}\n",
       ".tfsechead {\n",
       "    font-family: sans-serif;\n",
       "    font-size: small;\n",
       "    font-weight: bold;\n",
       "    color: var(--tfsechead);\n",
       "    unicode-bidi: embed;\n",
       "    text-align: start;\n",
       "}\n",
       ".structure {\n",
       "    font-family: sans-serif;\n",
       "    font-size: small;\n",
       "    font-weight: bold;\n",
       "    color: var(--structure);\n",
       "    unicode-bidi: embed;\n",
       "    text-align: start;\n",
       "}\n",
       ".comments {\n",
       "    display: flex;\n",
       "    justify-content: flex-start;\n",
       "    align-items: flex-start;\n",
       "    align-content: flex-start;\n",
       "    flex-flow: column nowrap;\n",
       "}\n",
       ".nd, a:link.nd {\n",
       "    font-family: sans-serif;\n",
       "    font-size: small;\n",
       "    color: var(--node);\n",
       "    vertical-align: super;\n",
       "    direction: ltr ! important;\n",
       "    unicode-bidi: embed;\n",
       "}\n",
       ".lex {\n",
       "  color: var(--lex-color);;\n",
       "}\n",
       ".children,.children.ltr {\n",
       "    display: flex;\n",
       "    border: 0;\n",
       "    background-color: #ffffff;\n",
       "    justify-content: flex-start;\n",
       "    align-items: flex-start;\n",
       "    align-content: flex-start;\n",
       "}\n",
       ".children.stretch {\n",
       "    align-items: stretch;\n",
       "}\n",
       ".children.hor {\n",
       "    flex-flow: row nowrap;\n",
       "}\n",
       ".children.hor.wrap {\n",
       "    flex-flow: row wrap;\n",
       "}\n",
       ".children.ver {\n",
       "    flex-flow: column nowrap;\n",
       "}\n",
       ".children.ver.wrap {\n",
       "    flex-flow: column wrap;\n",
       "}\n",
       ".contnr {\n",
       "    width: fit-content;\n",
       "    display: flex;\n",
       "    justify-content: flex-start;\n",
       "    align-items: flex-start;\n",
       "    align-content: flex-start;\n",
       "    flex-flow: column nowrap;\n",
       "    background: #ffffff none repeat scroll 0 0;\n",
       "    padding:  10px 2px 2px 2px;\n",
       "    margin: 16px 2px 2px 2px;\n",
       "    border-style: solid;\n",
       "    font-size: small;\n",
       "}\n",
       ".contnr.trm {\n",
       "    background-attachment: local;\n",
       "}\n",
       ".contnr.cnul {\n",
       "    padding:  0;\n",
       "    margin: 0;\n",
       "    border-style: solid;\n",
       "    font-size: xx-small;\n",
       "}\n",
       ".contnr.cnul,.lbl.cnul {\n",
       "    border-color: var(--border-color-nul);\n",
       "    border-width: var(--border-width-nul);\n",
       "    border-radius: var(--border-width-nul);\n",
       "}\n",
       ".contnr.c0,.lbl.c0 {\n",
       "    border-color: var(--border-color0);\n",
       "    border-width: var(--border-width0);\n",
       "    border-radius: var(--border-width0);\n",
       "}\n",
       ".contnr.c1,.lbl.c1 {\n",
       "    border-color: var(--border-color1);\n",
       "    border-width: var(--border-width1);\n",
       "    border-radius: var(--border-width1);\n",
       "}\n",
       ".contnr.c2,.lbl.c2 {\n",
       "    border-color: var(--border-color2);\n",
       "    border-width: var(--border-width2);\n",
       "    border-radius: var(--border-width2);\n",
       "}\n",
       ".contnr.c3,.lbl.c3 {\n",
       "    border-color: var(--border-color3);\n",
       "    border-width: var(--border-width3);\n",
       "    border-radius: var(--border-width3);\n",
       "}\n",
       ".contnr.c4,.lbl.c4 {\n",
       "    border-color: var(--border-color4);\n",
       "    border-width: var(--border-width4);\n",
       "    border-radius: var(--border-width4);\n",
       "}\n",
       "span.plain {\n",
       "    display: inline-block;\n",
       "    white-space: pre-wrap;\n",
       "}\n",
       ".plain {\n",
       "    background-color: #ffffff;\n",
       "}\n",
       ".plain.l,.contnr.l,.contnr.l>.lbl {\n",
       "    border-left-style: dotted\n",
       "}\n",
       ".plain.r,.contnr.r,.contnr.r>.lbl {\n",
       "    border-right-style: dotted\n",
       "}\n",
       ".plain.lno,.contnr.lno,.contnr.lno>.lbl {\n",
       "    border-left-style: none\n",
       "}\n",
       ".plain.rno,.contnr.rno,.contnr.rno>.lbl {\n",
       "    border-right-style: none\n",
       "}\n",
       ".plain.l {\n",
       "    padding-left: 4px;\n",
       "    margin-left: 2px;\n",
       "    border-width: var(--border-width-plain);\n",
       "}\n",
       ".plain.r {\n",
       "    padding-right: 4px;\n",
       "    margin-right: 2px;\n",
       "    border-width: var(--border-width-plain);\n",
       "}\n",
       ".lbl {\n",
       "    font-family: monospace;\n",
       "    margin-top: -24px;\n",
       "    margin-left: 20px;\n",
       "    background: #ffffff none repeat scroll 0 0;\n",
       "    padding: 0 6px;\n",
       "    border-style: solid;\n",
       "    display: block;\n",
       "    color: var(--label)\n",
       "}\n",
       ".lbl.trm {\n",
       "    background-attachment: local;\n",
       "    margin-top: 2px;\n",
       "    margin-left: 2px;\n",
       "    padding: 2px 2px;\n",
       "    border-style: none;\n",
       "}\n",
       ".lbl.cnul {\n",
       "    font-size: xx-small;\n",
       "}\n",
       ".lbl.c0 {\n",
       "    font-size: small;\n",
       "}\n",
       ".lbl.c1 {\n",
       "    font-size: small;\n",
       "}\n",
       ".lbl.c2 {\n",
       "    font-size: medium;\n",
       "}\n",
       ".lbl.c3 {\n",
       "    font-size: medium;\n",
       "}\n",
       ".lbl.c4 {\n",
       "    font-size: large;\n",
       "}\n",
       ".occs, a:link.occs {\n",
       "    font-size: small;\n",
       "}\n",
       "\n",
       "/* PROVENANCE */\n",
       "\n",
       "div.prov {\n",
       "\tmargin: 40px;\n",
       "\tpadding: 20px;\n",
       "\tborder: 2px solid var(--fog-rim);\n",
       "}\n",
       "div.pline {\n",
       "\tdisplay: flex;\n",
       "\tflex-flow: row nowrap;\n",
       "\tjustify-content: stretch;\n",
       "\talign-items: baseline;\n",
       "}\n",
       "div.p2line {\n",
       "\tmargin-left: 2em;\n",
       "\tdisplay: flex;\n",
       "\tflex-flow: row nowrap;\n",
       "\tjustify-content: stretch;\n",
       "\talign-items: baseline;\n",
       "}\n",
       "div.psline {\n",
       "\tdisplay: flex;\n",
       "\tflex-flow: row nowrap;\n",
       "\tjustify-content: stretch;\n",
       "\talign-items: baseline;\n",
       "\tbackground-color: var(--gold-mist-back);\n",
       "}\n",
       "div.pname {\n",
       "\tflex: 0 0 5rem;\n",
       "\tfont-weight: bold;\n",
       "}\n",
       "div.pval {\n",
       "    flex: 1 1 auto;\n",
       "}\n",
       "\n",
       ":root {\n",
       "\t--node:               hsla(120, 100%,  20%, 1.0  );\n",
       "\t--label:              hsla(  0, 100%,  20%, 1.0  );\n",
       "\t--tfsechead:          hsla(  0, 100%,  25%, 1.0  );\n",
       "\t--structure:          hsla(120, 100%,  25%, 1.0  );\n",
       "\t--features:           hsla(  0,   0%,  30%, 1.0  );\n",
       "  --text-color:         hsla( 60,  80%,  10%, 1.0  );\n",
       "  --lex-color:          hsla(220,  90%,  60%, 1.0  );\n",
       "  --meta-color:         hsla(  0,   0%,  90%, 0.7  );\n",
       "  --meta-width:         3px;\n",
       "  --border-color-nul:   hsla(  0,   0%,  90%, 0.5  );\n",
       "  --border-color0:      hsla(  0,   0%,  90%, 0.9  );\n",
       "  --border-color1:      hsla(  0,   0%,  80%, 0.9  );\n",
       "  --border-color2:      hsla(  0,   0%,  70%, 0.9  );\n",
       "  --border-color3:      hsla(  0,   0%,  80%, 0.8  );\n",
       "  --border-color4:      hsla(  0,   0%,  60%, 0.9  );\n",
       "  --border-width-nul:   2px;\n",
       "  --border-width0:      2px;\n",
       "  --border-width1:      3px;\n",
       "  --border-width2:      4px;\n",
       "  --border-width3:      6px;\n",
       "  --border-width4:      5px;\n",
       "  --border-width-plain: 2px;\n",
       "}\n",
       ".hl {\n",
       "  background-color: var(--hl-strong);\n",
       "}\n",
       "span.hl {\n",
       "\tbackground-color: var(--hl-strong);\n",
       "\tborder-width: 0;\n",
       "\tborder-radius: 2px;\n",
       "\tborder-style: solid;\n",
       "}\n",
       "div.contnr.hl,div.lbl.hl {\n",
       "  background-color: var(--hl-strong);\n",
       "}\n",
       "div.contnr.hl {\n",
       "  border-color: var(--hl-rim) ! important;\n",
       "\tborder-width: 4px ! important;\n",
       "}\n",
       "\n",
       "span.hlbx {\n",
       "\tborder-color: var(--hl-rim);\n",
       "\tborder-width: 4px ! important;\n",
       "\tborder-style: solid;\n",
       "\tborder-radius: 6px;\n",
       "  padding: 4px;\n",
       "  margin: 4px;\n",
       "}\n",
       "\n",
       "span.plain {\n",
       "  display: inline-block;\n",
       "  white-space: pre-wrap;\n",
       "}\n",
       "\n",
       ":root {\n",
       "\t--hl-strong:        hsla( 60, 100%,  70%, 0.9  );\n",
       "\t--hl-rim:           hsla( 55,  80%,  50%, 1.0  );\n",
       "}\n",
       "</style>"
      ]
     },
     "metadata": {}
    }
   ],
   "metadata": {}
  },
  {
   "cell_type": "markdown",
   "source": [
    "# Number of Results\r\n",
    "Sometimes the number of results reported can be surprising. For example, the following search yields 91 results ...\r\n",
    "\r\n",
    "## Verb עשׂה followed by כַּאֲשֶׁר\r\n",
    "91 results (only displaying first 5)"
   ],
   "metadata": {}
  },
  {
   "cell_type": "code",
   "execution_count": 8,
   "source": [
    "A.table(A.search('''\r\n",
    "sentence\r\n",
    "    word lex_utf8=עשׂה\r\n",
    "    < word lex_utf8=כ\r\n",
    "    <: word lex_utf8=אשׁר\r\n",
    "''')[0:5])"
   ],
   "outputs": [
    {
     "output_type": "stream",
     "name": "stdout",
     "text": [
      "  1.02s 91 results\n"
     ]
    },
    {
     "output_type": "display_data",
     "data": {
      "text/plain": [
       "<IPython.core.display.HTML object>"
      ],
      "text/html": [
       "<table><tr class=\"tf rtl\"><th class=\"tf rtl\">n</th><th class=\"tf rtl\">p</th><th class=\"tf rtl\">sentence</th><th class=\"tf\">word</th><th class=\"tf\">word</th><th class=\"tf\">word</th></tr>\n",
       "<tr class=\"tf rtl\"><td class=\"tf rtl\">1</td><td class=\"tf rtl\"><span class=\"tfsechead ltr\"><a target=\"_blank\" href=\"https://shebanq.ancient-data.org/hebrew/text?book=Genesis&amp;chapter=18&amp;verse=5&amp;version=c&amp;mr=m&amp;qw=q&amp;tp=txt_p&amp;tr=hb&amp;wget=v&amp;qget=v&amp;nget=vt\" title=\"Show this on SHEBANQ\" sec=\"Genesis 18:5\">Genesis 18:5</a></span></td><td class=\"tf rtl\"><span class=\"rtl ubd\"><span class=\"plain rtl  hlbx\" ><span class=\"txtu hbo\">כֵּ֥ן </span><span class=\"plain rtl  hl\" ><span class=\"txtu hbo\">תַּעֲשֶׂ֖ה </span></span><span class=\"plain rtl  hl\" ><span class=\"txtu hbo\">כַּ</span></span><span class=\"plain rtl  hl\" ><span class=\"txtu hbo\">אֲשֶׁ֥ר </span></span><span class=\"txtu hbo\">דִּבַּֽרְתָּ׃ </span></span></span></td><td class=\"tf rtl\"><span class=\"rtl ubd\"><span class=\"plain rtl  hl\" ><span class=\"txtu hbo\">תַּעֲשֶׂ֖ה </span></span></span></td><td class=\"tf rtl\"><span class=\"rtl ubd\"><span class=\"plain rtl  hl\" ><span class=\"txtu hbo\">כַּ</span></span></span></td><td class=\"tf rtl\"><span class=\"rtl ubd\"><span class=\"plain rtl  hl\" ><span class=\"txtu hbo\">אֲשֶׁ֥ר </span></span></span></td></tr>\n",
       "<tr class=\"tf rtl\"><td class=\"tf rtl\">2</td><td class=\"tf rtl\"><span class=\"tfsechead ltr\"><a target=\"_blank\" href=\"https://shebanq.ancient-data.org/hebrew/text?book=Genesis&amp;chapter=21&amp;verse=1&amp;version=c&amp;mr=m&amp;qw=q&amp;tp=txt_p&amp;tr=hb&amp;wget=v&amp;qget=v&amp;nget=vt\" title=\"Show this on SHEBANQ\" sec=\"Genesis 21:1\">Genesis 21:1</a></span></td><td class=\"tf rtl\"><span class=\"rtl ubd\"><span class=\"plain rtl  hlbx\" ><span class=\"txtu hbo\">וַ</span><span class=\"plain rtl  hl\" ><span class=\"txtu hbo\">יַּ֧עַשׂ </span></span><span class=\"txtu hbo\">יְהוָ֛ה </span><span class=\"txtu hbo\">לְ</span><span class=\"txtu hbo\">שָׂרָ֖ה </span><span class=\"plain rtl  hl\" ><span class=\"txtu hbo\">כַּ</span></span><span class=\"plain rtl  hl\" ><span class=\"txtu hbo\">אֲשֶׁ֥ר </span></span><span class=\"txtu hbo\">דִּבֵּֽר׃ </span></span></span></td><td class=\"tf rtl\"><span class=\"rtl ubd\"><span class=\"plain rtl  hl\" ><span class=\"txtu hbo\">יַּ֧עַשׂ </span></span></span></td><td class=\"tf rtl\"><span class=\"rtl ubd\"><span class=\"plain rtl  hl\" ><span class=\"txtu hbo\">כַּ</span></span></span></td><td class=\"tf rtl\"><span class=\"rtl ubd\"><span class=\"plain rtl  hl\" ><span class=\"txtu hbo\">אֲשֶׁ֥ר </span></span></span></td></tr>\n",
       "<tr class=\"tf rtl\"><td class=\"tf rtl\">3</td><td class=\"tf rtl\"><span class=\"tfsechead ltr\"><a target=\"_blank\" href=\"https://shebanq.ancient-data.org/hebrew/text?book=Genesis&amp;chapter=26&amp;verse=29&amp;version=c&amp;mr=m&amp;qw=q&amp;tp=txt_p&amp;tr=hb&amp;wget=v&amp;qget=v&amp;nget=vt\" title=\"Show this on SHEBANQ\" sec=\"Genesis 26:29\">Genesis 26:29</a></span></td><td class=\"tf rtl\"><span class=\"rtl ubd\"><span class=\"plain rtl  hlbx\" ><span class=\"txtu hbo\">אִם־</span><span class=\"plain rtl  hl\" ><span class=\"txtu hbo\">תַּעֲשֵׂ֨ה </span></span><span class=\"txtu hbo\">עִמָּ֜נוּ </span><span class=\"txtu hbo\">רָעָ֗ה </span><span class=\"plain rtl  hl\" ><span class=\"txtu hbo\">כַּ</span></span><span class=\"plain rtl  hl\" ><span class=\"txtu hbo\">אֲשֶׁר֙ </span></span><span class=\"txtu hbo\">לֹ֣א </span><span class=\"txtu hbo\">נְגַֽעֲנ֔וּךָ </span><span class=\"txtu hbo\">וְ</span><span class=\"txtu hbo\">כַ</span><span class=\"txtu hbo\">אֲשֶׁ֨ר </span><span class=\"txtu hbo\">עָשִׂ֤ינוּ </span><span class=\"txtu hbo\">עִמְּךָ֙ </span><span class=\"txtu hbo\">רַק־</span><span class=\"txtu hbo\">טֹ֔וב </span></span></span></td><td class=\"tf rtl\"><span class=\"rtl ubd\"><span class=\"plain rtl  hl\" ><span class=\"txtu hbo\">תַּעֲשֵׂ֨ה </span></span></span></td><td class=\"tf rtl\"><span class=\"rtl ubd\"><span class=\"plain rtl  hl\" ><span class=\"txtu hbo\">כַּ</span></span></span></td><td class=\"tf rtl\"><span class=\"rtl ubd\"><span class=\"plain rtl  hl\" ><span class=\"txtu hbo\">אֲשֶׁר֙ </span></span></span></td></tr>\n",
       "<tr class=\"tf rtl\"><td class=\"tf rtl\">4</td><td class=\"tf rtl\"><span class=\"tfsechead ltr\"><a target=\"_blank\" href=\"https://shebanq.ancient-data.org/hebrew/text?book=Genesis&amp;chapter=26&amp;verse=29&amp;version=c&amp;mr=m&amp;qw=q&amp;tp=txt_p&amp;tr=hb&amp;wget=v&amp;qget=v&amp;nget=vt\" title=\"Show this on SHEBANQ\" sec=\"Genesis 26:29\">Genesis 26:29</a></span></td><td class=\"tf rtl\"><span class=\"rtl ubd\"><span class=\"plain rtl  hlbx\" ><span class=\"txtu hbo\">אִם־</span><span class=\"plain rtl  hl\" ><span class=\"txtu hbo\">תַּעֲשֵׂ֨ה </span></span><span class=\"txtu hbo\">עִמָּ֜נוּ </span><span class=\"txtu hbo\">רָעָ֗ה </span><span class=\"txtu hbo\">כַּ</span><span class=\"txtu hbo\">אֲשֶׁר֙ </span><span class=\"txtu hbo\">לֹ֣א </span><span class=\"txtu hbo\">נְגַֽעֲנ֔וּךָ </span><span class=\"txtu hbo\">וְ</span><span class=\"plain rtl  hl\" ><span class=\"txtu hbo\">כַ</span></span><span class=\"plain rtl  hl\" ><span class=\"txtu hbo\">אֲשֶׁ֨ר </span></span><span class=\"txtu hbo\">עָשִׂ֤ינוּ </span><span class=\"txtu hbo\">עִמְּךָ֙ </span><span class=\"txtu hbo\">רַק־</span><span class=\"txtu hbo\">טֹ֔וב </span></span></span></td><td class=\"tf rtl\"><span class=\"rtl ubd\"><span class=\"plain rtl  hl\" ><span class=\"txtu hbo\">תַּעֲשֵׂ֨ה </span></span></span></td><td class=\"tf rtl\"><span class=\"rtl ubd\"><span class=\"plain rtl  hl\" ><span class=\"txtu hbo\">כַ</span></span></span></td><td class=\"tf rtl\"><span class=\"rtl ubd\"><span class=\"plain rtl  hl\" ><span class=\"txtu hbo\">אֲשֶׁ֨ר </span></span></span></td></tr>\n",
       "<tr class=\"tf rtl\"><td class=\"tf rtl\">5</td><td class=\"tf rtl\"><span class=\"tfsechead ltr\"><a target=\"_blank\" href=\"https://shebanq.ancient-data.org/hebrew/text?book=Genesis&amp;chapter=27&amp;verse=4&amp;version=c&amp;mr=m&amp;qw=q&amp;tp=txt_p&amp;tr=hb&amp;wget=v&amp;qget=v&amp;nget=vt\" title=\"Show this on SHEBANQ\" sec=\"Genesis 27:4\">Genesis 27:4</a></span></td><td class=\"tf rtl\"><span class=\"rtl ubd\"><span class=\"plain rtl  hlbx\" ><span class=\"txtu hbo\">וַ</span><span class=\"plain rtl  hl\" ><span class=\"txtu hbo\">עֲשֵׂה־</span></span><span class=\"txtu hbo\">לִ֨י </span><span class=\"txtu hbo\">מַטְעַמִּ֜ים </span><span class=\"plain rtl  hl\" ><span class=\"txtu hbo\">כַּ</span></span><span class=\"plain rtl  hl\" ><span class=\"txtu hbo\">אֲשֶׁ֥ר </span></span><span class=\"txtu hbo\">אָהַ֛בְתִּי </span></span></span></td><td class=\"tf rtl\"><span class=\"rtl ubd\"><span class=\"plain rtl  hl\" ><span class=\"txtu hbo\">עֲשֵׂה־</span></span></span></td><td class=\"tf rtl\"><span class=\"rtl ubd\"><span class=\"plain rtl  hl\" ><span class=\"txtu hbo\">כַּ</span></span></span></td><td class=\"tf rtl\"><span class=\"rtl ubd\"><span class=\"plain rtl  hl\" ><span class=\"txtu hbo\">אֲשֶׁ֥ר </span></span></span></td></tr></table>"
      ]
     },
     "metadata": {}
    }
   ],
   "metadata": {}
  },
  {
   "cell_type": "markdown",
   "source": [
    "... but then the next search yields 109 results. The second search has an extra restriction, so it was counterintuitive that it should yield more results.\r\n",
    "\r\n",
    "## Verb עשׂה followed by כַּאֲשֶׁר and a verb\r\n",
    "109 results (only displaying first 5)"
   ],
   "metadata": {}
  },
  {
   "cell_type": "code",
   "execution_count": 10,
   "source": [
    "A.table(A.search('''\r\n",
    "sentence\r\n",
    "    word lex_utf8=עשׂה\r\n",
    "    < word lex_utf8=כ\r\n",
    "    <: word lex_utf8=אשׁר\r\n",
    "    < word sp=verb\r\n",
    "''')[0:5])"
   ],
   "outputs": [
    {
     "output_type": "stream",
     "name": "stdout",
     "text": [
      "  1.46s 109 results\n"
     ]
    },
    {
     "output_type": "display_data",
     "data": {
      "text/plain": [
       "<IPython.core.display.HTML object>"
      ],
      "text/html": [
       "<table><tr class=\"tf rtl\"><th class=\"tf rtl\">n</th><th class=\"tf rtl\">p</th><th class=\"tf rtl\">sentence</th><th class=\"tf\">word</th><th class=\"tf\">word</th><th class=\"tf\">word</th><th class=\"tf\">word</th></tr>\n",
       "<tr class=\"tf rtl\"><td class=\"tf rtl\">1</td><td class=\"tf rtl\"><span class=\"tfsechead ltr\"><a target=\"_blank\" href=\"https://shebanq.ancient-data.org/hebrew/text?book=Genesis&amp;chapter=18&amp;verse=5&amp;version=c&amp;mr=m&amp;qw=q&amp;tp=txt_p&amp;tr=hb&amp;wget=v&amp;qget=v&amp;nget=vt\" title=\"Show this on SHEBANQ\" sec=\"Genesis 18:5\">Genesis 18:5</a></span></td><td class=\"tf rtl\"><span class=\"rtl ubd\"><span class=\"plain rtl  hlbx\" ><span class=\"txtu hbo\">כֵּ֥ן </span><span class=\"plain rtl  hl\" ><span class=\"txtu hbo\">תַּעֲשֶׂ֖ה </span></span><span class=\"plain rtl  hl\" ><span class=\"txtu hbo\">כַּ</span></span><span class=\"plain rtl  hl\" ><span class=\"txtu hbo\">אֲשֶׁ֥ר </span></span><span class=\"plain rtl  hl\" ><span class=\"txtu hbo\">דִּבַּֽרְתָּ׃ </span></span></span></span></td><td class=\"tf rtl\"><span class=\"rtl ubd\"><span class=\"plain rtl  hl\" ><span class=\"txtu hbo\">תַּעֲשֶׂ֖ה </span></span></span></td><td class=\"tf rtl\"><span class=\"rtl ubd\"><span class=\"plain rtl  hl\" ><span class=\"txtu hbo\">כַּ</span></span></span></td><td class=\"tf rtl\"><span class=\"rtl ubd\"><span class=\"plain rtl  hl\" ><span class=\"txtu hbo\">אֲשֶׁ֥ר </span></span></span></td><td class=\"tf rtl\"><span class=\"rtl ubd\"><span class=\"plain rtl  hl\" ><span class=\"txtu hbo\">דִּבַּֽרְתָּ׃ </span></span></span></td></tr>\n",
       "<tr class=\"tf rtl\"><td class=\"tf rtl\">2</td><td class=\"tf rtl\"><span class=\"tfsechead ltr\"><a target=\"_blank\" href=\"https://shebanq.ancient-data.org/hebrew/text?book=Genesis&amp;chapter=21&amp;verse=1&amp;version=c&amp;mr=m&amp;qw=q&amp;tp=txt_p&amp;tr=hb&amp;wget=v&amp;qget=v&amp;nget=vt\" title=\"Show this on SHEBANQ\" sec=\"Genesis 21:1\">Genesis 21:1</a></span></td><td class=\"tf rtl\"><span class=\"rtl ubd\"><span class=\"plain rtl  hlbx\" ><span class=\"txtu hbo\">וַ</span><span class=\"plain rtl  hl\" ><span class=\"txtu hbo\">יַּ֧עַשׂ </span></span><span class=\"txtu hbo\">יְהוָ֛ה </span><span class=\"txtu hbo\">לְ</span><span class=\"txtu hbo\">שָׂרָ֖ה </span><span class=\"plain rtl  hl\" ><span class=\"txtu hbo\">כַּ</span></span><span class=\"plain rtl  hl\" ><span class=\"txtu hbo\">אֲשֶׁ֥ר </span></span><span class=\"plain rtl  hl\" ><span class=\"txtu hbo\">דִּבֵּֽר׃ </span></span></span></span></td><td class=\"tf rtl\"><span class=\"rtl ubd\"><span class=\"plain rtl  hl\" ><span class=\"txtu hbo\">יַּ֧עַשׂ </span></span></span></td><td class=\"tf rtl\"><span class=\"rtl ubd\"><span class=\"plain rtl  hl\" ><span class=\"txtu hbo\">כַּ</span></span></span></td><td class=\"tf rtl\"><span class=\"rtl ubd\"><span class=\"plain rtl  hl\" ><span class=\"txtu hbo\">אֲשֶׁ֥ר </span></span></span></td><td class=\"tf rtl\"><span class=\"rtl ubd\"><span class=\"plain rtl  hl\" ><span class=\"txtu hbo\">דִּבֵּֽר׃ </span></span></span></td></tr>\n",
       "<tr class=\"tf rtl\"><td class=\"tf rtl\">3</td><td class=\"tf rtl\"><span class=\"tfsechead ltr\"><a target=\"_blank\" href=\"https://shebanq.ancient-data.org/hebrew/text?book=Genesis&amp;chapter=26&amp;verse=29&amp;version=c&amp;mr=m&amp;qw=q&amp;tp=txt_p&amp;tr=hb&amp;wget=v&amp;qget=v&amp;nget=vt\" title=\"Show this on SHEBANQ\" sec=\"Genesis 26:29\">Genesis 26:29</a></span></td><td class=\"tf rtl\"><span class=\"rtl ubd\"><span class=\"plain rtl  hlbx\" ><span class=\"txtu hbo\">אִם־</span><span class=\"plain rtl  hl\" ><span class=\"txtu hbo\">תַּעֲשֵׂ֨ה </span></span><span class=\"txtu hbo\">עִמָּ֜נוּ </span><span class=\"txtu hbo\">רָעָ֗ה </span><span class=\"plain rtl  hl\" ><span class=\"txtu hbo\">כַּ</span></span><span class=\"plain rtl  hl\" ><span class=\"txtu hbo\">אֲשֶׁר֙ </span></span><span class=\"txtu hbo\">לֹ֣א </span><span class=\"plain rtl  hl\" ><span class=\"txtu hbo\">נְגַֽעֲנ֔וּךָ </span></span><span class=\"txtu hbo\">וְ</span><span class=\"txtu hbo\">כַ</span><span class=\"txtu hbo\">אֲשֶׁ֨ר </span><span class=\"txtu hbo\">עָשִׂ֤ינוּ </span><span class=\"txtu hbo\">עִמְּךָ֙ </span><span class=\"txtu hbo\">רַק־</span><span class=\"txtu hbo\">טֹ֔וב </span></span></span></td><td class=\"tf rtl\"><span class=\"rtl ubd\"><span class=\"plain rtl  hl\" ><span class=\"txtu hbo\">תַּעֲשֵׂ֨ה </span></span></span></td><td class=\"tf rtl\"><span class=\"rtl ubd\"><span class=\"plain rtl  hl\" ><span class=\"txtu hbo\">כַּ</span></span></span></td><td class=\"tf rtl\"><span class=\"rtl ubd\"><span class=\"plain rtl  hl\" ><span class=\"txtu hbo\">אֲשֶׁר֙ </span></span></span></td><td class=\"tf rtl\"><span class=\"rtl ubd\"><span class=\"plain rtl  hl\" ><span class=\"txtu hbo\">נְגַֽעֲנ֔וּךָ </span></span></span></td></tr>\n",
       "<tr class=\"tf rtl\"><td class=\"tf rtl\">4</td><td class=\"tf rtl\"><span class=\"tfsechead ltr\"><a target=\"_blank\" href=\"https://shebanq.ancient-data.org/hebrew/text?book=Genesis&amp;chapter=26&amp;verse=29&amp;version=c&amp;mr=m&amp;qw=q&amp;tp=txt_p&amp;tr=hb&amp;wget=v&amp;qget=v&amp;nget=vt\" title=\"Show this on SHEBANQ\" sec=\"Genesis 26:29\">Genesis 26:29</a></span></td><td class=\"tf rtl\"><span class=\"rtl ubd\"><span class=\"plain rtl  hlbx\" ><span class=\"txtu hbo\">אִם־</span><span class=\"plain rtl  hl\" ><span class=\"txtu hbo\">תַּעֲשֵׂ֨ה </span></span><span class=\"txtu hbo\">עִמָּ֜נוּ </span><span class=\"txtu hbo\">רָעָ֗ה </span><span class=\"plain rtl  hl\" ><span class=\"txtu hbo\">כַּ</span></span><span class=\"plain rtl  hl\" ><span class=\"txtu hbo\">אֲשֶׁר֙ </span></span><span class=\"txtu hbo\">לֹ֣א </span><span class=\"txtu hbo\">נְגַֽעֲנ֔וּךָ </span><span class=\"txtu hbo\">וְ</span><span class=\"txtu hbo\">כַ</span><span class=\"txtu hbo\">אֲשֶׁ֨ר </span><span class=\"plain rtl  hl\" ><span class=\"txtu hbo\">עָשִׂ֤ינוּ </span></span><span class=\"txtu hbo\">עִמְּךָ֙ </span><span class=\"txtu hbo\">רַק־</span><span class=\"txtu hbo\">טֹ֔וב </span></span></span></td><td class=\"tf rtl\"><span class=\"rtl ubd\"><span class=\"plain rtl  hl\" ><span class=\"txtu hbo\">תַּעֲשֵׂ֨ה </span></span></span></td><td class=\"tf rtl\"><span class=\"rtl ubd\"><span class=\"plain rtl  hl\" ><span class=\"txtu hbo\">כַּ</span></span></span></td><td class=\"tf rtl\"><span class=\"rtl ubd\"><span class=\"plain rtl  hl\" ><span class=\"txtu hbo\">אֲשֶׁר֙ </span></span></span></td><td class=\"tf rtl\"><span class=\"rtl ubd\"><span class=\"plain rtl  hl\" ><span class=\"txtu hbo\">עָשִׂ֤ינוּ </span></span></span></td></tr>\n",
       "<tr class=\"tf rtl\"><td class=\"tf rtl\">5</td><td class=\"tf rtl\"><span class=\"tfsechead ltr\"><a target=\"_blank\" href=\"https://shebanq.ancient-data.org/hebrew/text?book=Genesis&amp;chapter=26&amp;verse=29&amp;version=c&amp;mr=m&amp;qw=q&amp;tp=txt_p&amp;tr=hb&amp;wget=v&amp;qget=v&amp;nget=vt\" title=\"Show this on SHEBANQ\" sec=\"Genesis 26:29\">Genesis 26:29</a></span></td><td class=\"tf rtl\"><span class=\"rtl ubd\"><span class=\"plain rtl  hlbx\" ><span class=\"txtu hbo\">אִם־</span><span class=\"plain rtl  hl\" ><span class=\"txtu hbo\">תַּעֲשֵׂ֨ה </span></span><span class=\"txtu hbo\">עִמָּ֜נוּ </span><span class=\"txtu hbo\">רָעָ֗ה </span><span class=\"txtu hbo\">כַּ</span><span class=\"txtu hbo\">אֲשֶׁר֙ </span><span class=\"txtu hbo\">לֹ֣א </span><span class=\"txtu hbo\">נְגַֽעֲנ֔וּךָ </span><span class=\"txtu hbo\">וְ</span><span class=\"plain rtl  hl\" ><span class=\"txtu hbo\">כַ</span></span><span class=\"plain rtl  hl\" ><span class=\"txtu hbo\">אֲשֶׁ֨ר </span></span><span class=\"plain rtl  hl\" ><span class=\"txtu hbo\">עָשִׂ֤ינוּ </span></span><span class=\"txtu hbo\">עִמְּךָ֙ </span><span class=\"txtu hbo\">רַק־</span><span class=\"txtu hbo\">טֹ֔וב </span></span></span></td><td class=\"tf rtl\"><span class=\"rtl ubd\"><span class=\"plain rtl  hl\" ><span class=\"txtu hbo\">תַּעֲשֵׂ֨ה </span></span></span></td><td class=\"tf rtl\"><span class=\"rtl ubd\"><span class=\"plain rtl  hl\" ><span class=\"txtu hbo\">כַ</span></span></span></td><td class=\"tf rtl\"><span class=\"rtl ubd\"><span class=\"plain rtl  hl\" ><span class=\"txtu hbo\">אֲשֶׁ֨ר </span></span></span></td><td class=\"tf rtl\"><span class=\"rtl ubd\"><span class=\"plain rtl  hl\" ><span class=\"txtu hbo\">עָשִׂ֤ינוּ </span></span></span></td></tr>\n",
       "<tr class=\"tf rtl\"><td class=\"tf rtl\">6</td><td class=\"tf rtl\"><span class=\"tfsechead ltr\"><a target=\"_blank\" href=\"https://shebanq.ancient-data.org/hebrew/text?book=Genesis&amp;chapter=27&amp;verse=4&amp;version=c&amp;mr=m&amp;qw=q&amp;tp=txt_p&amp;tr=hb&amp;wget=v&amp;qget=v&amp;nget=vt\" title=\"Show this on SHEBANQ\" sec=\"Genesis 27:4\">Genesis 27:4</a></span></td><td class=\"tf rtl\"><span class=\"rtl ubd\"><span class=\"plain rtl  hlbx\" ><span class=\"txtu hbo\">וַ</span><span class=\"plain rtl  hl\" ><span class=\"txtu hbo\">עֲשֵׂה־</span></span><span class=\"txtu hbo\">לִ֨י </span><span class=\"txtu hbo\">מַטְעַמִּ֜ים </span><span class=\"plain rtl  hl\" ><span class=\"txtu hbo\">כַּ</span></span><span class=\"plain rtl  hl\" ><span class=\"txtu hbo\">אֲשֶׁ֥ר </span></span><span class=\"plain rtl  hl\" ><span class=\"txtu hbo\">אָהַ֛בְתִּי </span></span></span></span></td><td class=\"tf rtl\"><span class=\"rtl ubd\"><span class=\"plain rtl  hl\" ><span class=\"txtu hbo\">עֲשֵׂה־</span></span></span></td><td class=\"tf rtl\"><span class=\"rtl ubd\"><span class=\"plain rtl  hl\" ><span class=\"txtu hbo\">כַּ</span></span></span></td><td class=\"tf rtl\"><span class=\"rtl ubd\"><span class=\"plain rtl  hl\" ><span class=\"txtu hbo\">אֲשֶׁ֥ר </span></span></span></td><td class=\"tf rtl\"><span class=\"rtl ubd\"><span class=\"plain rtl  hl\" ><span class=\"txtu hbo\">אָהַ֛בְתִּי </span></span></span></td></tr>\n",
       "<tr class=\"tf rtl\"><td class=\"tf rtl\">7</td><td class=\"tf rtl\"><span class=\"tfsechead ltr\"><a target=\"_blank\" href=\"https://shebanq.ancient-data.org/hebrew/text?book=Genesis&amp;chapter=27&amp;verse=9&amp;version=c&amp;mr=m&amp;qw=q&amp;tp=txt_p&amp;tr=hb&amp;wget=v&amp;qget=v&amp;nget=vt\" title=\"Show this on SHEBANQ\" sec=\"Genesis 27:9\">Genesis 27:9</a></span></td><td class=\"tf rtl\"><span class=\"rtl ubd\"><span class=\"plain rtl  hlbx\" ><span class=\"txtu hbo\">וְ</span><span class=\"plain rtl  hl\" ><span class=\"txtu hbo\">אֶֽעֱשֶׂ֨ה </span></span><span class=\"txtu hbo\">אֹתָ֧ם </span><span class=\"txtu hbo\">מַטְעַמִּ֛ים </span><span class=\"txtu hbo\">לְ</span><span class=\"txtu hbo\">אָבִ֖יךָ </span><span class=\"plain rtl  hl\" ><span class=\"txtu hbo\">כַּ</span></span><span class=\"plain rtl  hl\" ><span class=\"txtu hbo\">אֲשֶׁ֥ר </span></span><span class=\"plain rtl  hl\" ><span class=\"txtu hbo\">אָהֵֽב׃ </span></span></span></span></td><td class=\"tf rtl\"><span class=\"rtl ubd\"><span class=\"plain rtl  hl\" ><span class=\"txtu hbo\">אֶֽעֱשֶׂ֨ה </span></span></span></td><td class=\"tf rtl\"><span class=\"rtl ubd\"><span class=\"plain rtl  hl\" ><span class=\"txtu hbo\">כַּ</span></span></span></td><td class=\"tf rtl\"><span class=\"rtl ubd\"><span class=\"plain rtl  hl\" ><span class=\"txtu hbo\">אֲשֶׁ֥ר </span></span></span></td><td class=\"tf rtl\"><span class=\"rtl ubd\"><span class=\"plain rtl  hl\" ><span class=\"txtu hbo\">אָהֵֽב׃ </span></span></span></td></tr>\n",
       "<tr class=\"tf rtl\"><td class=\"tf rtl\">8</td><td class=\"tf rtl\"><span class=\"tfsechead ltr\"><a target=\"_blank\" href=\"https://shebanq.ancient-data.org/hebrew/text?book=Genesis&amp;chapter=27&amp;verse=14&amp;version=c&amp;mr=m&amp;qw=q&amp;tp=txt_p&amp;tr=hb&amp;wget=v&amp;qget=v&amp;nget=vt\" title=\"Show this on SHEBANQ\" sec=\"Genesis 27:14\">Genesis 27:14</a></span></td><td class=\"tf rtl\"><span class=\"rtl ubd\"><span class=\"plain rtl  hlbx\" ><span class=\"txtu hbo\">וַ</span><span class=\"plain rtl  hl\" ><span class=\"txtu hbo\">תַּ֤עַשׂ </span></span><span class=\"txtu hbo\">אִמֹּו֙ </span><span class=\"txtu hbo\">מַטְעַמִּ֔ים </span><span class=\"plain rtl  hl\" ><span class=\"txtu hbo\">כַּ</span></span><span class=\"plain rtl  hl\" ><span class=\"txtu hbo\">אֲשֶׁ֖ר </span></span><span class=\"plain rtl  hl\" ><span class=\"txtu hbo\">אָהֵ֥ב </span></span><span class=\"txtu hbo\">אָבִֽיו׃ </span></span></span></td><td class=\"tf rtl\"><span class=\"rtl ubd\"><span class=\"plain rtl  hl\" ><span class=\"txtu hbo\">תַּ֤עַשׂ </span></span></span></td><td class=\"tf rtl\"><span class=\"rtl ubd\"><span class=\"plain rtl  hl\" ><span class=\"txtu hbo\">כַּ</span></span></span></td><td class=\"tf rtl\"><span class=\"rtl ubd\"><span class=\"plain rtl  hl\" ><span class=\"txtu hbo\">אֲשֶׁ֖ר </span></span></span></td><td class=\"tf rtl\"><span class=\"rtl ubd\"><span class=\"plain rtl  hl\" ><span class=\"txtu hbo\">אָהֵ֥ב </span></span></span></td></tr></table>"
      ]
     },
     "metadata": {}
    }
   ],
   "metadata": {}
  },
  {
   "cell_type": "markdown",
   "source": [
    "The reason is no doubt that the results included different variations of the same sentence, depending on which verb was matched. In the case above, Gen 26:29 was included two times in the first search but three times in the second search.\r\n",
    "\r\n",
    "Now I'd like to find a way to see the total number of sentences instead. This may be possible by using the `/with/` quantifier. \r\n",
    "\r\n",
    "See: https://annotation.github.io/text-fabric/tf/about/searchusage.html#with\r\n",
    "\r\n",
    "The next search reproduces the first search above but reports only the `sentence` nodes, placing the `word` node specifications inside a `/with`/ quantifier. \r\n",
    "\r\n",
    "## Verb עשׂה followed by כַּאֲשֶׁר (just the sentences)\r\n",
    "86 results (only displaying first 5)"
   ],
   "metadata": {}
  },
  {
   "cell_type": "code",
   "execution_count": 11,
   "source": [
    "A.table(A.search('''\r\n",
    "sentence\r\n",
    "/with/\r\n",
    "    word lex_utf8=עשׂה\r\n",
    "    < word lex_utf8=כ\r\n",
    "    <: word lex_utf8=אשׁר\r\n",
    "/-/\r\n",
    "''')[0:5])"
   ],
   "outputs": [
    {
     "output_type": "stream",
     "name": "stdout",
     "text": [
      "  1.04s 86 results\n"
     ]
    },
    {
     "output_type": "display_data",
     "data": {
      "text/plain": [
       "<IPython.core.display.HTML object>"
      ],
      "text/html": [
       "<table><tr class=\"tf rtl\"><th class=\"tf rtl\">n</th><th class=\"tf rtl\">p</th><th class=\"tf rtl\">sentence</th></tr>\n",
       "<tr class=\"tf rtl\"><td class=\"tf rtl\">1</td><td class=\"tf rtl\"><span class=\"tfsechead ltr\"><a target=\"_blank\" href=\"https://shebanq.ancient-data.org/hebrew/text?book=Genesis&amp;chapter=18&amp;verse=5&amp;version=c&amp;mr=m&amp;qw=q&amp;tp=txt_p&amp;tr=hb&amp;wget=v&amp;qget=v&amp;nget=vt\" title=\"Show this on SHEBANQ\" sec=\"Genesis 18:5\">Genesis 18:5</a></span></td><td class=\"tf rtl\"><span class=\"rtl ubd\"><span class=\"plain rtl  hlbx\" ><span class=\"txtu hbo\">כֵּ֥ן </span><span class=\"txtu hbo\">תַּעֲשֶׂ֖ה </span><span class=\"txtu hbo\">כַּ</span><span class=\"txtu hbo\">אֲשֶׁ֥ר </span><span class=\"txtu hbo\">דִּבַּֽרְתָּ׃ </span></span></span></td></tr>\n",
       "<tr class=\"tf rtl\"><td class=\"tf rtl\">2</td><td class=\"tf rtl\"><span class=\"tfsechead ltr\"><a target=\"_blank\" href=\"https://shebanq.ancient-data.org/hebrew/text?book=Genesis&amp;chapter=21&amp;verse=1&amp;version=c&amp;mr=m&amp;qw=q&amp;tp=txt_p&amp;tr=hb&amp;wget=v&amp;qget=v&amp;nget=vt\" title=\"Show this on SHEBANQ\" sec=\"Genesis 21:1\">Genesis 21:1</a></span></td><td class=\"tf rtl\"><span class=\"rtl ubd\"><span class=\"plain rtl  hlbx\" ><span class=\"txtu hbo\">וַ</span><span class=\"txtu hbo\">יַּ֧עַשׂ </span><span class=\"txtu hbo\">יְהוָ֛ה </span><span class=\"txtu hbo\">לְ</span><span class=\"txtu hbo\">שָׂרָ֖ה </span><span class=\"txtu hbo\">כַּ</span><span class=\"txtu hbo\">אֲשֶׁ֥ר </span><span class=\"txtu hbo\">דִּבֵּֽר׃ </span></span></span></td></tr>\n",
       "<tr class=\"tf rtl\"><td class=\"tf rtl\">3</td><td class=\"tf rtl\"><span class=\"tfsechead ltr\"><a target=\"_blank\" href=\"https://shebanq.ancient-data.org/hebrew/text?book=Genesis&amp;chapter=26&amp;verse=29&amp;version=c&amp;mr=m&amp;qw=q&amp;tp=txt_p&amp;tr=hb&amp;wget=v&amp;qget=v&amp;nget=vt\" title=\"Show this on SHEBANQ\" sec=\"Genesis 26:29\">Genesis 26:29</a></span></td><td class=\"tf rtl\"><span class=\"rtl ubd\"><span class=\"plain rtl  hlbx\" ><span class=\"txtu hbo\">אִם־</span><span class=\"txtu hbo\">תַּעֲשֵׂ֨ה </span><span class=\"txtu hbo\">עִמָּ֜נוּ </span><span class=\"txtu hbo\">רָעָ֗ה </span><span class=\"txtu hbo\">כַּ</span><span class=\"txtu hbo\">אֲשֶׁר֙ </span><span class=\"txtu hbo\">לֹ֣א </span><span class=\"txtu hbo\">נְגַֽעֲנ֔וּךָ </span><span class=\"txtu hbo\">וְ</span><span class=\"txtu hbo\">כַ</span><span class=\"txtu hbo\">אֲשֶׁ֨ר </span><span class=\"txtu hbo\">עָשִׂ֤ינוּ </span><span class=\"txtu hbo\">עִמְּךָ֙ </span><span class=\"txtu hbo\">רַק־</span><span class=\"txtu hbo\">טֹ֔וב </span></span></span></td></tr>\n",
       "<tr class=\"tf rtl\"><td class=\"tf rtl\">4</td><td class=\"tf rtl\"><span class=\"tfsechead ltr\"><a target=\"_blank\" href=\"https://shebanq.ancient-data.org/hebrew/text?book=Genesis&amp;chapter=27&amp;verse=4&amp;version=c&amp;mr=m&amp;qw=q&amp;tp=txt_p&amp;tr=hb&amp;wget=v&amp;qget=v&amp;nget=vt\" title=\"Show this on SHEBANQ\" sec=\"Genesis 27:4\">Genesis 27:4</a></span></td><td class=\"tf rtl\"><span class=\"rtl ubd\"><span class=\"plain rtl  hlbx\" ><span class=\"txtu hbo\">וַ</span><span class=\"txtu hbo\">עֲשֵׂה־</span><span class=\"txtu hbo\">לִ֨י </span><span class=\"txtu hbo\">מַטְעַמִּ֜ים </span><span class=\"txtu hbo\">כַּ</span><span class=\"txtu hbo\">אֲשֶׁ֥ר </span><span class=\"txtu hbo\">אָהַ֛בְתִּי </span></span></span></td></tr>\n",
       "<tr class=\"tf rtl\"><td class=\"tf rtl\">5</td><td class=\"tf rtl\"><span class=\"tfsechead ltr\"><a target=\"_blank\" href=\"https://shebanq.ancient-data.org/hebrew/text?book=Genesis&amp;chapter=27&amp;verse=9&amp;version=c&amp;mr=m&amp;qw=q&amp;tp=txt_p&amp;tr=hb&amp;wget=v&amp;qget=v&amp;nget=vt\" title=\"Show this on SHEBANQ\" sec=\"Genesis 27:9\">Genesis 27:9</a></span></td><td class=\"tf rtl\"><span class=\"rtl ubd\"><span class=\"plain rtl  hlbx\" ><span class=\"txtu hbo\">וְ</span><span class=\"txtu hbo\">אֶֽעֱשֶׂ֨ה </span><span class=\"txtu hbo\">אֹתָ֧ם </span><span class=\"txtu hbo\">מַטְעַמִּ֛ים </span><span class=\"txtu hbo\">לְ</span><span class=\"txtu hbo\">אָבִ֖יךָ </span><span class=\"txtu hbo\">כַּ</span><span class=\"txtu hbo\">אֲשֶׁ֥ר </span><span class=\"txtu hbo\">אָהֵֽב׃ </span></span></span></td></tr></table>"
      ]
     },
     "metadata": {}
    }
   ],
   "metadata": {}
  },
  {
   "cell_type": "markdown",
   "source": [
    "This appears to work as intended. The number of results is lower and Gen 26:29 is only reported once. The only disadvantage is that the words I'm looking for are no longer highlighted in the table.\r\n",
    "\r\n",
    "Now adjusting the second search in the same way:\r\n",
    "\r\n",
    "## Verb עשׂה followed by כַּאֲשֶׁר and a verb (just the sentences)\r\n",
    "86 results (only displaying first 5)"
   ],
   "metadata": {}
  },
  {
   "cell_type": "code",
   "execution_count": 14,
   "source": [
    "A.table(A.search('''\r\n",
    "sentence\r\n",
    "/with/\r\n",
    "    word lex_utf8=עשׂה\r\n",
    "    < word lex_utf8=כ\r\n",
    "    <: word lex_utf8=אשׁר\r\n",
    "    < word sp=verb\r\n",
    "/-/\r\n",
    "''')[0:5])"
   ],
   "outputs": [
    {
     "output_type": "stream",
     "name": "stdout",
     "text": [
      "  1.46s 86 results\n"
     ]
    },
    {
     "output_type": "display_data",
     "data": {
      "text/plain": [
       "<IPython.core.display.HTML object>"
      ],
      "text/html": [
       "<table><tr class=\"tf rtl\"><th class=\"tf rtl\">n</th><th class=\"tf rtl\">p</th><th class=\"tf rtl\">sentence</th></tr>\n",
       "<tr class=\"tf rtl\"><td class=\"tf rtl\">1</td><td class=\"tf rtl\"><span class=\"tfsechead ltr\"><a target=\"_blank\" href=\"https://shebanq.ancient-data.org/hebrew/text?book=Genesis&amp;chapter=18&amp;verse=5&amp;version=c&amp;mr=m&amp;qw=q&amp;tp=txt_p&amp;tr=hb&amp;wget=v&amp;qget=v&amp;nget=vt\" title=\"Show this on SHEBANQ\" sec=\"Genesis 18:5\">Genesis 18:5</a></span></td><td class=\"tf rtl\"><span class=\"rtl ubd\"><span class=\"plain rtl  hlbx\" ><span class=\"txtu hbo\">כֵּ֥ן </span><span class=\"txtu hbo\">תַּעֲשֶׂ֖ה </span><span class=\"txtu hbo\">כַּ</span><span class=\"txtu hbo\">אֲשֶׁ֥ר </span><span class=\"txtu hbo\">דִּבַּֽרְתָּ׃ </span></span></span></td></tr>\n",
       "<tr class=\"tf rtl\"><td class=\"tf rtl\">2</td><td class=\"tf rtl\"><span class=\"tfsechead ltr\"><a target=\"_blank\" href=\"https://shebanq.ancient-data.org/hebrew/text?book=Genesis&amp;chapter=21&amp;verse=1&amp;version=c&amp;mr=m&amp;qw=q&amp;tp=txt_p&amp;tr=hb&amp;wget=v&amp;qget=v&amp;nget=vt\" title=\"Show this on SHEBANQ\" sec=\"Genesis 21:1\">Genesis 21:1</a></span></td><td class=\"tf rtl\"><span class=\"rtl ubd\"><span class=\"plain rtl  hlbx\" ><span class=\"txtu hbo\">וַ</span><span class=\"txtu hbo\">יַּ֧עַשׂ </span><span class=\"txtu hbo\">יְהוָ֛ה </span><span class=\"txtu hbo\">לְ</span><span class=\"txtu hbo\">שָׂרָ֖ה </span><span class=\"txtu hbo\">כַּ</span><span class=\"txtu hbo\">אֲשֶׁ֥ר </span><span class=\"txtu hbo\">דִּבֵּֽר׃ </span></span></span></td></tr>\n",
       "<tr class=\"tf rtl\"><td class=\"tf rtl\">3</td><td class=\"tf rtl\"><span class=\"tfsechead ltr\"><a target=\"_blank\" href=\"https://shebanq.ancient-data.org/hebrew/text?book=Genesis&amp;chapter=26&amp;verse=29&amp;version=c&amp;mr=m&amp;qw=q&amp;tp=txt_p&amp;tr=hb&amp;wget=v&amp;qget=v&amp;nget=vt\" title=\"Show this on SHEBANQ\" sec=\"Genesis 26:29\">Genesis 26:29</a></span></td><td class=\"tf rtl\"><span class=\"rtl ubd\"><span class=\"plain rtl  hlbx\" ><span class=\"txtu hbo\">אִם־</span><span class=\"txtu hbo\">תַּעֲשֵׂ֨ה </span><span class=\"txtu hbo\">עִמָּ֜נוּ </span><span class=\"txtu hbo\">רָעָ֗ה </span><span class=\"txtu hbo\">כַּ</span><span class=\"txtu hbo\">אֲשֶׁר֙ </span><span class=\"txtu hbo\">לֹ֣א </span><span class=\"txtu hbo\">נְגַֽעֲנ֔וּךָ </span><span class=\"txtu hbo\">וְ</span><span class=\"txtu hbo\">כַ</span><span class=\"txtu hbo\">אֲשֶׁ֨ר </span><span class=\"txtu hbo\">עָשִׂ֤ינוּ </span><span class=\"txtu hbo\">עִמְּךָ֙ </span><span class=\"txtu hbo\">רַק־</span><span class=\"txtu hbo\">טֹ֔וב </span></span></span></td></tr>\n",
       "<tr class=\"tf rtl\"><td class=\"tf rtl\">4</td><td class=\"tf rtl\"><span class=\"tfsechead ltr\"><a target=\"_blank\" href=\"https://shebanq.ancient-data.org/hebrew/text?book=Genesis&amp;chapter=27&amp;verse=4&amp;version=c&amp;mr=m&amp;qw=q&amp;tp=txt_p&amp;tr=hb&amp;wget=v&amp;qget=v&amp;nget=vt\" title=\"Show this on SHEBANQ\" sec=\"Genesis 27:4\">Genesis 27:4</a></span></td><td class=\"tf rtl\"><span class=\"rtl ubd\"><span class=\"plain rtl  hlbx\" ><span class=\"txtu hbo\">וַ</span><span class=\"txtu hbo\">עֲשֵׂה־</span><span class=\"txtu hbo\">לִ֨י </span><span class=\"txtu hbo\">מַטְעַמִּ֜ים </span><span class=\"txtu hbo\">כַּ</span><span class=\"txtu hbo\">אֲשֶׁ֥ר </span><span class=\"txtu hbo\">אָהַ֛בְתִּי </span></span></span></td></tr>\n",
       "<tr class=\"tf rtl\"><td class=\"tf rtl\">5</td><td class=\"tf rtl\"><span class=\"tfsechead ltr\"><a target=\"_blank\" href=\"https://shebanq.ancient-data.org/hebrew/text?book=Genesis&amp;chapter=27&amp;verse=9&amp;version=c&amp;mr=m&amp;qw=q&amp;tp=txt_p&amp;tr=hb&amp;wget=v&amp;qget=v&amp;nget=vt\" title=\"Show this on SHEBANQ\" sec=\"Genesis 27:9\">Genesis 27:9</a></span></td><td class=\"tf rtl\"><span class=\"rtl ubd\"><span class=\"plain rtl  hlbx\" ><span class=\"txtu hbo\">וְ</span><span class=\"txtu hbo\">אֶֽעֱשֶׂ֨ה </span><span class=\"txtu hbo\">אֹתָ֧ם </span><span class=\"txtu hbo\">מַטְעַמִּ֛ים </span><span class=\"txtu hbo\">לְ</span><span class=\"txtu hbo\">אָבִ֖יךָ </span><span class=\"txtu hbo\">כַּ</span><span class=\"txtu hbo\">אֲשֶׁ֥ר </span><span class=\"txtu hbo\">אָהֵֽב׃ </span></span></span></td></tr></table>"
      ]
     },
     "metadata": {}
    }
   ],
   "metadata": {}
  },
  {
   "cell_type": "markdown",
   "source": [
    "Now we get the same number of results for both searches. Conclusion: in every case where עשׂה is followed by כַּאֲשֶׁר in the same sentence.\r\n",
    "\r\n",
    "Of course, I should really have checked whether the last verb belongs to the same clause as כַּאֲשֶׁר.\r\n",
    "\r\n",
    "## Verb עשׂה followed by כַּאֲשֶׁר and a verb (just the sentences) (revised)"
   ],
   "metadata": {}
  },
  {
   "cell_type": "code",
   "execution_count": 16,
   "source": [
    "A.table(A.search('''\r\n",
    "sentence\r\n",
    "/with/\r\n",
    "    word lex_utf8=עשׂה\r\n",
    "    < clause\r\n",
    "        word lex_utf8=כ\r\n",
    "        <: word lex_utf8=אשׁר\r\n",
    "        < word sp=verb\r\n",
    "/-/\r\n",
    "''')[0:5])"
   ],
   "outputs": [
    {
     "output_type": "stream",
     "name": "stdout",
     "text": [
      "  1.47s 86 results\n"
     ]
    },
    {
     "output_type": "display_data",
     "data": {
      "text/plain": [
       "<IPython.core.display.HTML object>"
      ],
      "text/html": [
       "<table><tr class=\"tf rtl\"><th class=\"tf rtl\">n</th><th class=\"tf rtl\">p</th><th class=\"tf rtl\">sentence</th></tr>\n",
       "<tr class=\"tf rtl\"><td class=\"tf rtl\">1</td><td class=\"tf rtl\"><span class=\"tfsechead ltr\"><a target=\"_blank\" href=\"https://shebanq.ancient-data.org/hebrew/text?book=Genesis&amp;chapter=18&amp;verse=5&amp;version=c&amp;mr=m&amp;qw=q&amp;tp=txt_p&amp;tr=hb&amp;wget=v&amp;qget=v&amp;nget=vt\" title=\"Show this on SHEBANQ\" sec=\"Genesis 18:5\">Genesis 18:5</a></span></td><td class=\"tf rtl\"><span class=\"rtl ubd\"><span class=\"plain rtl  hlbx\" ><span class=\"txtu hbo\">כֵּ֥ן </span><span class=\"txtu hbo\">תַּעֲשֶׂ֖ה </span><span class=\"txtu hbo\">כַּ</span><span class=\"txtu hbo\">אֲשֶׁ֥ר </span><span class=\"txtu hbo\">דִּבַּֽרְתָּ׃ </span></span></span></td></tr>\n",
       "<tr class=\"tf rtl\"><td class=\"tf rtl\">2</td><td class=\"tf rtl\"><span class=\"tfsechead ltr\"><a target=\"_blank\" href=\"https://shebanq.ancient-data.org/hebrew/text?book=Genesis&amp;chapter=21&amp;verse=1&amp;version=c&amp;mr=m&amp;qw=q&amp;tp=txt_p&amp;tr=hb&amp;wget=v&amp;qget=v&amp;nget=vt\" title=\"Show this on SHEBANQ\" sec=\"Genesis 21:1\">Genesis 21:1</a></span></td><td class=\"tf rtl\"><span class=\"rtl ubd\"><span class=\"plain rtl  hlbx\" ><span class=\"txtu hbo\">וַ</span><span class=\"txtu hbo\">יַּ֧עַשׂ </span><span class=\"txtu hbo\">יְהוָ֛ה </span><span class=\"txtu hbo\">לְ</span><span class=\"txtu hbo\">שָׂרָ֖ה </span><span class=\"txtu hbo\">כַּ</span><span class=\"txtu hbo\">אֲשֶׁ֥ר </span><span class=\"txtu hbo\">דִּבֵּֽר׃ </span></span></span></td></tr>\n",
       "<tr class=\"tf rtl\"><td class=\"tf rtl\">3</td><td class=\"tf rtl\"><span class=\"tfsechead ltr\"><a target=\"_blank\" href=\"https://shebanq.ancient-data.org/hebrew/text?book=Genesis&amp;chapter=26&amp;verse=29&amp;version=c&amp;mr=m&amp;qw=q&amp;tp=txt_p&amp;tr=hb&amp;wget=v&amp;qget=v&amp;nget=vt\" title=\"Show this on SHEBANQ\" sec=\"Genesis 26:29\">Genesis 26:29</a></span></td><td class=\"tf rtl\"><span class=\"rtl ubd\"><span class=\"plain rtl  hlbx\" ><span class=\"txtu hbo\">אִם־</span><span class=\"txtu hbo\">תַּעֲשֵׂ֨ה </span><span class=\"txtu hbo\">עִמָּ֜נוּ </span><span class=\"txtu hbo\">רָעָ֗ה </span><span class=\"txtu hbo\">כַּ</span><span class=\"txtu hbo\">אֲשֶׁר֙ </span><span class=\"txtu hbo\">לֹ֣א </span><span class=\"txtu hbo\">נְגַֽעֲנ֔וּךָ </span><span class=\"txtu hbo\">וְ</span><span class=\"txtu hbo\">כַ</span><span class=\"txtu hbo\">אֲשֶׁ֨ר </span><span class=\"txtu hbo\">עָשִׂ֤ינוּ </span><span class=\"txtu hbo\">עִמְּךָ֙ </span><span class=\"txtu hbo\">רַק־</span><span class=\"txtu hbo\">טֹ֔וב </span></span></span></td></tr>\n",
       "<tr class=\"tf rtl\"><td class=\"tf rtl\">4</td><td class=\"tf rtl\"><span class=\"tfsechead ltr\"><a target=\"_blank\" href=\"https://shebanq.ancient-data.org/hebrew/text?book=Genesis&amp;chapter=27&amp;verse=4&amp;version=c&amp;mr=m&amp;qw=q&amp;tp=txt_p&amp;tr=hb&amp;wget=v&amp;qget=v&amp;nget=vt\" title=\"Show this on SHEBANQ\" sec=\"Genesis 27:4\">Genesis 27:4</a></span></td><td class=\"tf rtl\"><span class=\"rtl ubd\"><span class=\"plain rtl  hlbx\" ><span class=\"txtu hbo\">וַ</span><span class=\"txtu hbo\">עֲשֵׂה־</span><span class=\"txtu hbo\">לִ֨י </span><span class=\"txtu hbo\">מַטְעַמִּ֜ים </span><span class=\"txtu hbo\">כַּ</span><span class=\"txtu hbo\">אֲשֶׁ֥ר </span><span class=\"txtu hbo\">אָהַ֛בְתִּי </span></span></span></td></tr>\n",
       "<tr class=\"tf rtl\"><td class=\"tf rtl\">5</td><td class=\"tf rtl\"><span class=\"tfsechead ltr\"><a target=\"_blank\" href=\"https://shebanq.ancient-data.org/hebrew/text?book=Genesis&amp;chapter=27&amp;verse=9&amp;version=c&amp;mr=m&amp;qw=q&amp;tp=txt_p&amp;tr=hb&amp;wget=v&amp;qget=v&amp;nget=vt\" title=\"Show this on SHEBANQ\" sec=\"Genesis 27:9\">Genesis 27:9</a></span></td><td class=\"tf rtl\"><span class=\"rtl ubd\"><span class=\"plain rtl  hlbx\" ><span class=\"txtu hbo\">וְ</span><span class=\"txtu hbo\">אֶֽעֱשֶׂ֨ה </span><span class=\"txtu hbo\">אֹתָ֧ם </span><span class=\"txtu hbo\">מַטְעַמִּ֛ים </span><span class=\"txtu hbo\">לְ</span><span class=\"txtu hbo\">אָבִ֖יךָ </span><span class=\"txtu hbo\">כַּ</span><span class=\"txtu hbo\">אֲשֶׁ֥ר </span><span class=\"txtu hbo\">אָהֵֽב׃ </span></span></span></td></tr></table>"
      ]
     },
     "metadata": {}
    }
   ],
   "metadata": {}
  },
  {
   "cell_type": "markdown",
   "source": [
    "# More searches with עשׂה כַּאֲשֶׁר\r\n",
    "\r\n",
    "I have one more question about this construction, namely how often the verbs אמר and דבר are used in the subordinate clause. This time I want the verb highlighted so that results are easier to scan.\r\n",
    "\r\n",
    "## Verb עשׂה followed by כַּאֲשֶׁר and a the verb דבר or אמר"
   ],
   "metadata": {}
  },
  {
   "cell_type": "code",
   "execution_count": 17,
   "source": [
    "A.table(A.search('''\r\n",
    "sentence\r\n",
    "/with/\r\n",
    "    word lex_utf8=עשׂה\r\n",
    "    < clause\r\n",
    "        word lex_utf8=כ\r\n",
    "        <: word lex_utf8=אשׁר\r\n",
    "/-/\r\n",
    "        < word sp=verb lex_utf8=אמר|דבר\r\n",
    "'''))"
   ],
   "outputs": [
    {
     "output_type": "stream",
     "name": "stdout",
     "text": [
      "  1.41s 25 results\n"
     ]
    },
    {
     "output_type": "display_data",
     "data": {
      "text/plain": [
       "<IPython.core.display.HTML object>"
      ],
      "text/html": [
       "<table><tr class=\"tf rtl\"><th class=\"tf rtl\">n</th><th class=\"tf rtl\">p</th><th class=\"tf rtl\">sentence</th><th class=\"tf\">word</th></tr>\n",
       "<tr class=\"tf rtl\"><td class=\"tf rtl\">1</td><td class=\"tf rtl\"><span class=\"tfsechead ltr\"><a target=\"_blank\" href=\"https://shebanq.ancient-data.org/hebrew/text?book=Genesis&amp;chapter=18&amp;verse=5&amp;version=c&amp;mr=m&amp;qw=q&amp;tp=txt_p&amp;tr=hb&amp;wget=v&amp;qget=v&amp;nget=vt\" title=\"Show this on SHEBANQ\" sec=\"Genesis 18:5\">Genesis 18:5</a></span></td><td class=\"tf rtl\"><span class=\"rtl ubd\"><span class=\"plain rtl  hlbx\" ><span class=\"txtu hbo\">כֵּ֥ן </span><span class=\"txtu hbo\">תַּעֲשֶׂ֖ה </span><span class=\"txtu hbo\">כַּ</span><span class=\"txtu hbo\">אֲשֶׁ֥ר </span><span class=\"plain rtl  hl\" ><span class=\"txtu hbo\">דִּבַּֽרְתָּ׃ </span></span></span></span></td><td class=\"tf rtl\"><span class=\"rtl ubd\"><span class=\"plain rtl  hl\" ><span class=\"txtu hbo\">דִּבַּֽרְתָּ׃ </span></span></span></td></tr>\n",
       "<tr class=\"tf rtl\"><td class=\"tf rtl\">2</td><td class=\"tf rtl\"><span class=\"tfsechead ltr\"><a target=\"_blank\" href=\"https://shebanq.ancient-data.org/hebrew/text?book=Genesis&amp;chapter=21&amp;verse=1&amp;version=c&amp;mr=m&amp;qw=q&amp;tp=txt_p&amp;tr=hb&amp;wget=v&amp;qget=v&amp;nget=vt\" title=\"Show this on SHEBANQ\" sec=\"Genesis 21:1\">Genesis 21:1</a></span></td><td class=\"tf rtl\"><span class=\"rtl ubd\"><span class=\"plain rtl  hlbx\" ><span class=\"txtu hbo\">וַ</span><span class=\"txtu hbo\">יַּ֧עַשׂ </span><span class=\"txtu hbo\">יְהוָ֛ה </span><span class=\"txtu hbo\">לְ</span><span class=\"txtu hbo\">שָׂרָ֖ה </span><span class=\"txtu hbo\">כַּ</span><span class=\"txtu hbo\">אֲשֶׁ֥ר </span><span class=\"plain rtl  hl\" ><span class=\"txtu hbo\">דִּבֵּֽר׃ </span></span></span></span></td><td class=\"tf rtl\"><span class=\"rtl ubd\"><span class=\"plain rtl  hl\" ><span class=\"txtu hbo\">דִּבֵּֽר׃ </span></span></span></td></tr>\n",
       "<tr class=\"tf rtl\"><td class=\"tf rtl\">3</td><td class=\"tf rtl\"><span class=\"tfsechead ltr\"><a target=\"_blank\" href=\"https://shebanq.ancient-data.org/hebrew/text?book=Genesis&amp;chapter=27&amp;verse=19&amp;version=c&amp;mr=m&amp;qw=q&amp;tp=txt_p&amp;tr=hb&amp;wget=v&amp;qget=v&amp;nget=vt\" title=\"Show this on SHEBANQ\" sec=\"Genesis 27:19\">Genesis 27:19</a></span></td><td class=\"tf rtl\"><span class=\"rtl ubd\"><span class=\"plain rtl  hlbx\" ><span class=\"txtu hbo\">עָשִׂ֕יתִי </span><span class=\"txtu hbo\">כַּ</span><span class=\"txtu hbo\">אֲשֶׁ֥ר </span><span class=\"plain rtl  hl\" ><span class=\"txtu hbo\">דִּבַּ֖רְתָּ </span></span><span class=\"txtu hbo\">אֵלָ֑י </span></span></span></td><td class=\"tf rtl\"><span class=\"rtl ubd\"><span class=\"plain rtl  hl\" ><span class=\"txtu hbo\">דִּבַּ֖רְתָּ </span></span></span></td></tr>\n",
       "<tr class=\"tf rtl\"><td class=\"tf rtl\">4</td><td class=\"tf rtl\"><span class=\"tfsechead ltr\"><a target=\"_blank\" href=\"https://shebanq.ancient-data.org/hebrew/text?book=Genesis&amp;chapter=43&amp;verse=17&amp;version=c&amp;mr=m&amp;qw=q&amp;tp=txt_p&amp;tr=hb&amp;wget=v&amp;qget=v&amp;nget=vt\" title=\"Show this on SHEBANQ\" sec=\"Genesis 43:17\">Genesis 43:17</a></span></td><td class=\"tf rtl\"><span class=\"rtl ubd\"><span class=\"plain rtl  hlbx\" ><span class=\"txtu hbo\">וַ</span><span class=\"txtu hbo\">יַּ֣עַשׂ </span><span class=\"txtu hbo\">הָ</span><span class=\"txtu hbo\">אִ֔ישׁ </span><span class=\"txtu hbo\">כַּֽ</span><span class=\"txtu hbo\">אֲשֶׁ֖ר </span><span class=\"plain rtl  hl\" ><span class=\"txtu hbo\">אָמַ֣ר </span></span><span class=\"txtu hbo\">יֹוסֵ֑ף </span></span></span></td><td class=\"tf rtl\"><span class=\"rtl ubd\"><span class=\"plain rtl  hl\" ><span class=\"txtu hbo\">אָמַ֣ר </span></span></span></td></tr>\n",
       "<tr class=\"tf rtl\"><td class=\"tf rtl\">5</td><td class=\"tf rtl\"><span class=\"tfsechead ltr\"><a target=\"_blank\" href=\"https://shebanq.ancient-data.org/hebrew/text?book=Exodus&amp;chapter=1&amp;verse=17&amp;version=c&amp;mr=m&amp;qw=q&amp;tp=txt_p&amp;tr=hb&amp;wget=v&amp;qget=v&amp;nget=vt\" title=\"Show this on SHEBANQ\" sec=\"Exodus 1:17\">Exodus 1:17</a></span></td><td class=\"tf rtl\"><span class=\"rtl ubd\"><span class=\"plain rtl  hlbx\" ><span class=\"txtu hbo\">וְ</span><span class=\"txtu hbo\">לֹ֣א </span><span class=\"txtu hbo\">עָשׂ֔וּ </span><span class=\"txtu hbo\">כַּ</span><span class=\"txtu hbo\">אֲשֶׁ֛ר </span><span class=\"plain rtl  hl\" ><span class=\"txtu hbo\">דִּבֶּ֥ר </span></span><span class=\"txtu hbo\">אֲלֵיהֶ֖ן </span><span class=\"txtu hbo\">מֶ֣לֶךְ </span><span class=\"txtu hbo\">מִצְרָ֑יִם </span></span></span></td><td class=\"tf rtl\"><span class=\"rtl ubd\"><span class=\"plain rtl  hl\" ><span class=\"txtu hbo\">דִּבֶּ֥ר </span></span></span></td></tr>\n",
       "<tr class=\"tf rtl\"><td class=\"tf rtl\">6</td><td class=\"tf rtl\"><span class=\"tfsechead ltr\"><a target=\"_blank\" href=\"https://shebanq.ancient-data.org/hebrew/text?book=Exodus&amp;chapter=17&amp;verse=10&amp;version=c&amp;mr=m&amp;qw=q&amp;tp=txt_p&amp;tr=hb&amp;wget=v&amp;qget=v&amp;nget=vt\" title=\"Show this on SHEBANQ\" sec=\"Exodus 17:10\">Exodus 17:10</a></span></td><td class=\"tf rtl\"><span class=\"rtl ubd\"><span class=\"plain rtl  hlbx\" ><span class=\"txtu hbo\">וַ</span><span class=\"txtu hbo\">יַּ֣עַשׂ </span><span class=\"txtu hbo\">יְהֹושֻׁ֗עַ </span><span class=\"txtu hbo\">כַּ</span><span class=\"txtu hbo\">אֲשֶׁ֤ר </span><span class=\"plain rtl  hl\" ><span class=\"txtu hbo\">אָֽמַר־</span></span><span class=\"txtu hbo\">לֹו֙ </span><span class=\"txtu hbo\">מֹשֶׁ֔ה </span><span class=\"txtu hbo\">לְ</span><span class=\"txtu hbo\">הִלָּחֵ֖ם </span><span class=\"txtu hbo\">בַּ</span><span class=\"txtu hbo\">עֲמָלֵ֑ק </span></span></span></td><td class=\"tf rtl\"><span class=\"rtl ubd\"><span class=\"plain rtl  hl\" ><span class=\"txtu hbo\">אָֽמַר־</span></span></span></td></tr>\n",
       "<tr class=\"tf rtl\"><td class=\"tf rtl\">7</td><td class=\"tf rtl\"><span class=\"tfsechead ltr\"><a target=\"_blank\" href=\"https://shebanq.ancient-data.org/hebrew/text?book=Numeri&amp;chapter=23&amp;verse=2&amp;version=c&amp;mr=m&amp;qw=q&amp;tp=txt_p&amp;tr=hb&amp;wget=v&amp;qget=v&amp;nget=vt\" title=\"Show this on SHEBANQ\" sec=\"Numbers 23:2\">Numbers 23:2</a></span></td><td class=\"tf rtl\"><span class=\"rtl ubd\"><span class=\"plain rtl  hlbx\" ><span class=\"txtu hbo\">וַ</span><span class=\"txtu hbo\">יַּ֣עַשׂ </span><span class=\"txtu hbo\">בָּלָ֔ק </span><span class=\"txtu hbo\">כַּ</span><span class=\"txtu hbo\">אֲשֶׁ֖ר </span><span class=\"plain rtl  hl\" ><span class=\"txtu hbo\">דִּבֶּ֣ר </span></span><span class=\"txtu hbo\">בִּלְעָ֑ם </span></span></span></td><td class=\"tf rtl\"><span class=\"rtl ubd\"><span class=\"plain rtl  hl\" ><span class=\"txtu hbo\">דִּבֶּ֣ר </span></span></span></td></tr>\n",
       "<tr class=\"tf rtl\"><td class=\"tf rtl\">8</td><td class=\"tf rtl\"><span class=\"tfsechead ltr\"><a target=\"_blank\" href=\"https://shebanq.ancient-data.org/hebrew/text?book=Numeri&amp;chapter=23&amp;verse=30&amp;version=c&amp;mr=m&amp;qw=q&amp;tp=txt_p&amp;tr=hb&amp;wget=v&amp;qget=v&amp;nget=vt\" title=\"Show this on SHEBANQ\" sec=\"Numbers 23:30\">Numbers 23:30</a></span></td><td class=\"tf rtl\"><span class=\"rtl ubd\"><span class=\"plain rtl  hlbx\" ><span class=\"txtu hbo\">וַ</span><span class=\"txtu hbo\">יַּ֣עַשׂ </span><span class=\"txtu hbo\">בָּלָ֔ק </span><span class=\"txtu hbo\">כַּ</span><span class=\"txtu hbo\">אֲשֶׁ֖ר </span><span class=\"plain rtl  hl\" ><span class=\"txtu hbo\">אָמַ֣ר </span></span><span class=\"txtu hbo\">בִּלְעָ֑ם </span></span></span></td><td class=\"tf rtl\"><span class=\"rtl ubd\"><span class=\"plain rtl  hl\" ><span class=\"txtu hbo\">אָמַ֣ר </span></span></span></td></tr>\n",
       "<tr class=\"tf rtl\"><td class=\"tf rtl\">9</td><td class=\"tf rtl\"><span class=\"tfsechead ltr\"><a target=\"_blank\" href=\"https://shebanq.ancient-data.org/hebrew/text?book=Deuteronomium&amp;chapter=6&amp;verse=3&amp;version=c&amp;mr=m&amp;qw=q&amp;tp=txt_p&amp;tr=hb&amp;wget=v&amp;qget=v&amp;nget=vt\" title=\"Show this on SHEBANQ\" sec=\"Deuteronomy 6:3\">Deuteronomy 6:3</a></span></td><td class=\"tf rtl\"><span class=\"rtl ubd\"><span class=\"plain rtl  hlbx\" ><span class=\"txtu hbo\">וְ</span><span class=\"txtu hbo\">שָׁמַרְתָּ֣ </span><span class=\"txtu hbo\">לַ</span><span class=\"txtu hbo\">עֲשֹׂ֔ות </span><span class=\"plain rtl l \" ><span class=\"txtu hbo\">אֲשֶׁר֙ </span><span class=\"txtu hbo\">יִיטַ֣ב </span><span class=\"txtu hbo\">לְךָ֔ </span></span><span class=\"txtu hbo\">וַ</span><span class=\"txtu hbo\">אֲשֶׁ֥ר </span><span class=\"txtu hbo\">תִּרְבּ֖וּן </span><span class=\"txtu hbo\">מְאֹ֑ד </span><span class=\"txtu hbo\">כַּ</span><span class=\"txtu hbo\">אֲשֶׁר֩ </span><span class=\"plain rtl  hl\" ><span class=\"txtu hbo\">דִּבֶּ֨ר </span></span><span class=\"txtu hbo\">יְהוָ֜ה </span><span class=\"txtu hbo\">אֱלֹהֵ֤י </span><span class=\"txtu hbo\">אֲבֹתֶ֨יךָ֙ </span><span class=\"txtu hbo\">לָ֔ךְ </span><span class=\"plain rtl r \" ><span class=\"txtu hbo\">אֶ֛רֶץ </span><span class=\"txtu hbo\">זָבַ֥ת </span><span class=\"txtu hbo\">חָלָ֖ב </span><span class=\"txtu hbo\">וּ</span><span class=\"txtu hbo\">דְבָֽשׁ׃ פ </span></span></span></span></td><td class=\"tf rtl\"><span class=\"rtl ubd\"><span class=\"plain rtl  hl\" ><span class=\"txtu hbo\">דִּבֶּ֨ר </span></span></span></td></tr>\n",
       "<tr class=\"tf rtl\"><td class=\"tf rtl\">10</td><td class=\"tf rtl\"><span class=\"tfsechead ltr\"><a target=\"_blank\" href=\"https://shebanq.ancient-data.org/hebrew/text?book=Deuteronomium&amp;chapter=23&amp;verse=24&amp;version=c&amp;mr=m&amp;qw=q&amp;tp=txt_p&amp;tr=hb&amp;wget=v&amp;qget=v&amp;nget=vt\" title=\"Show this on SHEBANQ\" sec=\"Deuteronomy 23:24\">Deuteronomy 23:24</a></span></td><td class=\"tf rtl\"><span class=\"rtl ubd\"><span class=\"plain rtl  hlbx\" ><span class=\"txtu hbo\">מֹוצָ֥א </span><span class=\"txtu hbo\">שְׂפָתֶ֖יךָ </span><span class=\"txtu hbo\">תִּשְׁמֹ֣ר </span><span class=\"txtu hbo\">וְ</span><span class=\"txtu hbo\">עָשִׂ֑יתָ </span><span class=\"txtu hbo\">כַּ</span><span class=\"txtu hbo\">אֲשֶׁ֨ר </span><span class=\"txtu hbo\">נָדַ֜רְתָּ </span><span class=\"txtu hbo\">לַ</span><span class=\"txtu hbo\">יהוָ֤ה </span><span class=\"txtu hbo\">אֱלֹהֶ֨יךָ֙ </span><span class=\"txtu hbo\">נְדָבָ֔ה </span><span class=\"txtu hbo\">אֲשֶׁ֥ר </span><span class=\"plain rtl  hl\" ><span class=\"txtu hbo\">דִּבַּ֖רְתָּ </span></span><span class=\"txtu hbo\">בְּ</span><span class=\"txtu hbo\">פִֽיךָ׃ ס </span></span></span></td><td class=\"tf rtl\"><span class=\"rtl ubd\"><span class=\"plain rtl  hl\" ><span class=\"txtu hbo\">דִּבַּ֖רְתָּ </span></span></span></td></tr>\n",
       "<tr class=\"tf rtl\"><td class=\"tf rtl\">11</td><td class=\"tf rtl\"><span class=\"tfsechead ltr\"><a target=\"_blank\" href=\"https://shebanq.ancient-data.org/hebrew/text?book=Deuteronomium&amp;chapter=26&amp;verse=18&amp;version=c&amp;mr=m&amp;qw=q&amp;tp=txt_p&amp;tr=hb&amp;wget=v&amp;qget=v&amp;nget=vt\" title=\"Show this on SHEBANQ\" sec=\"Deuteronomy 26:18\">Deuteronomy 26:18</a></span></td><td class=\"tf rtl\"><span class=\"rtl ubd\"><span class=\"plain rtl  hlbx\" ><span class=\"txtu hbo\">וַֽ</span><span class=\"txtu hbo\">יהוָ֞ה </span><span class=\"plain rtl  hl\" ><span class=\"txtu hbo\">הֶאֱמִֽירְךָ֣ </span></span><span class=\"txtu hbo\">הַ</span><span class=\"txtu hbo\">יֹּ֗ום </span><span class=\"txtu hbo\">לִ</span><span class=\"txtu hbo\">הְיֹ֥ות </span><span class=\"txtu hbo\">לֹו֙ </span><span class=\"txtu hbo\">לְ</span><span class=\"txtu hbo\">עַ֣ם </span><span class=\"txtu hbo\">סְגֻלָּ֔ה </span><span class=\"txtu hbo\">כַּ</span><span class=\"txtu hbo\">אֲשֶׁ֖ר </span><span class=\"txtu hbo\">דִּבֶּר־</span><span class=\"txtu hbo\">לָ֑ךְ </span><span class=\"txtu hbo\">וְ</span><span class=\"txtu hbo\">לִ</span><span class=\"txtu hbo\">שְׁמֹ֖ר </span><span class=\"txtu hbo\">כָּל־</span><span class=\"txtu hbo\">מִצְוֹתָֽיו׃ </span><span class=\"txtu hbo\">וּֽ</span><span class=\"txtu hbo\">לְ</span><span class=\"txtu hbo\">תִתְּךָ֣ </span><span class=\"txtu hbo\">עֶלְיֹ֗ון </span><span class=\"txtu hbo\">עַ֤ל </span><span class=\"txtu hbo\">כָּל־</span><span class=\"txtu hbo\">הַ</span><span class=\"txtu hbo\">גֹּויִם֙ </span><span class=\"txtu hbo\">אֲשֶׁ֣ר </span><span class=\"txtu hbo\">עָשָׂ֔ה </span><span class=\"txtu hbo\">לִ</span><span class=\"txtu hbo\">תְהִלָּ֖ה </span><span class=\"txtu hbo\">וּ</span><span class=\"txtu hbo\">לְ</span><span class=\"txtu hbo\">שֵׁ֣ם </span><span class=\"txtu hbo\">וּ</span><span class=\"txtu hbo\">לְ</span><span class=\"txtu hbo\">תִפְאָ֑רֶת </span><span class=\"txtu hbo\">וְ</span><span class=\"txtu hbo\">לִֽ</span><span class=\"txtu hbo\">הְיֹתְךָ֧ </span><span class=\"txtu hbo\">עַם־</span><span class=\"txtu hbo\">קָדֹ֛שׁ </span><span class=\"txtu hbo\">לַ</span><span class=\"txtu hbo\">יהוָ֥ה </span><span class=\"txtu hbo\">אֱלֹהֶ֖יךָ </span><span class=\"txtu hbo\">כַּ</span><span class=\"txtu hbo\">אֲשֶׁ֥ר </span><span class=\"txtu hbo\">דִּבֵּֽר׃ ס </span></span></span></td><td class=\"tf rtl\"><span class=\"rtl ubd\"><span class=\"plain rtl  hl\" ><span class=\"txtu hbo\">הֶאֱמִֽירְךָ֣ </span></span></span></td></tr>\n",
       "<tr class=\"tf rtl\"><td class=\"tf rtl\">12</td><td class=\"tf rtl\"><span class=\"tfsechead ltr\"><a target=\"_blank\" href=\"https://shebanq.ancient-data.org/hebrew/text?book=Deuteronomium&amp;chapter=26&amp;verse=18&amp;version=c&amp;mr=m&amp;qw=q&amp;tp=txt_p&amp;tr=hb&amp;wget=v&amp;qget=v&amp;nget=vt\" title=\"Show this on SHEBANQ\" sec=\"Deuteronomy 26:18\">Deuteronomy 26:18</a></span></td><td class=\"tf rtl\"><span class=\"rtl ubd\"><span class=\"plain rtl  hlbx\" ><span class=\"txtu hbo\">וַֽ</span><span class=\"txtu hbo\">יהוָ֞ה </span><span class=\"txtu hbo\">הֶאֱמִֽירְךָ֣ </span><span class=\"txtu hbo\">הַ</span><span class=\"txtu hbo\">יֹּ֗ום </span><span class=\"txtu hbo\">לִ</span><span class=\"txtu hbo\">הְיֹ֥ות </span><span class=\"txtu hbo\">לֹו֙ </span><span class=\"txtu hbo\">לְ</span><span class=\"txtu hbo\">עַ֣ם </span><span class=\"txtu hbo\">סְגֻלָּ֔ה </span><span class=\"txtu hbo\">כַּ</span><span class=\"txtu hbo\">אֲשֶׁ֖ר </span><span class=\"plain rtl  hl\" ><span class=\"txtu hbo\">דִּבֶּר־</span></span><span class=\"txtu hbo\">לָ֑ךְ </span><span class=\"txtu hbo\">וְ</span><span class=\"txtu hbo\">לִ</span><span class=\"txtu hbo\">שְׁמֹ֖ר </span><span class=\"txtu hbo\">כָּל־</span><span class=\"txtu hbo\">מִצְוֹתָֽיו׃ </span><span class=\"txtu hbo\">וּֽ</span><span class=\"txtu hbo\">לְ</span><span class=\"txtu hbo\">תִתְּךָ֣ </span><span class=\"txtu hbo\">עֶלְיֹ֗ון </span><span class=\"txtu hbo\">עַ֤ל </span><span class=\"txtu hbo\">כָּל־</span><span class=\"txtu hbo\">הַ</span><span class=\"txtu hbo\">גֹּויִם֙ </span><span class=\"txtu hbo\">אֲשֶׁ֣ר </span><span class=\"txtu hbo\">עָשָׂ֔ה </span><span class=\"txtu hbo\">לִ</span><span class=\"txtu hbo\">תְהִלָּ֖ה </span><span class=\"txtu hbo\">וּ</span><span class=\"txtu hbo\">לְ</span><span class=\"txtu hbo\">שֵׁ֣ם </span><span class=\"txtu hbo\">וּ</span><span class=\"txtu hbo\">לְ</span><span class=\"txtu hbo\">תִפְאָ֑רֶת </span><span class=\"txtu hbo\">וְ</span><span class=\"txtu hbo\">לִֽ</span><span class=\"txtu hbo\">הְיֹתְךָ֧ </span><span class=\"txtu hbo\">עַם־</span><span class=\"txtu hbo\">קָדֹ֛שׁ </span><span class=\"txtu hbo\">לַ</span><span class=\"txtu hbo\">יהוָ֥ה </span><span class=\"txtu hbo\">אֱלֹהֶ֖יךָ </span><span class=\"txtu hbo\">כַּ</span><span class=\"txtu hbo\">אֲשֶׁ֥ר </span><span class=\"txtu hbo\">דִּבֵּֽר׃ ס </span></span></span></td><td class=\"tf rtl\"><span class=\"rtl ubd\"><span class=\"plain rtl  hl\" ><span class=\"txtu hbo\">דִּבֶּר־</span></span></span></td></tr>\n",
       "<tr class=\"tf rtl\"><td class=\"tf rtl\">13</td><td class=\"tf rtl\"><span class=\"tfsechead ltr\"><a target=\"_blank\" href=\"https://shebanq.ancient-data.org/hebrew/text?book=Deuteronomium&amp;chapter=26&amp;verse=19&amp;version=c&amp;mr=m&amp;qw=q&amp;tp=txt_p&amp;tr=hb&amp;wget=v&amp;qget=v&amp;nget=vt\" title=\"Show this on SHEBANQ\" sec=\"Deuteronomy 26:19\">Deuteronomy 26:19</a></span></td><td class=\"tf rtl\"><span class=\"rtl ubd\"><span class=\"plain rtl  hlbx\" ><span class=\"txtu hbo\">וַֽ</span><span class=\"txtu hbo\">יהוָ֞ה </span><span class=\"txtu hbo\">הֶאֱמִֽירְךָ֣ </span><span class=\"txtu hbo\">הַ</span><span class=\"txtu hbo\">יֹּ֗ום </span><span class=\"txtu hbo\">לִ</span><span class=\"txtu hbo\">הְיֹ֥ות </span><span class=\"txtu hbo\">לֹו֙ </span><span class=\"txtu hbo\">לְ</span><span class=\"txtu hbo\">עַ֣ם </span><span class=\"txtu hbo\">סְגֻלָּ֔ה </span><span class=\"txtu hbo\">כַּ</span><span class=\"txtu hbo\">אֲשֶׁ֖ר </span><span class=\"txtu hbo\">דִּבֶּר־</span><span class=\"txtu hbo\">לָ֑ךְ </span><span class=\"txtu hbo\">וְ</span><span class=\"txtu hbo\">לִ</span><span class=\"txtu hbo\">שְׁמֹ֖ר </span><span class=\"txtu hbo\">כָּל־</span><span class=\"txtu hbo\">מִצְוֹתָֽיו׃ </span><span class=\"txtu hbo\">וּֽ</span><span class=\"txtu hbo\">לְ</span><span class=\"txtu hbo\">תִתְּךָ֣ </span><span class=\"txtu hbo\">עֶלְיֹ֗ון </span><span class=\"txtu hbo\">עַ֤ל </span><span class=\"txtu hbo\">כָּל־</span><span class=\"txtu hbo\">הַ</span><span class=\"txtu hbo\">גֹּויִם֙ </span><span class=\"txtu hbo\">אֲשֶׁ֣ר </span><span class=\"txtu hbo\">עָשָׂ֔ה </span><span class=\"txtu hbo\">לִ</span><span class=\"txtu hbo\">תְהִלָּ֖ה </span><span class=\"txtu hbo\">וּ</span><span class=\"txtu hbo\">לְ</span><span class=\"txtu hbo\">שֵׁ֣ם </span><span class=\"txtu hbo\">וּ</span><span class=\"txtu hbo\">לְ</span><span class=\"txtu hbo\">תִפְאָ֑רֶת </span><span class=\"txtu hbo\">וְ</span><span class=\"txtu hbo\">לִֽ</span><span class=\"txtu hbo\">הְיֹתְךָ֧ </span><span class=\"txtu hbo\">עַם־</span><span class=\"txtu hbo\">קָדֹ֛שׁ </span><span class=\"txtu hbo\">לַ</span><span class=\"txtu hbo\">יהוָ֥ה </span><span class=\"txtu hbo\">אֱלֹהֶ֖יךָ </span><span class=\"txtu hbo\">כַּ</span><span class=\"txtu hbo\">אֲשֶׁ֥ר </span><span class=\"plain rtl  hl\" ><span class=\"txtu hbo\">דִּבֵּֽר׃ ס </span></span></span></span></td><td class=\"tf rtl\"><span class=\"rtl ubd\"><span class=\"plain rtl  hl\" ><span class=\"txtu hbo\">דִּבֵּֽר׃ ס </span></span></span></td></tr>\n",
       "<tr class=\"tf rtl\"><td class=\"tf rtl\">14</td><td class=\"tf rtl\"><span class=\"tfsechead ltr\"><a target=\"_blank\" href=\"https://shebanq.ancient-data.org/hebrew/text?book=Josua&amp;chapter=11&amp;verse=9&amp;version=c&amp;mr=m&amp;qw=q&amp;tp=txt_p&amp;tr=hb&amp;wget=v&amp;qget=v&amp;nget=vt\" title=\"Show this on SHEBANQ\" sec=\"Joshua 11:9\">Joshua 11:9</a></span></td><td class=\"tf rtl\"><span class=\"rtl ubd\"><span class=\"plain rtl  hlbx\" ><span class=\"txtu hbo\">וַ</span><span class=\"txtu hbo\">יַּ֤עַשׂ </span><span class=\"txtu hbo\">לָהֶם֙ </span><span class=\"txtu hbo\">יְהֹושֻׁ֔עַ </span><span class=\"txtu hbo\">כַּ</span><span class=\"txtu hbo\">אֲשֶׁ֥ר </span><span class=\"plain rtl  hl\" ><span class=\"txtu hbo\">אָֽמַר־</span></span><span class=\"txtu hbo\">לֹ֖ו </span><span class=\"txtu hbo\">יְהוָ֑ה </span></span></span></td><td class=\"tf rtl\"><span class=\"rtl ubd\"><span class=\"plain rtl  hl\" ><span class=\"txtu hbo\">אָֽמַר־</span></span></span></td></tr>\n",
       "<tr class=\"tf rtl\"><td class=\"tf rtl\">15</td><td class=\"tf rtl\"><span class=\"tfsechead ltr\"><a target=\"_blank\" href=\"https://shebanq.ancient-data.org/hebrew/text?book=Judices&amp;chapter=6&amp;verse=27&amp;version=c&amp;mr=m&amp;qw=q&amp;tp=txt_p&amp;tr=hb&amp;wget=v&amp;qget=v&amp;nget=vt\" title=\"Show this on SHEBANQ\" sec=\"Judges 6:27\">Judges 6:27</a></span></td><td class=\"tf rtl\"><span class=\"rtl ubd\"><span class=\"plain rtl  hlbx\" ><span class=\"txtu hbo\">וַ</span><span class=\"txtu hbo\">יַּ֕עַשׂ </span><span class=\"txtu hbo\">כַּ</span><span class=\"txtu hbo\">אֲשֶׁ֛ר </span><span class=\"plain rtl  hl\" ><span class=\"txtu hbo\">דִּבֶּ֥ר </span></span><span class=\"txtu hbo\">אֵלָ֖יו </span><span class=\"txtu hbo\">יְהוָ֑ה </span></span></span></td><td class=\"tf rtl\"><span class=\"rtl ubd\"><span class=\"plain rtl  hl\" ><span class=\"txtu hbo\">דִּבֶּ֥ר </span></span></span></td></tr>\n",
       "<tr class=\"tf rtl\"><td class=\"tf rtl\">16</td><td class=\"tf rtl\"><span class=\"tfsechead ltr\"><a target=\"_blank\" href=\"https://shebanq.ancient-data.org/hebrew/text?book=Samuel_I&amp;chapter=28&amp;verse=17&amp;version=c&amp;mr=m&amp;qw=q&amp;tp=txt_p&amp;tr=hb&amp;wget=v&amp;qget=v&amp;nget=vt\" title=\"Show this on SHEBANQ\" sec=\"1_Samuel 28:17\">1_Samuel 28:17</a></span></td><td class=\"tf rtl\"><span class=\"rtl ubd\"><span class=\"plain rtl  hlbx\" ><span class=\"txtu hbo\">וַ</span><span class=\"txtu hbo\">יַּ֤עַשׂ </span><span class=\"txtu hbo\">יְהוָה֙ </span><span class=\"txtu hbo\">לֹ֔ו </span><span class=\"txtu hbo\">כַּ</span><span class=\"txtu hbo\">אֲשֶׁ֖ר </span><span class=\"plain rtl  hl\" ><span class=\"txtu hbo\">דִּבֶּ֣ר </span></span><span class=\"txtu hbo\">בְּ</span><span class=\"txtu hbo\">יָדִ֑י </span></span></span></td><td class=\"tf rtl\"><span class=\"rtl ubd\"><span class=\"plain rtl  hl\" ><span class=\"txtu hbo\">דִּבֶּ֣ר </span></span></span></td></tr>\n",
       "<tr class=\"tf rtl\"><td class=\"tf rtl\">17</td><td class=\"tf rtl\"><span class=\"tfsechead ltr\"><a target=\"_blank\" href=\"https://shebanq.ancient-data.org/hebrew/text?book=Samuel_II&amp;chapter=7&amp;verse=25&amp;version=c&amp;mr=m&amp;qw=q&amp;tp=txt_p&amp;tr=hb&amp;wget=v&amp;qget=v&amp;nget=vt\" title=\"Show this on SHEBANQ\" sec=\"2_Samuel 7:25\">2_Samuel 7:25</a></span></td><td class=\"tf rtl\"><span class=\"rtl ubd\"><span class=\"plain rtl  hlbx\" ><span class=\"txtu hbo\">וַ</span><span class=\"txtu hbo\">עֲשֵׂ֖ה </span><span class=\"txtu hbo\">כַּ</span><span class=\"txtu hbo\">אֲשֶׁ֥ר </span><span class=\"plain rtl  hl\" ><span class=\"txtu hbo\">דִּבַּֽרְתָּ׃ </span></span></span></span></td><td class=\"tf rtl\"><span class=\"rtl ubd\"><span class=\"plain rtl  hl\" ><span class=\"txtu hbo\">דִּבַּֽרְתָּ׃ </span></span></span></td></tr>\n",
       "<tr class=\"tf rtl\"><td class=\"tf rtl\">18</td><td class=\"tf rtl\"><span class=\"tfsechead ltr\"><a target=\"_blank\" href=\"https://shebanq.ancient-data.org/hebrew/text?book=Reges_I&amp;chapter=2&amp;verse=24&amp;version=c&amp;mr=m&amp;qw=q&amp;tp=txt_p&amp;tr=hb&amp;wget=v&amp;qget=v&amp;nget=vt\" title=\"Show this on SHEBANQ\" sec=\"1_Kings 2:24\">1_Kings 2:24</a></span></td><td class=\"tf rtl\"><span class=\"rtl ubd\"><span class=\"plain rtl  hlbx\" ><span class=\"txtu hbo\">חַי־</span><span class=\"txtu hbo\">יְהוָה֙ </span><span class=\"txtu hbo\">אֲשֶׁ֣ר </span><span class=\"txtu hbo\">הֱכִינַ֗נִי </span><span class=\"txtu hbo\">וַ</span><span class=\"txtu hbo\">יֹּֽושִׁיבַ֨נִי֙ </span><span class=\"txtu hbo\">עַל־</span><span class=\"txtu hbo\">כִּסֵּא֙ </span><span class=\"txtu hbo\">דָּוִ֣ד </span><span class=\"txtu hbo\">אָבִ֔י </span><span class=\"txtu hbo\">וַ</span><span class=\"txtu hbo\">אֲשֶׁ֧ר </span><span class=\"txtu hbo\">עָֽשָׂה־</span><span class=\"txtu hbo\">לִ֛י </span><span class=\"txtu hbo\">בַּ֖יִת </span><span class=\"txtu hbo\">כַּ</span><span class=\"txtu hbo\">אֲשֶׁ֣ר </span><span class=\"plain rtl  hl\" ><span class=\"txtu hbo\">דִּבֵּ֑ר </span></span></span></span></td><td class=\"tf rtl\"><span class=\"rtl ubd\"><span class=\"plain rtl  hl\" ><span class=\"txtu hbo\">דִּבֵּ֑ר </span></span></span></td></tr>\n",
       "<tr class=\"tf rtl\"><td class=\"tf rtl\">19</td><td class=\"tf rtl\"><span class=\"tfsechead ltr\"><a target=\"_blank\" href=\"https://shebanq.ancient-data.org/hebrew/text?book=Reges_I&amp;chapter=2&amp;verse=31&amp;version=c&amp;mr=m&amp;qw=q&amp;tp=txt_p&amp;tr=hb&amp;wget=v&amp;qget=v&amp;nget=vt\" title=\"Show this on SHEBANQ\" sec=\"1_Kings 2:31\">1_Kings 2:31</a></span></td><td class=\"tf rtl\"><span class=\"rtl ubd\"><span class=\"plain rtl  hlbx\" ><span class=\"txtu hbo\">עֲשֵׂה֙ </span><span class=\"txtu hbo\">כַּ</span><span class=\"txtu hbo\">אֲשֶׁ֣ר </span><span class=\"plain rtl  hl\" ><span class=\"txtu hbo\">דִּבֶּ֔ר </span></span></span></span></td><td class=\"tf rtl\"><span class=\"rtl ubd\"><span class=\"plain rtl  hl\" ><span class=\"txtu hbo\">דִּבֶּ֔ר </span></span></span></td></tr>\n",
       "<tr class=\"tf rtl\"><td class=\"tf rtl\">20</td><td class=\"tf rtl\"><span class=\"tfsechead ltr\"><a target=\"_blank\" href=\"https://shebanq.ancient-data.org/hebrew/text?book=Reges_II&amp;chapter=24&amp;verse=13&amp;version=c&amp;mr=m&amp;qw=q&amp;tp=txt_p&amp;tr=hb&amp;wget=v&amp;qget=v&amp;nget=vt\" title=\"Show this on SHEBANQ\" sec=\"2_Kings 24:13\">2_Kings 24:13</a></span></td><td class=\"tf rtl\"><span class=\"rtl ubd\"><span class=\"plain rtl  hlbx\" ><span class=\"txtu hbo\">וַ</span><span class=\"txtu hbo\">יְקַצֵּ֞ץ </span><span class=\"txtu hbo\">אֶת־</span><span class=\"txtu hbo\">כָּל־</span><span class=\"txtu hbo\">כְּלֵ֣י </span><span class=\"txtu hbo\">הַ</span><span class=\"txtu hbo\">זָּהָ֗ב </span><span class=\"txtu hbo\">אֲשֶׁ֨ר </span><span class=\"txtu hbo\">עָשָׂ֜ה </span><span class=\"txtu hbo\">שְׁלֹמֹ֤ה </span><span class=\"txtu hbo\">מֶֽלֶךְ־</span><span class=\"txtu hbo\">יִשְׂרָאֵל֙ </span><span class=\"txtu hbo\">בְּ</span><span class=\"txtu hbo\">הֵיכַ֣ל </span><span class=\"txtu hbo\">יְהוָ֔ה </span><span class=\"txtu hbo\">כַּֽ</span><span class=\"txtu hbo\">אֲשֶׁ֖ר </span><span class=\"plain rtl  hl\" ><span class=\"txtu hbo\">דִּבֶּ֥ר </span></span><span class=\"txtu hbo\">יְהוָֽה׃ </span></span></span></td><td class=\"tf rtl\"><span class=\"rtl ubd\"><span class=\"plain rtl  hl\" ><span class=\"txtu hbo\">דִּבֶּ֥ר </span></span></span></td></tr>\n",
       "<tr class=\"tf rtl\"><td class=\"tf rtl\">21</td><td class=\"tf rtl\"><span class=\"tfsechead ltr\"><a target=\"_blank\" href=\"https://shebanq.ancient-data.org/hebrew/text?book=Jeremia&amp;chapter=40&amp;verse=3&amp;version=c&amp;mr=m&amp;qw=q&amp;tp=txt_p&amp;tr=hb&amp;wget=v&amp;qget=v&amp;nget=vt\" title=\"Show this on SHEBANQ\" sec=\"Jeremiah 40:3\">Jeremiah 40:3</a></span></td><td class=\"tf rtl\"><span class=\"rtl ubd\"><span class=\"plain rtl  hlbx\" ><span class=\"txtu hbo\">וַ</span><span class=\"txtu hbo\">יַּ֛עַשׂ </span><span class=\"txtu hbo\">יְהוָ֖ה </span><span class=\"txtu hbo\">כַּ</span><span class=\"txtu hbo\">אֲשֶׁ֣ר </span><span class=\"plain rtl  hl\" ><span class=\"txtu hbo\">דִּבֵּ֑ר </span></span></span></span></td><td class=\"tf rtl\"><span class=\"rtl ubd\"><span class=\"plain rtl  hl\" ><span class=\"txtu hbo\">דִּבֵּ֑ר </span></span></span></td></tr>\n",
       "<tr class=\"tf rtl\"><td class=\"tf rtl\">22</td><td class=\"tf rtl\"><span class=\"tfsechead ltr\"><a target=\"_blank\" href=\"https://shebanq.ancient-data.org/hebrew/text?book=Iob&amp;chapter=42&amp;verse=9&amp;version=c&amp;mr=m&amp;qw=q&amp;tp=txt_p&amp;tr=hb&amp;wget=v&amp;qget=v&amp;nget=vt\" title=\"Show this on SHEBANQ\" sec=\"Job 42:9\">Job 42:9</a></span></td><td class=\"tf rtl\"><span class=\"rtl ubd\"><span class=\"plain rtl  hlbx\" ><span class=\"txtu hbo\">וַֽ</span><span class=\"txtu hbo\">יַּעֲשׂ֔וּ </span><span class=\"txtu hbo\">כַּ</span><span class=\"txtu hbo\">אֲשֶׁ֛ר </span><span class=\"plain rtl  hl\" ><span class=\"txtu hbo\">דִּבֶּ֥ר </span></span><span class=\"txtu hbo\">אֲלֵיהֶ֖ם </span><span class=\"txtu hbo\">יְהוָ֑ה </span></span></span></td><td class=\"tf rtl\"><span class=\"rtl ubd\"><span class=\"plain rtl  hl\" ><span class=\"txtu hbo\">דִּבֶּ֥ר </span></span></span></td></tr>\n",
       "<tr class=\"tf rtl\"><td class=\"tf rtl\">23</td><td class=\"tf rtl\"><span class=\"tfsechead ltr\"><a target=\"_blank\" href=\"https://shebanq.ancient-data.org/hebrew/text?book=Daniel&amp;chapter=9&amp;verse=12&amp;version=c&amp;mr=m&amp;qw=q&amp;tp=txt_p&amp;tr=hb&amp;wget=v&amp;qget=v&amp;nget=vt\" title=\"Show this on SHEBANQ\" sec=\"Daniel 9:12\">Daniel 9:12</a></span></td><td class=\"tf rtl\"><span class=\"rtl ubd\"><span class=\"plain rtl  hlbx\" ><span class=\"txtu hbo\">וַ</span><span class=\"txtu hbo\">יָּ֜קֶם </span><span class=\"txtu hbo\">אֶת־</span><span class=\"txtu hbo\">דְּבָרֹ֣ו ׀ </span><span class=\"txtu hbo\">אֲשֶׁר־</span><span class=\"plain rtl  hl\" ><span class=\"txtu hbo\">דִּבֶּ֣ר </span></span><span class=\"txtu hbo\">עָלֵ֗ינוּ </span><span class=\"txtu hbo\">וְ</span><span class=\"txtu hbo\">עַ֤ל </span><span class=\"txtu hbo\">שֹֽׁפְטֵ֨ינוּ֙ </span><span class=\"txtu hbo\">אֲשֶׁ֣ר </span><span class=\"txtu hbo\">שְׁפָט֔וּנוּ </span><span class=\"txtu hbo\">לְ</span><span class=\"txtu hbo\">הָבִ֥יא </span><span class=\"txtu hbo\">עָלֵ֖ינוּ </span><span class=\"txtu hbo\">רָעָ֣ה </span><span class=\"txtu hbo\">גְדֹלָ֑ה </span><span class=\"txtu hbo\">אֲשֶׁ֣ר </span><span class=\"txtu hbo\">לֹֽא־</span><span class=\"txtu hbo\">נֶעֶשְׂתָ֗ה </span><span class=\"txtu hbo\">תַּ֚חַת </span><span class=\"txtu hbo\">כָּל־</span><span class=\"txtu hbo\">הַ</span><span class=\"txtu hbo\">שָּׁמַ֔יִם </span><span class=\"txtu hbo\">כַּ</span><span class=\"txtu hbo\">אֲשֶׁ֥ר </span><span class=\"txtu hbo\">נֶעֶשְׂתָ֖ה </span><span class=\"txtu hbo\">בִּ</span><span class=\"txtu hbo\">ירוּשָׁלִָֽם׃ </span><span class=\"txtu hbo\">כַּ</span><span class=\"txtu hbo\">אֲשֶׁ֤ר </span><span class=\"txtu hbo\">כָּתוּב֙ </span><span class=\"txtu hbo\">בְּ</span><span class=\"txtu hbo\">תֹורַ֣ת </span><span class=\"txtu hbo\">מֹשֶׁ֔ה </span><span class=\"txtu hbo\">אֵ֛ת </span><span class=\"txtu hbo\">כָּל־</span><span class=\"txtu hbo\">הָ</span><span class=\"txtu hbo\">רָעָ֥ה </span><span class=\"txtu hbo\">הַ</span><span class=\"txtu hbo\">זֹּ֖את </span><span class=\"txtu hbo\">בָּ֣אָה </span><span class=\"txtu hbo\">עָלֵ֑ינוּ </span></span></span></td><td class=\"tf rtl\"><span class=\"rtl ubd\"><span class=\"plain rtl  hl\" ><span class=\"txtu hbo\">דִּבֶּ֣ר </span></span></span></td></tr>\n",
       "<tr class=\"tf rtl\"><td class=\"tf rtl\">24</td><td class=\"tf rtl\"><span class=\"tfsechead ltr\"><a target=\"_blank\" href=\"https://shebanq.ancient-data.org/hebrew/text?book=Nehemia&amp;chapter=5&amp;verse=12&amp;version=c&amp;mr=m&amp;qw=q&amp;tp=txt_p&amp;tr=hb&amp;wget=v&amp;qget=v&amp;nget=vt\" title=\"Show this on SHEBANQ\" sec=\"Nehemiah 5:12\">Nehemiah 5:12</a></span></td><td class=\"tf rtl\"><span class=\"rtl ubd\"><span class=\"plain rtl  hlbx\" ><span class=\"txtu hbo\">כֵּ֣ן </span><span class=\"txtu hbo\">נַעֲשֶׂ֔ה </span><span class=\"txtu hbo\">כַּ</span><span class=\"txtu hbo\">אֲשֶׁ֖ר </span><span class=\"txtu hbo\">אַתָּ֣ה </span><span class=\"plain rtl  hl\" ><span class=\"txtu hbo\">אֹומֵ֑ר </span></span></span></span></td><td class=\"tf rtl\"><span class=\"rtl ubd\"><span class=\"plain rtl  hl\" ><span class=\"txtu hbo\">אֹומֵ֑ר </span></span></span></td></tr>\n",
       "<tr class=\"tf rtl\"><td class=\"tf rtl\">25</td><td class=\"tf rtl\"><span class=\"tfsechead ltr\"><a target=\"_blank\" href=\"https://shebanq.ancient-data.org/hebrew/text?book=Chronica_I&amp;chapter=17&amp;verse=23&amp;version=c&amp;mr=m&amp;qw=q&amp;tp=txt_p&amp;tr=hb&amp;wget=v&amp;qget=v&amp;nget=vt\" title=\"Show this on SHEBANQ\" sec=\"1_Chronicles 17:23\">1_Chronicles 17:23</a></span></td><td class=\"tf rtl\"><span class=\"rtl ubd\"><span class=\"plain rtl  hlbx\" ><span class=\"txtu hbo\">וַ</span><span class=\"txtu hbo\">עֲשֵׂ֖ה </span><span class=\"txtu hbo\">כַּ</span><span class=\"txtu hbo\">אֲשֶׁ֥ר </span><span class=\"plain rtl  hl\" ><span class=\"txtu hbo\">דִּבַּֽרְתָּ׃ </span></span></span></span></td><td class=\"tf rtl\"><span class=\"rtl ubd\"><span class=\"plain rtl  hl\" ><span class=\"txtu hbo\">דִּבַּֽרְתָּ׃ </span></span></span></td></tr></table>"
      ]
     },
     "metadata": {}
    }
   ],
   "metadata": {}
  },
  {
   "cell_type": "markdown",
   "source": [
    "The results are roughly what I expected, but the inclusion of Deut 26:8 and Dan 9:12 is unexpected.\r\n",
    "\r\n",
    "I assumed the relational operator `<` in the last line of the search template would mean that the verb אמר/דבר must occur *after* כַּאֲשֶׁר. Presumably, it only means that it must occur after (or within) the sentence because כַּאֲשֶׁר is inside the `/with/` quantifier.\r\n",
    "\r\n",
    "So I'll try removing the quantifier entirely.\r\n",
    "\r\n",
    "## Verb עשׂה followed by כַּאֲשֶׁר and a the verb דבר or אמר (revised)"
   ],
   "metadata": {}
  },
  {
   "cell_type": "code",
   "execution_count": 19,
   "source": [
    "A.table(A.search('''\r\n",
    "sentence\r\n",
    "    word lex_utf8=עשׂה\r\n",
    "    < clause\r\n",
    "        word lex_utf8=כ\r\n",
    "        <: word lex_utf8=אשׁר\r\n",
    "        < word sp=verb lex_utf8=אמר|דבר\r\n",
    "'''))"
   ],
   "outputs": [
    {
     "output_type": "stream",
     "name": "stdout",
     "text": [
      "  1.40s 21 results\n"
     ]
    },
    {
     "output_type": "display_data",
     "data": {
      "text/plain": [
       "<IPython.core.display.HTML object>"
      ],
      "text/html": [
       "<table><tr class=\"tf rtl\"><th class=\"tf rtl\">n</th><th class=\"tf rtl\">p</th><th class=\"tf rtl\">sentence</th><th class=\"tf\">word</th><th class=\"tf\">clause</th><th class=\"tf\">word</th><th class=\"tf\">word</th><th class=\"tf\">word</th></tr>\n",
       "<tr class=\"tf rtl\"><td class=\"tf rtl\">1</td><td class=\"tf rtl\"><span class=\"tfsechead ltr\"><a target=\"_blank\" href=\"https://shebanq.ancient-data.org/hebrew/text?book=Genesis&amp;chapter=18&amp;verse=5&amp;version=c&amp;mr=m&amp;qw=q&amp;tp=txt_p&amp;tr=hb&amp;wget=v&amp;qget=v&amp;nget=vt\" title=\"Show this on SHEBANQ\" sec=\"Genesis 18:5\">Genesis 18:5</a></span></td><td class=\"tf rtl\"><span class=\"rtl ubd\"><span class=\"plain rtl  hlbx\" ><span class=\"txtu hbo\">כֵּ֥ן </span><span class=\"plain rtl  hl\" ><span class=\"txtu hbo\">תַּעֲשֶׂ֖ה </span></span><span class=\"plain rtl  hlbx\" ><span class=\"plain rtl  hl\" ><span class=\"txtu hbo\">כַּ</span></span><span class=\"plain rtl  hl\" ><span class=\"txtu hbo\">אֲשֶׁ֥ר </span></span><span class=\"plain rtl  hl\" ><span class=\"txtu hbo\">דִּבַּֽרְתָּ׃ </span></span></span></span></span></td><td class=\"tf rtl\"><span class=\"rtl ubd\"><span class=\"plain rtl  hl\" ><span class=\"txtu hbo\">תַּעֲשֶׂ֖ה </span></span></span></td><td class=\"tf rtl\"><span class=\"rtl ubd\"><span class=\"plain rtl  hlbx\" ><span class=\"plain rtl  hl\" ><span class=\"txtu hbo\">כַּ</span></span><span class=\"plain rtl  hl\" ><span class=\"txtu hbo\">אֲשֶׁ֥ר </span></span><span class=\"plain rtl  hl\" ><span class=\"txtu hbo\">דִּבַּֽרְתָּ׃ </span></span></span></span></td><td class=\"tf rtl\"><span class=\"rtl ubd\"><span class=\"plain rtl  hl\" ><span class=\"txtu hbo\">כַּ</span></span></span></td><td class=\"tf rtl\"><span class=\"rtl ubd\"><span class=\"plain rtl  hl\" ><span class=\"txtu hbo\">אֲשֶׁ֥ר </span></span></span></td><td class=\"tf rtl\"><span class=\"rtl ubd\"><span class=\"plain rtl  hl\" ><span class=\"txtu hbo\">דִּבַּֽרְתָּ׃ </span></span></span></td></tr>\n",
       "<tr class=\"tf rtl\"><td class=\"tf rtl\">2</td><td class=\"tf rtl\"><span class=\"tfsechead ltr\"><a target=\"_blank\" href=\"https://shebanq.ancient-data.org/hebrew/text?book=Genesis&amp;chapter=21&amp;verse=1&amp;version=c&amp;mr=m&amp;qw=q&amp;tp=txt_p&amp;tr=hb&amp;wget=v&amp;qget=v&amp;nget=vt\" title=\"Show this on SHEBANQ\" sec=\"Genesis 21:1\">Genesis 21:1</a></span></td><td class=\"tf rtl\"><span class=\"rtl ubd\"><span class=\"plain rtl  hlbx\" ><span class=\"txtu hbo\">וַ</span><span class=\"plain rtl  hl\" ><span class=\"txtu hbo\">יַּ֧עַשׂ </span></span><span class=\"txtu hbo\">יְהוָ֛ה </span><span class=\"txtu hbo\">לְ</span><span class=\"txtu hbo\">שָׂרָ֖ה </span><span class=\"plain rtl  hlbx\" ><span class=\"plain rtl  hl\" ><span class=\"txtu hbo\">כַּ</span></span><span class=\"plain rtl  hl\" ><span class=\"txtu hbo\">אֲשֶׁ֥ר </span></span><span class=\"plain rtl  hl\" ><span class=\"txtu hbo\">דִּבֵּֽר׃ </span></span></span></span></span></td><td class=\"tf rtl\"><span class=\"rtl ubd\"><span class=\"plain rtl  hl\" ><span class=\"txtu hbo\">יַּ֧עַשׂ </span></span></span></td><td class=\"tf rtl\"><span class=\"rtl ubd\"><span class=\"plain rtl  hlbx\" ><span class=\"plain rtl  hl\" ><span class=\"txtu hbo\">כַּ</span></span><span class=\"plain rtl  hl\" ><span class=\"txtu hbo\">אֲשֶׁ֥ר </span></span><span class=\"plain rtl  hl\" ><span class=\"txtu hbo\">דִּבֵּֽר׃ </span></span></span></span></td><td class=\"tf rtl\"><span class=\"rtl ubd\"><span class=\"plain rtl  hl\" ><span class=\"txtu hbo\">כַּ</span></span></span></td><td class=\"tf rtl\"><span class=\"rtl ubd\"><span class=\"plain rtl  hl\" ><span class=\"txtu hbo\">אֲשֶׁ֥ר </span></span></span></td><td class=\"tf rtl\"><span class=\"rtl ubd\"><span class=\"plain rtl  hl\" ><span class=\"txtu hbo\">דִּבֵּֽר׃ </span></span></span></td></tr>\n",
       "<tr class=\"tf rtl\"><td class=\"tf rtl\">3</td><td class=\"tf rtl\"><span class=\"tfsechead ltr\"><a target=\"_blank\" href=\"https://shebanq.ancient-data.org/hebrew/text?book=Genesis&amp;chapter=27&amp;verse=19&amp;version=c&amp;mr=m&amp;qw=q&amp;tp=txt_p&amp;tr=hb&amp;wget=v&amp;qget=v&amp;nget=vt\" title=\"Show this on SHEBANQ\" sec=\"Genesis 27:19\">Genesis 27:19</a></span></td><td class=\"tf rtl\"><span class=\"rtl ubd\"><span class=\"plain rtl  hlbx\" ><span class=\"plain rtl  hl\" ><span class=\"txtu hbo\">עָשִׂ֕יתִי </span></span><span class=\"plain rtl  hlbx\" ><span class=\"plain rtl  hl\" ><span class=\"txtu hbo\">כַּ</span></span><span class=\"plain rtl  hl\" ><span class=\"txtu hbo\">אֲשֶׁ֥ר </span></span><span class=\"plain rtl  hl\" ><span class=\"txtu hbo\">דִּבַּ֖רְתָּ </span></span><span class=\"txtu hbo\">אֵלָ֑י </span></span></span></span></td><td class=\"tf rtl\"><span class=\"rtl ubd\"><span class=\"plain rtl  hl\" ><span class=\"txtu hbo\">עָשִׂ֕יתִי </span></span></span></td><td class=\"tf rtl\"><span class=\"rtl ubd\"><span class=\"plain rtl  hlbx\" ><span class=\"plain rtl  hl\" ><span class=\"txtu hbo\">כַּ</span></span><span class=\"plain rtl  hl\" ><span class=\"txtu hbo\">אֲשֶׁ֥ר </span></span><span class=\"plain rtl  hl\" ><span class=\"txtu hbo\">דִּבַּ֖רְתָּ </span></span><span class=\"txtu hbo\">אֵלָ֑י </span></span></span></td><td class=\"tf rtl\"><span class=\"rtl ubd\"><span class=\"plain rtl  hl\" ><span class=\"txtu hbo\">כַּ</span></span></span></td><td class=\"tf rtl\"><span class=\"rtl ubd\"><span class=\"plain rtl  hl\" ><span class=\"txtu hbo\">אֲשֶׁ֥ר </span></span></span></td><td class=\"tf rtl\"><span class=\"rtl ubd\"><span class=\"plain rtl  hl\" ><span class=\"txtu hbo\">דִּבַּ֖רְתָּ </span></span></span></td></tr>\n",
       "<tr class=\"tf rtl\"><td class=\"tf rtl\">4</td><td class=\"tf rtl\"><span class=\"tfsechead ltr\"><a target=\"_blank\" href=\"https://shebanq.ancient-data.org/hebrew/text?book=Genesis&amp;chapter=43&amp;verse=17&amp;version=c&amp;mr=m&amp;qw=q&amp;tp=txt_p&amp;tr=hb&amp;wget=v&amp;qget=v&amp;nget=vt\" title=\"Show this on SHEBANQ\" sec=\"Genesis 43:17\">Genesis 43:17</a></span></td><td class=\"tf rtl\"><span class=\"rtl ubd\"><span class=\"plain rtl  hlbx\" ><span class=\"txtu hbo\">וַ</span><span class=\"plain rtl  hl\" ><span class=\"txtu hbo\">יַּ֣עַשׂ </span></span><span class=\"txtu hbo\">הָ</span><span class=\"txtu hbo\">אִ֔ישׁ </span><span class=\"plain rtl  hlbx\" ><span class=\"plain rtl  hl\" ><span class=\"txtu hbo\">כַּֽ</span></span><span class=\"plain rtl  hl\" ><span class=\"txtu hbo\">אֲשֶׁ֖ר </span></span><span class=\"plain rtl  hl\" ><span class=\"txtu hbo\">אָמַ֣ר </span></span><span class=\"txtu hbo\">יֹוסֵ֑ף </span></span></span></span></td><td class=\"tf rtl\"><span class=\"rtl ubd\"><span class=\"plain rtl  hl\" ><span class=\"txtu hbo\">יַּ֣עַשׂ </span></span></span></td><td class=\"tf rtl\"><span class=\"rtl ubd\"><span class=\"plain rtl  hlbx\" ><span class=\"plain rtl  hl\" ><span class=\"txtu hbo\">כַּֽ</span></span><span class=\"plain rtl  hl\" ><span class=\"txtu hbo\">אֲשֶׁ֖ר </span></span><span class=\"plain rtl  hl\" ><span class=\"txtu hbo\">אָמַ֣ר </span></span><span class=\"txtu hbo\">יֹוסֵ֑ף </span></span></span></td><td class=\"tf rtl\"><span class=\"rtl ubd\"><span class=\"plain rtl  hl\" ><span class=\"txtu hbo\">כַּֽ</span></span></span></td><td class=\"tf rtl\"><span class=\"rtl ubd\"><span class=\"plain rtl  hl\" ><span class=\"txtu hbo\">אֲשֶׁ֖ר </span></span></span></td><td class=\"tf rtl\"><span class=\"rtl ubd\"><span class=\"plain rtl  hl\" ><span class=\"txtu hbo\">אָמַ֣ר </span></span></span></td></tr>\n",
       "<tr class=\"tf rtl\"><td class=\"tf rtl\">5</td><td class=\"tf rtl\"><span class=\"tfsechead ltr\"><a target=\"_blank\" href=\"https://shebanq.ancient-data.org/hebrew/text?book=Exodus&amp;chapter=1&amp;verse=17&amp;version=c&amp;mr=m&amp;qw=q&amp;tp=txt_p&amp;tr=hb&amp;wget=v&amp;qget=v&amp;nget=vt\" title=\"Show this on SHEBANQ\" sec=\"Exodus 1:17\">Exodus 1:17</a></span></td><td class=\"tf rtl\"><span class=\"rtl ubd\"><span class=\"plain rtl  hlbx\" ><span class=\"txtu hbo\">וְ</span><span class=\"txtu hbo\">לֹ֣א </span><span class=\"plain rtl  hl\" ><span class=\"txtu hbo\">עָשׂ֔וּ </span></span><span class=\"plain rtl  hlbx\" ><span class=\"plain rtl  hl\" ><span class=\"txtu hbo\">כַּ</span></span><span class=\"plain rtl  hl\" ><span class=\"txtu hbo\">אֲשֶׁ֛ר </span></span><span class=\"plain rtl  hl\" ><span class=\"txtu hbo\">דִּבֶּ֥ר </span></span><span class=\"txtu hbo\">אֲלֵיהֶ֖ן </span><span class=\"txtu hbo\">מֶ֣לֶךְ </span><span class=\"txtu hbo\">מִצְרָ֑יִם </span></span></span></span></td><td class=\"tf rtl\"><span class=\"rtl ubd\"><span class=\"plain rtl  hl\" ><span class=\"txtu hbo\">עָשׂ֔וּ </span></span></span></td><td class=\"tf rtl\"><span class=\"rtl ubd\"><span class=\"plain rtl  hlbx\" ><span class=\"plain rtl  hl\" ><span class=\"txtu hbo\">כַּ</span></span><span class=\"plain rtl  hl\" ><span class=\"txtu hbo\">אֲשֶׁ֛ר </span></span><span class=\"plain rtl  hl\" ><span class=\"txtu hbo\">דִּבֶּ֥ר </span></span><span class=\"txtu hbo\">אֲלֵיהֶ֖ן </span><span class=\"txtu hbo\">מֶ֣לֶךְ </span><span class=\"txtu hbo\">מִצְרָ֑יִם </span></span></span></td><td class=\"tf rtl\"><span class=\"rtl ubd\"><span class=\"plain rtl  hl\" ><span class=\"txtu hbo\">כַּ</span></span></span></td><td class=\"tf rtl\"><span class=\"rtl ubd\"><span class=\"plain rtl  hl\" ><span class=\"txtu hbo\">אֲשֶׁ֛ר </span></span></span></td><td class=\"tf rtl\"><span class=\"rtl ubd\"><span class=\"plain rtl  hl\" ><span class=\"txtu hbo\">דִּבֶּ֥ר </span></span></span></td></tr>\n",
       "<tr class=\"tf rtl\"><td class=\"tf rtl\">6</td><td class=\"tf rtl\"><span class=\"tfsechead ltr\"><a target=\"_blank\" href=\"https://shebanq.ancient-data.org/hebrew/text?book=Exodus&amp;chapter=17&amp;verse=10&amp;version=c&amp;mr=m&amp;qw=q&amp;tp=txt_p&amp;tr=hb&amp;wget=v&amp;qget=v&amp;nget=vt\" title=\"Show this on SHEBANQ\" sec=\"Exodus 17:10\">Exodus 17:10</a></span></td><td class=\"tf rtl\"><span class=\"rtl ubd\"><span class=\"plain rtl  hlbx\" ><span class=\"txtu hbo\">וַ</span><span class=\"plain rtl  hl\" ><span class=\"txtu hbo\">יַּ֣עַשׂ </span></span><span class=\"txtu hbo\">יְהֹושֻׁ֗עַ </span><span class=\"plain rtl  hlbx\" ><span class=\"plain rtl  hl\" ><span class=\"txtu hbo\">כַּ</span></span><span class=\"plain rtl  hl\" ><span class=\"txtu hbo\">אֲשֶׁ֤ר </span></span><span class=\"plain rtl  hl\" ><span class=\"txtu hbo\">אָֽמַר־</span></span><span class=\"txtu hbo\">לֹו֙ </span><span class=\"txtu hbo\">מֹשֶׁ֔ה </span></span><span class=\"txtu hbo\">לְ</span><span class=\"txtu hbo\">הִלָּחֵ֖ם </span><span class=\"txtu hbo\">בַּ</span><span class=\"txtu hbo\">עֲמָלֵ֑ק </span></span></span></td><td class=\"tf rtl\"><span class=\"rtl ubd\"><span class=\"plain rtl  hl\" ><span class=\"txtu hbo\">יַּ֣עַשׂ </span></span></span></td><td class=\"tf rtl\"><span class=\"rtl ubd\"><span class=\"plain rtl  hlbx\" ><span class=\"plain rtl  hl\" ><span class=\"txtu hbo\">כַּ</span></span><span class=\"plain rtl  hl\" ><span class=\"txtu hbo\">אֲשֶׁ֤ר </span></span><span class=\"plain rtl  hl\" ><span class=\"txtu hbo\">אָֽמַר־</span></span><span class=\"txtu hbo\">לֹו֙ </span><span class=\"txtu hbo\">מֹשֶׁ֔ה </span></span></span></td><td class=\"tf rtl\"><span class=\"rtl ubd\"><span class=\"plain rtl  hl\" ><span class=\"txtu hbo\">כַּ</span></span></span></td><td class=\"tf rtl\"><span class=\"rtl ubd\"><span class=\"plain rtl  hl\" ><span class=\"txtu hbo\">אֲשֶׁ֤ר </span></span></span></td><td class=\"tf rtl\"><span class=\"rtl ubd\"><span class=\"plain rtl  hl\" ><span class=\"txtu hbo\">אָֽמַר־</span></span></span></td></tr>\n",
       "<tr class=\"tf rtl\"><td class=\"tf rtl\">7</td><td class=\"tf rtl\"><span class=\"tfsechead ltr\"><a target=\"_blank\" href=\"https://shebanq.ancient-data.org/hebrew/text?book=Numeri&amp;chapter=23&amp;verse=2&amp;version=c&amp;mr=m&amp;qw=q&amp;tp=txt_p&amp;tr=hb&amp;wget=v&amp;qget=v&amp;nget=vt\" title=\"Show this on SHEBANQ\" sec=\"Numbers 23:2\">Numbers 23:2</a></span></td><td class=\"tf rtl\"><span class=\"rtl ubd\"><span class=\"plain rtl  hlbx\" ><span class=\"txtu hbo\">וַ</span><span class=\"plain rtl  hl\" ><span class=\"txtu hbo\">יַּ֣עַשׂ </span></span><span class=\"txtu hbo\">בָּלָ֔ק </span><span class=\"plain rtl  hlbx\" ><span class=\"plain rtl  hl\" ><span class=\"txtu hbo\">כַּ</span></span><span class=\"plain rtl  hl\" ><span class=\"txtu hbo\">אֲשֶׁ֖ר </span></span><span class=\"plain rtl  hl\" ><span class=\"txtu hbo\">דִּבֶּ֣ר </span></span><span class=\"txtu hbo\">בִּלְעָ֑ם </span></span></span></span></td><td class=\"tf rtl\"><span class=\"rtl ubd\"><span class=\"plain rtl  hl\" ><span class=\"txtu hbo\">יַּ֣עַשׂ </span></span></span></td><td class=\"tf rtl\"><span class=\"rtl ubd\"><span class=\"plain rtl  hlbx\" ><span class=\"plain rtl  hl\" ><span class=\"txtu hbo\">כַּ</span></span><span class=\"plain rtl  hl\" ><span class=\"txtu hbo\">אֲשֶׁ֖ר </span></span><span class=\"plain rtl  hl\" ><span class=\"txtu hbo\">דִּבֶּ֣ר </span></span><span class=\"txtu hbo\">בִּלְעָ֑ם </span></span></span></td><td class=\"tf rtl\"><span class=\"rtl ubd\"><span class=\"plain rtl  hl\" ><span class=\"txtu hbo\">כַּ</span></span></span></td><td class=\"tf rtl\"><span class=\"rtl ubd\"><span class=\"plain rtl  hl\" ><span class=\"txtu hbo\">אֲשֶׁ֖ר </span></span></span></td><td class=\"tf rtl\"><span class=\"rtl ubd\"><span class=\"plain rtl  hl\" ><span class=\"txtu hbo\">דִּבֶּ֣ר </span></span></span></td></tr>\n",
       "<tr class=\"tf rtl\"><td class=\"tf rtl\">8</td><td class=\"tf rtl\"><span class=\"tfsechead ltr\"><a target=\"_blank\" href=\"https://shebanq.ancient-data.org/hebrew/text?book=Numeri&amp;chapter=23&amp;verse=30&amp;version=c&amp;mr=m&amp;qw=q&amp;tp=txt_p&amp;tr=hb&amp;wget=v&amp;qget=v&amp;nget=vt\" title=\"Show this on SHEBANQ\" sec=\"Numbers 23:30\">Numbers 23:30</a></span></td><td class=\"tf rtl\"><span class=\"rtl ubd\"><span class=\"plain rtl  hlbx\" ><span class=\"txtu hbo\">וַ</span><span class=\"plain rtl  hl\" ><span class=\"txtu hbo\">יַּ֣עַשׂ </span></span><span class=\"txtu hbo\">בָּלָ֔ק </span><span class=\"plain rtl  hlbx\" ><span class=\"plain rtl  hl\" ><span class=\"txtu hbo\">כַּ</span></span><span class=\"plain rtl  hl\" ><span class=\"txtu hbo\">אֲשֶׁ֖ר </span></span><span class=\"plain rtl  hl\" ><span class=\"txtu hbo\">אָמַ֣ר </span></span><span class=\"txtu hbo\">בִּלְעָ֑ם </span></span></span></span></td><td class=\"tf rtl\"><span class=\"rtl ubd\"><span class=\"plain rtl  hl\" ><span class=\"txtu hbo\">יַּ֣עַשׂ </span></span></span></td><td class=\"tf rtl\"><span class=\"rtl ubd\"><span class=\"plain rtl  hlbx\" ><span class=\"plain rtl  hl\" ><span class=\"txtu hbo\">כַּ</span></span><span class=\"plain rtl  hl\" ><span class=\"txtu hbo\">אֲשֶׁ֖ר </span></span><span class=\"plain rtl  hl\" ><span class=\"txtu hbo\">אָמַ֣ר </span></span><span class=\"txtu hbo\">בִּלְעָ֑ם </span></span></span></td><td class=\"tf rtl\"><span class=\"rtl ubd\"><span class=\"plain rtl  hl\" ><span class=\"txtu hbo\">כַּ</span></span></span></td><td class=\"tf rtl\"><span class=\"rtl ubd\"><span class=\"plain rtl  hl\" ><span class=\"txtu hbo\">אֲשֶׁ֖ר </span></span></span></td><td class=\"tf rtl\"><span class=\"rtl ubd\"><span class=\"plain rtl  hl\" ><span class=\"txtu hbo\">אָמַ֣ר </span></span></span></td></tr>\n",
       "<tr class=\"tf rtl\"><td class=\"tf rtl\">9</td><td class=\"tf rtl\"><span class=\"tfsechead ltr\"><a target=\"_blank\" href=\"https://shebanq.ancient-data.org/hebrew/text?book=Deuteronomium&amp;chapter=6&amp;verse=3&amp;version=c&amp;mr=m&amp;qw=q&amp;tp=txt_p&amp;tr=hb&amp;wget=v&amp;qget=v&amp;nget=vt\" title=\"Show this on SHEBANQ\" sec=\"Deuteronomy 6:3\">Deuteronomy 6:3</a></span></td><td class=\"tf rtl\"><span class=\"rtl ubd\"><span class=\"plain rtl  hlbx\" ><span class=\"txtu hbo\">וְ</span><span class=\"txtu hbo\">שָׁמַרְתָּ֣ </span><span class=\"txtu hbo\">לַ</span><span class=\"plain rtl  hl\" ><span class=\"txtu hbo\">עֲשֹׂ֔ות </span></span><span class=\"plain rtl l \" ><span class=\"txtu hbo\">אֲשֶׁר֙ </span><span class=\"txtu hbo\">יִיטַ֣ב </span><span class=\"txtu hbo\">לְךָ֔ </span></span><span class=\"txtu hbo\">וַ</span><span class=\"txtu hbo\">אֲשֶׁ֥ר </span><span class=\"txtu hbo\">תִּרְבּ֖וּן </span><span class=\"txtu hbo\">מְאֹ֑ד </span><span class=\"plain rtl  hlbx\" ><span class=\"plain rtl  hl\" ><span class=\"txtu hbo\">כַּ</span></span><span class=\"plain rtl  hl\" ><span class=\"txtu hbo\">אֲשֶׁר֩ </span></span><span class=\"plain rtl  hl\" ><span class=\"txtu hbo\">דִּבֶּ֨ר </span></span><span class=\"txtu hbo\">יְהוָ֜ה </span><span class=\"txtu hbo\">אֱלֹהֵ֤י </span><span class=\"txtu hbo\">אֲבֹתֶ֨יךָ֙ </span><span class=\"txtu hbo\">לָ֔ךְ </span></span><span class=\"plain rtl r \" ><span class=\"txtu hbo\">אֶ֛רֶץ </span><span class=\"txtu hbo\">זָבַ֥ת </span><span class=\"txtu hbo\">חָלָ֖ב </span><span class=\"txtu hbo\">וּ</span><span class=\"txtu hbo\">דְבָֽשׁ׃ פ </span></span></span></span></td><td class=\"tf rtl\"><span class=\"rtl ubd\"><span class=\"plain rtl  hl\" ><span class=\"txtu hbo\">עֲשֹׂ֔ות </span></span></span></td><td class=\"tf rtl\"><span class=\"rtl ubd\"><span class=\"plain rtl  hlbx\" ><span class=\"plain rtl  hl\" ><span class=\"txtu hbo\">כַּ</span></span><span class=\"plain rtl  hl\" ><span class=\"txtu hbo\">אֲשֶׁר֩ </span></span><span class=\"plain rtl  hl\" ><span class=\"txtu hbo\">דִּבֶּ֨ר </span></span><span class=\"txtu hbo\">יְהוָ֜ה </span><span class=\"txtu hbo\">אֱלֹהֵ֤י </span><span class=\"txtu hbo\">אֲבֹתֶ֨יךָ֙ </span><span class=\"txtu hbo\">לָ֔ךְ </span></span></span></td><td class=\"tf rtl\"><span class=\"rtl ubd\"><span class=\"plain rtl  hl\" ><span class=\"txtu hbo\">כַּ</span></span></span></td><td class=\"tf rtl\"><span class=\"rtl ubd\"><span class=\"plain rtl  hl\" ><span class=\"txtu hbo\">אֲשֶׁר֩ </span></span></span></td><td class=\"tf rtl\"><span class=\"rtl ubd\"><span class=\"plain rtl  hl\" ><span class=\"txtu hbo\">דִּבֶּ֨ר </span></span></span></td></tr>\n",
       "<tr class=\"tf rtl\"><td class=\"tf rtl\">10</td><td class=\"tf rtl\"><span class=\"tfsechead ltr\"><a target=\"_blank\" href=\"https://shebanq.ancient-data.org/hebrew/text?book=Deuteronomium&amp;chapter=26&amp;verse=19&amp;version=c&amp;mr=m&amp;qw=q&amp;tp=txt_p&amp;tr=hb&amp;wget=v&amp;qget=v&amp;nget=vt\" title=\"Show this on SHEBANQ\" sec=\"Deuteronomy 26:19\">Deuteronomy 26:19</a></span></td><td class=\"tf rtl\"><span class=\"rtl ubd\"><span class=\"plain rtl  hlbx\" ><span class=\"txtu hbo\">וַֽ</span><span class=\"txtu hbo\">יהוָ֞ה </span><span class=\"txtu hbo\">הֶאֱמִֽירְךָ֣ </span><span class=\"txtu hbo\">הַ</span><span class=\"txtu hbo\">יֹּ֗ום </span><span class=\"txtu hbo\">לִ</span><span class=\"txtu hbo\">הְיֹ֥ות </span><span class=\"txtu hbo\">לֹו֙ </span><span class=\"txtu hbo\">לְ</span><span class=\"txtu hbo\">עַ֣ם </span><span class=\"txtu hbo\">סְגֻלָּ֔ה </span><span class=\"txtu hbo\">כַּ</span><span class=\"txtu hbo\">אֲשֶׁ֖ר </span><span class=\"txtu hbo\">דִּבֶּר־</span><span class=\"txtu hbo\">לָ֑ךְ </span><span class=\"txtu hbo\">וְ</span><span class=\"txtu hbo\">לִ</span><span class=\"txtu hbo\">שְׁמֹ֖ר </span><span class=\"txtu hbo\">כָּל־</span><span class=\"txtu hbo\">מִצְוֹתָֽיו׃ </span><span class=\"txtu hbo\">וּֽ</span><span class=\"txtu hbo\">לְ</span><span class=\"txtu hbo\">תִתְּךָ֣ </span><span class=\"txtu hbo\">עֶלְיֹ֗ון </span><span class=\"txtu hbo\">עַ֤ל </span><span class=\"txtu hbo\">כָּל־</span><span class=\"txtu hbo\">הַ</span><span class=\"txtu hbo\">גֹּויִם֙ </span><span class=\"txtu hbo\">אֲשֶׁ֣ר </span><span class=\"plain rtl  hl\" ><span class=\"txtu hbo\">עָשָׂ֔ה </span></span><span class=\"txtu hbo\">לִ</span><span class=\"txtu hbo\">תְהִלָּ֖ה </span><span class=\"txtu hbo\">וּ</span><span class=\"txtu hbo\">לְ</span><span class=\"txtu hbo\">שֵׁ֣ם </span><span class=\"txtu hbo\">וּ</span><span class=\"txtu hbo\">לְ</span><span class=\"txtu hbo\">תִפְאָ֑רֶת </span><span class=\"txtu hbo\">וְ</span><span class=\"txtu hbo\">לִֽ</span><span class=\"txtu hbo\">הְיֹתְךָ֧ </span><span class=\"txtu hbo\">עַם־</span><span class=\"txtu hbo\">קָדֹ֛שׁ </span><span class=\"txtu hbo\">לַ</span><span class=\"txtu hbo\">יהוָ֥ה </span><span class=\"txtu hbo\">אֱלֹהֶ֖יךָ </span><span class=\"plain rtl  hlbx\" ><span class=\"plain rtl  hl\" ><span class=\"txtu hbo\">כַּ</span></span><span class=\"plain rtl  hl\" ><span class=\"txtu hbo\">אֲשֶׁ֥ר </span></span><span class=\"plain rtl  hl\" ><span class=\"txtu hbo\">דִּבֵּֽר׃ ס </span></span></span></span></span></td><td class=\"tf rtl\"><span class=\"rtl ubd\"><span class=\"plain rtl  hl\" ><span class=\"txtu hbo\">עָשָׂ֔ה </span></span></span></td><td class=\"tf rtl\"><span class=\"rtl ubd\"><span class=\"plain rtl  hlbx\" ><span class=\"plain rtl  hl\" ><span class=\"txtu hbo\">כַּ</span></span><span class=\"plain rtl  hl\" ><span class=\"txtu hbo\">אֲשֶׁ֥ר </span></span><span class=\"plain rtl  hl\" ><span class=\"txtu hbo\">דִּבֵּֽר׃ ס </span></span></span></span></td><td class=\"tf rtl\"><span class=\"rtl ubd\"><span class=\"plain rtl  hl\" ><span class=\"txtu hbo\">כַּ</span></span></span></td><td class=\"tf rtl\"><span class=\"rtl ubd\"><span class=\"plain rtl  hl\" ><span class=\"txtu hbo\">אֲשֶׁ֥ר </span></span></span></td><td class=\"tf rtl\"><span class=\"rtl ubd\"><span class=\"plain rtl  hl\" ><span class=\"txtu hbo\">דִּבֵּֽר׃ ס </span></span></span></td></tr>\n",
       "<tr class=\"tf rtl\"><td class=\"tf rtl\">11</td><td class=\"tf rtl\"><span class=\"tfsechead ltr\"><a target=\"_blank\" href=\"https://shebanq.ancient-data.org/hebrew/text?book=Josua&amp;chapter=11&amp;verse=9&amp;version=c&amp;mr=m&amp;qw=q&amp;tp=txt_p&amp;tr=hb&amp;wget=v&amp;qget=v&amp;nget=vt\" title=\"Show this on SHEBANQ\" sec=\"Joshua 11:9\">Joshua 11:9</a></span></td><td class=\"tf rtl\"><span class=\"rtl ubd\"><span class=\"plain rtl  hlbx\" ><span class=\"txtu hbo\">וַ</span><span class=\"plain rtl  hl\" ><span class=\"txtu hbo\">יַּ֤עַשׂ </span></span><span class=\"txtu hbo\">לָהֶם֙ </span><span class=\"txtu hbo\">יְהֹושֻׁ֔עַ </span><span class=\"plain rtl  hlbx\" ><span class=\"plain rtl  hl\" ><span class=\"txtu hbo\">כַּ</span></span><span class=\"plain rtl  hl\" ><span class=\"txtu hbo\">אֲשֶׁ֥ר </span></span><span class=\"plain rtl  hl\" ><span class=\"txtu hbo\">אָֽמַר־</span></span><span class=\"txtu hbo\">לֹ֖ו </span><span class=\"txtu hbo\">יְהוָ֑ה </span></span></span></span></td><td class=\"tf rtl\"><span class=\"rtl ubd\"><span class=\"plain rtl  hl\" ><span class=\"txtu hbo\">יַּ֤עַשׂ </span></span></span></td><td class=\"tf rtl\"><span class=\"rtl ubd\"><span class=\"plain rtl  hlbx\" ><span class=\"plain rtl  hl\" ><span class=\"txtu hbo\">כַּ</span></span><span class=\"plain rtl  hl\" ><span class=\"txtu hbo\">אֲשֶׁ֥ר </span></span><span class=\"plain rtl  hl\" ><span class=\"txtu hbo\">אָֽמַר־</span></span><span class=\"txtu hbo\">לֹ֖ו </span><span class=\"txtu hbo\">יְהוָ֑ה </span></span></span></td><td class=\"tf rtl\"><span class=\"rtl ubd\"><span class=\"plain rtl  hl\" ><span class=\"txtu hbo\">כַּ</span></span></span></td><td class=\"tf rtl\"><span class=\"rtl ubd\"><span class=\"plain rtl  hl\" ><span class=\"txtu hbo\">אֲשֶׁ֥ר </span></span></span></td><td class=\"tf rtl\"><span class=\"rtl ubd\"><span class=\"plain rtl  hl\" ><span class=\"txtu hbo\">אָֽמַר־</span></span></span></td></tr>\n",
       "<tr class=\"tf rtl\"><td class=\"tf rtl\">12</td><td class=\"tf rtl\"><span class=\"tfsechead ltr\"><a target=\"_blank\" href=\"https://shebanq.ancient-data.org/hebrew/text?book=Judices&amp;chapter=6&amp;verse=27&amp;version=c&amp;mr=m&amp;qw=q&amp;tp=txt_p&amp;tr=hb&amp;wget=v&amp;qget=v&amp;nget=vt\" title=\"Show this on SHEBANQ\" sec=\"Judges 6:27\">Judges 6:27</a></span></td><td class=\"tf rtl\"><span class=\"rtl ubd\"><span class=\"plain rtl  hlbx\" ><span class=\"txtu hbo\">וַ</span><span class=\"plain rtl  hl\" ><span class=\"txtu hbo\">יַּ֕עַשׂ </span></span><span class=\"plain rtl  hlbx\" ><span class=\"plain rtl  hl\" ><span class=\"txtu hbo\">כַּ</span></span><span class=\"plain rtl  hl\" ><span class=\"txtu hbo\">אֲשֶׁ֛ר </span></span><span class=\"plain rtl  hl\" ><span class=\"txtu hbo\">דִּבֶּ֥ר </span></span><span class=\"txtu hbo\">אֵלָ֖יו </span><span class=\"txtu hbo\">יְהוָ֑ה </span></span></span></span></td><td class=\"tf rtl\"><span class=\"rtl ubd\"><span class=\"plain rtl  hl\" ><span class=\"txtu hbo\">יַּ֕עַשׂ </span></span></span></td><td class=\"tf rtl\"><span class=\"rtl ubd\"><span class=\"plain rtl  hlbx\" ><span class=\"plain rtl  hl\" ><span class=\"txtu hbo\">כַּ</span></span><span class=\"plain rtl  hl\" ><span class=\"txtu hbo\">אֲשֶׁ֛ר </span></span><span class=\"plain rtl  hl\" ><span class=\"txtu hbo\">דִּבֶּ֥ר </span></span><span class=\"txtu hbo\">אֵלָ֖יו </span><span class=\"txtu hbo\">יְהוָ֑ה </span></span></span></td><td class=\"tf rtl\"><span class=\"rtl ubd\"><span class=\"plain rtl  hl\" ><span class=\"txtu hbo\">כַּ</span></span></span></td><td class=\"tf rtl\"><span class=\"rtl ubd\"><span class=\"plain rtl  hl\" ><span class=\"txtu hbo\">אֲשֶׁ֛ר </span></span></span></td><td class=\"tf rtl\"><span class=\"rtl ubd\"><span class=\"plain rtl  hl\" ><span class=\"txtu hbo\">דִּבֶּ֥ר </span></span></span></td></tr>\n",
       "<tr class=\"tf rtl\"><td class=\"tf rtl\">13</td><td class=\"tf rtl\"><span class=\"tfsechead ltr\"><a target=\"_blank\" href=\"https://shebanq.ancient-data.org/hebrew/text?book=Samuel_I&amp;chapter=28&amp;verse=17&amp;version=c&amp;mr=m&amp;qw=q&amp;tp=txt_p&amp;tr=hb&amp;wget=v&amp;qget=v&amp;nget=vt\" title=\"Show this on SHEBANQ\" sec=\"1_Samuel 28:17\">1_Samuel 28:17</a></span></td><td class=\"tf rtl\"><span class=\"rtl ubd\"><span class=\"plain rtl  hlbx\" ><span class=\"txtu hbo\">וַ</span><span class=\"plain rtl  hl\" ><span class=\"txtu hbo\">יַּ֤עַשׂ </span></span><span class=\"txtu hbo\">יְהוָה֙ </span><span class=\"txtu hbo\">לֹ֔ו </span><span class=\"plain rtl  hlbx\" ><span class=\"plain rtl  hl\" ><span class=\"txtu hbo\">כַּ</span></span><span class=\"plain rtl  hl\" ><span class=\"txtu hbo\">אֲשֶׁ֖ר </span></span><span class=\"plain rtl  hl\" ><span class=\"txtu hbo\">דִּבֶּ֣ר </span></span><span class=\"txtu hbo\">בְּ</span><span class=\"txtu hbo\">יָדִ֑י </span></span></span></span></td><td class=\"tf rtl\"><span class=\"rtl ubd\"><span class=\"plain rtl  hl\" ><span class=\"txtu hbo\">יַּ֤עַשׂ </span></span></span></td><td class=\"tf rtl\"><span class=\"rtl ubd\"><span class=\"plain rtl  hlbx\" ><span class=\"plain rtl  hl\" ><span class=\"txtu hbo\">כַּ</span></span><span class=\"plain rtl  hl\" ><span class=\"txtu hbo\">אֲשֶׁ֖ר </span></span><span class=\"plain rtl  hl\" ><span class=\"txtu hbo\">דִּבֶּ֣ר </span></span><span class=\"txtu hbo\">בְּ</span><span class=\"txtu hbo\">יָדִ֑י </span></span></span></td><td class=\"tf rtl\"><span class=\"rtl ubd\"><span class=\"plain rtl  hl\" ><span class=\"txtu hbo\">כַּ</span></span></span></td><td class=\"tf rtl\"><span class=\"rtl ubd\"><span class=\"plain rtl  hl\" ><span class=\"txtu hbo\">אֲשֶׁ֖ר </span></span></span></td><td class=\"tf rtl\"><span class=\"rtl ubd\"><span class=\"plain rtl  hl\" ><span class=\"txtu hbo\">דִּבֶּ֣ר </span></span></span></td></tr>\n",
       "<tr class=\"tf rtl\"><td class=\"tf rtl\">14</td><td class=\"tf rtl\"><span class=\"tfsechead ltr\"><a target=\"_blank\" href=\"https://shebanq.ancient-data.org/hebrew/text?book=Samuel_II&amp;chapter=7&amp;verse=25&amp;version=c&amp;mr=m&amp;qw=q&amp;tp=txt_p&amp;tr=hb&amp;wget=v&amp;qget=v&amp;nget=vt\" title=\"Show this on SHEBANQ\" sec=\"2_Samuel 7:25\">2_Samuel 7:25</a></span></td><td class=\"tf rtl\"><span class=\"rtl ubd\"><span class=\"plain rtl  hlbx\" ><span class=\"txtu hbo\">וַ</span><span class=\"plain rtl  hl\" ><span class=\"txtu hbo\">עֲשֵׂ֖ה </span></span><span class=\"plain rtl  hlbx\" ><span class=\"plain rtl  hl\" ><span class=\"txtu hbo\">כַּ</span></span><span class=\"plain rtl  hl\" ><span class=\"txtu hbo\">אֲשֶׁ֥ר </span></span><span class=\"plain rtl  hl\" ><span class=\"txtu hbo\">דִּבַּֽרְתָּ׃ </span></span></span></span></span></td><td class=\"tf rtl\"><span class=\"rtl ubd\"><span class=\"plain rtl  hl\" ><span class=\"txtu hbo\">עֲשֵׂ֖ה </span></span></span></td><td class=\"tf rtl\"><span class=\"rtl ubd\"><span class=\"plain rtl  hlbx\" ><span class=\"plain rtl  hl\" ><span class=\"txtu hbo\">כַּ</span></span><span class=\"plain rtl  hl\" ><span class=\"txtu hbo\">אֲשֶׁ֥ר </span></span><span class=\"plain rtl  hl\" ><span class=\"txtu hbo\">דִּבַּֽרְתָּ׃ </span></span></span></span></td><td class=\"tf rtl\"><span class=\"rtl ubd\"><span class=\"plain rtl  hl\" ><span class=\"txtu hbo\">כַּ</span></span></span></td><td class=\"tf rtl\"><span class=\"rtl ubd\"><span class=\"plain rtl  hl\" ><span class=\"txtu hbo\">אֲשֶׁ֥ר </span></span></span></td><td class=\"tf rtl\"><span class=\"rtl ubd\"><span class=\"plain rtl  hl\" ><span class=\"txtu hbo\">דִּבַּֽרְתָּ׃ </span></span></span></td></tr>\n",
       "<tr class=\"tf rtl\"><td class=\"tf rtl\">15</td><td class=\"tf rtl\"><span class=\"tfsechead ltr\"><a target=\"_blank\" href=\"https://shebanq.ancient-data.org/hebrew/text?book=Reges_I&amp;chapter=2&amp;verse=24&amp;version=c&amp;mr=m&amp;qw=q&amp;tp=txt_p&amp;tr=hb&amp;wget=v&amp;qget=v&amp;nget=vt\" title=\"Show this on SHEBANQ\" sec=\"1_Kings 2:24\">1_Kings 2:24</a></span></td><td class=\"tf rtl\"><span class=\"rtl ubd\"><span class=\"plain rtl  hlbx\" ><span class=\"txtu hbo\">חַי־</span><span class=\"txtu hbo\">יְהוָה֙ </span><span class=\"txtu hbo\">אֲשֶׁ֣ר </span><span class=\"txtu hbo\">הֱכִינַ֗נִי </span><span class=\"txtu hbo\">וַ</span><span class=\"txtu hbo\">יֹּֽושִׁיבַ֨נִי֙ </span><span class=\"txtu hbo\">עַל־</span><span class=\"txtu hbo\">כִּסֵּא֙ </span><span class=\"txtu hbo\">דָּוִ֣ד </span><span class=\"txtu hbo\">אָבִ֔י </span><span class=\"txtu hbo\">וַ</span><span class=\"txtu hbo\">אֲשֶׁ֧ר </span><span class=\"plain rtl  hl\" ><span class=\"txtu hbo\">עָֽשָׂה־</span></span><span class=\"txtu hbo\">לִ֛י </span><span class=\"txtu hbo\">בַּ֖יִת </span><span class=\"plain rtl  hlbx\" ><span class=\"plain rtl  hl\" ><span class=\"txtu hbo\">כַּ</span></span><span class=\"plain rtl  hl\" ><span class=\"txtu hbo\">אֲשֶׁ֣ר </span></span><span class=\"plain rtl  hl\" ><span class=\"txtu hbo\">דִּבֵּ֑ר </span></span></span></span></span></td><td class=\"tf rtl\"><span class=\"rtl ubd\"><span class=\"plain rtl  hl\" ><span class=\"txtu hbo\">עָֽשָׂה־</span></span></span></td><td class=\"tf rtl\"><span class=\"rtl ubd\"><span class=\"plain rtl  hlbx\" ><span class=\"plain rtl  hl\" ><span class=\"txtu hbo\">כַּ</span></span><span class=\"plain rtl  hl\" ><span class=\"txtu hbo\">אֲשֶׁ֣ר </span></span><span class=\"plain rtl  hl\" ><span class=\"txtu hbo\">דִּבֵּ֑ר </span></span></span></span></td><td class=\"tf rtl\"><span class=\"rtl ubd\"><span class=\"plain rtl  hl\" ><span class=\"txtu hbo\">כַּ</span></span></span></td><td class=\"tf rtl\"><span class=\"rtl ubd\"><span class=\"plain rtl  hl\" ><span class=\"txtu hbo\">אֲשֶׁ֣ר </span></span></span></td><td class=\"tf rtl\"><span class=\"rtl ubd\"><span class=\"plain rtl  hl\" ><span class=\"txtu hbo\">דִּבֵּ֑ר </span></span></span></td></tr>\n",
       "<tr class=\"tf rtl\"><td class=\"tf rtl\">16</td><td class=\"tf rtl\"><span class=\"tfsechead ltr\"><a target=\"_blank\" href=\"https://shebanq.ancient-data.org/hebrew/text?book=Reges_I&amp;chapter=2&amp;verse=31&amp;version=c&amp;mr=m&amp;qw=q&amp;tp=txt_p&amp;tr=hb&amp;wget=v&amp;qget=v&amp;nget=vt\" title=\"Show this on SHEBANQ\" sec=\"1_Kings 2:31\">1_Kings 2:31</a></span></td><td class=\"tf rtl\"><span class=\"rtl ubd\"><span class=\"plain rtl  hlbx\" ><span class=\"plain rtl  hl\" ><span class=\"txtu hbo\">עֲשֵׂה֙ </span></span><span class=\"plain rtl  hlbx\" ><span class=\"plain rtl  hl\" ><span class=\"txtu hbo\">כַּ</span></span><span class=\"plain rtl  hl\" ><span class=\"txtu hbo\">אֲשֶׁ֣ר </span></span><span class=\"plain rtl  hl\" ><span class=\"txtu hbo\">דִּבֶּ֔ר </span></span></span></span></span></td><td class=\"tf rtl\"><span class=\"rtl ubd\"><span class=\"plain rtl  hl\" ><span class=\"txtu hbo\">עֲשֵׂה֙ </span></span></span></td><td class=\"tf rtl\"><span class=\"rtl ubd\"><span class=\"plain rtl  hlbx\" ><span class=\"plain rtl  hl\" ><span class=\"txtu hbo\">כַּ</span></span><span class=\"plain rtl  hl\" ><span class=\"txtu hbo\">אֲשֶׁ֣ר </span></span><span class=\"plain rtl  hl\" ><span class=\"txtu hbo\">דִּבֶּ֔ר </span></span></span></span></td><td class=\"tf rtl\"><span class=\"rtl ubd\"><span class=\"plain rtl  hl\" ><span class=\"txtu hbo\">כַּ</span></span></span></td><td class=\"tf rtl\"><span class=\"rtl ubd\"><span class=\"plain rtl  hl\" ><span class=\"txtu hbo\">אֲשֶׁ֣ר </span></span></span></td><td class=\"tf rtl\"><span class=\"rtl ubd\"><span class=\"plain rtl  hl\" ><span class=\"txtu hbo\">דִּבֶּ֔ר </span></span></span></td></tr>\n",
       "<tr class=\"tf rtl\"><td class=\"tf rtl\">17</td><td class=\"tf rtl\"><span class=\"tfsechead ltr\"><a target=\"_blank\" href=\"https://shebanq.ancient-data.org/hebrew/text?book=Reges_II&amp;chapter=24&amp;verse=13&amp;version=c&amp;mr=m&amp;qw=q&amp;tp=txt_p&amp;tr=hb&amp;wget=v&amp;qget=v&amp;nget=vt\" title=\"Show this on SHEBANQ\" sec=\"2_Kings 24:13\">2_Kings 24:13</a></span></td><td class=\"tf rtl\"><span class=\"rtl ubd\"><span class=\"plain rtl  hlbx\" ><span class=\"txtu hbo\">וַ</span><span class=\"txtu hbo\">יְקַצֵּ֞ץ </span><span class=\"txtu hbo\">אֶת־</span><span class=\"txtu hbo\">כָּל־</span><span class=\"txtu hbo\">כְּלֵ֣י </span><span class=\"txtu hbo\">הַ</span><span class=\"txtu hbo\">זָּהָ֗ב </span><span class=\"txtu hbo\">אֲשֶׁ֨ר </span><span class=\"plain rtl  hl\" ><span class=\"txtu hbo\">עָשָׂ֜ה </span></span><span class=\"txtu hbo\">שְׁלֹמֹ֤ה </span><span class=\"txtu hbo\">מֶֽלֶךְ־</span><span class=\"txtu hbo\">יִשְׂרָאֵל֙ </span><span class=\"txtu hbo\">בְּ</span><span class=\"txtu hbo\">הֵיכַ֣ל </span><span class=\"txtu hbo\">יְהוָ֔ה </span><span class=\"plain rtl  hlbx\" ><span class=\"plain rtl  hl\" ><span class=\"txtu hbo\">כַּֽ</span></span><span class=\"plain rtl  hl\" ><span class=\"txtu hbo\">אֲשֶׁ֖ר </span></span><span class=\"plain rtl  hl\" ><span class=\"txtu hbo\">דִּבֶּ֥ר </span></span><span class=\"txtu hbo\">יְהוָֽה׃ </span></span></span></span></td><td class=\"tf rtl\"><span class=\"rtl ubd\"><span class=\"plain rtl  hl\" ><span class=\"txtu hbo\">עָשָׂ֜ה </span></span></span></td><td class=\"tf rtl\"><span class=\"rtl ubd\"><span class=\"plain rtl  hlbx\" ><span class=\"plain rtl  hl\" ><span class=\"txtu hbo\">כַּֽ</span></span><span class=\"plain rtl  hl\" ><span class=\"txtu hbo\">אֲשֶׁ֖ר </span></span><span class=\"plain rtl  hl\" ><span class=\"txtu hbo\">דִּבֶּ֥ר </span></span><span class=\"txtu hbo\">יְהוָֽה׃ </span></span></span></td><td class=\"tf rtl\"><span class=\"rtl ubd\"><span class=\"plain rtl  hl\" ><span class=\"txtu hbo\">כַּֽ</span></span></span></td><td class=\"tf rtl\"><span class=\"rtl ubd\"><span class=\"plain rtl  hl\" ><span class=\"txtu hbo\">אֲשֶׁ֖ר </span></span></span></td><td class=\"tf rtl\"><span class=\"rtl ubd\"><span class=\"plain rtl  hl\" ><span class=\"txtu hbo\">דִּבֶּ֥ר </span></span></span></td></tr>\n",
       "<tr class=\"tf rtl\"><td class=\"tf rtl\">18</td><td class=\"tf rtl\"><span class=\"tfsechead ltr\"><a target=\"_blank\" href=\"https://shebanq.ancient-data.org/hebrew/text?book=Jeremia&amp;chapter=40&amp;verse=3&amp;version=c&amp;mr=m&amp;qw=q&amp;tp=txt_p&amp;tr=hb&amp;wget=v&amp;qget=v&amp;nget=vt\" title=\"Show this on SHEBANQ\" sec=\"Jeremiah 40:3\">Jeremiah 40:3</a></span></td><td class=\"tf rtl\"><span class=\"rtl ubd\"><span class=\"plain rtl  hlbx\" ><span class=\"txtu hbo\">וַ</span><span class=\"plain rtl  hl\" ><span class=\"txtu hbo\">יַּ֛עַשׂ </span></span><span class=\"txtu hbo\">יְהוָ֖ה </span><span class=\"plain rtl  hlbx\" ><span class=\"plain rtl  hl\" ><span class=\"txtu hbo\">כַּ</span></span><span class=\"plain rtl  hl\" ><span class=\"txtu hbo\">אֲשֶׁ֣ר </span></span><span class=\"plain rtl  hl\" ><span class=\"txtu hbo\">דִּבֵּ֑ר </span></span></span></span></span></td><td class=\"tf rtl\"><span class=\"rtl ubd\"><span class=\"plain rtl  hl\" ><span class=\"txtu hbo\">יַּ֛עַשׂ </span></span></span></td><td class=\"tf rtl\"><span class=\"rtl ubd\"><span class=\"plain rtl  hlbx\" ><span class=\"plain rtl  hl\" ><span class=\"txtu hbo\">כַּ</span></span><span class=\"plain rtl  hl\" ><span class=\"txtu hbo\">אֲשֶׁ֣ר </span></span><span class=\"plain rtl  hl\" ><span class=\"txtu hbo\">דִּבֵּ֑ר </span></span></span></span></td><td class=\"tf rtl\"><span class=\"rtl ubd\"><span class=\"plain rtl  hl\" ><span class=\"txtu hbo\">כַּ</span></span></span></td><td class=\"tf rtl\"><span class=\"rtl ubd\"><span class=\"plain rtl  hl\" ><span class=\"txtu hbo\">אֲשֶׁ֣ר </span></span></span></td><td class=\"tf rtl\"><span class=\"rtl ubd\"><span class=\"plain rtl  hl\" ><span class=\"txtu hbo\">דִּבֵּ֑ר </span></span></span></td></tr>\n",
       "<tr class=\"tf rtl\"><td class=\"tf rtl\">19</td><td class=\"tf rtl\"><span class=\"tfsechead ltr\"><a target=\"_blank\" href=\"https://shebanq.ancient-data.org/hebrew/text?book=Iob&amp;chapter=42&amp;verse=9&amp;version=c&amp;mr=m&amp;qw=q&amp;tp=txt_p&amp;tr=hb&amp;wget=v&amp;qget=v&amp;nget=vt\" title=\"Show this on SHEBANQ\" sec=\"Job 42:9\">Job 42:9</a></span></td><td class=\"tf rtl\"><span class=\"rtl ubd\"><span class=\"plain rtl  hlbx\" ><span class=\"txtu hbo\">וַֽ</span><span class=\"plain rtl  hl\" ><span class=\"txtu hbo\">יַּעֲשׂ֔וּ </span></span><span class=\"plain rtl  hlbx\" ><span class=\"plain rtl  hl\" ><span class=\"txtu hbo\">כַּ</span></span><span class=\"plain rtl  hl\" ><span class=\"txtu hbo\">אֲשֶׁ֛ר </span></span><span class=\"plain rtl  hl\" ><span class=\"txtu hbo\">דִּבֶּ֥ר </span></span><span class=\"txtu hbo\">אֲלֵיהֶ֖ם </span><span class=\"txtu hbo\">יְהוָ֑ה </span></span></span></span></td><td class=\"tf rtl\"><span class=\"rtl ubd\"><span class=\"plain rtl  hl\" ><span class=\"txtu hbo\">יַּעֲשׂ֔וּ </span></span></span></td><td class=\"tf rtl\"><span class=\"rtl ubd\"><span class=\"plain rtl  hlbx\" ><span class=\"plain rtl  hl\" ><span class=\"txtu hbo\">כַּ</span></span><span class=\"plain rtl  hl\" ><span class=\"txtu hbo\">אֲשֶׁ֛ר </span></span><span class=\"plain rtl  hl\" ><span class=\"txtu hbo\">דִּבֶּ֥ר </span></span><span class=\"txtu hbo\">אֲלֵיהֶ֖ם </span><span class=\"txtu hbo\">יְהוָ֑ה </span></span></span></td><td class=\"tf rtl\"><span class=\"rtl ubd\"><span class=\"plain rtl  hl\" ><span class=\"txtu hbo\">כַּ</span></span></span></td><td class=\"tf rtl\"><span class=\"rtl ubd\"><span class=\"plain rtl  hl\" ><span class=\"txtu hbo\">אֲשֶׁ֛ר </span></span></span></td><td class=\"tf rtl\"><span class=\"rtl ubd\"><span class=\"plain rtl  hl\" ><span class=\"txtu hbo\">דִּבֶּ֥ר </span></span></span></td></tr>\n",
       "<tr class=\"tf rtl\"><td class=\"tf rtl\">20</td><td class=\"tf rtl\"><span class=\"tfsechead ltr\"><a target=\"_blank\" href=\"https://shebanq.ancient-data.org/hebrew/text?book=Nehemia&amp;chapter=5&amp;verse=12&amp;version=c&amp;mr=m&amp;qw=q&amp;tp=txt_p&amp;tr=hb&amp;wget=v&amp;qget=v&amp;nget=vt\" title=\"Show this on SHEBANQ\" sec=\"Nehemiah 5:12\">Nehemiah 5:12</a></span></td><td class=\"tf rtl\"><span class=\"rtl ubd\"><span class=\"plain rtl  hlbx\" ><span class=\"txtu hbo\">כֵּ֣ן </span><span class=\"plain rtl  hl\" ><span class=\"txtu hbo\">נַעֲשֶׂ֔ה </span></span><span class=\"plain rtl  hlbx\" ><span class=\"plain rtl  hl\" ><span class=\"txtu hbo\">כַּ</span></span><span class=\"plain rtl  hl\" ><span class=\"txtu hbo\">אֲשֶׁ֖ר </span></span><span class=\"txtu hbo\">אַתָּ֣ה </span><span class=\"plain rtl  hl\" ><span class=\"txtu hbo\">אֹומֵ֑ר </span></span></span></span></span></td><td class=\"tf rtl\"><span class=\"rtl ubd\"><span class=\"plain rtl  hl\" ><span class=\"txtu hbo\">נַעֲשֶׂ֔ה </span></span></span></td><td class=\"tf rtl\"><span class=\"rtl ubd\"><span class=\"plain rtl  hlbx\" ><span class=\"plain rtl  hl\" ><span class=\"txtu hbo\">כַּ</span></span><span class=\"plain rtl  hl\" ><span class=\"txtu hbo\">אֲשֶׁ֖ר </span></span><span class=\"txtu hbo\">אַתָּ֣ה </span><span class=\"plain rtl  hl\" ><span class=\"txtu hbo\">אֹומֵ֑ר </span></span></span></span></td><td class=\"tf rtl\"><span class=\"rtl ubd\"><span class=\"plain rtl  hl\" ><span class=\"txtu hbo\">כַּ</span></span></span></td><td class=\"tf rtl\"><span class=\"rtl ubd\"><span class=\"plain rtl  hl\" ><span class=\"txtu hbo\">אֲשֶׁ֖ר </span></span></span></td><td class=\"tf rtl\"><span class=\"rtl ubd\"><span class=\"plain rtl  hl\" ><span class=\"txtu hbo\">אֹומֵ֑ר </span></span></span></td></tr>\n",
       "<tr class=\"tf rtl\"><td class=\"tf rtl\">21</td><td class=\"tf rtl\"><span class=\"tfsechead ltr\"><a target=\"_blank\" href=\"https://shebanq.ancient-data.org/hebrew/text?book=Chronica_I&amp;chapter=17&amp;verse=23&amp;version=c&amp;mr=m&amp;qw=q&amp;tp=txt_p&amp;tr=hb&amp;wget=v&amp;qget=v&amp;nget=vt\" title=\"Show this on SHEBANQ\" sec=\"1_Chronicles 17:23\">1_Chronicles 17:23</a></span></td><td class=\"tf rtl\"><span class=\"rtl ubd\"><span class=\"plain rtl  hlbx\" ><span class=\"txtu hbo\">וַ</span><span class=\"plain rtl  hl\" ><span class=\"txtu hbo\">עֲשֵׂ֖ה </span></span><span class=\"plain rtl  hlbx\" ><span class=\"plain rtl  hl\" ><span class=\"txtu hbo\">כַּ</span></span><span class=\"plain rtl  hl\" ><span class=\"txtu hbo\">אֲשֶׁ֥ר </span></span><span class=\"plain rtl  hl\" ><span class=\"txtu hbo\">דִּבַּֽרְתָּ׃ </span></span></span></span></span></td><td class=\"tf rtl\"><span class=\"rtl ubd\"><span class=\"plain rtl  hl\" ><span class=\"txtu hbo\">עֲשֵׂ֖ה </span></span></span></td><td class=\"tf rtl\"><span class=\"rtl ubd\"><span class=\"plain rtl  hlbx\" ><span class=\"plain rtl  hl\" ><span class=\"txtu hbo\">כַּ</span></span><span class=\"plain rtl  hl\" ><span class=\"txtu hbo\">אֲשֶׁ֥ר </span></span><span class=\"plain rtl  hl\" ><span class=\"txtu hbo\">דִּבַּֽרְתָּ׃ </span></span></span></span></td><td class=\"tf rtl\"><span class=\"rtl ubd\"><span class=\"plain rtl  hl\" ><span class=\"txtu hbo\">כַּ</span></span></span></td><td class=\"tf rtl\"><span class=\"rtl ubd\"><span class=\"plain rtl  hl\" ><span class=\"txtu hbo\">אֲשֶׁ֥ר </span></span></span></td><td class=\"tf rtl\"><span class=\"rtl ubd\"><span class=\"plain rtl  hl\" ><span class=\"txtu hbo\">דִּבַּֽרְתָּ׃ </span></span></span></td></tr></table>"
      ]
     },
     "metadata": {}
    }
   ],
   "metadata": {}
  }
 ],
 "metadata": {
  "orig_nbformat": 4,
  "language_info": {
   "name": "python",
   "version": "3.8.5",
   "mimetype": "text/x-python",
   "codemirror_mode": {
    "name": "ipython",
    "version": 3
   },
   "pygments_lexer": "ipython3",
   "nbconvert_exporter": "python",
   "file_extension": ".py"
  },
  "kernelspec": {
   "name": "python3",
   "display_name": "Python 3.8.5 64-bit ('base': conda)"
  },
  "interpreter": {
   "hash": "a707b6ce8c685eb936424fcc3009d4b4b7a52543c4db09380a3fc49186ceb509"
  }
 },
 "nbformat": 4,
 "nbformat_minor": 2
}