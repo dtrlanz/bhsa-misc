{
    "cells": [
        {
            "cell_type": "markdown",
            "source": [
                "# Installation\r\n",
                "## Installing Text-Fabric\r\n",
                "To install Text-Fabric I followed the instructions at https://annotation.github.io/text-fabric/tf/about/install.html.\r\n",
                "\r\n",
                "I.e., I simply opened Anaconda and typed `pip install text-fabric`.\r\n",
                "\r\n",
                "Note: I'm on Windows 10 and had previously installed the Python distribution Anaconda. I'm working in VS Code with the \"Jupyter\" extension.\r\n",
                "\r\n",
                "## Getting the Biblia Hebraica Stuttgartensia (Amstelodamensis) data set\r\n",
                "The following code snipped imports the BHSA data set, according to https://github.com/ETCBC/bhsa."
            ],
            "metadata": {}
        },
        {
            "cell_type": "code",
            "execution_count": 22,
            "source": [
                "from tf.app import use\r\n",
                "\r\n",
                "A = use('bhsa')"
            ],
            "outputs": [
                {
                    "output_type": "display_data",
                    "data": {
                        "text/plain": [
                            "<IPython.core.display.HTML object>"
                        ],
                        "text/html": [
                            "<b title=\"local release\">TF-app:</b> <span title=\"rv2.3.0=#113c0687cfce3077734dac1844d244d20f4ace6f offline under ~/text-fabric-data\">C:\\Users\\ittai_n0vs94x/text-fabric-data/annotation/app-bhsa/code</span>"
                        ]
                    },
                    "metadata": {}
                },
                {
                    "output_type": "display_data",
                    "data": {
                        "text/plain": [
                            "<IPython.core.display.HTML object>"
                        ],
                        "text/html": [
                            "<b title=\"local release\">data:</b> <span title=\"rv1.6=#bac4a9f5a2bbdede96ba6caea45e762fe88f88c5 offline under ~/text-fabric-data\">C:\\Users\\ittai_n0vs94x/text-fabric-data/etcbc/bhsa/tf/c</span>"
                        ]
                    },
                    "metadata": {}
                },
                {
                    "output_type": "display_data",
                    "data": {
                        "text/plain": [
                            "<IPython.core.display.HTML object>"
                        ],
                        "text/html": [
                            "<b title=\"local release\">data:</b> <span title=\"r1.2=#1ac68e976ee4a7f23eb6bb4c6f401a033d0ec169 offline under ~/text-fabric-data\">C:\\Users\\ittai_n0vs94x/text-fabric-data/etcbc/phono/tf/c</span>"
                        ]
                    },
                    "metadata": {}
                },
                {
                    "output_type": "display_data",
                    "data": {
                        "text/plain": [
                            "<IPython.core.display.HTML object>"
                        ],
                        "text/html": [
                            "<b title=\"local release\">data:</b> <span title=\"r1.2=#395dfe2cb69c261862fab9f0289e594a52121d5c offline under ~/text-fabric-data\">C:\\Users\\ittai_n0vs94x/text-fabric-data/etcbc/parallels/tf/c</span>"
                        ]
                    },
                    "metadata": {}
                },
                {
                    "output_type": "stream",
                    "name": "stdout",
                    "text": [
                        "This is Text-Fabric 9.0.0\n",
                        "Api reference : https://annotation.github.io/text-fabric/tf/cheatsheet.html\n",
                        "\n",
                        "120 features found and 0 ignored\n"
                    ]
                },
                {
                    "output_type": "display_data",
                    "data": {
                        "text/plain": [
                            "<IPython.core.display.HTML object>"
                        ],
                        "text/html": [
                            "<b>Text-Fabric:</b> <a target=\"_blank\" href=\"https://annotation.github.io/text-fabric/tf/cheatsheet.html\" title=\"text-fabric-api\">Text-Fabric API 9.0.0</a>, <a target=\"_blank\" href=\"https://github.com/annotation/app-bhsa\" title=\"bhsa TF-app\">app-bhsa v3</a>, <a target=\"_blank\" href=\"https://annotation.github.io/text-fabric/tf/about/searchusage.html\" title=\"Search Templates Introduction and Reference\">Search Reference</a><br><b>Data:</b> <a target=\"_blank\" href=\"https://etcbc.github.io/bhsa/0_home\" title=\"provenance of BHSA = Biblia Hebraica Stuttgartensia Amstelodamensis\">BHSA</a>, <a target=\"_blank\" href=\"https://annotation.github.io/text-fabric/tf/writing/hebrew.html\" title=\"How TF features represent text\">Character table</a>, <a target=\"_blank\" href=\"https://etcbc.github.io/bhsa/features/0_home\" title=\"BHSA feature documentation\">Feature docs</a><br><b>Features:</b><br><details><summary><b>Parallel Passages</b></summary><b><i><a target=\"_blank\" href=\"https://nbviewer.jupyter.org/github/etcbc/parallels/blob/master/programs/parallels.ipynb\" title=\"C:\\Users\\ittai_n0vs94x/text-fabric-data/etcbc/parallels/tf/c/crossref.tf\">crossref</a></i></b><br></details><details><summary><b>BHSA = Biblia Hebraica Stuttgartensia Amstelodamensis</b></summary><a target=\"_blank\" href=\"https://etcbc.github.io/bhsa/features/book\" title=\"C:\\Users\\ittai_n0vs94x/text-fabric-data/etcbc/bhsa/tf/c/book.tf\">book</a><br><a target=\"_blank\" href=\"https://etcbc.github.io/bhsa/features/book@ll\" title=\"C:\\Users\\ittai_n0vs94x/text-fabric-data/etcbc/bhsa/tf/c/book@am.tf\">book@ll</a><br><a target=\"_blank\" href=\"https://etcbc.github.io/bhsa/features/chapter\" title=\"C:\\Users\\ittai_n0vs94x/text-fabric-data/etcbc/bhsa/tf/c/chapter.tf\">chapter</a><br><a target=\"_blank\" href=\"https://etcbc.github.io/bhsa/features/code\" title=\"C:\\Users\\ittai_n0vs94x/text-fabric-data/etcbc/bhsa/tf/c/code.tf\">code</a><br><a target=\"_blank\" href=\"https://etcbc.github.io/bhsa/features/det\" title=\"C:\\Users\\ittai_n0vs94x/text-fabric-data/etcbc/bhsa/tf/c/det.tf\">det</a><br><a target=\"_blank\" href=\"https://etcbc.github.io/bhsa/features/domain\" title=\"C:\\Users\\ittai_n0vs94x/text-fabric-data/etcbc/bhsa/tf/c/domain.tf\">domain</a><br><a target=\"_blank\" href=\"https://etcbc.github.io/bhsa/features/freq_lex\" title=\"C:\\Users\\ittai_n0vs94x/text-fabric-data/etcbc/bhsa/tf/c/freq_lex.tf\">freq_lex</a><br><a target=\"_blank\" href=\"https://etcbc.github.io/bhsa/features/function\" title=\"C:\\Users\\ittai_n0vs94x/text-fabric-data/etcbc/bhsa/tf/c/function.tf\">function</a><br><a target=\"_blank\" href=\"https://etcbc.github.io/bhsa/features/g_cons\" title=\"C:\\Users\\ittai_n0vs94x/text-fabric-data/etcbc/bhsa/tf/c/g_cons.tf\">g_cons</a><br><a target=\"_blank\" href=\"https://etcbc.github.io/bhsa/features/g_cons_utf8\" title=\"C:\\Users\\ittai_n0vs94x/text-fabric-data/etcbc/bhsa/tf/c/g_cons_utf8.tf\">g_cons_utf8</a><br><a target=\"_blank\" href=\"https://etcbc.github.io/bhsa/features/g_lex\" title=\"C:\\Users\\ittai_n0vs94x/text-fabric-data/etcbc/bhsa/tf/c/g_lex.tf\">g_lex</a><br><a target=\"_blank\" href=\"https://etcbc.github.io/bhsa/features/g_lex_utf8\" title=\"C:\\Users\\ittai_n0vs94x/text-fabric-data/etcbc/bhsa/tf/c/g_lex_utf8.tf\">g_lex_utf8</a><br><a target=\"_blank\" href=\"https://etcbc.github.io/bhsa/features/g_word\" title=\"C:\\Users\\ittai_n0vs94x/text-fabric-data/etcbc/bhsa/tf/c/g_word.tf\">g_word</a><br><a target=\"_blank\" href=\"https://etcbc.github.io/bhsa/features/g_word_utf8\" title=\"C:\\Users\\ittai_n0vs94x/text-fabric-data/etcbc/bhsa/tf/c/g_word_utf8.tf\">g_word_utf8</a><br><a target=\"_blank\" href=\"https://etcbc.github.io/bhsa/features/gloss\" title=\"C:\\Users\\ittai_n0vs94x/text-fabric-data/etcbc/bhsa/tf/c/gloss.tf\">gloss</a><br><a target=\"_blank\" href=\"https://etcbc.github.io/bhsa/features/gn\" title=\"C:\\Users\\ittai_n0vs94x/text-fabric-data/etcbc/bhsa/tf/c/gn.tf\">gn</a><br><a target=\"_blank\" href=\"https://etcbc.github.io/bhsa/features/label\" title=\"C:\\Users\\ittai_n0vs94x/text-fabric-data/etcbc/bhsa/tf/c/label.tf\">label</a><br><a target=\"_blank\" href=\"https://etcbc.github.io/bhsa/features/language\" title=\"C:\\Users\\ittai_n0vs94x/text-fabric-data/etcbc/bhsa/tf/c/language.tf\">language</a><br><a target=\"_blank\" href=\"https://etcbc.github.io/bhsa/features/lex\" title=\"C:\\Users\\ittai_n0vs94x/text-fabric-data/etcbc/bhsa/tf/c/lex.tf\">lex</a><br><a target=\"_blank\" href=\"https://etcbc.github.io/bhsa/features/lex_utf8\" title=\"C:\\Users\\ittai_n0vs94x/text-fabric-data/etcbc/bhsa/tf/c/lex_utf8.tf\">lex_utf8</a><br><a target=\"_blank\" href=\"https://etcbc.github.io/bhsa/features/ls\" title=\"C:\\Users\\ittai_n0vs94x/text-fabric-data/etcbc/bhsa/tf/c/ls.tf\">ls</a><br><a target=\"_blank\" href=\"https://etcbc.github.io/bhsa/features/nametype\" title=\"C:\\Users\\ittai_n0vs94x/text-fabric-data/etcbc/bhsa/tf/c/nametype.tf\">nametype</a><br><a target=\"_blank\" href=\"https://etcbc.github.io/bhsa/features/nme\" title=\"C:\\Users\\ittai_n0vs94x/text-fabric-data/etcbc/bhsa/tf/c/nme.tf\">nme</a><br><a target=\"_blank\" href=\"https://etcbc.github.io/bhsa/features/nu\" title=\"C:\\Users\\ittai_n0vs94x/text-fabric-data/etcbc/bhsa/tf/c/nu.tf\">nu</a><br><a target=\"_blank\" href=\"https://etcbc.github.io/bhsa/features/number\" title=\"C:\\Users\\ittai_n0vs94x/text-fabric-data/etcbc/bhsa/tf/c/number.tf\">number</a><br><a target=\"_blank\" href=\"https://etcbc.github.io/bhsa/features/otype\" title=\"C:\\Users\\ittai_n0vs94x/text-fabric-data/etcbc/bhsa/tf/c/otype.tf\">otype</a><br><a target=\"_blank\" href=\"https://etcbc.github.io/bhsa/features/pargr\" title=\"C:\\Users\\ittai_n0vs94x/text-fabric-data/etcbc/bhsa/tf/c/pargr.tf\">pargr</a><br><a target=\"_blank\" href=\"https://etcbc.github.io/bhsa/features/pdp\" title=\"C:\\Users\\ittai_n0vs94x/text-fabric-data/etcbc/bhsa/tf/c/pdp.tf\">pdp</a><br><a target=\"_blank\" href=\"https://etcbc.github.io/bhsa/features/pfm\" title=\"C:\\Users\\ittai_n0vs94x/text-fabric-data/etcbc/bhsa/tf/c/pfm.tf\">pfm</a><br><a target=\"_blank\" href=\"https://etcbc.github.io/bhsa/features/prs\" title=\"C:\\Users\\ittai_n0vs94x/text-fabric-data/etcbc/bhsa/tf/c/prs.tf\">prs</a><br><a target=\"_blank\" href=\"https://etcbc.github.io/bhsa/features/prs_gn\" title=\"C:\\Users\\ittai_n0vs94x/text-fabric-data/etcbc/bhsa/tf/c/prs_gn.tf\">prs_gn</a><br><a target=\"_blank\" href=\"https://etcbc.github.io/bhsa/features/prs_nu\" title=\"C:\\Users\\ittai_n0vs94x/text-fabric-data/etcbc/bhsa/tf/c/prs_nu.tf\">prs_nu</a><br><a target=\"_blank\" href=\"https://etcbc.github.io/bhsa/features/prs_ps\" title=\"C:\\Users\\ittai_n0vs94x/text-fabric-data/etcbc/bhsa/tf/c/prs_ps.tf\">prs_ps</a><br><a target=\"_blank\" href=\"https://etcbc.github.io/bhsa/features/ps\" title=\"C:\\Users\\ittai_n0vs94x/text-fabric-data/etcbc/bhsa/tf/c/ps.tf\">ps</a><br><a target=\"_blank\" href=\"https://etcbc.github.io/bhsa/features/qere\" title=\"C:\\Users\\ittai_n0vs94x/text-fabric-data/etcbc/bhsa/tf/c/qere.tf\">qere</a><br><a target=\"_blank\" href=\"https://etcbc.github.io/bhsa/features/qere_trailer\" title=\"C:\\Users\\ittai_n0vs94x/text-fabric-data/etcbc/bhsa/tf/c/qere_trailer.tf\">qere_trailer</a><br><a target=\"_blank\" href=\"https://etcbc.github.io/bhsa/features/qere_trailer_utf8\" title=\"C:\\Users\\ittai_n0vs94x/text-fabric-data/etcbc/bhsa/tf/c/qere_trailer_utf8.tf\">qere_trailer_utf8</a><br><a target=\"_blank\" href=\"https://etcbc.github.io/bhsa/features/qere_utf8\" title=\"C:\\Users\\ittai_n0vs94x/text-fabric-data/etcbc/bhsa/tf/c/qere_utf8.tf\">qere_utf8</a><br><a target=\"_blank\" href=\"https://etcbc.github.io/bhsa/features/rank_lex\" title=\"C:\\Users\\ittai_n0vs94x/text-fabric-data/etcbc/bhsa/tf/c/rank_lex.tf\">rank_lex</a><br><a target=\"_blank\" href=\"https://etcbc.github.io/bhsa/features/rela\" title=\"C:\\Users\\ittai_n0vs94x/text-fabric-data/etcbc/bhsa/tf/c/rela.tf\">rela</a><br><a target=\"_blank\" href=\"https://etcbc.github.io/bhsa/features/sp\" title=\"C:\\Users\\ittai_n0vs94x/text-fabric-data/etcbc/bhsa/tf/c/sp.tf\">sp</a><br><a target=\"_blank\" href=\"https://etcbc.github.io/bhsa/features/st\" title=\"C:\\Users\\ittai_n0vs94x/text-fabric-data/etcbc/bhsa/tf/c/st.tf\">st</a><br><a target=\"_blank\" href=\"https://etcbc.github.io/bhsa/features/tab\" title=\"C:\\Users\\ittai_n0vs94x/text-fabric-data/etcbc/bhsa/tf/c/tab.tf\">tab</a><br><a target=\"_blank\" href=\"https://etcbc.github.io/bhsa/features/trailer\" title=\"C:\\Users\\ittai_n0vs94x/text-fabric-data/etcbc/bhsa/tf/c/trailer.tf\">trailer</a><br><a target=\"_blank\" href=\"https://etcbc.github.io/bhsa/features/trailer_utf8\" title=\"C:\\Users\\ittai_n0vs94x/text-fabric-data/etcbc/bhsa/tf/c/trailer_utf8.tf\">trailer_utf8</a><br><a target=\"_blank\" href=\"https://etcbc.github.io/bhsa/features/txt\" title=\"C:\\Users\\ittai_n0vs94x/text-fabric-data/etcbc/bhsa/tf/c/txt.tf\">txt</a><br><a target=\"_blank\" href=\"https://etcbc.github.io/bhsa/features/typ\" title=\"C:\\Users\\ittai_n0vs94x/text-fabric-data/etcbc/bhsa/tf/c/typ.tf\">typ</a><br><a target=\"_blank\" href=\"https://etcbc.github.io/bhsa/features/uvf\" title=\"C:\\Users\\ittai_n0vs94x/text-fabric-data/etcbc/bhsa/tf/c/uvf.tf\">uvf</a><br><a target=\"_blank\" href=\"https://etcbc.github.io/bhsa/features/vbe\" title=\"C:\\Users\\ittai_n0vs94x/text-fabric-data/etcbc/bhsa/tf/c/vbe.tf\">vbe</a><br><a target=\"_blank\" href=\"https://etcbc.github.io/bhsa/features/vbs\" title=\"C:\\Users\\ittai_n0vs94x/text-fabric-data/etcbc/bhsa/tf/c/vbs.tf\">vbs</a><br><a target=\"_blank\" href=\"https://etcbc.github.io/bhsa/features/verse\" title=\"C:\\Users\\ittai_n0vs94x/text-fabric-data/etcbc/bhsa/tf/c/verse.tf\">verse</a><br><a target=\"_blank\" href=\"https://etcbc.github.io/bhsa/features/voc_lex\" title=\"C:\\Users\\ittai_n0vs94x/text-fabric-data/etcbc/bhsa/tf/c/voc_lex.tf\">voc_lex</a><br><a target=\"_blank\" href=\"https://etcbc.github.io/bhsa/features/voc_lex_utf8\" title=\"C:\\Users\\ittai_n0vs94x/text-fabric-data/etcbc/bhsa/tf/c/voc_lex_utf8.tf\">voc_lex_utf8</a><br><a target=\"_blank\" href=\"https://etcbc.github.io/bhsa/features/vs\" title=\"C:\\Users\\ittai_n0vs94x/text-fabric-data/etcbc/bhsa/tf/c/vs.tf\">vs</a><br><a target=\"_blank\" href=\"https://etcbc.github.io/bhsa/features/vt\" title=\"C:\\Users\\ittai_n0vs94x/text-fabric-data/etcbc/bhsa/tf/c/vt.tf\">vt</a><br><b><i><a target=\"_blank\" href=\"https://etcbc.github.io/bhsa/features/mother\" title=\"C:\\Users\\ittai_n0vs94x/text-fabric-data/etcbc/bhsa/tf/c/mother.tf\">mother</a></i></b><br><b><i><a target=\"_blank\" href=\"https://etcbc.github.io/bhsa/features/oslots\" title=\"C:\\Users\\ittai_n0vs94x/text-fabric-data/etcbc/bhsa/tf/c/oslots.tf\">oslots</a></i></b><br></details><details><summary><b>Phonetic Transcriptions</b></summary><a target=\"_blank\" href=\"https://nbviewer.jupyter.org/github/etcbc/phono/blob/master/programs/phono.ipynb\" title=\"C:\\Users\\ittai_n0vs94x/text-fabric-data/etcbc/phono/tf/c/phono.tf\">phono</a><br><a target=\"_blank\" href=\"https://nbviewer.jupyter.org/github/etcbc/phono/blob/master/programs/phono.ipynb\" title=\"C:\\Users\\ittai_n0vs94x/text-fabric-data/etcbc/phono/tf/c/phono_trailer.tf\">phono_trailer</a><br></details>"
                        ]
                    },
                    "metadata": {}
                },
                {
                    "output_type": "display_data",
                    "data": {
                        "text/plain": [
                            "<IPython.core.display.HTML object>"
                        ],
                        "text/html": [
                            "<style>tr.tf.ltr, td.tf.ltr, th.tf.ltr { text-align: left ! important;}\n",
                            "tr.tf.rtl, td.tf.rtl, th.tf.rtl { text-align: right ! important;}\n",
                            "@font-face {\n",
                            "  font-family: \"Gentium Plus\";\n",
                            "  src: local('Gentium Plus'), local('GentiumPlus'),\n",
                            "    url('/server/static/fonts/GentiumPlus-R.woff') format('woff'),\n",
                            "    url('https://github.com/annotation/text-fabric/blob/master/tf/server/static/fonts/GentiumPlus-R.woff?raw=true') format('woff');\n",
                            "}\n",
                            "\n",
                            "@font-face {\n",
                            "  font-family: \"Ezra SIL\";\n",
                            "  src: local('Ezra SIL'), local('EzraSIL'),\n",
                            "    url('/server/static/fonts/SILEOT.woff') format('woff'),\n",
                            "    url('https://github.com/annotation/text-fabric/blob/master/tf/server/static/fonts/SILEOT.woff?raw=true') format('woff');\n",
                            "}\n",
                            "\n",
                            "@font-face {\n",
                            "  font-family: \"SBL Hebrew\";\n",
                            "  src: local('SBL Hebrew'), local('SBLHebrew'),\n",
                            "    url('/server/static/fonts/SBL_Hbrw.woff') format('woff'),\n",
                            "    url('https://github.com/annotation/text-fabric/blob/master/tf/server/static/fonts/SBL_Hbrw.woff?raw=true') format('woff');\n",
                            "}\n",
                            "\n",
                            "@font-face {\n",
                            "  font-family: \"Estrangelo Edessa\";\n",
                            "  src: local('Estrangelo Edessa'), local('EstrangeloEdessa');\n",
                            "    url('/server/static/fonts/SyrCOMEdessa.woff') format('woff'),\n",
                            "    url('https://github.com/annotation/text-fabric/blob/master/tf/server/static/fonts/SyrCOMEdessa.woff?raw=true') format('woff');\n",
                            "}\n",
                            "\n",
                            "@font-face {\n",
                            "  font-family: AmiriQuran;\n",
                            "  font-style: normal;\n",
                            "  font-weight: 400;\n",
                            "  src: local('Amiri Quran'), local('AmiriQuran'),\n",
                            "    url('/server/static/fonts/AmiriQuran.woff') format('woff'),\n",
                            "    url('https://github.com/annotation/text-fabric/blob/master/tf/server/static/fonts/AmiriQuran.woff?raw=true') format('woff');\n",
                            "}\n",
                            "\n",
                            "@font-face {\n",
                            "  font-family: AmiriQuranColored;\n",
                            "  font-style: normal;\n",
                            "  font-weight: 400;\n",
                            "  src: local('Amiri Quran Colored'), local('AmiriQuranColored'),\n",
                            "    url('/server/static/fonts/AmiriQuranColored.woff') format('woff'),\n",
                            "    url('https://github.com/annotation/text-fabric/blob/master/tf/server/static/fonts/AmiriQuranColored.woff?raw=true') format('woff');\n",
                            "}\n",
                            "\n",
                            "@font-face {\n",
                            "  font-family: \"Santakku\";\n",
                            "  src: local('Santakku'),\n",
                            "    url('/server/static/fonts/Santakku.woff') format('woff'),\n",
                            "    url('https://github.com/annotation/text-fabric/blob/master/tf/server/static/fonts/Santakku.woff?raw=true') format('woff');\n",
                            "}\n",
                            "\n",
                            "@font-face {\n",
                            "  font-family: \"SantakkuM\";\n",
                            "  src: local('SantakkuM'),\n",
                            "    url('/server/static/fonts/SantakkuM.woff') format('woff'),\n",
                            "    url('https://github.com/annotation/text-fabric/blob/master/tf/server/static/fonts/SantakkuM.woff?raw=true') format('woff');\n",
                            "}\n",
                            "/* bypassing some classical notebook settings */\n",
                            "div#notebook {\n",
                            "  line-height: unset;\n",
                            "}\n",
                            "/* neutral text */\n",
                            ".txtn,.txtn a:visited,.txtn a:link {\n",
                            "    font-family: sans-serif;\n",
                            "    font-size: medium;\n",
                            "    direction: ltr;\n",
                            "    unicode-bidi: embed;\n",
                            "    text-decoration: none;\n",
                            "    color: var(--text-color);\n",
                            "}\n",
                            "/* transcription text */\n",
                            ".txtt,.txtt a:visited,.txtt a:link {\n",
                            "    font-family: monospace;\n",
                            "    font-size: medium;\n",
                            "    direction: ltr;\n",
                            "    unicode-bidi: embed;\n",
                            "    text-decoration: none;\n",
                            "    color: var(--text-color);\n",
                            "}\n",
                            "/* source text */\n",
                            ".txto,.txto a:visited,.txto a:link {\n",
                            "    font-family: serif;\n",
                            "    font-size: medium;\n",
                            "    direction: ltr;\n",
                            "    unicode-bidi: embed;\n",
                            "    text-decoration: none;\n",
                            "    color: var(--text-color);\n",
                            "}\n",
                            "/* phonetic text */\n",
                            ".txtp,.txtp a:visited,.txtp a:link {\n",
                            "    font-family: Gentium, sans-serif;\n",
                            "    font-size: medium;\n",
                            "    direction: ltr;\n",
                            "    unicode-bidi: embed;\n",
                            "    text-decoration: none;\n",
                            "    color: var(--text-color);\n",
                            "}\n",
                            "/* original script text */\n",
                            ".txtu,.txtu a:visited,.txtu a:link {\n",
                            "    font-family: Gentium, sans-serif;\n",
                            "    font-size: medium;\n",
                            "    text-decoration: none;\n",
                            "    color: var(--text-color);\n",
                            "}\n",
                            "/* hebrew */\n",
                            ".txtu.hbo,.lex.hbo {\n",
                            "    font-family: \"Ezra SIL\", \"SBL Hebrew\", sans-serif;\n",
                            "    font-size: large;\n",
                            "    direction: rtl ! important;\n",
                            "    unicode-bidi: embed;\n",
                            "}\n",
                            "/* syriac */\n",
                            ".txtu.syc,.lex.syc {\n",
                            "    font-family: \"Estrangelo Edessa\", sans-serif;\n",
                            "    font-size: medium;\n",
                            "    direction: rtl ! important;\n",
                            "    unicode-bidi: embed;\n",
                            "}\n",
                            "/* neo aramaic */\n",
                            ".txtu.cld,.lex.cld {\n",
                            "    font-family: \"CharisSIL-R\", sans-serif;\n",
                            "    font-size: medium;\n",
                            "    direction: ltr ! important;\n",
                            "    unicode-bidi: embed;\n",
                            "}\n",
                            "/* standard arabic */\n",
                            ".txtu.ara,.lex.ara {\n",
                            "    font-family: \"AmiriQuran\", sans-serif;\n",
                            "    font-size: large;\n",
                            "    direction: rtl ! important;\n",
                            "    unicode-bidi: embed;\n",
                            "}\n",
                            "/* cuneiform */\n",
                            ".txtu.akk,.lex.akk {\n",
                            "    font-family: Santakku, sans-serif;\n",
                            "    font-size: large;\n",
                            "    direction: ltr ! important;\n",
                            "    unicode-bidi: embed;\n",
                            "}\n",
                            "/* greek */\n",
                            ".txtu.grc,.lex.grc a:link {\n",
                            "    font-family: Gentium, sans-serif;\n",
                            "    font-size: medium;\n",
                            "    direction: ltr ! important;\n",
                            "    unicode-bidi: embed;\n",
                            "}\n",
                            "a:hover {\n",
                            "    text-decoration: underline | important;\n",
                            "    color: #0000ff | important;\n",
                            "}\n",
                            ".ltr {\n",
                            "    direction: ltr ! important;\n",
                            "    unicode-bidi: embed;\n",
                            "}\n",
                            ".rtl {\n",
                            "    direction: rtl ! important;\n",
                            "    unicode-bidi: embed;\n",
                            "}\n",
                            ".ubd {\n",
                            "    unicode-bidi: embed;\n",
                            "}\n",
                            ".col {\n",
                            "   display: inline-block;\n",
                            "}\n",
                            ".features {\n",
                            "    font-family: monospace;\n",
                            "    font-size: medium;\n",
                            "    font-weight: bold;\n",
                            "    color: var(--features);\n",
                            "    display: flex;\n",
                            "    flex-flow: column nowrap;\n",
                            "    justify-content: flex-start;\n",
                            "    align-items: flex-start;\n",
                            "    align-content: flex-start;\n",
                            "    padding: 2px;\n",
                            "    margin: 2px;\n",
                            "    direction: ltr;\n",
                            "    unicode-bidi: embed;\n",
                            "    border: var(--meta-width) solid var(--meta-color);\n",
                            "    border-radius: var(--meta-width);\n",
                            "}\n",
                            ".features div,.features span {\n",
                            "    padding: 0;\n",
                            "    margin: -2px 0;\n",
                            "}\n",
                            ".features .f {\n",
                            "    font-family: sans-serif;\n",
                            "    font-size: small;\n",
                            "    font-weight: normal;\n",
                            "    color: #5555bb;\n",
                            "}\n",
                            ".features .xft {\n",
                            "  color: #000000;\n",
                            "  background-color: #eeeeee;\n",
                            "  font-size: medium;\n",
                            "  margin: 2px 0px;\n",
                            "}\n",
                            ".features .xft .f {\n",
                            "  color: #000000;\n",
                            "  background-color: #eeeeee;\n",
                            "  font-size: small;\n",
                            "  font-weight: normal;\n",
                            "}\n",
                            ".tfsechead {\n",
                            "    font-family: sans-serif;\n",
                            "    font-size: small;\n",
                            "    font-weight: bold;\n",
                            "    color: var(--tfsechead);\n",
                            "    unicode-bidi: embed;\n",
                            "    text-align: start;\n",
                            "}\n",
                            ".structure {\n",
                            "    font-family: sans-serif;\n",
                            "    font-size: small;\n",
                            "    font-weight: bold;\n",
                            "    color: var(--structure);\n",
                            "    unicode-bidi: embed;\n",
                            "    text-align: start;\n",
                            "}\n",
                            ".comments {\n",
                            "    display: flex;\n",
                            "    justify-content: flex-start;\n",
                            "    align-items: flex-start;\n",
                            "    align-content: flex-start;\n",
                            "    flex-flow: column nowrap;\n",
                            "}\n",
                            ".nd, a:link.nd {\n",
                            "    font-family: sans-serif;\n",
                            "    font-size: small;\n",
                            "    color: var(--node);\n",
                            "    vertical-align: super;\n",
                            "    direction: ltr ! important;\n",
                            "    unicode-bidi: embed;\n",
                            "}\n",
                            ".lex {\n",
                            "  color: var(--lex-color);;\n",
                            "}\n",
                            ".children,.children.ltr {\n",
                            "    display: flex;\n",
                            "    border: 0;\n",
                            "    background-color: #ffffff;\n",
                            "    justify-content: flex-start;\n",
                            "    align-items: flex-start;\n",
                            "    align-content: flex-start;\n",
                            "}\n",
                            ".children.stretch {\n",
                            "    align-items: stretch;\n",
                            "}\n",
                            ".children.hor {\n",
                            "    flex-flow: row nowrap;\n",
                            "}\n",
                            ".children.hor.wrap {\n",
                            "    flex-flow: row wrap;\n",
                            "}\n",
                            ".children.ver {\n",
                            "    flex-flow: column nowrap;\n",
                            "}\n",
                            ".children.ver.wrap {\n",
                            "    flex-flow: column wrap;\n",
                            "}\n",
                            ".contnr {\n",
                            "    width: fit-content;\n",
                            "    display: flex;\n",
                            "    justify-content: flex-start;\n",
                            "    align-items: flex-start;\n",
                            "    align-content: flex-start;\n",
                            "    flex-flow: column nowrap;\n",
                            "    background: #ffffff none repeat scroll 0 0;\n",
                            "    padding:  10px 2px 2px 2px;\n",
                            "    margin: 16px 2px 2px 2px;\n",
                            "    border-style: solid;\n",
                            "    font-size: small;\n",
                            "}\n",
                            ".contnr.trm {\n",
                            "    background-attachment: local;\n",
                            "}\n",
                            ".contnr.cnul {\n",
                            "    padding:  0;\n",
                            "    margin: 0;\n",
                            "    border-style: solid;\n",
                            "    font-size: xx-small;\n",
                            "}\n",
                            ".contnr.cnul,.lbl.cnul {\n",
                            "    border-color: var(--border-color-nul);\n",
                            "    border-width: var(--border-width-nul);\n",
                            "    border-radius: var(--border-width-nul);\n",
                            "}\n",
                            ".contnr.c0,.lbl.c0 {\n",
                            "    border-color: var(--border-color0);\n",
                            "    border-width: var(--border-width0);\n",
                            "    border-radius: var(--border-width0);\n",
                            "}\n",
                            ".contnr.c1,.lbl.c1 {\n",
                            "    border-color: var(--border-color1);\n",
                            "    border-width: var(--border-width1);\n",
                            "    border-radius: var(--border-width1);\n",
                            "}\n",
                            ".contnr.c2,.lbl.c2 {\n",
                            "    border-color: var(--border-color2);\n",
                            "    border-width: var(--border-width2);\n",
                            "    border-radius: var(--border-width2);\n",
                            "}\n",
                            ".contnr.c3,.lbl.c3 {\n",
                            "    border-color: var(--border-color3);\n",
                            "    border-width: var(--border-width3);\n",
                            "    border-radius: var(--border-width3);\n",
                            "}\n",
                            ".contnr.c4,.lbl.c4 {\n",
                            "    border-color: var(--border-color4);\n",
                            "    border-width: var(--border-width4);\n",
                            "    border-radius: var(--border-width4);\n",
                            "}\n",
                            "span.plain {\n",
                            "    display: inline-block;\n",
                            "    white-space: pre-wrap;\n",
                            "}\n",
                            ".plain {\n",
                            "    background-color: #ffffff;\n",
                            "}\n",
                            ".plain.l,.contnr.l,.contnr.l>.lbl {\n",
                            "    border-left-style: dotted\n",
                            "}\n",
                            ".plain.r,.contnr.r,.contnr.r>.lbl {\n",
                            "    border-right-style: dotted\n",
                            "}\n",
                            ".plain.lno,.contnr.lno,.contnr.lno>.lbl {\n",
                            "    border-left-style: none\n",
                            "}\n",
                            ".plain.rno,.contnr.rno,.contnr.rno>.lbl {\n",
                            "    border-right-style: none\n",
                            "}\n",
                            ".plain.l {\n",
                            "    padding-left: 4px;\n",
                            "    margin-left: 2px;\n",
                            "    border-width: var(--border-width-plain);\n",
                            "}\n",
                            ".plain.r {\n",
                            "    padding-right: 4px;\n",
                            "    margin-right: 2px;\n",
                            "    border-width: var(--border-width-plain);\n",
                            "}\n",
                            ".lbl {\n",
                            "    font-family: monospace;\n",
                            "    margin-top: -24px;\n",
                            "    margin-left: 20px;\n",
                            "    background: #ffffff none repeat scroll 0 0;\n",
                            "    padding: 0 6px;\n",
                            "    border-style: solid;\n",
                            "    display: block;\n",
                            "    color: var(--label)\n",
                            "}\n",
                            ".lbl.trm {\n",
                            "    background-attachment: local;\n",
                            "    margin-top: 2px;\n",
                            "    margin-left: 2px;\n",
                            "    padding: 2px 2px;\n",
                            "    border-style: none;\n",
                            "}\n",
                            ".lbl.cnul {\n",
                            "    font-size: xx-small;\n",
                            "}\n",
                            ".lbl.c0 {\n",
                            "    font-size: small;\n",
                            "}\n",
                            ".lbl.c1 {\n",
                            "    font-size: small;\n",
                            "}\n",
                            ".lbl.c2 {\n",
                            "    font-size: medium;\n",
                            "}\n",
                            ".lbl.c3 {\n",
                            "    font-size: medium;\n",
                            "}\n",
                            ".lbl.c4 {\n",
                            "    font-size: large;\n",
                            "}\n",
                            ".occs, a:link.occs {\n",
                            "    font-size: small;\n",
                            "}\n",
                            "\n",
                            "/* PROVENANCE */\n",
                            "\n",
                            "div.prov {\n",
                            "\tmargin: 40px;\n",
                            "\tpadding: 20px;\n",
                            "\tborder: 2px solid var(--fog-rim);\n",
                            "}\n",
                            "div.pline {\n",
                            "\tdisplay: flex;\n",
                            "\tflex-flow: row nowrap;\n",
                            "\tjustify-content: stretch;\n",
                            "\talign-items: baseline;\n",
                            "}\n",
                            "div.p2line {\n",
                            "\tmargin-left: 2em;\n",
                            "\tdisplay: flex;\n",
                            "\tflex-flow: row nowrap;\n",
                            "\tjustify-content: stretch;\n",
                            "\talign-items: baseline;\n",
                            "}\n",
                            "div.psline {\n",
                            "\tdisplay: flex;\n",
                            "\tflex-flow: row nowrap;\n",
                            "\tjustify-content: stretch;\n",
                            "\talign-items: baseline;\n",
                            "\tbackground-color: var(--gold-mist-back);\n",
                            "}\n",
                            "div.pname {\n",
                            "\tflex: 0 0 5rem;\n",
                            "\tfont-weight: bold;\n",
                            "}\n",
                            "div.pval {\n",
                            "    flex: 1 1 auto;\n",
                            "}\n",
                            "\n",
                            ":root {\n",
                            "\t--node:               hsla(120, 100%,  20%, 1.0  );\n",
                            "\t--label:              hsla(  0, 100%,  20%, 1.0  );\n",
                            "\t--tfsechead:          hsla(  0, 100%,  25%, 1.0  );\n",
                            "\t--structure:          hsla(120, 100%,  25%, 1.0  );\n",
                            "\t--features:           hsla(  0,   0%,  30%, 1.0  );\n",
                            "  --text-color:         hsla( 60,  80%,  10%, 1.0  );\n",
                            "  --lex-color:          hsla(220,  90%,  60%, 1.0  );\n",
                            "  --meta-color:         hsla(  0,   0%,  90%, 0.7  );\n",
                            "  --meta-width:         3px;\n",
                            "  --border-color-nul:   hsla(  0,   0%,  90%, 0.5  );\n",
                            "  --border-color0:      hsla(  0,   0%,  90%, 0.9  );\n",
                            "  --border-color1:      hsla(  0,   0%,  80%, 0.9  );\n",
                            "  --border-color2:      hsla(  0,   0%,  70%, 0.9  );\n",
                            "  --border-color3:      hsla(  0,   0%,  80%, 0.8  );\n",
                            "  --border-color4:      hsla(  0,   0%,  60%, 0.9  );\n",
                            "  --border-width-nul:   2px;\n",
                            "  --border-width0:      2px;\n",
                            "  --border-width1:      3px;\n",
                            "  --border-width2:      4px;\n",
                            "  --border-width3:      6px;\n",
                            "  --border-width4:      5px;\n",
                            "  --border-width-plain: 2px;\n",
                            "}\n",
                            ".hl {\n",
                            "  background-color: var(--hl-strong);\n",
                            "}\n",
                            "span.hl {\n",
                            "\tbackground-color: var(--hl-strong);\n",
                            "\tborder-width: 0;\n",
                            "\tborder-radius: 2px;\n",
                            "\tborder-style: solid;\n",
                            "}\n",
                            "div.contnr.hl,div.lbl.hl {\n",
                            "  background-color: var(--hl-strong);\n",
                            "}\n",
                            "div.contnr.hl {\n",
                            "  border-color: var(--hl-rim) ! important;\n",
                            "\tborder-width: 4px ! important;\n",
                            "}\n",
                            "\n",
                            "span.hlbx {\n",
                            "\tborder-color: var(--hl-rim);\n",
                            "\tborder-width: 4px ! important;\n",
                            "\tborder-style: solid;\n",
                            "\tborder-radius: 6px;\n",
                            "  padding: 4px;\n",
                            "  margin: 4px;\n",
                            "}\n",
                            "\n",
                            "span.plain {\n",
                            "  display: inline-block;\n",
                            "  white-space: pre-wrap;\n",
                            "}\n",
                            "\n",
                            ":root {\n",
                            "\t--hl-strong:        hsla( 60, 100%,  70%, 0.9  );\n",
                            "\t--hl-rim:           hsla( 55,  80%,  50%, 1.0  );\n",
                            "}\n",
                            "</style>"
                        ]
                    },
                    "metadata": {}
                }
            ],
            "metadata": {}
        },
        {
            "cell_type": "markdown",
            "source": [
                "Out of curiosity, what members does `A` have?\r\n",
                "\r\n",
                "Ok, a lot apparently..."
            ],
            "metadata": {}
        },
        {
            "cell_type": "code",
            "execution_count": 23,
            "source": [
                "for attr in dir(A):\r\n",
                "    if attr[0:1] != \"_\":\r\n",
                "        print(attr)"
            ],
            "outputs": [
                {
                    "output_type": "stream",
                    "name": "stdout",
                    "text": [
                        "TF\n",
                        "api\n",
                        "appLink\n",
                        "appName\n",
                        "banner\n",
                        "charLink\n",
                        "collect\n",
                        "collection\n",
                        "collectionInfo\n",
                        "context\n",
                        "curDir\n",
                        "customMethods\n",
                        "dataLink\n",
                        "dh\n",
                        "display\n",
                        "displayReset\n",
                        "displaySetup\n",
                        "displayShow\n",
                        "dm\n",
                        "error\n",
                        "export\n",
                        "extract\n",
                        "featureLink\n",
                        "getCss\n",
                        "getLexId\n",
                        "getText\n",
                        "header\n",
                        "homeDir\n",
                        "indent\n",
                        "info\n",
                        "isCompatible\n",
                        "isLoaded\n",
                        "isSilent\n",
                        "loadCss\n",
                        "mLocations\n",
                        "nodeFromSectionStr\n",
                        "parentDir\n",
                        "plain\n",
                        "plainTuple\n",
                        "pretty\n",
                        "prettyTuple\n",
                        "provenance\n",
                        "reinit\n",
                        "repoLocation\n",
                        "reuse\n",
                        "search\n",
                        "sectionStrFromNode\n",
                        "setSilent\n",
                        "sets\n",
                        "show\n",
                        "showContext\n",
                        "showProvenance\n",
                        "silent\n",
                        "silentOff\n",
                        "silentOn\n",
                        "specs\n",
                        "structureStrFromNode\n",
                        "table\n",
                        "tempDir\n",
                        "tfLink\n",
                        "tfsLink\n",
                        "tutLink\n",
                        "unravel\n",
                        "version\n",
                        "volume\n",
                        "volumeInfo\n",
                        "warning\n",
                        "webLink\n"
                    ]
                }
            ],
            "metadata": {}
        },
        {
            "cell_type": "markdown",
            "source": [
                "# Searching\r\n",
                "Apparently for searching there's the `search` method\r\n",
                "(cf. https://annotation.github.io/text-fabric/tf/cheatsheet.html#search-high-level)"
            ],
            "metadata": {}
        },
        {
            "cell_type": "code",
            "execution_count": 24,
            "source": [
                "A.search('''\r\n",
                "book name=Genesis|Exodus\r\n",
                "   chapter number=2\r\n",
                "      sentence\r\n",
                "        word pos=verb gender=feminine number=plural\r\n",
                "        word pos=noun gender=feminine number=singular\r\n",
                "''')"
            ],
            "outputs": [
                {
                    "output_type": "stream",
                    "name": "stderr",
                    "text": [
                        " 0 \n",
                        " 1 book name=Genesis|Exodus\n",
                        " 2    chapter number=2\n",
                        " 3       sentence\n",
                        " 4         word pos=verb gender=feminine number=plural\n",
                        " 5         word pos=noun gender=feminine number=singular\n",
                        " 6 \n",
                        "Missing feature \"gender\" in line(s) 4, 5\n",
                        "Missing feature \"name\" in line(s) 1\n",
                        "Missing feature \"pos\" in line(s) 4, 5\n",
                        "Feature \"number\" has wrong values:\n",
                        "    \"plural\" is not a number: line(s) 4\n",
                        "    \"singular\" is not a number: line(s) 5\n"
                    ]
                },
                {
                    "output_type": "stream",
                    "name": "stdout",
                    "text": [
                        "  0.00s Cannot load feature \"gender\": not in dataset\n",
                        "  0.00s Cannot load feature \"name\": not in dataset\n",
                        "  0.01s Cannot load feature \"pos\": not in dataset\n",
                        "  0.01s 0 results\n"
                    ]
                },
                {
                    "output_type": "execute_result",
                    "data": {
                        "text/plain": [
                            "[]"
                        ]
                    },
                    "metadata": {},
                    "execution_count": 24
                }
            ],
            "metadata": {}
        },
        {
            "cell_type": "markdown",
            "source": [
                "So the syntax of that search was evidently ok, but the features are not recognized.\r\n",
                "\r\n",
                "The search example was taken from https://annotation.github.io/text-fabric/tf/about/searchusage.html.\r\n",
                "\r\n",
                "But for mysterious reasons the BHSA data set seems to use different feature names.\r\n",
                "\r\n",
                "The following replacements are based on the file names in the file directory \"C:\\Users\\[user name]\\text-fabric-data\\etcbc\\bhsa\\tf\\c\".\r\n",
                "\r\n",
                "**Note**: It turns out all features are also listed and explained here: https://etcbc.github.io/bhsa/ \r\n",
                "(left column > Features > ...)"
            ],
            "metadata": {}
        },
        {
            "cell_type": "code",
            "execution_count": 25,
            "source": [
                "A.search('''\r\n",
                "book book=Genesis|Exodus\r\n",
                "   chapter chapter=2\r\n",
                "      sentence\r\n",
                "        word sp=verb gn=f nu=pl\r\n",
                "        word sp=subs gn=f nu=sg\r\n",
                "''')"
            ],
            "outputs": [
                {
                    "output_type": "stream",
                    "name": "stdout",
                    "text": [
                        "  0.86s 0 results\n"
                    ]
                },
                {
                    "output_type": "execute_result",
                    "data": {
                        "text/plain": [
                            "[]"
                        ]
                    },
                    "metadata": {},
                    "execution_count": 25
                }
            ],
            "metadata": {}
        },
        {
            "cell_type": "markdown",
            "source": [
                "So that seems to work but returns \"0 results\". What if we change the query slightly?"
            ],
            "metadata": {}
        },
        {
            "cell_type": "code",
            "execution_count": 26,
            "source": [
                "A.search('''\r\n",
                "book book=Genesis|Exodus\r\n",
                "   chapter chapter=2\r\n",
                "      sentence\r\n",
                "        word sp=verb gn=f nu=pl\r\n",
                "        word sp=subs gn=m nu=sg\r\n",
                "''')"
            ],
            "outputs": [
                {
                    "output_type": "stream",
                    "name": "stdout",
                    "text": [
                        "  1.06s 3 results\n"
                    ]
                },
                {
                    "output_type": "execute_result",
                    "data": {
                        "text/plain": [
                            "[(426586, 426675, 1177034, 29466, 29473),\n",
                            " (426586, 426675, 1177040, 29490, 29493),\n",
                            " (426586, 426675, 1177050, 29528, 29531)]"
                        ]
                    },
                    "metadata": {},
                    "execution_count": 26
                }
            ],
            "metadata": {}
        },
        {
            "cell_type": "markdown",
            "source": [
                "Progress! 3 results in some unreadable format.\r\n",
                "\r\n",
                "# Displaying results\r\n",
                "\r\n",
                "Presumably, that's what the `tf.advnaced.display` class is for. \r\n",
                "See https://annotation.github.io/text-fabric/tf/advanced/display.html#tf.advanced.display.plainTuple\r\n",
                "\r\n",
                "Calling the method `display.plainTuple` with a tuple copied from the results above:"
            ],
            "metadata": {}
        },
        {
            "cell_type": "code",
            "execution_count": 31,
            "source": [
                "from tf.advanced import display\r\n",
                "\r\n",
                "display.plainTuple(A, (426586, 426675, 1177034, 29466, 29473), 1)"
            ],
            "outputs": [
                {
                    "output_type": "stream",
                    "name": "stdout",
                    "text": [
                        "  1.09s 3 results\n"
                    ]
                },
                {
                    "output_type": "display_data",
                    "data": {
                        "text/plain": [
                            "<IPython.core.display.HTML object>"
                        ],
                        "text/html": [
                            "<table><tr class=\"tf rtl\"><th class=\"tf rtl\">n</th><th class=\"tf rtl\">p</th><th class=\"tf rtl\">book</th><th class=\"tf rtl\">chapter</th><th class=\"tf rtl\">sentence</th><th class=\"tf rtl\">word</th><th class=\"tf rtl\">word</th></tr><tr class=\"tf rtl\"><td class=\"tf rtl\">1</td><td class=\"tf rtl\"><span class=\"tfsechead ltr\"><a target=\"_blank\" href=\"https://shebanq.ancient-data.org/hebrew/text?book=Exodus&amp;chapter=2&amp;verse=16&amp;version=c&amp;mr=m&amp;qw=q&amp;tp=txt_p&amp;tr=hb&amp;wget=v&amp;qget=v&amp;nget=vt\" title=\"Show this on SHEBANQ\" sec=\"Exodus 2:16\">Exodus 2:16</a></span></td><td class=\"tf rtl\"><span class=\"rtl ubd\"><span class=\"txtu hbo rtl\"><span class=\"tfsechead\">Exodus</span></span></span></td><td class=\"tf rtl\"><span class=\"rtl ubd\"><span class=\"txtu hbo rtl\"><span class=\"tfsechead\">Exodus 2</span></span></span></td><td class=\"tf rtl\"><span class=\"rtl ubd\"><span class=\"plain rtl  hlbx\" ><span class=\"txtu hbo\">וַ</span><span class=\"plain rtl  hl\" ><span class=\"txtu hbo\">תְּמַלֶּ֨אנָה֙ </span></span><span class=\"txtu hbo\">אֶת־</span><span class=\"txtu hbo\">הָ֣</span><span class=\"txtu hbo\">רְהָטִ֔ים </span><span class=\"txtu hbo\">לְ</span><span class=\"txtu hbo\">הַשְׁקֹ֖ות </span><span class=\"txtu hbo\">צֹ֥אן </span><span class=\"plain rtl  hl\" ><span class=\"txtu hbo\">אֲבִיהֶֽן׃ </span></span></span></span></td><td class=\"tf rtl\"><span class=\"rtl ubd\"><span class=\"plain rtl  hl\" ><span class=\"txtu hbo\">תְּמַלֶּ֨אנָה֙ </span></span></span></td><td class=\"tf rtl\"><span class=\"rtl ubd\"><span class=\"plain rtl  hl\" ><span class=\"txtu hbo\">אֲבִיהֶֽן׃ </span></span></span></td></tr></table>"
                        ]
                    },
                    "metadata": {}
                }
            ],
            "metadata": {}
        },
        {
            "cell_type": "markdown",
            "source": [
                "There must be a better way of doing that but for now I'll count it as a success.\r\n",
                "\r\n",
                "Just keep swimming. Can you assign results to a variable?"
            ],
            "metadata": {}
        },
        {
            "cell_type": "code",
            "execution_count": 33,
            "source": [
                "results = A.search('''\r\n",
                "book book=Genesis|Exodus\r\n",
                "   chapter chapter=2\r\n",
                "      sentence\r\n",
                "        word sp=verb gn=f nu=pl\r\n",
                "        word sp=subs gn=m nu=sg\r\n",
                "''')\r\n",
                "\r\n",
                "print(type(results))"
            ],
            "outputs": [
                {
                    "output_type": "stream",
                    "name": "stdout",
                    "text": [
                        "  1.09s 3 results\n",
                        "<class 'list'>\n"
                    ]
                }
            ],
            "metadata": {}
        },
        {
            "cell_type": "markdown",
            "source": [
                "*YES!*\r\n",
                "\r\n",
                "With that in mind, let's try:"
            ],
            "metadata": {}
        },
        {
            "cell_type": "code",
            "execution_count": 36,
            "source": [
                "A.plainTuple(results[0], 1)"
            ],
            "outputs": [
                {
                    "output_type": "display_data",
                    "data": {
                        "text/plain": [
                            "<IPython.core.display.HTML object>"
                        ],
                        "text/html": [
                            "<table><tr class=\"tf rtl\"><th class=\"tf rtl\">n</th><th class=\"tf rtl\">p</th><th class=\"tf rtl\">book</th><th class=\"tf rtl\">chapter</th><th class=\"tf rtl\">sentence</th><th class=\"tf rtl\">word</th><th class=\"tf rtl\">word</th></tr><tr class=\"tf rtl\"><td class=\"tf rtl\">1</td><td class=\"tf rtl\"><span class=\"tfsechead ltr\"><a target=\"_blank\" href=\"https://shebanq.ancient-data.org/hebrew/text?book=Exodus&amp;chapter=2&amp;verse=16&amp;version=c&amp;mr=m&amp;qw=q&amp;tp=txt_p&amp;tr=hb&amp;wget=v&amp;qget=v&amp;nget=vt\" title=\"Show this on SHEBANQ\" sec=\"Exodus 2:16\">Exodus 2:16</a></span></td><td class=\"tf rtl\"><span class=\"rtl ubd\"><span class=\"txtu hbo rtl\"><span class=\"tfsechead\">Exodus</span></span></span></td><td class=\"tf rtl\"><span class=\"rtl ubd\"><span class=\"txtu hbo rtl\"><span class=\"tfsechead\">Exodus 2</span></span></span></td><td class=\"tf rtl\"><span class=\"rtl ubd\"><span class=\"plain rtl  hlbx\" ><span class=\"txtu hbo\">וַ</span><span class=\"plain rtl  hl\" ><span class=\"txtu hbo\">תְּמַלֶּ֨אנָה֙ </span></span><span class=\"txtu hbo\">אֶת־</span><span class=\"txtu hbo\">הָ֣</span><span class=\"txtu hbo\">רְהָטִ֔ים </span><span class=\"txtu hbo\">לְ</span><span class=\"txtu hbo\">הַשְׁקֹ֖ות </span><span class=\"txtu hbo\">צֹ֥אן </span><span class=\"plain rtl  hl\" ><span class=\"txtu hbo\">אֲבִיהֶֽן׃ </span></span></span></span></td><td class=\"tf rtl\"><span class=\"rtl ubd\"><span class=\"plain rtl  hl\" ><span class=\"txtu hbo\">תְּמַלֶּ֨אנָה֙ </span></span></span></td><td class=\"tf rtl\"><span class=\"rtl ubd\"><span class=\"plain rtl  hl\" ><span class=\"txtu hbo\">אֲבִיהֶֽן׃ </span></span></span></td></tr></table>"
                        ]
                    },
                    "metadata": {}
                }
            ],
            "metadata": {}
        },
        {
            "cell_type": "markdown",
            "source": [
                "And then the `show` method can display the whole list:\r\n",
                "\r\n",
                "Cf. https://annotation.github.io/text-fabric/tf/advanced/display.html#tf.advanced.display.show"
            ],
            "metadata": {}
        },
        {
            "cell_type": "code",
            "execution_count": 38,
            "source": [
                "A.show(results)"
            ],
            "outputs": [
                {
                    "output_type": "display_data",
                    "data": {
                        "text/plain": [
                            "<IPython.core.display.HTML object>"
                        ],
                        "text/html": [
                            "<p><b>result</b> <i>1</i></p>"
                        ]
                    },
                    "metadata": {}
                },
                {
                    "output_type": "display_data",
                    "data": {
                        "text/plain": [
                            "<IPython.core.display.HTML object>"
                        ],
                        "text/html": [
                            "<div class=\"tfsechead rtl\"><a target=\"_blank\" href=\"https://shebanq.ancient-data.org/hebrew/text?book=Exodus&amp;chapter=1&amp;verse=1&amp;version=c&amp;mr=m&amp;qw=q&amp;tp=txt_p&amp;tr=hb&amp;wget=v&amp;qget=v&amp;nget=vt\" title=\"Show this on SHEBANQ\" sec=\"Exodus\">Exodus</a></div><div class=\"rtl children\"><div class=\"contnr c4 trm rtl  \" ><div class=\"lbl c4 trm \" ><span class=\"nd\">book</span> <span class=\"txtu hbo\"><span class=\"tfsechead\">Exodus</span></span></div><div class='features'><span class=\"book xft\" ><span class=\"f\">book=</span>Exodus</span></div></div></div>"
                        ]
                    },
                    "metadata": {}
                },
                {
                    "output_type": "display_data",
                    "data": {
                        "text/plain": [
                            "<IPython.core.display.HTML object>"
                        ],
                        "text/html": [
                            "<div class=\"tfsechead rtl\"><a target=\"_blank\" href=\"https://shebanq.ancient-data.org/hebrew/text?book=Exodus&amp;chapter=2&amp;verse=1&amp;version=c&amp;mr=m&amp;qw=q&amp;tp=txt_p&amp;tr=hb&amp;wget=v&amp;qget=v&amp;nget=vt\" title=\"Show this on SHEBANQ\" sec=\"Exodus 2\">Exodus 2</a></div><div class=\"rtl children\"><div class=\"contnr c4 trm rtl  \" ><div class=\"lbl c4 trm \" ><span class=\"nd\">chapter</span> <span class=\"txtu hbo\"><span class=\"tfsechead\">Exodus 2</span></span></div><div class='features'><span class=\"book xft\" ><span class=\"f\">book=</span>Exodus</span><span class=\"chapter xft\" ><span class=\"f\">chapter=</span>2</span></div></div></div>"
                        ]
                    },
                    "metadata": {}
                },
                {
                    "output_type": "display_data",
                    "data": {
                        "text/plain": [
                            "<IPython.core.display.HTML object>"
                        ],
                        "text/html": [
                            "<div class=\"tfsechead rtl\"><a target=\"_blank\" href=\"https://shebanq.ancient-data.org/hebrew/text?book=Exodus&amp;chapter=2&amp;verse=16&amp;version=c&amp;mr=m&amp;qw=q&amp;tp=txt_p&amp;tr=hb&amp;wget=v&amp;qget=v&amp;nget=vt\" title=\"Show this on SHEBANQ\" sec=\"Exodus 2:16\">Exodus 2:16</a></div><div class=\"rtl children\"><div class=\"contnr c3  rtl  \" ><div class=\"lbl c3  \" ><span class=\"nd\">verse</span></div><div class='features'><span class=\"book xft\" ><span class=\"f\">book=</span>Exodus</span><span class=\"chapter xft\" ><span class=\"f\">chapter=</span>2</span></div><div class=\"children hor wrap rtl\"><div class=\"contnr c2  rtl  \" ><div class=\"lbl c2  \" ><span class=\"nd\">sentence</span></div><div class=\"children hor wrap rtl\"><div class=\"contnr c2  rtl  \" ><div class=\"lbl c2  \" ><span class=\"nd\">clause</span></div><div class=\"children hor wrap rtl\"><div class=\"contnr c1  rtl  \" ><div class=\"lbl c1  \" ><span class=\"nd\">phrase</span></div><div class=\"children hor wrap rtl\"><div class=\"contnr c0 trm rtl  \" ><div class=\"lbl c0 trm \" ><a class=\" txtu hbo\" target=\"_blank\" href=\"https://shebanq.ancient-data.org/hebrew/word?version=c&amp;id=1W\" title=\"Show this on SHEBANQ\"><span class=\"txtu hbo\">וּ</span></a></div><div class='features'><span class=\"sp xft\" ><span class=\"f\">sp=</span>conj</span></div></div></div></div><div class=\"contnr c1  rtl  \" ><div class=\"lbl c1  \" ><span class=\"nd\">phrase</span></div><div class=\"children hor wrap rtl\"><div class=\"contnr c0 trm rtl  \" ><div class=\"lbl c0 trm \" ><a class=\" txtu hbo\" target=\"_blank\" href=\"https://shebanq.ancient-data.org/hebrew/word?version=c&amp;id=1L\" title=\"Show this on SHEBANQ\"><span class=\"txtu hbo\">לְ</span></a></div><div class='features'><span class=\"sp xft\" ><span class=\"f\">sp=</span>prep</span></div></div><div class=\"contnr c0 trm rtl  \" ><div class=\"lbl c0 trm \" ><a class=\" txtu hbo\" target=\"_blank\" href=\"https://shebanq.ancient-data.org/hebrew/word?version=c&amp;id=1KHNn\" title=\"Show this on SHEBANQ\"><span class=\"txtu hbo\">כֹהֵ֥ן </span></a></div><div class='features'><span class=\"gn xft\" ><span class=\"f\">gn=</span>m</span><span class=\"nu xft\" ><span class=\"f\">nu=</span>sg</span><span class=\"sp xft\" ><span class=\"f\">sp=</span>subs</span></div></div><div class=\"contnr c0 trm rtl  \" ><div class=\"lbl c0 trm \" ><a class=\" txtu hbo\" target=\"_blank\" href=\"https://shebanq.ancient-data.org/hebrew/word?version=c&amp;id=1MDJNin\" title=\"Show this on SHEBANQ\"><span class=\"txtu hbo\">מִדְיָ֖ן </span></a></div><div class='features'><span class=\"nu xft\" ><span class=\"f\">nu=</span>sg</span><span class=\"sp xft\" ><span class=\"f\">sp=</span>nmpr</span></div></div></div></div><div class=\"contnr c1  rtl  \" ><div class=\"lbl c1  \" ><span class=\"nd\">phrase</span></div><div class=\"children hor wrap rtl\"><div class=\"contnr c0 trm rtl  \" ><div class=\"lbl c0 trm \" ><a class=\" txtu hbo\" target=\"_blank\" href=\"https://shebanq.ancient-data.org/hebrew/word?version=c&amp;id=1CBOn\" title=\"Show this on SHEBANQ\"><span class=\"txtu hbo\">שֶׁ֣בַע </span></a></div><div class='features'><span class=\"nu xft\" ><span class=\"f\">nu=</span>sg</span><span class=\"sp xft\" ><span class=\"f\">sp=</span>subs</span></div></div><div class=\"contnr c0 trm rtl  \" ><div class=\"lbl c0 trm \" ><a class=\" txtu hbo\" target=\"_blank\" href=\"https://shebanq.ancient-data.org/hebrew/word?version=c&amp;id=1BTn\" title=\"Show this on SHEBANQ\"><span class=\"txtu hbo\">בָּנֹ֑ות </span></a></div><div class='features'><span class=\"gn xft\" ><span class=\"f\">gn=</span>f</span><span class=\"nu xft\" ><span class=\"f\">nu=</span>pl</span><span class=\"sp xft\" ><span class=\"f\">sp=</span>subs</span></div></div></div></div></div></div></div></div><div class=\"contnr c2  rtl  \" ><div class=\"lbl c2  \" ><span class=\"nd\">sentence</span></div><div class=\"children hor wrap rtl\"><div class=\"contnr c2  rtl  \" ><div class=\"lbl c2  \" ><span class=\"nd\">clause</span></div><div class=\"children hor wrap rtl\"><div class=\"contnr c1  rtl  \" ><div class=\"lbl c1  \" ><span class=\"nd\">phrase</span></div><div class=\"children hor wrap rtl\"><div class=\"contnr c0 trm rtl  \" ><div class=\"lbl c0 trm \" ><a class=\" txtu hbo\" target=\"_blank\" href=\"https://shebanq.ancient-data.org/hebrew/word?version=c&amp;id=1W\" title=\"Show this on SHEBANQ\"><span class=\"txtu hbo\">וַ</span></a></div><div class='features'><span class=\"sp xft\" ><span class=\"f\">sp=</span>conj</span></div></div></div></div><div class=\"contnr c1  rtl  \" ><div class=\"lbl c1  \" ><span class=\"nd\">phrase</span></div><div class=\"children hor wrap rtl\"><div class=\"contnr c0 trm rtl  \" ><div class=\"lbl c0 trm \" ><a class=\" txtu hbo\" target=\"_blank\" href=\"https://shebanq.ancient-data.org/hebrew/word?version=c&amp;id=1BWAv\" title=\"Show this on SHEBANQ\"><span class=\"txtu hbo\">תָּבֹ֣אנָה </span></a></div><div class='features'><span class=\"gn xft\" ><span class=\"f\">gn=</span>f</span><span class=\"nu xft\" ><span class=\"f\">nu=</span>pl</span><span class=\"sp xft\" ><span class=\"f\">sp=</span>verb</span></div></div></div></div></div></div></div></div><div class=\"contnr c2  rtl  \" ><div class=\"lbl c2  \" ><span class=\"nd\">sentence</span></div><div class=\"children hor wrap rtl\"><div class=\"contnr c2  rtl  \" ><div class=\"lbl c2  \" ><span class=\"nd\">clause</span></div><div class=\"children hor wrap rtl\"><div class=\"contnr c1  rtl  \" ><div class=\"lbl c1  \" ><span class=\"nd\">phrase</span></div><div class=\"children hor wrap rtl\"><div class=\"contnr c0 trm rtl  \" ><div class=\"lbl c0 trm \" ><a class=\" txtu hbo\" target=\"_blank\" href=\"https://shebanq.ancient-data.org/hebrew/word?version=c&amp;id=1W\" title=\"Show this on SHEBANQ\"><span class=\"txtu hbo\">וַ</span></a></div><div class='features'><span class=\"sp xft\" ><span class=\"f\">sp=</span>conj</span></div></div></div></div><div class=\"contnr c1  rtl  \" ><div class=\"lbl c1  \" ><span class=\"nd\">phrase</span></div><div class=\"children hor wrap rtl\"><div class=\"contnr c0 trm rtl  \" ><div class=\"lbl c0 trm \" ><a class=\" txtu hbo\" target=\"_blank\" href=\"https://shebanq.ancient-data.org/hebrew/word?version=c&amp;id=1DLHv\" title=\"Show this on SHEBANQ\"><span class=\"txtu hbo\">תִּדְלֶ֗נָה </span></a></div><div class='features'><span class=\"gn xft\" ><span class=\"f\">gn=</span>f</span><span class=\"nu xft\" ><span class=\"f\">nu=</span>pl</span><span class=\"sp xft\" ><span class=\"f\">sp=</span>verb</span></div></div></div></div></div></div></div></div><div class=\"contnr c2  rtl  hl\" ><div class=\"lbl c2  hl\" ><span class=\"nd\">sentence</span></div><div class=\"children hor wrap rtl\"><div class=\"contnr c2  rtl  \" ><div class=\"lbl c2  \" ><span class=\"nd\">clause</span></div><div class=\"children hor wrap rtl\"><div class=\"contnr c1  rtl  \" ><div class=\"lbl c1  \" ><span class=\"nd\">phrase</span></div><div class=\"children hor wrap rtl\"><div class=\"contnr c0 trm rtl  \" ><div class=\"lbl c0 trm \" ><a class=\" txtu hbo\" target=\"_blank\" href=\"https://shebanq.ancient-data.org/hebrew/word?version=c&amp;id=1W\" title=\"Show this on SHEBANQ\"><span class=\"txtu hbo\">וַ</span></a></div><div class='features'><span class=\"sp xft\" ><span class=\"f\">sp=</span>conj</span></div></div></div></div><div class=\"contnr c1  rtl  \" ><div class=\"lbl c1  \" ><span class=\"nd\">phrase</span></div><div class=\"children hor wrap rtl\"><div class=\"contnr c0 trm rtl  hl\" ><div class=\"lbl c0 trm hl\" ><a class=\" txtu hbo\" target=\"_blank\" href=\"https://shebanq.ancient-data.org/hebrew/word?version=c&amp;id=1MLAv\" title=\"Show this on SHEBANQ\"><span class=\"txtu hbo\">תְּמַלֶּ֨אנָה֙ </span></a></div><div class='features'><span class=\"gn xft\" ><span class=\"f\">gn=</span>f</span><span class=\"nu xft\" ><span class=\"f\">nu=</span>pl</span><span class=\"sp xft\" ><span class=\"f\">sp=</span>verb</span></div></div></div></div><div class=\"contnr c1  rtl  \" ><div class=\"lbl c1  \" ><span class=\"nd\">phrase</span></div><div class=\"children hor wrap rtl\"><div class=\"contnr c0 trm rtl  \" ><div class=\"lbl c0 trm \" ><a class=\" txtu hbo\" target=\"_blank\" href=\"https://shebanq.ancient-data.org/hebrew/word?version=c&amp;id=1AT\" title=\"Show this on SHEBANQ\"><span class=\"txtu hbo\">אֶת־</span></a></div><div class='features'><span class=\"sp xft\" ><span class=\"f\">sp=</span>prep</span></div></div><div class=\"contnr c0 trm rtl  \" ><div class=\"lbl c0 trm \" ><a class=\" txtu hbo\" target=\"_blank\" href=\"https://shebanq.ancient-data.org/hebrew/word?version=c&amp;id=1H\" title=\"Show this on SHEBANQ\"><span class=\"txtu hbo\">הָ֣</span></a></div><div class='features'><span class=\"sp xft\" ><span class=\"f\">sp=</span>art</span></div></div><div class=\"contnr c0 trm rtl  \" ><div class=\"lbl c0 trm \" ><a class=\" txtu hbo\" target=\"_blank\" href=\"https://shebanq.ancient-data.org/hebrew/word?version=c&amp;id=1RHVn\" title=\"Show this on SHEBANQ\"><span class=\"txtu hbo\">רְהָטִ֔ים </span></a></div><div class='features'><span class=\"gn xft\" ><span class=\"f\">gn=</span>m</span><span class=\"nu xft\" ><span class=\"f\">nu=</span>pl</span><span class=\"sp xft\" ><span class=\"f\">sp=</span>subs</span></div></div></div></div></div></div><div class=\"contnr c2  rtl  \" ><div class=\"lbl c2  \" ><span class=\"nd\">clause</span></div><div class=\"children hor wrap rtl\"><div class=\"contnr c1  rtl  \" ><div class=\"lbl c1  \" ><span class=\"nd\">phrase</span></div><div class=\"children hor wrap rtl\"><div class=\"contnr c0 trm rtl  \" ><div class=\"lbl c0 trm \" ><a class=\" txtu hbo\" target=\"_blank\" href=\"https://shebanq.ancient-data.org/hebrew/word?version=c&amp;id=1L\" title=\"Show this on SHEBANQ\"><span class=\"txtu hbo\">לְ</span></a></div><div class='features'><span class=\"sp xft\" ><span class=\"f\">sp=</span>prep</span></div></div><div class=\"contnr c0 trm rtl  \" ><div class=\"lbl c0 trm \" ><a class=\" txtu hbo\" target=\"_blank\" href=\"https://shebanq.ancient-data.org/hebrew/word?version=c&amp;id=1CQHv\" title=\"Show this on SHEBANQ\"><span class=\"txtu hbo\">הַשְׁקֹ֖ות </span></a></div><div class='features'><span class=\"sp xft\" ><span class=\"f\">sp=</span>verb</span></div></div></div></div><div class=\"contnr c1  rtl  \" ><div class=\"lbl c1  \" ><span class=\"nd\">phrase</span></div><div class=\"children hor wrap rtl\"><div class=\"contnr c0 trm rtl  \" ><div class=\"lbl c0 trm \" ><a class=\" txtu hbo\" target=\"_blank\" href=\"https://shebanq.ancient-data.org/hebrew/word?version=c&amp;id=1YANn\" title=\"Show this on SHEBANQ\"><span class=\"txtu hbo\">צֹ֥אן </span></a></div><div class='features'><span class=\"nu xft\" ><span class=\"f\">nu=</span>sg</span><span class=\"sp xft\" ><span class=\"f\">sp=</span>subs</span></div></div><div class=\"contnr c0 trm rtl  hl\" ><div class=\"lbl c0 trm hl\" ><a class=\" txtu hbo\" target=\"_blank\" href=\"https://shebanq.ancient-data.org/hebrew/word?version=c&amp;id=1ABn\" title=\"Show this on SHEBANQ\"><span class=\"txtu hbo\">אֲבִיהֶֽן׃ </span></a></div><div class='features'><span class=\"gn xft\" ><span class=\"f\">gn=</span>m</span><span class=\"nu xft\" ><span class=\"f\">nu=</span>sg</span><span class=\"sp xft\" ><span class=\"f\">sp=</span>subs</span></div></div></div></div></div></div></div></div></div></div></div>"
                        ]
                    },
                    "metadata": {}
                },
                {
                    "output_type": "display_data",
                    "data": {
                        "text/plain": [
                            "<IPython.core.display.HTML object>"
                        ],
                        "text/html": [
                            "<p><b>result</b> <i>2</i></p>"
                        ]
                    },
                    "metadata": {}
                },
                {
                    "output_type": "display_data",
                    "data": {
                        "text/plain": [
                            "<IPython.core.display.HTML object>"
                        ],
                        "text/html": [
                            "<div class=\"tfsechead rtl\"><a target=\"_blank\" href=\"https://shebanq.ancient-data.org/hebrew/text?book=Exodus&amp;chapter=1&amp;verse=1&amp;version=c&amp;mr=m&amp;qw=q&amp;tp=txt_p&amp;tr=hb&amp;wget=v&amp;qget=v&amp;nget=vt\" title=\"Show this on SHEBANQ\" sec=\"Exodus\">Exodus</a></div><div class=\"rtl children\"><div class=\"contnr c4 trm rtl  \" ><div class=\"lbl c4 trm \" ><span class=\"nd\">book</span> <span class=\"txtu hbo\"><span class=\"tfsechead\">Exodus</span></span></div><div class='features'><span class=\"book xft\" ><span class=\"f\">book=</span>Exodus</span></div></div></div>"
                        ]
                    },
                    "metadata": {}
                },
                {
                    "output_type": "display_data",
                    "data": {
                        "text/plain": [
                            "<IPython.core.display.HTML object>"
                        ],
                        "text/html": [
                            "<div class=\"tfsechead rtl\"><a target=\"_blank\" href=\"https://shebanq.ancient-data.org/hebrew/text?book=Exodus&amp;chapter=2&amp;verse=1&amp;version=c&amp;mr=m&amp;qw=q&amp;tp=txt_p&amp;tr=hb&amp;wget=v&amp;qget=v&amp;nget=vt\" title=\"Show this on SHEBANQ\" sec=\"Exodus 2\">Exodus 2</a></div><div class=\"rtl children\"><div class=\"contnr c4 trm rtl  \" ><div class=\"lbl c4 trm \" ><span class=\"nd\">chapter</span> <span class=\"txtu hbo\"><span class=\"tfsechead\">Exodus 2</span></span></div><div class='features'><span class=\"book xft\" ><span class=\"f\">book=</span>Exodus</span><span class=\"chapter xft\" ><span class=\"f\">chapter=</span>2</span></div></div></div>"
                        ]
                    },
                    "metadata": {}
                },
                {
                    "output_type": "display_data",
                    "data": {
                        "text/plain": [
                            "<IPython.core.display.HTML object>"
                        ],
                        "text/html": [
                            "<div class=\"tfsechead rtl\"><a target=\"_blank\" href=\"https://shebanq.ancient-data.org/hebrew/text?book=Exodus&amp;chapter=2&amp;verse=18&amp;version=c&amp;mr=m&amp;qw=q&amp;tp=txt_p&amp;tr=hb&amp;wget=v&amp;qget=v&amp;nget=vt\" title=\"Show this on SHEBANQ\" sec=\"Exodus 2:18\">Exodus 2:18</a></div><div class=\"rtl children\"><div class=\"contnr c3  rtl  \" ><div class=\"lbl c3  \" ><span class=\"nd\">verse</span></div><div class='features'><span class=\"book xft\" ><span class=\"f\">book=</span>Exodus</span><span class=\"chapter xft\" ><span class=\"f\">chapter=</span>2</span></div><div class=\"children hor wrap rtl\"><div class=\"contnr c2  rtl  hl\" ><div class=\"lbl c2  hl\" ><span class=\"nd\">sentence</span></div><div class=\"children hor wrap rtl\"><div class=\"contnr c2  rtl  \" ><div class=\"lbl c2  \" ><span class=\"nd\">clause</span></div><div class=\"children hor wrap rtl\"><div class=\"contnr c1  rtl  \" ><div class=\"lbl c1  \" ><span class=\"nd\">phrase</span></div><div class=\"children hor wrap rtl\"><div class=\"contnr c0 trm rtl  \" ><div class=\"lbl c0 trm \" ><a class=\" txtu hbo\" target=\"_blank\" href=\"https://shebanq.ancient-data.org/hebrew/word?version=c&amp;id=1W\" title=\"Show this on SHEBANQ\"><span class=\"txtu hbo\">וַ</span></a></div><div class='features'><span class=\"sp xft\" ><span class=\"f\">sp=</span>conj</span></div></div></div></div><div class=\"contnr c1  rtl  \" ><div class=\"lbl c1  \" ><span class=\"nd\">phrase</span></div><div class=\"children hor wrap rtl\"><div class=\"contnr c0 trm rtl  hl\" ><div class=\"lbl c0 trm hl\" ><a class=\" txtu hbo\" target=\"_blank\" href=\"https://shebanq.ancient-data.org/hebrew/word?version=c&amp;id=1BWAv\" title=\"Show this on SHEBANQ\"><span class=\"txtu hbo\">תָּבֹ֕אנָה </span></a></div><div class='features'><span class=\"gn xft\" ><span class=\"f\">gn=</span>f</span><span class=\"nu xft\" ><span class=\"f\">nu=</span>pl</span><span class=\"sp xft\" ><span class=\"f\">sp=</span>verb</span></div></div></div></div><div class=\"contnr c1  rtl  \" ><div class=\"lbl c1  \" ><span class=\"nd\">phrase</span></div><div class=\"children hor wrap rtl\"><div class=\"contnr c0 trm rtl  \" ><div class=\"lbl c0 trm \" ><a class=\" txtu hbo\" target=\"_blank\" href=\"https://shebanq.ancient-data.org/hebrew/word?version=c&amp;id=1AL\" title=\"Show this on SHEBANQ\"><span class=\"txtu hbo\">אֶל־</span></a></div><div class='features'><span class=\"sp xft\" ><span class=\"f\">sp=</span>prep</span></div></div><div class=\"contnr c0 trm rtl  \" ><div class=\"lbl c0 trm \" ><a class=\" txtu hbo\" target=\"_blank\" href=\"https://shebanq.ancient-data.org/hebrew/word?version=c&amp;id=1ROWALn\" title=\"Show this on SHEBANQ\"><span class=\"txtu hbo\">רְעוּאֵ֖ל </span></a></div><div class='features'><span class=\"gn xft\" ><span class=\"f\">gn=</span>m</span><span class=\"nu xft\" ><span class=\"f\">nu=</span>sg</span><span class=\"sp xft\" ><span class=\"f\">sp=</span>nmpr</span></div></div><div class=\"contnr c0 trm rtl  hl\" ><div class=\"lbl c0 trm hl\" ><a class=\" txtu hbo\" target=\"_blank\" href=\"https://shebanq.ancient-data.org/hebrew/word?version=c&amp;id=1ABn\" title=\"Show this on SHEBANQ\"><span class=\"txtu hbo\">אֲבִיהֶ֑ן </span></a></div><div class='features'><span class=\"gn xft\" ><span class=\"f\">gn=</span>m</span><span class=\"nu xft\" ><span class=\"f\">nu=</span>sg</span><span class=\"sp xft\" ><span class=\"f\">sp=</span>subs</span></div></div></div></div></div></div></div></div><div class=\"contnr c2  rtl  \" ><div class=\"lbl c2  \" ><span class=\"nd\">sentence</span></div><div class=\"children hor wrap rtl\"><div class=\"contnr c2  rtl  \" ><div class=\"lbl c2  \" ><span class=\"nd\">clause</span></div><div class=\"children hor wrap rtl\"><div class=\"contnr c1  rtl  \" ><div class=\"lbl c1  \" ><span class=\"nd\">phrase</span></div><div class=\"children hor wrap rtl\"><div class=\"contnr c0 trm rtl  \" ><div class=\"lbl c0 trm \" ><a class=\" txtu hbo\" target=\"_blank\" href=\"https://shebanq.ancient-data.org/hebrew/word?version=c&amp;id=1W\" title=\"Show this on SHEBANQ\"><span class=\"txtu hbo\">וַ</span></a></div><div class='features'><span class=\"sp xft\" ><span class=\"f\">sp=</span>conj</span></div></div></div></div><div class=\"contnr c1  rtl  \" ><div class=\"lbl c1  \" ><span class=\"nd\">phrase</span></div><div class=\"children hor wrap rtl\"><div class=\"contnr c0 trm rtl  \" ><div class=\"lbl c0 trm \" ><a class=\" txtu hbo\" target=\"_blank\" href=\"https://shebanq.ancient-data.org/hebrew/word?version=c&amp;id=1AMRv\" title=\"Show this on SHEBANQ\"><span class=\"txtu hbo\">יֹּ֕אמֶר </span></a></div><div class='features'><span class=\"gn xft\" ><span class=\"f\">gn=</span>m</span><span class=\"nu xft\" ><span class=\"f\">nu=</span>sg</span><span class=\"sp xft\" ><span class=\"f\">sp=</span>verb</span></div></div></div></div></div></div></div></div><div class=\"contnr c2  rtl  \" ><div class=\"lbl c2  \" ><span class=\"nd\">sentence</span></div><div class=\"children hor wrap rtl\"><div class=\"contnr c2  rtl  \" ><div class=\"lbl c2  \" ><span class=\"nd\">clause</span></div><div class=\"children hor wrap rtl\"><div class=\"contnr c1  rtl  \" ><div class=\"lbl c1  \" ><span class=\"nd\">phrase</span></div><div class=\"children hor wrap rtl\"><div class=\"contnr c0 trm rtl  \" ><div class=\"lbl c0 trm \" ><a class=\" txtu hbo\" target=\"_blank\" href=\"https://shebanq.ancient-data.org/hebrew/word?version=c&amp;id=1MDWO\" title=\"Show this on SHEBANQ\"><span class=\"txtu hbo\">מַדּ֛וּעַ </span></a></div><div class='features'><span class=\"sp xft\" ><span class=\"f\">sp=</span>inrg</span></div></div></div></div><div class=\"contnr c1  rtl  \" ><div class=\"lbl c1  \" ><span class=\"nd\">phrase</span></div><div class=\"children hor wrap rtl\"><div class=\"contnr c0 trm rtl  \" ><div class=\"lbl c0 trm \" ><a class=\" txtu hbo\" target=\"_blank\" href=\"https://shebanq.ancient-data.org/hebrew/word?version=c&amp;id=1MHRv\" title=\"Show this on SHEBANQ\"><span class=\"txtu hbo\">מִהַרְתֶּ֥ן </span></a></div><div class='features'><span class=\"gn xft\" ><span class=\"f\">gn=</span>f</span><span class=\"nu xft\" ><span class=\"f\">nu=</span>pl</span><span class=\"sp xft\" ><span class=\"f\">sp=</span>verb</span></div></div></div></div></div></div><div class=\"contnr c2  rtl  \" ><div class=\"lbl c2  \" ><span class=\"nd\">clause</span></div><div class=\"children hor wrap rtl\"><div class=\"contnr c1  rtl  \" ><div class=\"lbl c1  \" ><span class=\"nd\">phrase</span></div><div class=\"children hor wrap rtl\"><div class=\"contnr c0 trm rtl  \" ><div class=\"lbl c0 trm \" ><a class=\" txtu hbo\" target=\"_blank\" href=\"https://shebanq.ancient-data.org/hebrew/word?version=c&amp;id=1BWAv\" title=\"Show this on SHEBANQ\"><span class=\"txtu hbo\">בֹּ֖א </span></a></div><div class='features'><span class=\"sp xft\" ><span class=\"f\">sp=</span>verb</span></div></div></div></div></div></div></div></div><div class=\"contnr c2  rtl  \" ><div class=\"lbl c2  \" ><span class=\"nd\">sentence</span></div><div class=\"children hor wrap rtl\"><div class=\"contnr c2  rtl  \" ><div class=\"lbl c2  \" ><span class=\"nd\">clause</span></div><div class=\"children hor wrap rtl\"><div class=\"contnr c1  rtl  \" ><div class=\"lbl c1  \" ><span class=\"nd\">phrase</span></div><div class=\"children hor wrap rtl\"><div class=\"contnr c0 trm rtl  \" ><div class=\"lbl c0 trm \" ><a class=\" txtu hbo\" target=\"_blank\" href=\"https://shebanq.ancient-data.org/hebrew/word?version=c&amp;id=1H\" title=\"Show this on SHEBANQ\"><span class=\"txtu hbo\">הַ</span></a></div><div class='features'><span class=\"sp xft\" ><span class=\"f\">sp=</span>art</span></div></div><div class=\"contnr c0 trm rtl  \" ><div class=\"lbl c0 trm \" ><a class=\" txtu hbo\" target=\"_blank\" href=\"https://shebanq.ancient-data.org/hebrew/word?version=c&amp;id=1JWMn\" title=\"Show this on SHEBANQ\"><span class=\"txtu hbo\">יֹּֽום׃ </span></a></div><div class='features'><span class=\"gn xft\" ><span class=\"f\">gn=</span>m</span><span class=\"nu xft\" ><span class=\"f\">nu=</span>sg</span><span class=\"sp xft\" ><span class=\"f\">sp=</span>subs</span></div></div></div></div></div></div></div></div></div></div></div>"
                        ]
                    },
                    "metadata": {}
                },
                {
                    "output_type": "display_data",
                    "data": {
                        "text/plain": [
                            "<IPython.core.display.HTML object>"
                        ],
                        "text/html": [
                            "<p><b>result</b> <i>3</i></p>"
                        ]
                    },
                    "metadata": {}
                },
                {
                    "output_type": "display_data",
                    "data": {
                        "text/plain": [
                            "<IPython.core.display.HTML object>"
                        ],
                        "text/html": [
                            "<div class=\"tfsechead rtl\"><a target=\"_blank\" href=\"https://shebanq.ancient-data.org/hebrew/text?book=Exodus&amp;chapter=1&amp;verse=1&amp;version=c&amp;mr=m&amp;qw=q&amp;tp=txt_p&amp;tr=hb&amp;wget=v&amp;qget=v&amp;nget=vt\" title=\"Show this on SHEBANQ\" sec=\"Exodus\">Exodus</a></div><div class=\"rtl children\"><div class=\"contnr c4 trm rtl  \" ><div class=\"lbl c4 trm \" ><span class=\"nd\">book</span> <span class=\"txtu hbo\"><span class=\"tfsechead\">Exodus</span></span></div><div class='features'><span class=\"book xft\" ><span class=\"f\">book=</span>Exodus</span></div></div></div>"
                        ]
                    },
                    "metadata": {}
                },
                {
                    "output_type": "display_data",
                    "data": {
                        "text/plain": [
                            "<IPython.core.display.HTML object>"
                        ],
                        "text/html": [
                            "<div class=\"tfsechead rtl\"><a target=\"_blank\" href=\"https://shebanq.ancient-data.org/hebrew/text?book=Exodus&amp;chapter=2&amp;verse=1&amp;version=c&amp;mr=m&amp;qw=q&amp;tp=txt_p&amp;tr=hb&amp;wget=v&amp;qget=v&amp;nget=vt\" title=\"Show this on SHEBANQ\" sec=\"Exodus 2\">Exodus 2</a></div><div class=\"rtl children\"><div class=\"contnr c4 trm rtl  \" ><div class=\"lbl c4 trm \" ><span class=\"nd\">chapter</span> <span class=\"txtu hbo\"><span class=\"tfsechead\">Exodus 2</span></span></div><div class='features'><span class=\"book xft\" ><span class=\"f\">book=</span>Exodus</span><span class=\"chapter xft\" ><span class=\"f\">chapter=</span>2</span></div></div></div>"
                        ]
                    },
                    "metadata": {}
                },
                {
                    "output_type": "display_data",
                    "data": {
                        "text/plain": [
                            "<IPython.core.display.HTML object>"
                        ],
                        "text/html": [
                            "<div class=\"tfsechead rtl\"><a target=\"_blank\" href=\"https://shebanq.ancient-data.org/hebrew/text?book=Exodus&amp;chapter=2&amp;verse=20&amp;version=c&amp;mr=m&amp;qw=q&amp;tp=txt_p&amp;tr=hb&amp;wget=v&amp;qget=v&amp;nget=vt\" title=\"Show this on SHEBANQ\" sec=\"Exodus 2:20\">Exodus 2:20</a></div><div class=\"rtl children\"><div class=\"contnr c3  rtl  \" ><div class=\"lbl c3  \" ><span class=\"nd\">verse</span></div><div class='features'><span class=\"book xft\" ><span class=\"f\">book=</span>Exodus</span><span class=\"chapter xft\" ><span class=\"f\">chapter=</span>2</span></div><div class=\"children hor wrap rtl\"><div class=\"contnr c2  rtl  \" ><div class=\"lbl c2  \" ><span class=\"nd\">sentence</span></div><div class=\"children hor wrap rtl\"><div class=\"contnr c2  rtl  \" ><div class=\"lbl c2  \" ><span class=\"nd\">clause</span></div><div class=\"children hor wrap rtl\"><div class=\"contnr c1  rtl  \" ><div class=\"lbl c1  \" ><span class=\"nd\">phrase</span></div><div class=\"children hor wrap rtl\"><div class=\"contnr c0 trm rtl  \" ><div class=\"lbl c0 trm \" ><a class=\" txtu hbo\" target=\"_blank\" href=\"https://shebanq.ancient-data.org/hebrew/word?version=c&amp;id=1W\" title=\"Show this on SHEBANQ\"><span class=\"txtu hbo\">וַ</span></a></div><div class='features'><span class=\"sp xft\" ><span class=\"f\">sp=</span>conj</span></div></div></div></div><div class=\"contnr c1  rtl  \" ><div class=\"lbl c1  \" ><span class=\"nd\">phrase</span></div><div class=\"children hor wrap rtl\"><div class=\"contnr c0 trm rtl  \" ><div class=\"lbl c0 trm \" ><a class=\" txtu hbo\" target=\"_blank\" href=\"https://shebanq.ancient-data.org/hebrew/word?version=c&amp;id=1AMRv\" title=\"Show this on SHEBANQ\"><span class=\"txtu hbo\">יֹּ֥אמֶר </span></a></div><div class='features'><span class=\"gn xft\" ><span class=\"f\">gn=</span>m</span><span class=\"nu xft\" ><span class=\"f\">nu=</span>sg</span><span class=\"sp xft\" ><span class=\"f\">sp=</span>verb</span></div></div></div></div><div class=\"contnr c1  rtl  \" ><div class=\"lbl c1  \" ><span class=\"nd\">phrase</span></div><div class=\"children hor wrap rtl\"><div class=\"contnr c0 trm rtl  \" ><div class=\"lbl c0 trm \" ><a class=\" txtu hbo\" target=\"_blank\" href=\"https://shebanq.ancient-data.org/hebrew/word?version=c&amp;id=1AL\" title=\"Show this on SHEBANQ\"><span class=\"txtu hbo\">אֶל־</span></a></div><div class='features'><span class=\"sp xft\" ><span class=\"f\">sp=</span>prep</span></div></div><div class=\"contnr c0 trm rtl  \" ><div class=\"lbl c0 trm \" ><a class=\" txtu hbo\" target=\"_blank\" href=\"https://shebanq.ancient-data.org/hebrew/word?version=c&amp;id=1BTn\" title=\"Show this on SHEBANQ\"><span class=\"txtu hbo\">בְּנֹתָ֖יו </span></a></div><div class='features'><span class=\"gn xft\" ><span class=\"f\">gn=</span>f</span><span class=\"nu xft\" ><span class=\"f\">nu=</span>pl</span><span class=\"sp xft\" ><span class=\"f\">sp=</span>subs</span></div></div></div></div></div></div></div></div><div class=\"contnr c2  rtl  \" ><div class=\"lbl c2  \" ><span class=\"nd\">sentence</span></div><div class=\"children hor wrap rtl\"><div class=\"contnr c2  rtl  \" ><div class=\"lbl c2  \" ><span class=\"nd\">clause</span></div><div class=\"children hor wrap rtl\"><div class=\"contnr c1  rtl  \" ><div class=\"lbl c1  \" ><span class=\"nd\">phrase</span></div><div class=\"children hor wrap rtl\"><div class=\"contnr c0 trm rtl  \" ><div class=\"lbl c0 trm \" ><a class=\" txtu hbo\" target=\"_blank\" href=\"https://shebanq.ancient-data.org/hebrew/word?version=c&amp;id=1W\" title=\"Show this on SHEBANQ\"><span class=\"txtu hbo\">וְ</span></a></div><div class='features'><span class=\"sp xft\" ><span class=\"f\">sp=</span>conj</span></div></div></div></div><div class=\"contnr c1  rtl  \" ><div class=\"lbl c1  \" ><span class=\"nd\">phrase</span></div><div class=\"children hor wrap rtl\"><div class=\"contnr c0 trm rtl  \" ><div class=\"lbl c0 trm \" ><a class=\" txtu hbo\" target=\"_blank\" href=\"https://shebanq.ancient-data.org/hebrew/word?version=c&amp;id=1AJ\" title=\"Show this on SHEBANQ\"><span class=\"txtu hbo\">אַיֹּ֑ו </span></a></div><div class='features'><span class=\"sp xft\" ><span class=\"f\">sp=</span>inrg</span></div></div></div></div></div></div></div></div><div class=\"contnr c2  rtl  hl\" ><div class=\"lbl c2  hl\" ><span class=\"nd\">sentence</span></div><div class=\"children hor wrap rtl\"><div class=\"contnr c2  rtl  \" ><div class=\"lbl c2  \" ><span class=\"nd\">clause</span></div><div class=\"children hor wrap rtl\"><div class=\"contnr c1  rtl  \" ><div class=\"lbl c1  \" ><span class=\"nd\">phrase</span></div><div class=\"children hor wrap rtl\"><div class=\"contnr c0 trm rtl  \" ><div class=\"lbl c0 trm \" ><a class=\" txtu hbo\" target=\"_blank\" href=\"https://shebanq.ancient-data.org/hebrew/word?version=c&amp;id=1LMH\" title=\"Show this on SHEBANQ\"><span class=\"txtu hbo\">לָ֤מָּה </span></a></div><div class='features'><span class=\"sp xft\" ><span class=\"f\">sp=</span>inrg</span></div></div><div class=\"contnr c0 trm rtl  \" ><div class=\"lbl c0 trm \" ><a class=\" txtu hbo\" target=\"_blank\" href=\"https://shebanq.ancient-data.org/hebrew/word?version=c&amp;id=1ZH\" title=\"Show this on SHEBANQ\"><span class=\"txtu hbo\">זֶּה֙ </span></a></div><div class='features'><span class=\"gn xft\" ><span class=\"f\">gn=</span>m</span><span class=\"nu xft\" ><span class=\"f\">nu=</span>sg</span><span class=\"sp xft\" ><span class=\"f\">sp=</span>prde</span></div></div></div></div><div class=\"contnr c1  rtl  \" ><div class=\"lbl c1  \" ><span class=\"nd\">phrase</span></div><div class=\"children hor wrap rtl\"><div class=\"contnr c0 trm rtl  hl\" ><div class=\"lbl c0 trm hl\" ><a class=\" txtu hbo\" target=\"_blank\" href=\"https://shebanq.ancient-data.org/hebrew/word?version=c&amp;id=1OZBv\" title=\"Show this on SHEBANQ\"><span class=\"txtu hbo\">עֲזַבְתֶּ֣ן </span></a></div><div class='features'><span class=\"gn xft\" ><span class=\"f\">gn=</span>f</span><span class=\"nu xft\" ><span class=\"f\">nu=</span>pl</span><span class=\"sp xft\" ><span class=\"f\">sp=</span>verb</span></div></div></div></div><div class=\"contnr c1  rtl  \" ><div class=\"lbl c1  \" ><span class=\"nd\">phrase</span></div><div class=\"children hor wrap rtl\"><div class=\"contnr c0 trm rtl  \" ><div class=\"lbl c0 trm \" ><a class=\" txtu hbo\" target=\"_blank\" href=\"https://shebanq.ancient-data.org/hebrew/word?version=c&amp;id=1AT\" title=\"Show this on SHEBANQ\"><span class=\"txtu hbo\">אֶת־</span></a></div><div class='features'><span class=\"sp xft\" ><span class=\"f\">sp=</span>prep</span></div></div><div class=\"contnr c0 trm rtl  \" ><div class=\"lbl c0 trm \" ><a class=\" txtu hbo\" target=\"_blank\" href=\"https://shebanq.ancient-data.org/hebrew/word?version=c&amp;id=1H\" title=\"Show this on SHEBANQ\"><span class=\"txtu hbo\">הָ</span></a></div><div class='features'><span class=\"sp xft\" ><span class=\"f\">sp=</span>art</span></div></div><div class=\"contnr c0 trm rtl  hl\" ><div class=\"lbl c0 trm hl\" ><a class=\" txtu hbo\" target=\"_blank\" href=\"https://shebanq.ancient-data.org/hebrew/word?version=c&amp;id=1AJCn\" title=\"Show this on SHEBANQ\"><span class=\"txtu hbo\">אִ֔ישׁ </span></a></div><div class='features'><span class=\"gn xft\" ><span class=\"f\">gn=</span>m</span><span class=\"nu xft\" ><span class=\"f\">nu=</span>sg</span><span class=\"sp xft\" ><span class=\"f\">sp=</span>subs</span></div></div></div></div></div></div></div></div><div class=\"contnr c2  rtl  \" ><div class=\"lbl c2  \" ><span class=\"nd\">sentence</span></div><div class=\"children hor wrap rtl\"><div class=\"contnr c2  rtl  \" ><div class=\"lbl c2  \" ><span class=\"nd\">clause</span></div><div class=\"children hor wrap rtl\"><div class=\"contnr c1  rtl  \" ><div class=\"lbl c1  \" ><span class=\"nd\">phrase</span></div><div class=\"children hor wrap rtl\"><div class=\"contnr c0 trm rtl  \" ><div class=\"lbl c0 trm \" ><a class=\" txtu hbo\" target=\"_blank\" href=\"https://shebanq.ancient-data.org/hebrew/word?version=c&amp;id=1QRAv\" title=\"Show this on SHEBANQ\"><span class=\"txtu hbo\">קִרְאֶ֥ן </span></a></div><div class='features'><span class=\"gn xft\" ><span class=\"f\">gn=</span>f</span><span class=\"nu xft\" ><span class=\"f\">nu=</span>pl</span><span class=\"sp xft\" ><span class=\"f\">sp=</span>verb</span></div></div></div></div><div class=\"contnr c1  rtl  \" ><div class=\"lbl c1  \" ><span class=\"nd\">phrase</span></div><div class=\"children hor wrap rtl\"><div class=\"contnr c0 trm rtl  \" ><div class=\"lbl c0 trm \" ><a class=\" txtu hbo\" target=\"_blank\" href=\"https://shebanq.ancient-data.org/hebrew/word?version=c&amp;id=1L\" title=\"Show this on SHEBANQ\"><span class=\"txtu hbo\">לֹ֖ו </span></a></div><div class='features'><span class=\"sp xft\" ><span class=\"f\">sp=</span>prep</span></div></div></div></div></div></div></div></div><div class=\"contnr c2  rtl  \" ><div class=\"lbl c2  \" ><span class=\"nd\">sentence</span></div><div class=\"children hor wrap rtl\"><div class=\"contnr c2  rtl  \" ><div class=\"lbl c2  \" ><span class=\"nd\">clause</span></div><div class=\"children hor wrap rtl\"><div class=\"contnr c1  rtl  \" ><div class=\"lbl c1  \" ><span class=\"nd\">phrase</span></div><div class=\"children hor wrap rtl\"><div class=\"contnr c0 trm rtl  \" ><div class=\"lbl c0 trm \" ><a class=\" txtu hbo\" target=\"_blank\" href=\"https://shebanq.ancient-data.org/hebrew/word?version=c&amp;id=1W\" title=\"Show this on SHEBANQ\"><span class=\"txtu hbo\">וְ</span></a></div><div class='features'><span class=\"sp xft\" ><span class=\"f\">sp=</span>conj</span></div></div></div></div><div class=\"contnr c1  rtl  \" ><div class=\"lbl c1  \" ><span class=\"nd\">phrase</span></div><div class=\"children hor wrap rtl\"><div class=\"contnr c0 trm rtl  \" ><div class=\"lbl c0 trm \" ><a class=\" txtu hbo\" target=\"_blank\" href=\"https://shebanq.ancient-data.org/hebrew/word?version=c&amp;id=1AKLv\" title=\"Show this on SHEBANQ\"><span class=\"txtu hbo\">יֹ֥אכַל </span></a></div><div class='features'><span class=\"gn xft\" ><span class=\"f\">gn=</span>m</span><span class=\"nu xft\" ><span class=\"f\">nu=</span>sg</span><span class=\"sp xft\" ><span class=\"f\">sp=</span>verb</span></div></div></div></div><div class=\"contnr c1  rtl  \" ><div class=\"lbl c1  \" ><span class=\"nd\">phrase</span></div><div class=\"children hor wrap rtl\"><div class=\"contnr c0 trm rtl  \" ><div class=\"lbl c0 trm \" ><a class=\" txtu hbo\" target=\"_blank\" href=\"https://shebanq.ancient-data.org/hebrew/word?version=c&amp;id=1LXMn\" title=\"Show this on SHEBANQ\"><span class=\"txtu hbo\">לָֽחֶם׃ </span></a></div><div class='features'><span class=\"nu xft\" ><span class=\"f\">nu=</span>sg</span><span class=\"sp xft\" ><span class=\"f\">sp=</span>subs</span></div></div></div></div></div></div></div></div></div></div></div>"
                        ]
                    },
                    "metadata": {}
                }
            ],
            "metadata": {}
        },
        {
            "cell_type": "markdown",
            "source": [
                "That results list was more than I bargained for. But impressive.\r\n",
                "\r\n",
                "Presumably then the `table` method is more table-like..."
            ],
            "metadata": {}
        },
        {
            "cell_type": "code",
            "execution_count": 40,
            "source": [
                "A.table(results)"
            ],
            "outputs": [
                {
                    "output_type": "display_data",
                    "data": {
                        "text/plain": [
                            "<IPython.core.display.HTML object>"
                        ],
                        "text/html": [
                            "<table><tr class=\"tf rtl\"><th class=\"tf rtl\">n</th><th class=\"tf rtl\">p</th><th class=\"tf rtl\">book</th><th class=\"tf\">chapter</th><th class=\"tf\">sentence</th><th class=\"tf\">word</th><th class=\"tf\">word</th></tr>\n",
                            "<tr class=\"tf rtl\"><td class=\"tf rtl\">1</td><td class=\"tf rtl\"><span class=\"tfsechead ltr\"><a target=\"_blank\" href=\"https://shebanq.ancient-data.org/hebrew/text?book=Exodus&amp;chapter=2&amp;verse=16&amp;version=c&amp;mr=m&amp;qw=q&amp;tp=txt_p&amp;tr=hb&amp;wget=v&amp;qget=v&amp;nget=vt\" title=\"Show this on SHEBANQ\" sec=\"Exodus 2:16\">Exodus 2:16</a></span></td><td class=\"tf rtl\"><span class=\"rtl ubd\"><span class=\"txtu hbo rtl\"><span class=\"tfsechead\">Exodus</span></span></span></td><td class=\"tf rtl\"><span class=\"rtl ubd\"><span class=\"txtu hbo rtl\"><span class=\"tfsechead\">Exodus 2</span></span></span></td><td class=\"tf rtl\"><span class=\"rtl ubd\"><span class=\"plain rtl  hlbx\" ><span class=\"txtu hbo\">וַ</span><span class=\"plain rtl  hl\" ><span class=\"txtu hbo\">תְּמַלֶּ֨אנָה֙ </span></span><span class=\"txtu hbo\">אֶת־</span><span class=\"txtu hbo\">הָ֣</span><span class=\"txtu hbo\">רְהָטִ֔ים </span><span class=\"txtu hbo\">לְ</span><span class=\"txtu hbo\">הַשְׁקֹ֖ות </span><span class=\"txtu hbo\">צֹ֥אן </span><span class=\"plain rtl  hl\" ><span class=\"txtu hbo\">אֲבִיהֶֽן׃ </span></span></span></span></td><td class=\"tf rtl\"><span class=\"rtl ubd\"><span class=\"plain rtl  hl\" ><span class=\"txtu hbo\">תְּמַלֶּ֨אנָה֙ </span></span></span></td><td class=\"tf rtl\"><span class=\"rtl ubd\"><span class=\"plain rtl  hl\" ><span class=\"txtu hbo\">אֲבִיהֶֽן׃ </span></span></span></td></tr>\n",
                            "<tr class=\"tf rtl\"><td class=\"tf rtl\">2</td><td class=\"tf rtl\"><span class=\"tfsechead ltr\"><a target=\"_blank\" href=\"https://shebanq.ancient-data.org/hebrew/text?book=Exodus&amp;chapter=2&amp;verse=18&amp;version=c&amp;mr=m&amp;qw=q&amp;tp=txt_p&amp;tr=hb&amp;wget=v&amp;qget=v&amp;nget=vt\" title=\"Show this on SHEBANQ\" sec=\"Exodus 2:18\">Exodus 2:18</a></span></td><td class=\"tf rtl\"><span class=\"rtl ubd\"><span class=\"txtu hbo rtl\"><span class=\"tfsechead\">Exodus</span></span></span></td><td class=\"tf rtl\"><span class=\"rtl ubd\"><span class=\"txtu hbo rtl\"><span class=\"tfsechead\">Exodus 2</span></span></span></td><td class=\"tf rtl\"><span class=\"rtl ubd\"><span class=\"plain rtl  hlbx\" ><span class=\"txtu hbo\">וַ</span><span class=\"plain rtl  hl\" ><span class=\"txtu hbo\">תָּבֹ֕אנָה </span></span><span class=\"txtu hbo\">אֶל־</span><span class=\"txtu hbo\">רְעוּאֵ֖ל </span><span class=\"plain rtl  hl\" ><span class=\"txtu hbo\">אֲבִיהֶ֑ן </span></span></span></span></td><td class=\"tf rtl\"><span class=\"rtl ubd\"><span class=\"plain rtl  hl\" ><span class=\"txtu hbo\">תָּבֹ֕אנָה </span></span></span></td><td class=\"tf rtl\"><span class=\"rtl ubd\"><span class=\"plain rtl  hl\" ><span class=\"txtu hbo\">אֲבִיהֶ֑ן </span></span></span></td></tr>\n",
                            "<tr class=\"tf rtl\"><td class=\"tf rtl\">3</td><td class=\"tf rtl\"><span class=\"tfsechead ltr\"><a target=\"_blank\" href=\"https://shebanq.ancient-data.org/hebrew/text?book=Exodus&amp;chapter=2&amp;verse=20&amp;version=c&amp;mr=m&amp;qw=q&amp;tp=txt_p&amp;tr=hb&amp;wget=v&amp;qget=v&amp;nget=vt\" title=\"Show this on SHEBANQ\" sec=\"Exodus 2:20\">Exodus 2:20</a></span></td><td class=\"tf rtl\"><span class=\"rtl ubd\"><span class=\"txtu hbo rtl\"><span class=\"tfsechead\">Exodus</span></span></span></td><td class=\"tf rtl\"><span class=\"rtl ubd\"><span class=\"txtu hbo rtl\"><span class=\"tfsechead\">Exodus 2</span></span></span></td><td class=\"tf rtl\"><span class=\"rtl ubd\"><span class=\"plain rtl  hlbx\" ><span class=\"txtu hbo\">לָ֤מָּה </span><span class=\"txtu hbo\">זֶּה֙ </span><span class=\"plain rtl  hl\" ><span class=\"txtu hbo\">עֲזַבְתֶּ֣ן </span></span><span class=\"txtu hbo\">אֶת־</span><span class=\"txtu hbo\">הָ</span><span class=\"plain rtl  hl\" ><span class=\"txtu hbo\">אִ֔ישׁ </span></span></span></span></td><td class=\"tf rtl\"><span class=\"rtl ubd\"><span class=\"plain rtl  hl\" ><span class=\"txtu hbo\">עֲזַבְתֶּ֣ן </span></span></span></td><td class=\"tf rtl\"><span class=\"rtl ubd\"><span class=\"plain rtl  hl\" ><span class=\"txtu hbo\">אִ֔ישׁ </span></span></span></td></tr></table>"
                        ]
                    },
                    "metadata": {}
                }
            ],
            "metadata": {}
        },
        {
            "cell_type": "markdown",
            "source": [
                "Perfect. And that's enough for today."
            ],
            "metadata": {}
        }
    ],
    "metadata": {
        "orig_nbformat": 4,
        "language_info": {
            "name": "python",
            "version": "3.8.5",
            "mimetype": "text/x-python",
            "codemirror_mode": {
                "name": "ipython",
                "version": 3
            },
            "pygments_lexer": "ipython3",
            "nbconvert_exporter": "python",
            "file_extension": ".py"
        },
        "kernelspec": {
            "name": "python3",
            "display_name": "Python 3.8.5 64-bit ('base': conda)"
        },
        "interpreter": {
            "hash": "a707b6ce8c685eb936424fcc3009d4b4b7a52543c4db09380a3fc49186ceb509"
        }
    },
    "nbformat": 4,
    "nbformat_minor": 2
}