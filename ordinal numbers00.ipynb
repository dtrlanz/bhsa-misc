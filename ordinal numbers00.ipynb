{
 "cells": [
  {
   "cell_type": "code",
   "execution_count": 1,
   "source": [
    "from tf.app import use\r\n",
    "A = use('bhsa')\r\n",
    "F = A.TF.api.F"
   ],
   "outputs": [
    {
     "output_type": "display_data",
     "data": {
      "text/html": [
       "<b title=\"local release\">TF-app:</b> <span title=\"rv2.3.0=#113c0687cfce3077734dac1844d244d20f4ace6f offline under ~/text-fabric-data\">C:\\Users\\ittai_n0vs94x/text-fabric-data/annotation/app-bhsa/code</span>"
      ],
      "text/plain": [
       "<IPython.core.display.HTML object>"
      ]
     },
     "metadata": {}
    },
    {
     "output_type": "display_data",
     "data": {
      "text/html": [
       "<b title=\"local release\">data:</b> <span title=\"rv1.6=#bac4a9f5a2bbdede96ba6caea45e762fe88f88c5 offline under ~/text-fabric-data\">C:\\Users\\ittai_n0vs94x/text-fabric-data/etcbc/bhsa/tf/c</span>"
      ],
      "text/plain": [
       "<IPython.core.display.HTML object>"
      ]
     },
     "metadata": {}
    },
    {
     "output_type": "display_data",
     "data": {
      "text/html": [
       "<b title=\"local release\">data:</b> <span title=\"r1.2=#1ac68e976ee4a7f23eb6bb4c6f401a033d0ec169 offline under ~/text-fabric-data\">C:\\Users\\ittai_n0vs94x/text-fabric-data/etcbc/phono/tf/c</span>"
      ],
      "text/plain": [
       "<IPython.core.display.HTML object>"
      ]
     },
     "metadata": {}
    },
    {
     "output_type": "display_data",
     "data": {
      "text/html": [
       "<b title=\"local release\">data:</b> <span title=\"r1.2=#395dfe2cb69c261862fab9f0289e594a52121d5c offline under ~/text-fabric-data\">C:\\Users\\ittai_n0vs94x/text-fabric-data/etcbc/parallels/tf/c</span>"
      ],
      "text/plain": [
       "<IPython.core.display.HTML object>"
      ]
     },
     "metadata": {}
    },
    {
     "output_type": "stream",
     "name": "stdout",
     "text": [
      "This is Text-Fabric 9.0.0\n",
      "Api reference : https://annotation.github.io/text-fabric/tf/cheatsheet.html\n",
      "\n",
      "120 features found and 0 ignored\n"
     ]
    },
    {
     "output_type": "display_data",
     "data": {
      "text/html": [
       "<b>Text-Fabric:</b> <a target=\"_blank\" href=\"https://annotation.github.io/text-fabric/tf/cheatsheet.html\" title=\"text-fabric-api\">Text-Fabric API 9.0.0</a>, <a target=\"_blank\" href=\"https://github.com/annotation/app-bhsa\" title=\"bhsa TF-app\">app-bhsa v3</a>, <a target=\"_blank\" href=\"https://annotation.github.io/text-fabric/tf/about/searchusage.html\" title=\"Search Templates Introduction and Reference\">Search Reference</a><br><b>Data:</b> <a target=\"_blank\" href=\"https://etcbc.github.io/bhsa/0_home\" title=\"provenance of BHSA = Biblia Hebraica Stuttgartensia Amstelodamensis\">BHSA</a>, <a target=\"_blank\" href=\"https://annotation.github.io/text-fabric/tf/writing/hebrew.html\" title=\"How TF features represent text\">Character table</a>, <a target=\"_blank\" href=\"https://etcbc.github.io/bhsa/features/0_home\" title=\"BHSA feature documentation\">Feature docs</a><br><b>Features:</b><br><details><summary><b>Parallel Passages</b></summary><b><i><a target=\"_blank\" href=\"https://nbviewer.jupyter.org/github/etcbc/parallels/blob/master/programs/parallels.ipynb\" title=\"C:\\Users\\ittai_n0vs94x/text-fabric-data/etcbc/parallels/tf/c/crossref.tf\">crossref</a></i></b><br></details><details><summary><b>BHSA = Biblia Hebraica Stuttgartensia Amstelodamensis</b></summary><a target=\"_blank\" href=\"https://etcbc.github.io/bhsa/features/book\" title=\"C:\\Users\\ittai_n0vs94x/text-fabric-data/etcbc/bhsa/tf/c/book.tf\">book</a><br><a target=\"_blank\" href=\"https://etcbc.github.io/bhsa/features/book@ll\" title=\"C:\\Users\\ittai_n0vs94x/text-fabric-data/etcbc/bhsa/tf/c/book@am.tf\">book@ll</a><br><a target=\"_blank\" href=\"https://etcbc.github.io/bhsa/features/chapter\" title=\"C:\\Users\\ittai_n0vs94x/text-fabric-data/etcbc/bhsa/tf/c/chapter.tf\">chapter</a><br><a target=\"_blank\" href=\"https://etcbc.github.io/bhsa/features/code\" title=\"C:\\Users\\ittai_n0vs94x/text-fabric-data/etcbc/bhsa/tf/c/code.tf\">code</a><br><a target=\"_blank\" href=\"https://etcbc.github.io/bhsa/features/det\" title=\"C:\\Users\\ittai_n0vs94x/text-fabric-data/etcbc/bhsa/tf/c/det.tf\">det</a><br><a target=\"_blank\" href=\"https://etcbc.github.io/bhsa/features/domain\" title=\"C:\\Users\\ittai_n0vs94x/text-fabric-data/etcbc/bhsa/tf/c/domain.tf\">domain</a><br><a target=\"_blank\" href=\"https://etcbc.github.io/bhsa/features/freq_lex\" title=\"C:\\Users\\ittai_n0vs94x/text-fabric-data/etcbc/bhsa/tf/c/freq_lex.tf\">freq_lex</a><br><a target=\"_blank\" href=\"https://etcbc.github.io/bhsa/features/function\" title=\"C:\\Users\\ittai_n0vs94x/text-fabric-data/etcbc/bhsa/tf/c/function.tf\">function</a><br><a target=\"_blank\" href=\"https://etcbc.github.io/bhsa/features/g_cons\" title=\"C:\\Users\\ittai_n0vs94x/text-fabric-data/etcbc/bhsa/tf/c/g_cons.tf\">g_cons</a><br><a target=\"_blank\" href=\"https://etcbc.github.io/bhsa/features/g_cons_utf8\" title=\"C:\\Users\\ittai_n0vs94x/text-fabric-data/etcbc/bhsa/tf/c/g_cons_utf8.tf\">g_cons_utf8</a><br><a target=\"_blank\" href=\"https://etcbc.github.io/bhsa/features/g_lex\" title=\"C:\\Users\\ittai_n0vs94x/text-fabric-data/etcbc/bhsa/tf/c/g_lex.tf\">g_lex</a><br><a target=\"_blank\" href=\"https://etcbc.github.io/bhsa/features/g_lex_utf8\" title=\"C:\\Users\\ittai_n0vs94x/text-fabric-data/etcbc/bhsa/tf/c/g_lex_utf8.tf\">g_lex_utf8</a><br><a target=\"_blank\" href=\"https://etcbc.github.io/bhsa/features/g_word\" title=\"C:\\Users\\ittai_n0vs94x/text-fabric-data/etcbc/bhsa/tf/c/g_word.tf\">g_word</a><br><a target=\"_blank\" href=\"https://etcbc.github.io/bhsa/features/g_word_utf8\" title=\"C:\\Users\\ittai_n0vs94x/text-fabric-data/etcbc/bhsa/tf/c/g_word_utf8.tf\">g_word_utf8</a><br><a target=\"_blank\" href=\"https://etcbc.github.io/bhsa/features/gloss\" title=\"C:\\Users\\ittai_n0vs94x/text-fabric-data/etcbc/bhsa/tf/c/gloss.tf\">gloss</a><br><a target=\"_blank\" href=\"https://etcbc.github.io/bhsa/features/gn\" title=\"C:\\Users\\ittai_n0vs94x/text-fabric-data/etcbc/bhsa/tf/c/gn.tf\">gn</a><br><a target=\"_blank\" href=\"https://etcbc.github.io/bhsa/features/label\" title=\"C:\\Users\\ittai_n0vs94x/text-fabric-data/etcbc/bhsa/tf/c/label.tf\">label</a><br><a target=\"_blank\" href=\"https://etcbc.github.io/bhsa/features/language\" title=\"C:\\Users\\ittai_n0vs94x/text-fabric-data/etcbc/bhsa/tf/c/language.tf\">language</a><br><a target=\"_blank\" href=\"https://etcbc.github.io/bhsa/features/lex\" title=\"C:\\Users\\ittai_n0vs94x/text-fabric-data/etcbc/bhsa/tf/c/lex.tf\">lex</a><br><a target=\"_blank\" href=\"https://etcbc.github.io/bhsa/features/lex_utf8\" title=\"C:\\Users\\ittai_n0vs94x/text-fabric-data/etcbc/bhsa/tf/c/lex_utf8.tf\">lex_utf8</a><br><a target=\"_blank\" href=\"https://etcbc.github.io/bhsa/features/ls\" title=\"C:\\Users\\ittai_n0vs94x/text-fabric-data/etcbc/bhsa/tf/c/ls.tf\">ls</a><br><a target=\"_blank\" href=\"https://etcbc.github.io/bhsa/features/nametype\" title=\"C:\\Users\\ittai_n0vs94x/text-fabric-data/etcbc/bhsa/tf/c/nametype.tf\">nametype</a><br><a target=\"_blank\" href=\"https://etcbc.github.io/bhsa/features/nme\" title=\"C:\\Users\\ittai_n0vs94x/text-fabric-data/etcbc/bhsa/tf/c/nme.tf\">nme</a><br><a target=\"_blank\" href=\"https://etcbc.github.io/bhsa/features/nu\" title=\"C:\\Users\\ittai_n0vs94x/text-fabric-data/etcbc/bhsa/tf/c/nu.tf\">nu</a><br><a target=\"_blank\" href=\"https://etcbc.github.io/bhsa/features/number\" title=\"C:\\Users\\ittai_n0vs94x/text-fabric-data/etcbc/bhsa/tf/c/number.tf\">number</a><br><a target=\"_blank\" href=\"https://etcbc.github.io/bhsa/features/otype\" title=\"C:\\Users\\ittai_n0vs94x/text-fabric-data/etcbc/bhsa/tf/c/otype.tf\">otype</a><br><a target=\"_blank\" href=\"https://etcbc.github.io/bhsa/features/pargr\" title=\"C:\\Users\\ittai_n0vs94x/text-fabric-data/etcbc/bhsa/tf/c/pargr.tf\">pargr</a><br><a target=\"_blank\" href=\"https://etcbc.github.io/bhsa/features/pdp\" title=\"C:\\Users\\ittai_n0vs94x/text-fabric-data/etcbc/bhsa/tf/c/pdp.tf\">pdp</a><br><a target=\"_blank\" href=\"https://etcbc.github.io/bhsa/features/pfm\" title=\"C:\\Users\\ittai_n0vs94x/text-fabric-data/etcbc/bhsa/tf/c/pfm.tf\">pfm</a><br><a target=\"_blank\" href=\"https://etcbc.github.io/bhsa/features/prs\" title=\"C:\\Users\\ittai_n0vs94x/text-fabric-data/etcbc/bhsa/tf/c/prs.tf\">prs</a><br><a target=\"_blank\" href=\"https://etcbc.github.io/bhsa/features/prs_gn\" title=\"C:\\Users\\ittai_n0vs94x/text-fabric-data/etcbc/bhsa/tf/c/prs_gn.tf\">prs_gn</a><br><a target=\"_blank\" href=\"https://etcbc.github.io/bhsa/features/prs_nu\" title=\"C:\\Users\\ittai_n0vs94x/text-fabric-data/etcbc/bhsa/tf/c/prs_nu.tf\">prs_nu</a><br><a target=\"_blank\" href=\"https://etcbc.github.io/bhsa/features/prs_ps\" title=\"C:\\Users\\ittai_n0vs94x/text-fabric-data/etcbc/bhsa/tf/c/prs_ps.tf\">prs_ps</a><br><a target=\"_blank\" href=\"https://etcbc.github.io/bhsa/features/ps\" title=\"C:\\Users\\ittai_n0vs94x/text-fabric-data/etcbc/bhsa/tf/c/ps.tf\">ps</a><br><a target=\"_blank\" href=\"https://etcbc.github.io/bhsa/features/qere\" title=\"C:\\Users\\ittai_n0vs94x/text-fabric-data/etcbc/bhsa/tf/c/qere.tf\">qere</a><br><a target=\"_blank\" href=\"https://etcbc.github.io/bhsa/features/qere_trailer\" title=\"C:\\Users\\ittai_n0vs94x/text-fabric-data/etcbc/bhsa/tf/c/qere_trailer.tf\">qere_trailer</a><br><a target=\"_blank\" href=\"https://etcbc.github.io/bhsa/features/qere_trailer_utf8\" title=\"C:\\Users\\ittai_n0vs94x/text-fabric-data/etcbc/bhsa/tf/c/qere_trailer_utf8.tf\">qere_trailer_utf8</a><br><a target=\"_blank\" href=\"https://etcbc.github.io/bhsa/features/qere_utf8\" title=\"C:\\Users\\ittai_n0vs94x/text-fabric-data/etcbc/bhsa/tf/c/qere_utf8.tf\">qere_utf8</a><br><a target=\"_blank\" href=\"https://etcbc.github.io/bhsa/features/rank_lex\" title=\"C:\\Users\\ittai_n0vs94x/text-fabric-data/etcbc/bhsa/tf/c/rank_lex.tf\">rank_lex</a><br><a target=\"_blank\" href=\"https://etcbc.github.io/bhsa/features/rela\" title=\"C:\\Users\\ittai_n0vs94x/text-fabric-data/etcbc/bhsa/tf/c/rela.tf\">rela</a><br><a target=\"_blank\" href=\"https://etcbc.github.io/bhsa/features/sp\" title=\"C:\\Users\\ittai_n0vs94x/text-fabric-data/etcbc/bhsa/tf/c/sp.tf\">sp</a><br><a target=\"_blank\" href=\"https://etcbc.github.io/bhsa/features/st\" title=\"C:\\Users\\ittai_n0vs94x/text-fabric-data/etcbc/bhsa/tf/c/st.tf\">st</a><br><a target=\"_blank\" href=\"https://etcbc.github.io/bhsa/features/tab\" title=\"C:\\Users\\ittai_n0vs94x/text-fabric-data/etcbc/bhsa/tf/c/tab.tf\">tab</a><br><a target=\"_blank\" href=\"https://etcbc.github.io/bhsa/features/trailer\" title=\"C:\\Users\\ittai_n0vs94x/text-fabric-data/etcbc/bhsa/tf/c/trailer.tf\">trailer</a><br><a target=\"_blank\" href=\"https://etcbc.github.io/bhsa/features/trailer_utf8\" title=\"C:\\Users\\ittai_n0vs94x/text-fabric-data/etcbc/bhsa/tf/c/trailer_utf8.tf\">trailer_utf8</a><br><a target=\"_blank\" href=\"https://etcbc.github.io/bhsa/features/txt\" title=\"C:\\Users\\ittai_n0vs94x/text-fabric-data/etcbc/bhsa/tf/c/txt.tf\">txt</a><br><a target=\"_blank\" href=\"https://etcbc.github.io/bhsa/features/typ\" title=\"C:\\Users\\ittai_n0vs94x/text-fabric-data/etcbc/bhsa/tf/c/typ.tf\">typ</a><br><a target=\"_blank\" href=\"https://etcbc.github.io/bhsa/features/uvf\" title=\"C:\\Users\\ittai_n0vs94x/text-fabric-data/etcbc/bhsa/tf/c/uvf.tf\">uvf</a><br><a target=\"_blank\" href=\"https://etcbc.github.io/bhsa/features/vbe\" title=\"C:\\Users\\ittai_n0vs94x/text-fabric-data/etcbc/bhsa/tf/c/vbe.tf\">vbe</a><br><a target=\"_blank\" href=\"https://etcbc.github.io/bhsa/features/vbs\" title=\"C:\\Users\\ittai_n0vs94x/text-fabric-data/etcbc/bhsa/tf/c/vbs.tf\">vbs</a><br><a target=\"_blank\" href=\"https://etcbc.github.io/bhsa/features/verse\" title=\"C:\\Users\\ittai_n0vs94x/text-fabric-data/etcbc/bhsa/tf/c/verse.tf\">verse</a><br><a target=\"_blank\" href=\"https://etcbc.github.io/bhsa/features/voc_lex\" title=\"C:\\Users\\ittai_n0vs94x/text-fabric-data/etcbc/bhsa/tf/c/voc_lex.tf\">voc_lex</a><br><a target=\"_blank\" href=\"https://etcbc.github.io/bhsa/features/voc_lex_utf8\" title=\"C:\\Users\\ittai_n0vs94x/text-fabric-data/etcbc/bhsa/tf/c/voc_lex_utf8.tf\">voc_lex_utf8</a><br><a target=\"_blank\" href=\"https://etcbc.github.io/bhsa/features/vs\" title=\"C:\\Users\\ittai_n0vs94x/text-fabric-data/etcbc/bhsa/tf/c/vs.tf\">vs</a><br><a target=\"_blank\" href=\"https://etcbc.github.io/bhsa/features/vt\" title=\"C:\\Users\\ittai_n0vs94x/text-fabric-data/etcbc/bhsa/tf/c/vt.tf\">vt</a><br><b><i><a target=\"_blank\" href=\"https://etcbc.github.io/bhsa/features/mother\" title=\"C:\\Users\\ittai_n0vs94x/text-fabric-data/etcbc/bhsa/tf/c/mother.tf\">mother</a></i></b><br><b><i><a target=\"_blank\" href=\"https://etcbc.github.io/bhsa/features/oslots\" title=\"C:\\Users\\ittai_n0vs94x/text-fabric-data/etcbc/bhsa/tf/c/oslots.tf\">oslots</a></i></b><br></details><details><summary><b>Phonetic Transcriptions</b></summary><a target=\"_blank\" href=\"https://nbviewer.jupyter.org/github/etcbc/phono/blob/master/programs/phono.ipynb\" title=\"C:\\Users\\ittai_n0vs94x/text-fabric-data/etcbc/phono/tf/c/phono.tf\">phono</a><br><a target=\"_blank\" href=\"https://nbviewer.jupyter.org/github/etcbc/phono/blob/master/programs/phono.ipynb\" title=\"C:\\Users\\ittai_n0vs94x/text-fabric-data/etcbc/phono/tf/c/phono_trailer.tf\">phono_trailer</a><br></details>"
      ],
      "text/plain": [
       "<IPython.core.display.HTML object>"
      ]
     },
     "metadata": {}
    },
    {
     "output_type": "display_data",
     "data": {
      "text/html": [
       "<style>tr.tf.ltr, td.tf.ltr, th.tf.ltr { text-align: left ! important;}\n",
       "tr.tf.rtl, td.tf.rtl, th.tf.rtl { text-align: right ! important;}\n",
       "@font-face {\n",
       "  font-family: \"Gentium Plus\";\n",
       "  src: local('Gentium Plus'), local('GentiumPlus'),\n",
       "    url('/server/static/fonts/GentiumPlus-R.woff') format('woff'),\n",
       "    url('https://github.com/annotation/text-fabric/blob/master/tf/server/static/fonts/GentiumPlus-R.woff?raw=true') format('woff');\n",
       "}\n",
       "\n",
       "@font-face {\n",
       "  font-family: \"Ezra SIL\";\n",
       "  src: local('Ezra SIL'), local('EzraSIL'),\n",
       "    url('/server/static/fonts/SILEOT.woff') format('woff'),\n",
       "    url('https://github.com/annotation/text-fabric/blob/master/tf/server/static/fonts/SILEOT.woff?raw=true') format('woff');\n",
       "}\n",
       "\n",
       "@font-face {\n",
       "  font-family: \"SBL Hebrew\";\n",
       "  src: local('SBL Hebrew'), local('SBLHebrew'),\n",
       "    url('/server/static/fonts/SBL_Hbrw.woff') format('woff'),\n",
       "    url('https://github.com/annotation/text-fabric/blob/master/tf/server/static/fonts/SBL_Hbrw.woff?raw=true') format('woff');\n",
       "}\n",
       "\n",
       "@font-face {\n",
       "  font-family: \"Estrangelo Edessa\";\n",
       "  src: local('Estrangelo Edessa'), local('EstrangeloEdessa');\n",
       "    url('/server/static/fonts/SyrCOMEdessa.woff') format('woff'),\n",
       "    url('https://github.com/annotation/text-fabric/blob/master/tf/server/static/fonts/SyrCOMEdessa.woff?raw=true') format('woff');\n",
       "}\n",
       "\n",
       "@font-face {\n",
       "  font-family: AmiriQuran;\n",
       "  font-style: normal;\n",
       "  font-weight: 400;\n",
       "  src: local('Amiri Quran'), local('AmiriQuran'),\n",
       "    url('/server/static/fonts/AmiriQuran.woff') format('woff'),\n",
       "    url('https://github.com/annotation/text-fabric/blob/master/tf/server/static/fonts/AmiriQuran.woff?raw=true') format('woff');\n",
       "}\n",
       "\n",
       "@font-face {\n",
       "  font-family: AmiriQuranColored;\n",
       "  font-style: normal;\n",
       "  font-weight: 400;\n",
       "  src: local('Amiri Quran Colored'), local('AmiriQuranColored'),\n",
       "    url('/server/static/fonts/AmiriQuranColored.woff') format('woff'),\n",
       "    url('https://github.com/annotation/text-fabric/blob/master/tf/server/static/fonts/AmiriQuranColored.woff?raw=true') format('woff');\n",
       "}\n",
       "\n",
       "@font-face {\n",
       "  font-family: \"Santakku\";\n",
       "  src: local('Santakku'),\n",
       "    url('/server/static/fonts/Santakku.woff') format('woff'),\n",
       "    url('https://github.com/annotation/text-fabric/blob/master/tf/server/static/fonts/Santakku.woff?raw=true') format('woff');\n",
       "}\n",
       "\n",
       "@font-face {\n",
       "  font-family: \"SantakkuM\";\n",
       "  src: local('SantakkuM'),\n",
       "    url('/server/static/fonts/SantakkuM.woff') format('woff'),\n",
       "    url('https://github.com/annotation/text-fabric/blob/master/tf/server/static/fonts/SantakkuM.woff?raw=true') format('woff');\n",
       "}\n",
       "/* bypassing some classical notebook settings */\n",
       "div#notebook {\n",
       "  line-height: unset;\n",
       "}\n",
       "/* neutral text */\n",
       ".txtn,.txtn a:visited,.txtn a:link {\n",
       "    font-family: sans-serif;\n",
       "    font-size: medium;\n",
       "    direction: ltr;\n",
       "    unicode-bidi: embed;\n",
       "    text-decoration: none;\n",
       "    color: var(--text-color);\n",
       "}\n",
       "/* transcription text */\n",
       ".txtt,.txtt a:visited,.txtt a:link {\n",
       "    font-family: monospace;\n",
       "    font-size: medium;\n",
       "    direction: ltr;\n",
       "    unicode-bidi: embed;\n",
       "    text-decoration: none;\n",
       "    color: var(--text-color);\n",
       "}\n",
       "/* source text */\n",
       ".txto,.txto a:visited,.txto a:link {\n",
       "    font-family: serif;\n",
       "    font-size: medium;\n",
       "    direction: ltr;\n",
       "    unicode-bidi: embed;\n",
       "    text-decoration: none;\n",
       "    color: var(--text-color);\n",
       "}\n",
       "/* phonetic text */\n",
       ".txtp,.txtp a:visited,.txtp a:link {\n",
       "    font-family: Gentium, sans-serif;\n",
       "    font-size: medium;\n",
       "    direction: ltr;\n",
       "    unicode-bidi: embed;\n",
       "    text-decoration: none;\n",
       "    color: var(--text-color);\n",
       "}\n",
       "/* original script text */\n",
       ".txtu,.txtu a:visited,.txtu a:link {\n",
       "    font-family: Gentium, sans-serif;\n",
       "    font-size: medium;\n",
       "    text-decoration: none;\n",
       "    color: var(--text-color);\n",
       "}\n",
       "/* hebrew */\n",
       ".txtu.hbo,.lex.hbo {\n",
       "    font-family: \"Ezra SIL\", \"SBL Hebrew\", sans-serif;\n",
       "    font-size: large;\n",
       "    direction: rtl ! important;\n",
       "    unicode-bidi: embed;\n",
       "}\n",
       "/* syriac */\n",
       ".txtu.syc,.lex.syc {\n",
       "    font-family: \"Estrangelo Edessa\", sans-serif;\n",
       "    font-size: medium;\n",
       "    direction: rtl ! important;\n",
       "    unicode-bidi: embed;\n",
       "}\n",
       "/* neo aramaic */\n",
       ".txtu.cld,.lex.cld {\n",
       "    font-family: \"CharisSIL-R\", sans-serif;\n",
       "    font-size: medium;\n",
       "    direction: ltr ! important;\n",
       "    unicode-bidi: embed;\n",
       "}\n",
       "/* standard arabic */\n",
       ".txtu.ara,.lex.ara {\n",
       "    font-family: \"AmiriQuran\", sans-serif;\n",
       "    font-size: large;\n",
       "    direction: rtl ! important;\n",
       "    unicode-bidi: embed;\n",
       "}\n",
       "/* cuneiform */\n",
       ".txtu.akk,.lex.akk {\n",
       "    font-family: Santakku, sans-serif;\n",
       "    font-size: large;\n",
       "    direction: ltr ! important;\n",
       "    unicode-bidi: embed;\n",
       "}\n",
       "/* greek */\n",
       ".txtu.grc,.lex.grc a:link {\n",
       "    font-family: Gentium, sans-serif;\n",
       "    font-size: medium;\n",
       "    direction: ltr ! important;\n",
       "    unicode-bidi: embed;\n",
       "}\n",
       "a:hover {\n",
       "    text-decoration: underline | important;\n",
       "    color: #0000ff | important;\n",
       "}\n",
       ".ltr {\n",
       "    direction: ltr ! important;\n",
       "    unicode-bidi: embed;\n",
       "}\n",
       ".rtl {\n",
       "    direction: rtl ! important;\n",
       "    unicode-bidi: embed;\n",
       "}\n",
       ".ubd {\n",
       "    unicode-bidi: embed;\n",
       "}\n",
       ".col {\n",
       "   display: inline-block;\n",
       "}\n",
       ".features {\n",
       "    font-family: monospace;\n",
       "    font-size: medium;\n",
       "    font-weight: bold;\n",
       "    color: var(--features);\n",
       "    display: flex;\n",
       "    flex-flow: column nowrap;\n",
       "    justify-content: flex-start;\n",
       "    align-items: flex-start;\n",
       "    align-content: flex-start;\n",
       "    padding: 2px;\n",
       "    margin: 2px;\n",
       "    direction: ltr;\n",
       "    unicode-bidi: embed;\n",
       "    border: var(--meta-width) solid var(--meta-color);\n",
       "    border-radius: var(--meta-width);\n",
       "}\n",
       ".features div,.features span {\n",
       "    padding: 0;\n",
       "    margin: -2px 0;\n",
       "}\n",
       ".features .f {\n",
       "    font-family: sans-serif;\n",
       "    font-size: small;\n",
       "    font-weight: normal;\n",
       "    color: #5555bb;\n",
       "}\n",
       ".features .xft {\n",
       "  color: #000000;\n",
       "  background-color: #eeeeee;\n",
       "  font-size: medium;\n",
       "  margin: 2px 0px;\n",
       "}\n",
       ".features .xft .f {\n",
       "  color: #000000;\n",
       "  background-color: #eeeeee;\n",
       "  font-size: small;\n",
       "  font-weight: normal;\n",
       "}\n",
       ".tfsechead {\n",
       "    font-family: sans-serif;\n",
       "    font-size: small;\n",
       "    font-weight: bold;\n",
       "    color: var(--tfsechead);\n",
       "    unicode-bidi: embed;\n",
       "    text-align: start;\n",
       "}\n",
       ".structure {\n",
       "    font-family: sans-serif;\n",
       "    font-size: small;\n",
       "    font-weight: bold;\n",
       "    color: var(--structure);\n",
       "    unicode-bidi: embed;\n",
       "    text-align: start;\n",
       "}\n",
       ".comments {\n",
       "    display: flex;\n",
       "    justify-content: flex-start;\n",
       "    align-items: flex-start;\n",
       "    align-content: flex-start;\n",
       "    flex-flow: column nowrap;\n",
       "}\n",
       ".nd, a:link.nd {\n",
       "    font-family: sans-serif;\n",
       "    font-size: small;\n",
       "    color: var(--node);\n",
       "    vertical-align: super;\n",
       "    direction: ltr ! important;\n",
       "    unicode-bidi: embed;\n",
       "}\n",
       ".lex {\n",
       "  color: var(--lex-color);;\n",
       "}\n",
       ".children,.children.ltr {\n",
       "    display: flex;\n",
       "    border: 0;\n",
       "    background-color: #ffffff;\n",
       "    justify-content: flex-start;\n",
       "    align-items: flex-start;\n",
       "    align-content: flex-start;\n",
       "}\n",
       ".children.stretch {\n",
       "    align-items: stretch;\n",
       "}\n",
       ".children.hor {\n",
       "    flex-flow: row nowrap;\n",
       "}\n",
       ".children.hor.wrap {\n",
       "    flex-flow: row wrap;\n",
       "}\n",
       ".children.ver {\n",
       "    flex-flow: column nowrap;\n",
       "}\n",
       ".children.ver.wrap {\n",
       "    flex-flow: column wrap;\n",
       "}\n",
       ".contnr {\n",
       "    width: fit-content;\n",
       "    display: flex;\n",
       "    justify-content: flex-start;\n",
       "    align-items: flex-start;\n",
       "    align-content: flex-start;\n",
       "    flex-flow: column nowrap;\n",
       "    background: #ffffff none repeat scroll 0 0;\n",
       "    padding:  10px 2px 2px 2px;\n",
       "    margin: 16px 2px 2px 2px;\n",
       "    border-style: solid;\n",
       "    font-size: small;\n",
       "}\n",
       ".contnr.trm {\n",
       "    background-attachment: local;\n",
       "}\n",
       ".contnr.cnul {\n",
       "    padding:  0;\n",
       "    margin: 0;\n",
       "    border-style: solid;\n",
       "    font-size: xx-small;\n",
       "}\n",
       ".contnr.cnul,.lbl.cnul {\n",
       "    border-color: var(--border-color-nul);\n",
       "    border-width: var(--border-width-nul);\n",
       "    border-radius: var(--border-width-nul);\n",
       "}\n",
       ".contnr.c0,.lbl.c0 {\n",
       "    border-color: var(--border-color0);\n",
       "    border-width: var(--border-width0);\n",
       "    border-radius: var(--border-width0);\n",
       "}\n",
       ".contnr.c1,.lbl.c1 {\n",
       "    border-color: var(--border-color1);\n",
       "    border-width: var(--border-width1);\n",
       "    border-radius: var(--border-width1);\n",
       "}\n",
       ".contnr.c2,.lbl.c2 {\n",
       "    border-color: var(--border-color2);\n",
       "    border-width: var(--border-width2);\n",
       "    border-radius: var(--border-width2);\n",
       "}\n",
       ".contnr.c3,.lbl.c3 {\n",
       "    border-color: var(--border-color3);\n",
       "    border-width: var(--border-width3);\n",
       "    border-radius: var(--border-width3);\n",
       "}\n",
       ".contnr.c4,.lbl.c4 {\n",
       "    border-color: var(--border-color4);\n",
       "    border-width: var(--border-width4);\n",
       "    border-radius: var(--border-width4);\n",
       "}\n",
       "span.plain {\n",
       "    display: inline-block;\n",
       "    white-space: pre-wrap;\n",
       "}\n",
       ".plain {\n",
       "    background-color: #ffffff;\n",
       "}\n",
       ".plain.l,.contnr.l,.contnr.l>.lbl {\n",
       "    border-left-style: dotted\n",
       "}\n",
       ".plain.r,.contnr.r,.contnr.r>.lbl {\n",
       "    border-right-style: dotted\n",
       "}\n",
       ".plain.lno,.contnr.lno,.contnr.lno>.lbl {\n",
       "    border-left-style: none\n",
       "}\n",
       ".plain.rno,.contnr.rno,.contnr.rno>.lbl {\n",
       "    border-right-style: none\n",
       "}\n",
       ".plain.l {\n",
       "    padding-left: 4px;\n",
       "    margin-left: 2px;\n",
       "    border-width: var(--border-width-plain);\n",
       "}\n",
       ".plain.r {\n",
       "    padding-right: 4px;\n",
       "    margin-right: 2px;\n",
       "    border-width: var(--border-width-plain);\n",
       "}\n",
       ".lbl {\n",
       "    font-family: monospace;\n",
       "    margin-top: -24px;\n",
       "    margin-left: 20px;\n",
       "    background: #ffffff none repeat scroll 0 0;\n",
       "    padding: 0 6px;\n",
       "    border-style: solid;\n",
       "    display: block;\n",
       "    color: var(--label)\n",
       "}\n",
       ".lbl.trm {\n",
       "    background-attachment: local;\n",
       "    margin-top: 2px;\n",
       "    margin-left: 2px;\n",
       "    padding: 2px 2px;\n",
       "    border-style: none;\n",
       "}\n",
       ".lbl.cnul {\n",
       "    font-size: xx-small;\n",
       "}\n",
       ".lbl.c0 {\n",
       "    font-size: small;\n",
       "}\n",
       ".lbl.c1 {\n",
       "    font-size: small;\n",
       "}\n",
       ".lbl.c2 {\n",
       "    font-size: medium;\n",
       "}\n",
       ".lbl.c3 {\n",
       "    font-size: medium;\n",
       "}\n",
       ".lbl.c4 {\n",
       "    font-size: large;\n",
       "}\n",
       ".occs, a:link.occs {\n",
       "    font-size: small;\n",
       "}\n",
       "\n",
       "/* PROVENANCE */\n",
       "\n",
       "div.prov {\n",
       "\tmargin: 40px;\n",
       "\tpadding: 20px;\n",
       "\tborder: 2px solid var(--fog-rim);\n",
       "}\n",
       "div.pline {\n",
       "\tdisplay: flex;\n",
       "\tflex-flow: row nowrap;\n",
       "\tjustify-content: stretch;\n",
       "\talign-items: baseline;\n",
       "}\n",
       "div.p2line {\n",
       "\tmargin-left: 2em;\n",
       "\tdisplay: flex;\n",
       "\tflex-flow: row nowrap;\n",
       "\tjustify-content: stretch;\n",
       "\talign-items: baseline;\n",
       "}\n",
       "div.psline {\n",
       "\tdisplay: flex;\n",
       "\tflex-flow: row nowrap;\n",
       "\tjustify-content: stretch;\n",
       "\talign-items: baseline;\n",
       "\tbackground-color: var(--gold-mist-back);\n",
       "}\n",
       "div.pname {\n",
       "\tflex: 0 0 5rem;\n",
       "\tfont-weight: bold;\n",
       "}\n",
       "div.pval {\n",
       "    flex: 1 1 auto;\n",
       "}\n",
       "\n",
       ":root {\n",
       "\t--node:               hsla(120, 100%,  20%, 1.0  );\n",
       "\t--label:              hsla(  0, 100%,  20%, 1.0  );\n",
       "\t--tfsechead:          hsla(  0, 100%,  25%, 1.0  );\n",
       "\t--structure:          hsla(120, 100%,  25%, 1.0  );\n",
       "\t--features:           hsla(  0,   0%,  30%, 1.0  );\n",
       "  --text-color:         hsla( 60,  80%,  10%, 1.0  );\n",
       "  --lex-color:          hsla(220,  90%,  60%, 1.0  );\n",
       "  --meta-color:         hsla(  0,   0%,  90%, 0.7  );\n",
       "  --meta-width:         3px;\n",
       "  --border-color-nul:   hsla(  0,   0%,  90%, 0.5  );\n",
       "  --border-color0:      hsla(  0,   0%,  90%, 0.9  );\n",
       "  --border-color1:      hsla(  0,   0%,  80%, 0.9  );\n",
       "  --border-color2:      hsla(  0,   0%,  70%, 0.9  );\n",
       "  --border-color3:      hsla(  0,   0%,  80%, 0.8  );\n",
       "  --border-color4:      hsla(  0,   0%,  60%, 0.9  );\n",
       "  --border-width-nul:   2px;\n",
       "  --border-width0:      2px;\n",
       "  --border-width1:      3px;\n",
       "  --border-width2:      4px;\n",
       "  --border-width3:      6px;\n",
       "  --border-width4:      5px;\n",
       "  --border-width-plain: 2px;\n",
       "}\n",
       ".hl {\n",
       "  background-color: var(--hl-strong);\n",
       "}\n",
       "span.hl {\n",
       "\tbackground-color: var(--hl-strong);\n",
       "\tborder-width: 0;\n",
       "\tborder-radius: 2px;\n",
       "\tborder-style: solid;\n",
       "}\n",
       "div.contnr.hl,div.lbl.hl {\n",
       "  background-color: var(--hl-strong);\n",
       "}\n",
       "div.contnr.hl {\n",
       "  border-color: var(--hl-rim) ! important;\n",
       "\tborder-width: 4px ! important;\n",
       "}\n",
       "\n",
       "span.hlbx {\n",
       "\tborder-color: var(--hl-rim);\n",
       "\tborder-width: 4px ! important;\n",
       "\tborder-style: solid;\n",
       "\tborder-radius: 6px;\n",
       "  padding: 4px;\n",
       "  margin: 4px;\n",
       "}\n",
       "\n",
       "span.plain {\n",
       "  display: inline-block;\n",
       "  white-space: pre-wrap;\n",
       "}\n",
       "\n",
       ":root {\n",
       "\t--hl-strong:        hsla( 60, 100%,  70%, 0.9  );\n",
       "\t--hl-rim:           hsla( 55,  80%,  50%, 1.0  );\n",
       "}\n",
       "</style>"
      ],
      "text/plain": [
       "<IPython.core.display.HTML object>"
      ]
     },
     "metadata": {}
    }
   ],
   "metadata": {}
  },
  {
   "cell_type": "markdown",
   "source": [
    "# Ordinal numbers\r\n",
    "\r\n",
    "## 1st"
   ],
   "metadata": {}
  },
  {
   "cell_type": "code",
   "execution_count": 4,
   "source": [
    "A.table(A.search('''\r\n",
    "clause\r\n",
    "    word lex_utf8=ראשׁון sp=adjv gn=m\r\n",
    "''')[0:10])"
   ],
   "outputs": [
    {
     "output_type": "stream",
     "name": "stdout",
     "text": [
      "  0.47s 123 results\n"
     ]
    },
    {
     "output_type": "display_data",
     "data": {
      "text/html": [
       "<table><tr class=\"tf rtl\"><th class=\"tf rtl\">n</th><th class=\"tf rtl\">p</th><th class=\"tf rtl\">clause</th><th class=\"tf\">word</th></tr>\n",
       "<tr class=\"tf rtl\"><td class=\"tf rtl\">1</td><td class=\"tf rtl\"><span class=\"tfsechead ltr\"><a target=\"_blank\" href=\"https://shebanq.ancient-data.org/hebrew/text?book=Genesis&amp;chapter=8&amp;verse=13&amp;version=c&amp;mr=m&amp;qw=q&amp;tp=txt_p&amp;tr=hb&amp;wget=v&amp;qget=v&amp;nget=vt\" title=\"Show this on SHEBANQ\" sec=\"Genesis 8:13\">Genesis 8:13</a></span></td><td class=\"tf rtl\"><span class=\"rtl ubd\"><span class=\"plain rtl  hlbx\" ><span class=\"txtu hbo\">בְּ</span><span class=\"txtu hbo\">אַחַ֨ת </span><span class=\"txtu hbo\">וְ</span><span class=\"txtu hbo\">שֵׁשׁ־</span><span class=\"txtu hbo\">מֵאֹ֜ות </span><span class=\"txtu hbo\">שָׁנָ֗ה </span><span class=\"txtu hbo\">בָּֽ</span><span class=\"plain rtl  hl\" ><span class=\"txtu hbo\">רִאשֹׁון֙ </span></span><span class=\"txtu hbo\">בְּ</span><span class=\"txtu hbo\">אֶחָ֣ד </span><span class=\"txtu hbo\">לַ</span><span class=\"txtu hbo\">חֹ֔דֶשׁ </span><span class=\"txtu hbo\">חָֽרְב֥וּ </span><span class=\"txtu hbo\">הַ</span><span class=\"txtu hbo\">מַּ֖יִם </span><span class=\"txtu hbo\">מֵ</span><span class=\"txtu hbo\">עַ֣ל </span><span class=\"txtu hbo\">הָ</span><span class=\"txtu hbo\">אָ֑רֶץ </span></span></span></td><td class=\"tf rtl\"><span class=\"rtl ubd\"><span class=\"plain rtl  hl\" ><span class=\"txtu hbo\">רִאשֹׁון֙ </span></span></span></td></tr>\n",
       "<tr class=\"tf rtl\"><td class=\"tf rtl\">2</td><td class=\"tf rtl\"><span class=\"tfsechead ltr\"><a target=\"_blank\" href=\"https://shebanq.ancient-data.org/hebrew/text?book=Genesis&amp;chapter=25&amp;verse=25&amp;version=c&amp;mr=m&amp;qw=q&amp;tp=txt_p&amp;tr=hb&amp;wget=v&amp;qget=v&amp;nget=vt\" title=\"Show this on SHEBANQ\" sec=\"Genesis 25:25\">Genesis 25:25</a></span></td><td class=\"tf rtl\"><span class=\"rtl ubd\"><span class=\"plain rtl  hlbx\" ><span class=\"txtu hbo\">וַ</span><span class=\"txtu hbo\">יֵּצֵ֤א </span><span class=\"txtu hbo\">הָ</span><span class=\"plain rtl  hl\" ><span class=\"txtu hbo\">רִאשֹׁון֙ </span></span><span class=\"txtu hbo\">אַדְמֹונִ֔י </span></span></span></td><td class=\"tf rtl\"><span class=\"rtl ubd\"><span class=\"plain rtl  hl\" ><span class=\"txtu hbo\">רִאשֹׁון֙ </span></span></span></td></tr>\n",
       "<tr class=\"tf rtl\"><td class=\"tf rtl\">3</td><td class=\"tf rtl\"><span class=\"tfsechead ltr\"><a target=\"_blank\" href=\"https://shebanq.ancient-data.org/hebrew/text?book=Genesis&amp;chapter=26&amp;verse=1&amp;version=c&amp;mr=m&amp;qw=q&amp;tp=txt_p&amp;tr=hb&amp;wget=v&amp;qget=v&amp;nget=vt\" title=\"Show this on SHEBANQ\" sec=\"Genesis 26:1\">Genesis 26:1</a></span></td><td class=\"tf rtl\"><span class=\"rtl ubd\"><span class=\"plain rtl  hlbx\" ><span class=\"txtu hbo\">וַ</span><span class=\"txtu hbo\">יְהִ֤י </span><span class=\"txtu hbo\">רָעָב֙ </span><span class=\"txtu hbo\">בָּ</span><span class=\"txtu hbo\">אָ֔רֶץ </span><span class=\"txtu hbo\">מִ</span><span class=\"txtu hbo\">לְּ</span><span class=\"txtu hbo\">בַד֙ </span><span class=\"txtu hbo\">הָ</span><span class=\"txtu hbo\">רָעָ֣ב </span><span class=\"txtu hbo\">הָ</span><span class=\"plain rtl  hl\" ><span class=\"txtu hbo\">רִאשֹׁ֔ון </span></span></span></span></td><td class=\"tf rtl\"><span class=\"rtl ubd\"><span class=\"plain rtl  hl\" ><span class=\"txtu hbo\">רִאשֹׁ֔ון </span></span></span></td></tr>\n",
       "<tr class=\"tf rtl\"><td class=\"tf rtl\">4</td><td class=\"tf rtl\"><span class=\"tfsechead ltr\"><a target=\"_blank\" href=\"https://shebanq.ancient-data.org/hebrew/text?book=Genesis&amp;chapter=32&amp;verse=18&amp;version=c&amp;mr=m&amp;qw=q&amp;tp=txt_p&amp;tr=hb&amp;wget=v&amp;qget=v&amp;nget=vt\" title=\"Show this on SHEBANQ\" sec=\"Genesis 32:18\">Genesis 32:18</a></span></td><td class=\"tf rtl\"><span class=\"rtl ubd\"><span class=\"plain rtl  hlbx\" ><span class=\"txtu hbo\">וַ</span><span class=\"txtu hbo\">יְצַ֥ו </span><span class=\"txtu hbo\">אֶת־</span><span class=\"txtu hbo\">הָ</span><span class=\"plain rtl  hl\" ><span class=\"txtu hbo\">רִאשֹׁ֖ון </span></span></span></span></td><td class=\"tf rtl\"><span class=\"rtl ubd\"><span class=\"plain rtl  hl\" ><span class=\"txtu hbo\">רִאשֹׁ֖ון </span></span></span></td></tr>\n",
       "<tr class=\"tf rtl\"><td class=\"tf rtl\">5</td><td class=\"tf rtl\"><span class=\"tfsechead ltr\"><a target=\"_blank\" href=\"https://shebanq.ancient-data.org/hebrew/text?book=Genesis&amp;chapter=40&amp;verse=13&amp;version=c&amp;mr=m&amp;qw=q&amp;tp=txt_p&amp;tr=hb&amp;wget=v&amp;qget=v&amp;nget=vt\" title=\"Show this on SHEBANQ\" sec=\"Genesis 40:13\">Genesis 40:13</a></span></td><td class=\"tf rtl\"><span class=\"rtl ubd\"><span class=\"plain rtl  hlbx\" ><span class=\"txtu hbo\">וְ</span><span class=\"txtu hbo\">נָתַתָּ֤ </span><span class=\"txtu hbo\">כֹוס־</span><span class=\"txtu hbo\">פַּרְעֹה֙ </span><span class=\"txtu hbo\">בְּ</span><span class=\"txtu hbo\">יָדֹ֔ו </span><span class=\"txtu hbo\">כַּ</span><span class=\"txtu hbo\">מִּשְׁפָּט֙ </span><span class=\"txtu hbo\">הָֽ</span><span class=\"plain rtl  hl\" ><span class=\"txtu hbo\">רִאשֹׁ֔ון </span></span></span></span></td><td class=\"tf rtl\"><span class=\"rtl ubd\"><span class=\"plain rtl  hl\" ><span class=\"txtu hbo\">רִאשֹׁ֔ון </span></span></span></td></tr>\n",
       "<tr class=\"tf rtl\"><td class=\"tf rtl\">6</td><td class=\"tf rtl\"><span class=\"tfsechead ltr\"><a target=\"_blank\" href=\"https://shebanq.ancient-data.org/hebrew/text?book=Exodus&amp;chapter=4&amp;verse=8&amp;version=c&amp;mr=m&amp;qw=q&amp;tp=txt_p&amp;tr=hb&amp;wget=v&amp;qget=v&amp;nget=vt\" title=\"Show this on SHEBANQ\" sec=\"Exodus 4:8\">Exodus 4:8</a></span></td><td class=\"tf rtl\"><span class=\"rtl ubd\"><span class=\"plain rtl  hlbx\" ><span class=\"txtu hbo\">וְ</span><span class=\"txtu hbo\">לֹ֣א </span><span class=\"txtu hbo\">יִשְׁמְע֔וּ </span><span class=\"txtu hbo\">לְ</span><span class=\"txtu hbo\">קֹ֖ל </span><span class=\"txtu hbo\">הָ</span><span class=\"txtu hbo\">אֹ֣ת </span><span class=\"txtu hbo\">הָ</span><span class=\"plain rtl  hl\" ><span class=\"txtu hbo\">רִאשֹׁ֑ון </span></span></span></span></td><td class=\"tf rtl\"><span class=\"rtl ubd\"><span class=\"plain rtl  hl\" ><span class=\"txtu hbo\">רִאשֹׁ֑ון </span></span></span></td></tr>\n",
       "<tr class=\"tf rtl\"><td class=\"tf rtl\">7</td><td class=\"tf rtl\"><span class=\"tfsechead ltr\"><a target=\"_blank\" href=\"https://shebanq.ancient-data.org/hebrew/text?book=Exodus&amp;chapter=12&amp;verse=2&amp;version=c&amp;mr=m&amp;qw=q&amp;tp=txt_p&amp;tr=hb&amp;wget=v&amp;qget=v&amp;nget=vt\" title=\"Show this on SHEBANQ\" sec=\"Exodus 12:2\">Exodus 12:2</a></span></td><td class=\"tf rtl\"><span class=\"rtl ubd\"><span class=\"plain rtl  hlbx\" ><span class=\"plain rtl  hl\" ><span class=\"txtu hbo\">רִאשֹׁ֥ון </span></span><span class=\"txtu hbo\">הוּא֙ </span><span class=\"txtu hbo\">לָכֶ֔ם </span><span class=\"txtu hbo\">לְ</span><span class=\"txtu hbo\">חָדְשֵׁ֖י </span><span class=\"txtu hbo\">הַ</span><span class=\"txtu hbo\">שָּׁנָֽה׃ </span></span></span></td><td class=\"tf rtl\"><span class=\"rtl ubd\"><span class=\"plain rtl  hl\" ><span class=\"txtu hbo\">רִאשֹׁ֥ון </span></span></span></td></tr>\n",
       "<tr class=\"tf rtl\"><td class=\"tf rtl\">8</td><td class=\"tf rtl\"><span class=\"tfsechead ltr\"><a target=\"_blank\" href=\"https://shebanq.ancient-data.org/hebrew/text?book=Exodus&amp;chapter=12&amp;verse=15&amp;version=c&amp;mr=m&amp;qw=q&amp;tp=txt_p&amp;tr=hb&amp;wget=v&amp;qget=v&amp;nget=vt\" title=\"Show this on SHEBANQ\" sec=\"Exodus 12:15\">Exodus 12:15</a></span></td><td class=\"tf rtl\"><span class=\"rtl ubd\"><span class=\"plain rtl  hlbx\" ><span class=\"txtu hbo\">אַ֚ךְ </span><span class=\"txtu hbo\">בַּ</span><span class=\"txtu hbo\">יֹּ֣ום </span><span class=\"txtu hbo\">הָ</span><span class=\"plain rtl  hl\" ><span class=\"txtu hbo\">רִאשֹׁ֔ון </span></span><span class=\"txtu hbo\">תַּשְׁבִּ֥יתוּ </span><span class=\"txtu hbo\">שְּׂאֹ֖ר </span><span class=\"txtu hbo\">מִ</span><span class=\"txtu hbo\">בָּתֵּיכֶ֑ם </span></span></span></td><td class=\"tf rtl\"><span class=\"rtl ubd\"><span class=\"plain rtl  hl\" ><span class=\"txtu hbo\">רִאשֹׁ֔ון </span></span></span></td></tr>\n",
       "<tr class=\"tf rtl\"><td class=\"tf rtl\">9</td><td class=\"tf rtl\"><span class=\"tfsechead ltr\"><a target=\"_blank\" href=\"https://shebanq.ancient-data.org/hebrew/text?book=Exodus&amp;chapter=12&amp;verse=15&amp;version=c&amp;mr=m&amp;qw=q&amp;tp=txt_p&amp;tr=hb&amp;wget=v&amp;qget=v&amp;nget=vt\" title=\"Show this on SHEBANQ\" sec=\"Exodus 12:15\">Exodus 12:15</a></span></td><td class=\"tf rtl\"><span class=\"rtl ubd\"><span class=\"plain rtl  hlbx\" ><span class=\"txtu hbo\">וְ</span><span class=\"txtu hbo\">נִכְרְתָ֞ה </span><span class=\"txtu hbo\">הַ</span><span class=\"txtu hbo\">נֶּ֤פֶשׁ </span><span class=\"txtu hbo\">הַ</span><span class=\"txtu hbo\">הִוא֙ </span><span class=\"txtu hbo\">מִ</span><span class=\"txtu hbo\">יִּשְׂרָאֵ֔ל </span><span class=\"txtu hbo\">מִ</span><span class=\"txtu hbo\">יֹּ֥ום </span><span class=\"txtu hbo\">הָ</span><span class=\"plain rtl  hl\" ><span class=\"txtu hbo\">רִאשֹׁ֖ן </span></span><span class=\"txtu hbo\">עַד־</span><span class=\"txtu hbo\">יֹ֥ום </span><span class=\"txtu hbo\">הַ</span><span class=\"txtu hbo\">שְּׁבִעִֽי׃ </span></span></span></td><td class=\"tf rtl\"><span class=\"rtl ubd\"><span class=\"plain rtl  hl\" ><span class=\"txtu hbo\">רִאשֹׁ֖ן </span></span></span></td></tr>\n",
       "<tr class=\"tf rtl\"><td class=\"tf rtl\">10</td><td class=\"tf rtl\"><span class=\"tfsechead ltr\"><a target=\"_blank\" href=\"https://shebanq.ancient-data.org/hebrew/text?book=Exodus&amp;chapter=12&amp;verse=16&amp;version=c&amp;mr=m&amp;qw=q&amp;tp=txt_p&amp;tr=hb&amp;wget=v&amp;qget=v&amp;nget=vt\" title=\"Show this on SHEBANQ\" sec=\"Exodus 12:16\">Exodus 12:16</a></span></td><td class=\"tf rtl\"><span class=\"rtl ubd\"><span class=\"plain rtl  hlbx\" ><span class=\"txtu hbo\">וּ</span><span class=\"txtu hbo\">בַ</span><span class=\"txtu hbo\">יֹּ֤ום </span><span class=\"txtu hbo\">הָ</span><span class=\"plain rtl  hl\" ><span class=\"txtu hbo\">רִאשֹׁון֙ </span></span><span class=\"txtu hbo\">מִקְרָא־</span><span class=\"txtu hbo\">קֹ֔דֶשׁ </span></span></span></td><td class=\"tf rtl\"><span class=\"rtl ubd\"><span class=\"plain rtl  hl\" ><span class=\"txtu hbo\">רִאשֹׁון֙ </span></span></span></td></tr></table>"
      ],
      "text/plain": [
       "<IPython.core.display.HTML object>"
      ]
     },
     "metadata": {}
    }
   ],
   "metadata": {}
  },
  {
   "cell_type": "code",
   "execution_count": 5,
   "source": [
    "A.table(A.search('''\r\n",
    "clause\r\n",
    "    word lex_utf8=ראשׁון sp=adjv gn=f\r\n",
    "''')[0:10])"
   ],
   "outputs": [
    {
     "output_type": "stream",
     "name": "stdout",
     "text": [
      "  0.39s 59 results\n"
     ]
    },
    {
     "output_type": "display_data",
     "data": {
      "text/html": [
       "<table><tr class=\"tf rtl\"><th class=\"tf rtl\">n</th><th class=\"tf rtl\">p</th><th class=\"tf rtl\">clause</th><th class=\"tf\">word</th></tr>\n",
       "<tr class=\"tf rtl\"><td class=\"tf rtl\">1</td><td class=\"tf rtl\"><span class=\"tfsechead ltr\"><a target=\"_blank\" href=\"https://shebanq.ancient-data.org/hebrew/text?book=Genesis&amp;chapter=13&amp;verse=4&amp;version=c&amp;mr=m&amp;qw=q&amp;tp=txt_p&amp;tr=hb&amp;wget=v&amp;qget=v&amp;nget=vt\" title=\"Show this on SHEBANQ\" sec=\"Genesis 13:4\">Genesis 13:4</a></span></td><td class=\"tf rtl\"><span class=\"rtl ubd\"><span class=\"plain rtl  hlbx\" ><span class=\"txtu hbo\">אֲשֶׁר־</span><span class=\"txtu hbo\">עָ֥שָׂה </span><span class=\"txtu hbo\">שָׁ֖ם </span><span class=\"txtu hbo\">בָּ</span><span class=\"plain rtl  hl\" ><span class=\"txtu hbo\">רִאשֹׁנָ֑ה </span></span></span></span></td><td class=\"tf rtl\"><span class=\"rtl ubd\"><span class=\"plain rtl  hl\" ><span class=\"txtu hbo\">רִאשֹׁנָ֑ה </span></span></span></td></tr>\n",
       "<tr class=\"tf rtl\"><td class=\"tf rtl\">2</td><td class=\"tf rtl\"><span class=\"tfsechead ltr\"><a target=\"_blank\" href=\"https://shebanq.ancient-data.org/hebrew/text?book=Genesis&amp;chapter=28&amp;verse=19&amp;version=c&amp;mr=m&amp;qw=q&amp;tp=txt_p&amp;tr=hb&amp;wget=v&amp;qget=v&amp;nget=vt\" title=\"Show this on SHEBANQ\" sec=\"Genesis 28:19\">Genesis 28:19</a></span></td><td class=\"tf rtl\"><span class=\"rtl ubd\"><span class=\"plain rtl  hlbx\" ><span class=\"txtu hbo\">וְ</span><span class=\"txtu hbo\">אוּלָ֛ם </span><span class=\"txtu hbo\">ל֥וּז </span><span class=\"txtu hbo\">שֵׁם־</span><span class=\"txtu hbo\">הָ</span><span class=\"txtu hbo\">עִ֖יר </span><span class=\"txtu hbo\">לָ</span><span class=\"plain rtl  hl\" ><span class=\"txtu hbo\">רִאשֹׁנָֽה׃ </span></span></span></span></td><td class=\"tf rtl\"><span class=\"rtl ubd\"><span class=\"plain rtl  hl\" ><span class=\"txtu hbo\">רִאשֹׁנָֽה׃ </span></span></span></td></tr>\n",
       "<tr class=\"tf rtl\"><td class=\"tf rtl\">3</td><td class=\"tf rtl\"><span class=\"tfsechead ltr\"><a target=\"_blank\" href=\"https://shebanq.ancient-data.org/hebrew/text?book=Genesis&amp;chapter=33&amp;verse=2&amp;version=c&amp;mr=m&amp;qw=q&amp;tp=txt_p&amp;tr=hb&amp;wget=v&amp;qget=v&amp;nget=vt\" title=\"Show this on SHEBANQ\" sec=\"Genesis 33:2\">Genesis 33:2</a></span></td><td class=\"tf rtl\"><span class=\"rtl ubd\"><span class=\"plain rtl  hlbx\" ><span class=\"txtu hbo\">וַ</span><span class=\"txtu hbo\">יָּ֧שֶׂם </span><span class=\"txtu hbo\">אֶת־</span><span class=\"txtu hbo\">הַ</span><span class=\"txtu hbo\">שְּׁפָחֹ֛ות </span><span class=\"txtu hbo\">וְ</span><span class=\"txtu hbo\">אֶת־</span><span class=\"txtu hbo\">יַלְדֵיהֶ֖ן </span><span class=\"plain rtl  hl\" ><span class=\"txtu hbo\">רִֽאשֹׁנָ֑ה </span></span></span></span></td><td class=\"tf rtl\"><span class=\"rtl ubd\"><span class=\"plain rtl  hl\" ><span class=\"txtu hbo\">רִֽאשֹׁנָ֑ה </span></span></span></td></tr>\n",
       "<tr class=\"tf rtl\"><td class=\"tf rtl\">4</td><td class=\"tf rtl\"><span class=\"tfsechead ltr\"><a target=\"_blank\" href=\"https://shebanq.ancient-data.org/hebrew/text?book=Genesis&amp;chapter=38&amp;verse=28&amp;version=c&amp;mr=m&amp;qw=q&amp;tp=txt_p&amp;tr=hb&amp;wget=v&amp;qget=v&amp;nget=vt\" title=\"Show this on SHEBANQ\" sec=\"Genesis 38:28\">Genesis 38:28</a></span></td><td class=\"tf rtl\"><span class=\"rtl ubd\"><span class=\"plain rtl  hlbx\" ><span class=\"txtu hbo\">זֶ֖ה </span><span class=\"txtu hbo\">יָצָ֥א </span><span class=\"plain rtl  hl\" ><span class=\"txtu hbo\">רִאשֹׁנָֽה׃ </span></span></span></span></td><td class=\"tf rtl\"><span class=\"rtl ubd\"><span class=\"plain rtl  hl\" ><span class=\"txtu hbo\">רִאשֹׁנָֽה׃ </span></span></span></td></tr>\n",
       "<tr class=\"tf rtl\"><td class=\"tf rtl\">5</td><td class=\"tf rtl\"><span class=\"tfsechead ltr\"><a target=\"_blank\" href=\"https://shebanq.ancient-data.org/hebrew/text?book=Genesis&amp;chapter=41&amp;verse=20&amp;version=c&amp;mr=m&amp;qw=q&amp;tp=txt_p&amp;tr=hb&amp;wget=v&amp;qget=v&amp;nget=vt\" title=\"Show this on SHEBANQ\" sec=\"Genesis 41:20\">Genesis 41:20</a></span></td><td class=\"tf rtl\"><span class=\"rtl ubd\"><span class=\"plain rtl  hlbx\" ><span class=\"txtu hbo\">וַ</span><span class=\"txtu hbo\">תֹּאכַ֨לְנָה֙ </span><span class=\"txtu hbo\">הַ</span><span class=\"txtu hbo\">פָּרֹ֔ות </span><span class=\"txtu hbo\">הָ</span><span class=\"txtu hbo\">רַקֹּ֖ות </span><span class=\"txtu hbo\">וְ</span><span class=\"txtu hbo\">הָ</span><span class=\"txtu hbo\">רָעֹ֑ות </span><span class=\"txtu hbo\">אֵ֣ת </span><span class=\"txtu hbo\">שֶׁ֧בַע </span><span class=\"txtu hbo\">הַ</span><span class=\"txtu hbo\">פָּרֹ֛ות </span><span class=\"txtu hbo\">הָ</span><span class=\"plain rtl  hl\" ><span class=\"txtu hbo\">רִאשֹׁנֹ֖ות </span></span><span class=\"txtu hbo\">הַ</span><span class=\"txtu hbo\">בְּרִיאֹֽת׃ </span></span></span></td><td class=\"tf rtl\"><span class=\"rtl ubd\"><span class=\"plain rtl  hl\" ><span class=\"txtu hbo\">רִאשֹׁנֹ֖ות </span></span></span></td></tr>\n",
       "<tr class=\"tf rtl\"><td class=\"tf rtl\">6</td><td class=\"tf rtl\"><span class=\"tfsechead ltr\"><a target=\"_blank\" href=\"https://shebanq.ancient-data.org/hebrew/text?book=Leviticus&amp;chapter=5&amp;verse=8&amp;version=c&amp;mr=m&amp;qw=q&amp;tp=txt_p&amp;tr=hb&amp;wget=v&amp;qget=v&amp;nget=vt\" title=\"Show this on SHEBANQ\" sec=\"Leviticus 5:8\">Leviticus 5:8</a></span></td><td class=\"tf rtl\"><span class=\"rtl ubd\"><span class=\"plain rtl l hlbx\" ><span class=\"txtu hbo\">וְ</span><span class=\"txtu hbo\">הִקְרִ֛יב </span></span><span class=\"plain rtl r hlbx\" ><span class=\"plain rtl  hl\" ><span class=\"txtu hbo\">רִאשֹׁונָ֑ה </span></span></span></span></td><td class=\"tf rtl\"><span class=\"rtl ubd\"><span class=\"plain rtl  hl\" ><span class=\"txtu hbo\">רִאשֹׁונָ֑ה </span></span></span></td></tr>\n",
       "<tr class=\"tf rtl\"><td class=\"tf rtl\">7</td><td class=\"tf rtl\"><span class=\"tfsechead ltr\"><a target=\"_blank\" href=\"https://shebanq.ancient-data.org/hebrew/text?book=Numeri&amp;chapter=2&amp;verse=9&amp;version=c&amp;mr=m&amp;qw=q&amp;tp=txt_p&amp;tr=hb&amp;wget=v&amp;qget=v&amp;nget=vt\" title=\"Show this on SHEBANQ\" sec=\"Numbers 2:9\">Numbers 2:9</a></span></td><td class=\"tf rtl\"><span class=\"rtl ubd\"><span class=\"plain rtl  hlbx\" ><span class=\"plain rtl  hl\" ><span class=\"txtu hbo\">רִאשֹׁנָ֖ה </span></span><span class=\"txtu hbo\">יִסָּֽעוּ׃ ס </span></span></span></td><td class=\"tf rtl\"><span class=\"rtl ubd\"><span class=\"plain rtl  hl\" ><span class=\"txtu hbo\">רִאשֹׁנָ֖ה </span></span></span></td></tr>\n",
       "<tr class=\"tf rtl\"><td class=\"tf rtl\">8</td><td class=\"tf rtl\"><span class=\"tfsechead ltr\"><a target=\"_blank\" href=\"https://shebanq.ancient-data.org/hebrew/text?book=Numeri&amp;chapter=10&amp;verse=13&amp;version=c&amp;mr=m&amp;qw=q&amp;tp=txt_p&amp;tr=hb&amp;wget=v&amp;qget=v&amp;nget=vt\" title=\"Show this on SHEBANQ\" sec=\"Numbers 10:13\">Numbers 10:13</a></span></td><td class=\"tf rtl\"><span class=\"rtl ubd\"><span class=\"plain rtl  hlbx\" ><span class=\"txtu hbo\">וַ</span><span class=\"txtu hbo\">יִּסְע֖וּ </span><span class=\"txtu hbo\">בָּ</span><span class=\"plain rtl  hl\" ><span class=\"txtu hbo\">רִאשֹׁנָ֑ה </span></span><span class=\"txtu hbo\">עַל־</span><span class=\"txtu hbo\">פִּ֥י </span><span class=\"txtu hbo\">יְהוָ֖ה </span><span class=\"txtu hbo\">בְּ</span><span class=\"txtu hbo\">יַד־</span><span class=\"txtu hbo\">מֹשֶֽׁה׃ </span></span></span></td><td class=\"tf rtl\"><span class=\"rtl ubd\"><span class=\"plain rtl  hl\" ><span class=\"txtu hbo\">רִאשֹׁנָ֑ה </span></span></span></td></tr>\n",
       "<tr class=\"tf rtl\"><td class=\"tf rtl\">9</td><td class=\"tf rtl\"><span class=\"tfsechead ltr\"><a target=\"_blank\" href=\"https://shebanq.ancient-data.org/hebrew/text?book=Numeri&amp;chapter=10&amp;verse=14&amp;version=c&amp;mr=m&amp;qw=q&amp;tp=txt_p&amp;tr=hb&amp;wget=v&amp;qget=v&amp;nget=vt\" title=\"Show this on SHEBANQ\" sec=\"Numbers 10:14\">Numbers 10:14</a></span></td><td class=\"tf rtl\"><span class=\"rtl ubd\"><span class=\"plain rtl  hlbx\" ><span class=\"txtu hbo\">וַ</span><span class=\"txtu hbo\">יִּסַּ֞ע </span><span class=\"txtu hbo\">דֶּ֣גֶל </span><span class=\"txtu hbo\">מַחֲנֵ֧ה </span><span class=\"txtu hbo\">בְנֵֽי־</span><span class=\"txtu hbo\">יְהוּדָ֛ה </span><span class=\"txtu hbo\">בָּ</span><span class=\"plain rtl  hl\" ><span class=\"txtu hbo\">רִאשֹׁנָ֖ה </span></span><span class=\"txtu hbo\">לְ</span><span class=\"txtu hbo\">צִבְאֹתָ֑ם </span></span></span></td><td class=\"tf rtl\"><span class=\"rtl ubd\"><span class=\"plain rtl  hl\" ><span class=\"txtu hbo\">רִאשֹׁנָ֖ה </span></span></span></td></tr>\n",
       "<tr class=\"tf rtl\"><td class=\"tf rtl\">10</td><td class=\"tf rtl\"><span class=\"tfsechead ltr\"><a target=\"_blank\" href=\"https://shebanq.ancient-data.org/hebrew/text?book=Deuteronomium&amp;chapter=9&amp;verse=18&amp;version=c&amp;mr=m&amp;qw=q&amp;tp=txt_p&amp;tr=hb&amp;wget=v&amp;qget=v&amp;nget=vt\" title=\"Show this on SHEBANQ\" sec=\"Deuteronomy 9:18\">Deuteronomy 9:18</a></span></td><td class=\"tf rtl\"><span class=\"rtl ubd\"><span class=\"plain rtl  hlbx\" ><span class=\"txtu hbo\">וָֽ</span><span class=\"txtu hbo\">אֶתְנַפַּל֩ </span><span class=\"txtu hbo\">לִ</span><span class=\"txtu hbo\">פְנֵ֨י </span><span class=\"txtu hbo\">יְהוָ֜ה </span><span class=\"txtu hbo\">כָּ</span><span class=\"plain rtl  hl\" ><span class=\"txtu hbo\">רִאשֹׁנָ֗ה </span></span><span class=\"txtu hbo\">אַרְבָּעִ֥ים </span><span class=\"txtu hbo\">יֹום֙ </span><span class=\"txtu hbo\">וְ</span><span class=\"txtu hbo\">אַרְבָּעִ֣ים </span><span class=\"txtu hbo\">לַ֔יְלָה </span></span></span></td><td class=\"tf rtl\"><span class=\"rtl ubd\"><span class=\"plain rtl  hl\" ><span class=\"txtu hbo\">רִאשֹׁנָ֗ה </span></span></span></td></tr></table>"
      ],
      "text/plain": [
       "<IPython.core.display.HTML object>"
      ]
     },
     "metadata": {}
    }
   ],
   "metadata": {}
  },
  {
   "cell_type": "markdown",
   "source": [
    "## 2nd"
   ],
   "metadata": {}
  },
  {
   "cell_type": "code",
   "execution_count": 6,
   "source": [
    "A.table(A.search('''\r\n",
    "clause\r\n",
    "    word lex_utf8=שׁני sp=adjv gn=m\r\n",
    "''')[0:10])"
   ],
   "outputs": [
    {
     "output_type": "stream",
     "name": "stdout",
     "text": [
      "  0.48s 85 results\n"
     ]
    },
    {
     "output_type": "display_data",
     "data": {
      "text/html": [
       "<table><tr class=\"tf rtl\"><th class=\"tf rtl\">n</th><th class=\"tf rtl\">p</th><th class=\"tf rtl\">clause</th><th class=\"tf\">word</th></tr>\n",
       "<tr class=\"tf rtl\"><td class=\"tf rtl\">1</td><td class=\"tf rtl\"><span class=\"tfsechead ltr\"><a target=\"_blank\" href=\"https://shebanq.ancient-data.org/hebrew/text?book=Genesis&amp;chapter=1&amp;verse=8&amp;version=c&amp;mr=m&amp;qw=q&amp;tp=txt_p&amp;tr=hb&amp;wget=v&amp;qget=v&amp;nget=vt\" title=\"Show this on SHEBANQ\" sec=\"Genesis 1:8\">Genesis 1:8</a></span></td><td class=\"tf rtl\"><span class=\"rtl ubd\"><span class=\"plain rtl  hlbx\" ><span class=\"txtu hbo\">יֹ֥ום </span><span class=\"plain rtl  hl\" ><span class=\"txtu hbo\">שֵׁנִֽי׃ פ </span></span></span></span></td><td class=\"tf rtl\"><span class=\"rtl ubd\"><span class=\"plain rtl  hl\" ><span class=\"txtu hbo\">שֵׁנִֽי׃ פ </span></span></span></td></tr>\n",
       "<tr class=\"tf rtl\"><td class=\"tf rtl\">2</td><td class=\"tf rtl\"><span class=\"tfsechead ltr\"><a target=\"_blank\" href=\"https://shebanq.ancient-data.org/hebrew/text?book=Genesis&amp;chapter=2&amp;verse=13&amp;version=c&amp;mr=m&amp;qw=q&amp;tp=txt_p&amp;tr=hb&amp;wget=v&amp;qget=v&amp;nget=vt\" title=\"Show this on SHEBANQ\" sec=\"Genesis 2:13\">Genesis 2:13</a></span></td><td class=\"tf rtl\"><span class=\"rtl ubd\"><span class=\"plain rtl  hlbx\" ><span class=\"txtu hbo\">וְ</span><span class=\"txtu hbo\">שֵֽׁם־</span><span class=\"txtu hbo\">הַ</span><span class=\"txtu hbo\">נָּהָ֥ר </span><span class=\"txtu hbo\">הַ</span><span class=\"plain rtl  hl\" ><span class=\"txtu hbo\">שֵּׁנִ֖י </span></span><span class=\"txtu hbo\">גִּיחֹ֑ון </span></span></span></td><td class=\"tf rtl\"><span class=\"rtl ubd\"><span class=\"plain rtl  hl\" ><span class=\"txtu hbo\">שֵּׁנִ֖י </span></span></span></td></tr>\n",
       "<tr class=\"tf rtl\"><td class=\"tf rtl\">3</td><td class=\"tf rtl\"><span class=\"tfsechead ltr\"><a target=\"_blank\" href=\"https://shebanq.ancient-data.org/hebrew/text?book=Genesis&amp;chapter=6&amp;verse=16&amp;version=c&amp;mr=m&amp;qw=q&amp;tp=txt_p&amp;tr=hb&amp;wget=v&amp;qget=v&amp;nget=vt\" title=\"Show this on SHEBANQ\" sec=\"Genesis 6:16\">Genesis 6:16</a></span></td><td class=\"tf rtl\"><span class=\"rtl ubd\"><span class=\"plain rtl  hlbx\" ><span class=\"txtu hbo\">תַּחְתִּיִּ֛ם </span><span class=\"plain rtl  hl\" ><span class=\"txtu hbo\">שְׁנִיִּ֥ם </span></span><span class=\"txtu hbo\">וּ</span><span class=\"txtu hbo\">שְׁלִשִׁ֖ים </span><span class=\"txtu hbo\">תַּֽעֲשֶֽׂהָ׃ </span></span></span></td><td class=\"tf rtl\"><span class=\"rtl ubd\"><span class=\"plain rtl  hl\" ><span class=\"txtu hbo\">שְׁנִיִּ֥ם </span></span></span></td></tr>\n",
       "<tr class=\"tf rtl\"><td class=\"tf rtl\">4</td><td class=\"tf rtl\"><span class=\"tfsechead ltr\"><a target=\"_blank\" href=\"https://shebanq.ancient-data.org/hebrew/text?book=Genesis&amp;chapter=7&amp;verse=11&amp;version=c&amp;mr=m&amp;qw=q&amp;tp=txt_p&amp;tr=hb&amp;wget=v&amp;qget=v&amp;nget=vt\" title=\"Show this on SHEBANQ\" sec=\"Genesis 7:11\">Genesis 7:11</a></span></td><td class=\"tf rtl\"><span class=\"rtl ubd\"><span class=\"plain rtl  hlbx\" ><span class=\"txtu hbo\">בִּ</span><span class=\"txtu hbo\">שְׁנַ֨ת </span><span class=\"txtu hbo\">שֵׁשׁ־</span><span class=\"txtu hbo\">מֵאֹ֤ות </span><span class=\"txtu hbo\">שָׁנָה֙ </span><span class=\"txtu hbo\">לְ</span><span class=\"txtu hbo\">חַיֵּי־</span><span class=\"txtu hbo\">נֹ֔חַ </span><span class=\"txtu hbo\">בַּ</span><span class=\"txtu hbo\">חֹ֨דֶשׁ֙ </span><span class=\"txtu hbo\">הַ</span><span class=\"plain rtl  hl\" ><span class=\"txtu hbo\">שֵּׁנִ֔י </span></span><span class=\"txtu hbo\">בְּ</span><span class=\"txtu hbo\">שִׁבְעָֽה־</span><span class=\"txtu hbo\">עָשָׂ֥ר </span><span class=\"txtu hbo\">יֹ֖ום </span><span class=\"txtu hbo\">לַ</span><span class=\"txtu hbo\">חֹ֑דֶשׁ </span><span class=\"txtu hbo\">בַּ</span><span class=\"txtu hbo\">יֹּ֣ום </span><span class=\"txtu hbo\">הַ</span><span class=\"txtu hbo\">זֶּ֗ה </span><span class=\"txtu hbo\">נִבְקְעוּ֙ </span><span class=\"txtu hbo\">כָּֽל־</span><span class=\"txtu hbo\">מַעְיְנֹת֙ </span><span class=\"txtu hbo\">תְּהֹ֣ום </span><span class=\"txtu hbo\">רַבָּ֔ה </span></span></span></td><td class=\"tf rtl\"><span class=\"rtl ubd\"><span class=\"plain rtl  hl\" ><span class=\"txtu hbo\">שֵּׁנִ֔י </span></span></span></td></tr>\n",
       "<tr class=\"tf rtl\"><td class=\"tf rtl\">5</td><td class=\"tf rtl\"><span class=\"tfsechead ltr\"><a target=\"_blank\" href=\"https://shebanq.ancient-data.org/hebrew/text?book=Genesis&amp;chapter=8&amp;verse=14&amp;version=c&amp;mr=m&amp;qw=q&amp;tp=txt_p&amp;tr=hb&amp;wget=v&amp;qget=v&amp;nget=vt\" title=\"Show this on SHEBANQ\" sec=\"Genesis 8:14\">Genesis 8:14</a></span></td><td class=\"tf rtl\"><span class=\"rtl ubd\"><span class=\"plain rtl  hlbx\" ><span class=\"txtu hbo\">וּ</span><span class=\"txtu hbo\">בַ</span><span class=\"txtu hbo\">חֹ֨דֶשׁ֙ </span><span class=\"txtu hbo\">הַ</span><span class=\"plain rtl  hl\" ><span class=\"txtu hbo\">שֵּׁנִ֔י </span></span><span class=\"txtu hbo\">בְּ</span><span class=\"txtu hbo\">שִׁבְעָ֧ה </span><span class=\"txtu hbo\">וְ</span><span class=\"txtu hbo\">עֶשְׂרִ֛ים </span><span class=\"txtu hbo\">יֹ֖ום </span><span class=\"txtu hbo\">לַ</span><span class=\"txtu hbo\">חֹ֑דֶשׁ </span><span class=\"txtu hbo\">יָבְשָׁ֖ה </span><span class=\"txtu hbo\">הָ</span><span class=\"txtu hbo\">אָֽרֶץ׃ ס </span></span></span></td><td class=\"tf rtl\"><span class=\"rtl ubd\"><span class=\"plain rtl  hl\" ><span class=\"txtu hbo\">שֵּׁנִ֔י </span></span></span></td></tr>\n",
       "<tr class=\"tf rtl\"><td class=\"tf rtl\">6</td><td class=\"tf rtl\"><span class=\"tfsechead ltr\"><a target=\"_blank\" href=\"https://shebanq.ancient-data.org/hebrew/text?book=Genesis&amp;chapter=30&amp;verse=7&amp;version=c&amp;mr=m&amp;qw=q&amp;tp=txt_p&amp;tr=hb&amp;wget=v&amp;qget=v&amp;nget=vt\" title=\"Show this on SHEBANQ\" sec=\"Genesis 30:7\">Genesis 30:7</a></span></td><td class=\"tf rtl\"><span class=\"rtl ubd\"><span class=\"plain rtl  hlbx\" ><span class=\"txtu hbo\">וַ</span><span class=\"txtu hbo\">תֵּ֕לֶד </span><span class=\"txtu hbo\">בִּלְהָ֖ה </span><span class=\"txtu hbo\">שִׁפְחַ֣ת </span><span class=\"txtu hbo\">רָחֵ֑ל </span><span class=\"txtu hbo\">בֵּ֥ן </span><span class=\"plain rtl  hl\" ><span class=\"txtu hbo\">שֵׁנִ֖י </span></span><span class=\"txtu hbo\">לְ</span><span class=\"txtu hbo\">יַעֲקֹֽב׃ </span></span></span></td><td class=\"tf rtl\"><span class=\"rtl ubd\"><span class=\"plain rtl  hl\" ><span class=\"txtu hbo\">שֵׁנִ֖י </span></span></span></td></tr>\n",
       "<tr class=\"tf rtl\"><td class=\"tf rtl\">7</td><td class=\"tf rtl\"><span class=\"tfsechead ltr\"><a target=\"_blank\" href=\"https://shebanq.ancient-data.org/hebrew/text?book=Genesis&amp;chapter=30&amp;verse=12&amp;version=c&amp;mr=m&amp;qw=q&amp;tp=txt_p&amp;tr=hb&amp;wget=v&amp;qget=v&amp;nget=vt\" title=\"Show this on SHEBANQ\" sec=\"Genesis 30:12\">Genesis 30:12</a></span></td><td class=\"tf rtl\"><span class=\"rtl ubd\"><span class=\"plain rtl  hlbx\" ><span class=\"txtu hbo\">וַ</span><span class=\"txtu hbo\">תֵּ֗לֶד </span><span class=\"txtu hbo\">זִלְפָּה֙ </span><span class=\"txtu hbo\">שִׁפְחַ֣ת </span><span class=\"txtu hbo\">לֵאָ֔ה </span><span class=\"txtu hbo\">בֵּ֥ן </span><span class=\"plain rtl  hl\" ><span class=\"txtu hbo\">שֵׁנִ֖י </span></span><span class=\"txtu hbo\">לְ</span><span class=\"txtu hbo\">יַעֲקֹֽב׃ </span></span></span></td><td class=\"tf rtl\"><span class=\"rtl ubd\"><span class=\"plain rtl  hl\" ><span class=\"txtu hbo\">שֵׁנִ֖י </span></span></span></td></tr>\n",
       "<tr class=\"tf rtl\"><td class=\"tf rtl\">8</td><td class=\"tf rtl\"><span class=\"tfsechead ltr\"><a target=\"_blank\" href=\"https://shebanq.ancient-data.org/hebrew/text?book=Genesis&amp;chapter=32&amp;verse=20&amp;version=c&amp;mr=m&amp;qw=q&amp;tp=txt_p&amp;tr=hb&amp;wget=v&amp;qget=v&amp;nget=vt\" title=\"Show this on SHEBANQ\" sec=\"Genesis 32:20\">Genesis 32:20</a></span></td><td class=\"tf rtl\"><span class=\"rtl ubd\"><span class=\"plain rtl  hlbx\" ><span class=\"txtu hbo\">וַ</span><span class=\"txtu hbo\">יְצַ֞ו </span><span class=\"txtu hbo\">גַּ֣ם </span><span class=\"txtu hbo\">אֶת־</span><span class=\"txtu hbo\">הַ</span><span class=\"plain rtl  hl\" ><span class=\"txtu hbo\">שֵּׁנִ֗י </span></span><span class=\"txtu hbo\">גַּ֚ם </span><span class=\"txtu hbo\">אֶת־</span><span class=\"txtu hbo\">הַ</span><span class=\"txtu hbo\">שְּׁלִישִׁ֔י </span><span class=\"txtu hbo\">גַּ֚ם </span><span class=\"txtu hbo\">אֶת־</span><span class=\"txtu hbo\">כָּל־</span></span></span></td><td class=\"tf rtl\"><span class=\"rtl ubd\"><span class=\"plain rtl  hl\" ><span class=\"txtu hbo\">שֵּׁנִ֗י </span></span></span></td></tr>\n",
       "<tr class=\"tf rtl\"><td class=\"tf rtl\">9</td><td class=\"tf rtl\"><span class=\"tfsechead ltr\"><a target=\"_blank\" href=\"https://shebanq.ancient-data.org/hebrew/text?book=Genesis&amp;chapter=41&amp;verse=52&amp;version=c&amp;mr=m&amp;qw=q&amp;tp=txt_p&amp;tr=hb&amp;wget=v&amp;qget=v&amp;nget=vt\" title=\"Show this on SHEBANQ\" sec=\"Genesis 41:52\">Genesis 41:52</a></span></td><td class=\"tf rtl\"><span class=\"rtl ubd\"><span class=\"plain rtl  hlbx\" ><span class=\"txtu hbo\">וְ</span><span class=\"txtu hbo\">אֵ֛ת </span><span class=\"txtu hbo\">שֵׁ֥ם </span><span class=\"txtu hbo\">הַ</span><span class=\"plain rtl  hl\" ><span class=\"txtu hbo\">שֵּׁנִ֖י </span></span><span class=\"txtu hbo\">קָרָ֣א </span><span class=\"txtu hbo\">אֶפְרָ֑יִם </span></span></span></td><td class=\"tf rtl\"><span class=\"rtl ubd\"><span class=\"plain rtl  hl\" ><span class=\"txtu hbo\">שֵּׁנִ֖י </span></span></span></td></tr>\n",
       "<tr class=\"tf rtl\"><td class=\"tf rtl\">10</td><td class=\"tf rtl\"><span class=\"tfsechead ltr\"><a target=\"_blank\" href=\"https://shebanq.ancient-data.org/hebrew/text?book=Exodus&amp;chapter=2&amp;verse=13&amp;version=c&amp;mr=m&amp;qw=q&amp;tp=txt_p&amp;tr=hb&amp;wget=v&amp;qget=v&amp;nget=vt\" title=\"Show this on SHEBANQ\" sec=\"Exodus 2:13\">Exodus 2:13</a></span></td><td class=\"tf rtl\"><span class=\"rtl ubd\"><span class=\"plain rtl  hlbx\" ><span class=\"txtu hbo\">וַ</span><span class=\"txtu hbo\">יֵּצֵא֙ </span><span class=\"txtu hbo\">בַּ</span><span class=\"txtu hbo\">יֹּ֣ום </span><span class=\"txtu hbo\">הַ</span><span class=\"plain rtl  hl\" ><span class=\"txtu hbo\">שֵּׁנִ֔י </span></span></span></span></td><td class=\"tf rtl\"><span class=\"rtl ubd\"><span class=\"plain rtl  hl\" ><span class=\"txtu hbo\">שֵּׁנִ֔י </span></span></span></td></tr></table>"
      ],
      "text/plain": [
       "<IPython.core.display.HTML object>"
      ]
     },
     "metadata": {}
    }
   ],
   "metadata": {}
  },
  {
   "cell_type": "code",
   "execution_count": 7,
   "source": [
    "A.table(A.search('''\r\n",
    "clause\r\n",
    "    word lex_utf8=שׁני sp=adjv gn=f\r\n",
    "''')[0:10])"
   ],
   "outputs": [
    {
     "output_type": "stream",
     "name": "stdout",
     "text": [
      "  0.39s 71 results\n"
     ]
    },
    {
     "output_type": "display_data",
     "data": {
      "text/html": [
       "<table><tr class=\"tf rtl\"><th class=\"tf rtl\">n</th><th class=\"tf rtl\">p</th><th class=\"tf rtl\">clause</th><th class=\"tf\">word</th></tr>\n",
       "<tr class=\"tf rtl\"><td class=\"tf rtl\">1</td><td class=\"tf rtl\"><span class=\"tfsechead ltr\"><a target=\"_blank\" href=\"https://shebanq.ancient-data.org/hebrew/text?book=Genesis&amp;chapter=4&amp;verse=19&amp;version=c&amp;mr=m&amp;qw=q&amp;tp=txt_p&amp;tr=hb&amp;wget=v&amp;qget=v&amp;nget=vt\" title=\"Show this on SHEBANQ\" sec=\"Genesis 4:19\">Genesis 4:19</a></span></td><td class=\"tf rtl\"><span class=\"rtl ubd\"><span class=\"plain rtl  hlbx\" ><span class=\"txtu hbo\">וְ</span><span class=\"txtu hbo\">שֵׁ֥ם </span><span class=\"txtu hbo\">הַ</span><span class=\"plain rtl  hl\" ><span class=\"txtu hbo\">שֵּׁנִ֖ית </span></span><span class=\"txtu hbo\">צִלָּֽה׃ </span></span></span></td><td class=\"tf rtl\"><span class=\"rtl ubd\"><span class=\"plain rtl  hl\" ><span class=\"txtu hbo\">שֵּׁנִ֖ית </span></span></span></td></tr>\n",
       "<tr class=\"tf rtl\"><td class=\"tf rtl\">2</td><td class=\"tf rtl\"><span class=\"tfsechead ltr\"><a target=\"_blank\" href=\"https://shebanq.ancient-data.org/hebrew/text?book=Genesis&amp;chapter=22&amp;verse=15&amp;version=c&amp;mr=m&amp;qw=q&amp;tp=txt_p&amp;tr=hb&amp;wget=v&amp;qget=v&amp;nget=vt\" title=\"Show this on SHEBANQ\" sec=\"Genesis 22:15\">Genesis 22:15</a></span></td><td class=\"tf rtl\"><span class=\"rtl ubd\"><span class=\"plain rtl  hlbx\" ><span class=\"txtu hbo\">וַ</span><span class=\"txtu hbo\">יִּקְרָ֛א </span><span class=\"txtu hbo\">מַלְאַ֥ךְ </span><span class=\"txtu hbo\">יְהוָ֖ה </span><span class=\"txtu hbo\">אֶל־</span><span class=\"txtu hbo\">אַבְרָהָ֑ם </span><span class=\"plain rtl  hl\" ><span class=\"txtu hbo\">שֵׁנִ֖ית </span></span><span class=\"txtu hbo\">מִן־</span><span class=\"txtu hbo\">הַ</span><span class=\"txtu hbo\">שָּׁמָֽיִם׃ </span></span></span></td><td class=\"tf rtl\"><span class=\"rtl ubd\"><span class=\"plain rtl  hl\" ><span class=\"txtu hbo\">שֵׁנִ֖ית </span></span></span></td></tr>\n",
       "<tr class=\"tf rtl\"><td class=\"tf rtl\">3</td><td class=\"tf rtl\"><span class=\"tfsechead ltr\"><a target=\"_blank\" href=\"https://shebanq.ancient-data.org/hebrew/text?book=Genesis&amp;chapter=41&amp;verse=5&amp;version=c&amp;mr=m&amp;qw=q&amp;tp=txt_p&amp;tr=hb&amp;wget=v&amp;qget=v&amp;nget=vt\" title=\"Show this on SHEBANQ\" sec=\"Genesis 41:5\">Genesis 41:5</a></span></td><td class=\"tf rtl\"><span class=\"rtl ubd\"><span class=\"plain rtl  hlbx\" ><span class=\"txtu hbo\">וַֽ</span><span class=\"txtu hbo\">יַּחֲלֹ֖ם </span><span class=\"plain rtl  hl\" ><span class=\"txtu hbo\">שֵׁנִ֑ית </span></span></span></span></td><td class=\"tf rtl\"><span class=\"rtl ubd\"><span class=\"plain rtl  hl\" ><span class=\"txtu hbo\">שֵׁנִ֑ית </span></span></span></td></tr>\n",
       "<tr class=\"tf rtl\"><td class=\"tf rtl\">4</td><td class=\"tf rtl\"><span class=\"tfsechead ltr\"><a target=\"_blank\" href=\"https://shebanq.ancient-data.org/hebrew/text?book=Genesis&amp;chapter=47&amp;verse=18&amp;version=c&amp;mr=m&amp;qw=q&amp;tp=txt_p&amp;tr=hb&amp;wget=v&amp;qget=v&amp;nget=vt\" title=\"Show this on SHEBANQ\" sec=\"Genesis 47:18\">Genesis 47:18</a></span></td><td class=\"tf rtl\"><span class=\"rtl ubd\"><span class=\"plain rtl  hlbx\" ><span class=\"txtu hbo\">וַ</span><span class=\"txtu hbo\">יָּבֹ֨אוּ </span><span class=\"txtu hbo\">אֵלָ֜יו </span><span class=\"txtu hbo\">בַּ</span><span class=\"txtu hbo\">שָּׁנָ֣ה </span><span class=\"txtu hbo\">הַ</span><span class=\"plain rtl  hl\" ><span class=\"txtu hbo\">שֵּׁנִ֗ית </span></span></span></span></td><td class=\"tf rtl\"><span class=\"rtl ubd\"><span class=\"plain rtl  hl\" ><span class=\"txtu hbo\">שֵּׁנִ֗ית </span></span></span></td></tr>\n",
       "<tr class=\"tf rtl\"><td class=\"tf rtl\">5</td><td class=\"tf rtl\"><span class=\"tfsechead ltr\"><a target=\"_blank\" href=\"https://shebanq.ancient-data.org/hebrew/text?book=Exodus&amp;chapter=1&amp;verse=15&amp;version=c&amp;mr=m&amp;qw=q&amp;tp=txt_p&amp;tr=hb&amp;wget=v&amp;qget=v&amp;nget=vt\" title=\"Show this on SHEBANQ\" sec=\"Exodus 1:15\">Exodus 1:15</a></span></td><td class=\"tf rtl\"><span class=\"rtl ubd\"><span class=\"plain rtl  hlbx\" ><span class=\"txtu hbo\">וְ</span><span class=\"txtu hbo\">שֵׁ֥ם </span><span class=\"txtu hbo\">הַ</span><span class=\"plain rtl  hl\" ><span class=\"txtu hbo\">שֵּׁנִ֖ית </span></span><span class=\"txtu hbo\">פּוּעָֽה׃ </span></span></span></td><td class=\"tf rtl\"><span class=\"rtl ubd\"><span class=\"plain rtl  hl\" ><span class=\"txtu hbo\">שֵּׁנִ֖ית </span></span></span></td></tr>\n",
       "<tr class=\"tf rtl\"><td class=\"tf rtl\">6</td><td class=\"tf rtl\"><span class=\"tfsechead ltr\"><a target=\"_blank\" href=\"https://shebanq.ancient-data.org/hebrew/text?book=Exodus&amp;chapter=25&amp;verse=12&amp;version=c&amp;mr=m&amp;qw=q&amp;tp=txt_p&amp;tr=hb&amp;wget=v&amp;qget=v&amp;nget=vt\" title=\"Show this on SHEBANQ\" sec=\"Exodus 25:12\">Exodus 25:12</a></span></td><td class=\"tf rtl\"><span class=\"rtl ubd\"><span class=\"plain rtl  hlbx\" ><span class=\"txtu hbo\">וּ</span><span class=\"txtu hbo\">שְׁתֵּי֙ </span><span class=\"txtu hbo\">טַבָּעֹ֔ת </span><span class=\"txtu hbo\">עַל־</span><span class=\"txtu hbo\">צַלְעֹ֖ו </span><span class=\"txtu hbo\">הַ</span><span class=\"plain rtl  hl\" ><span class=\"txtu hbo\">שֵּׁנִֽית׃ </span></span></span></span></td><td class=\"tf rtl\"><span class=\"rtl ubd\"><span class=\"plain rtl  hl\" ><span class=\"txtu hbo\">שֵּׁנִֽית׃ </span></span></span></td></tr>\n",
       "<tr class=\"tf rtl\"><td class=\"tf rtl\">7</td><td class=\"tf rtl\"><span class=\"tfsechead ltr\"><a target=\"_blank\" href=\"https://shebanq.ancient-data.org/hebrew/text?book=Exodus&amp;chapter=26&amp;verse=4&amp;version=c&amp;mr=m&amp;qw=q&amp;tp=txt_p&amp;tr=hb&amp;wget=v&amp;qget=v&amp;nget=vt\" title=\"Show this on SHEBANQ\" sec=\"Exodus 26:4\">Exodus 26:4</a></span></td><td class=\"tf rtl\"><span class=\"rtl ubd\"><span class=\"plain rtl  hlbx\" ><span class=\"txtu hbo\">וְ</span><span class=\"txtu hbo\">כֵ֤ן </span><span class=\"txtu hbo\">תַּעֲשֶׂה֙ </span><span class=\"txtu hbo\">בִּ</span><span class=\"txtu hbo\">שְׂפַ֣ת </span><span class=\"txtu hbo\">הַ</span><span class=\"txtu hbo\">יְרִיעָ֔ה </span><span class=\"txtu hbo\">הַ</span><span class=\"txtu hbo\">קִּ֣יצֹונָ֔ה </span><span class=\"txtu hbo\">בַּ</span><span class=\"txtu hbo\">מַּחְבֶּ֖רֶת </span><span class=\"txtu hbo\">הַ</span><span class=\"plain rtl  hl\" ><span class=\"txtu hbo\">שֵּׁנִֽית׃ </span></span></span></span></td><td class=\"tf rtl\"><span class=\"rtl ubd\"><span class=\"plain rtl  hl\" ><span class=\"txtu hbo\">שֵּׁנִֽית׃ </span></span></span></td></tr>\n",
       "<tr class=\"tf rtl\"><td class=\"tf rtl\">8</td><td class=\"tf rtl\"><span class=\"tfsechead ltr\"><a target=\"_blank\" href=\"https://shebanq.ancient-data.org/hebrew/text?book=Exodus&amp;chapter=26&amp;verse=5&amp;version=c&amp;mr=m&amp;qw=q&amp;tp=txt_p&amp;tr=hb&amp;wget=v&amp;qget=v&amp;nget=vt\" title=\"Show this on SHEBANQ\" sec=\"Exodus 26:5\">Exodus 26:5</a></span></td><td class=\"tf rtl\"><span class=\"rtl ubd\"><span class=\"plain rtl  hlbx\" ><span class=\"txtu hbo\">אֲשֶׁ֖ר </span><span class=\"txtu hbo\">בַּ</span><span class=\"txtu hbo\">מַּחְבֶּ֣רֶת </span><span class=\"txtu hbo\">הַ</span><span class=\"plain rtl  hl\" ><span class=\"txtu hbo\">שֵּׁנִ֑ית </span></span></span></span></td><td class=\"tf rtl\"><span class=\"rtl ubd\"><span class=\"plain rtl  hl\" ><span class=\"txtu hbo\">שֵּׁנִ֑ית </span></span></span></td></tr>\n",
       "<tr class=\"tf rtl\"><td class=\"tf rtl\">9</td><td class=\"tf rtl\"><span class=\"tfsechead ltr\"><a target=\"_blank\" href=\"https://shebanq.ancient-data.org/hebrew/text?book=Exodus&amp;chapter=26&amp;verse=10&amp;version=c&amp;mr=m&amp;qw=q&amp;tp=txt_p&amp;tr=hb&amp;wget=v&amp;qget=v&amp;nget=vt\" title=\"Show this on SHEBANQ\" sec=\"Exodus 26:10\">Exodus 26:10</a></span></td><td class=\"tf rtl\"><span class=\"rtl ubd\"><span class=\"plain rtl  hlbx\" ><span class=\"txtu hbo\">וַ</span><span class=\"txtu hbo\">חֲמִשִּׁ֣ים </span><span class=\"txtu hbo\">לֻֽלָאֹ֗ת </span><span class=\"txtu hbo\">עַ֚ל </span><span class=\"txtu hbo\">שְׂפַ֣ת </span><span class=\"txtu hbo\">הַ</span><span class=\"txtu hbo\">יְרִיעָ֔ה </span><span class=\"txtu hbo\">הַ</span><span class=\"txtu hbo\">חֹבֶ֖רֶת </span><span class=\"txtu hbo\">הַ</span><span class=\"plain rtl  hl\" ><span class=\"txtu hbo\">שֵּׁנִֽית׃ </span></span></span></span></td><td class=\"tf rtl\"><span class=\"rtl ubd\"><span class=\"plain rtl  hl\" ><span class=\"txtu hbo\">שֵּׁנִֽית׃ </span></span></span></td></tr>\n",
       "<tr class=\"tf rtl\"><td class=\"tf rtl\">10</td><td class=\"tf rtl\"><span class=\"tfsechead ltr\"><a target=\"_blank\" href=\"https://shebanq.ancient-data.org/hebrew/text?book=Exodus&amp;chapter=26&amp;verse=20&amp;version=c&amp;mr=m&amp;qw=q&amp;tp=txt_p&amp;tr=hb&amp;wget=v&amp;qget=v&amp;nget=vt\" title=\"Show this on SHEBANQ\" sec=\"Exodus 26:20\">Exodus 26:20</a></span></td><td class=\"tf rtl\"><span class=\"rtl ubd\"><span class=\"plain rtl  hlbx\" ><span class=\"txtu hbo\">וּ</span><span class=\"txtu hbo\">לְ</span><span class=\"txtu hbo\">צֶ֧לַע </span><span class=\"txtu hbo\">הַ</span><span class=\"txtu hbo\">מִּשְׁכָּ֛ן </span><span class=\"txtu hbo\">הַ</span><span class=\"plain rtl  hl\" ><span class=\"txtu hbo\">שֵּׁנִ֖ית </span></span><span class=\"txtu hbo\">לִ</span><span class=\"txtu hbo\">פְאַ֣ת </span><span class=\"txtu hbo\">צָפֹ֑ון </span><span class=\"txtu hbo\">עֶשְׂרִ֖ים </span><span class=\"txtu hbo\">קָֽרֶשׁ׃ </span></span></span></td><td class=\"tf rtl\"><span class=\"rtl ubd\"><span class=\"plain rtl  hl\" ><span class=\"txtu hbo\">שֵּׁנִ֖ית </span></span></span></td></tr></table>"
      ],
      "text/plain": [
       "<IPython.core.display.HTML object>"
      ]
     },
     "metadata": {}
    }
   ],
   "metadata": {}
  },
  {
   "cell_type": "markdown",
   "source": [
    "## 3rd"
   ],
   "metadata": {}
  },
  {
   "cell_type": "code",
   "execution_count": 10,
   "source": [
    "A.table(A.search('''\r\n",
    "clause\r\n",
    "    word lex_utf8=שׁלישׁי sp=adjv gn=m\r\n",
    "''')[0:10])"
   ],
   "outputs": [
    {
     "output_type": "stream",
     "name": "stdout",
     "text": [
      "  0.49s 70 results\n"
     ]
    },
    {
     "output_type": "display_data",
     "data": {
      "text/html": [
       "<table><tr class=\"tf rtl\"><th class=\"tf rtl\">n</th><th class=\"tf rtl\">p</th><th class=\"tf rtl\">clause</th><th class=\"tf\">word</th></tr>\n",
       "<tr class=\"tf rtl\"><td class=\"tf rtl\">1</td><td class=\"tf rtl\"><span class=\"tfsechead ltr\"><a target=\"_blank\" href=\"https://shebanq.ancient-data.org/hebrew/text?book=Genesis&amp;chapter=1&amp;verse=13&amp;version=c&amp;mr=m&amp;qw=q&amp;tp=txt_p&amp;tr=hb&amp;wget=v&amp;qget=v&amp;nget=vt\" title=\"Show this on SHEBANQ\" sec=\"Genesis 1:13\">Genesis 1:13</a></span></td><td class=\"tf rtl\"><span class=\"rtl ubd\"><span class=\"plain rtl  hlbx\" ><span class=\"txtu hbo\">יֹ֥ום </span><span class=\"plain rtl  hl\" ><span class=\"txtu hbo\">שְׁלִישִֽׁי׃ פ </span></span></span></span></td><td class=\"tf rtl\"><span class=\"rtl ubd\"><span class=\"plain rtl  hl\" ><span class=\"txtu hbo\">שְׁלִישִֽׁי׃ פ </span></span></span></td></tr>\n",
       "<tr class=\"tf rtl\"><td class=\"tf rtl\">2</td><td class=\"tf rtl\"><span class=\"tfsechead ltr\"><a target=\"_blank\" href=\"https://shebanq.ancient-data.org/hebrew/text?book=Genesis&amp;chapter=2&amp;verse=14&amp;version=c&amp;mr=m&amp;qw=q&amp;tp=txt_p&amp;tr=hb&amp;wget=v&amp;qget=v&amp;nget=vt\" title=\"Show this on SHEBANQ\" sec=\"Genesis 2:14\">Genesis 2:14</a></span></td><td class=\"tf rtl\"><span class=\"rtl ubd\"><span class=\"plain rtl  hlbx\" ><span class=\"txtu hbo\">וְ</span><span class=\"txtu hbo\">שֵׁ֨ם </span><span class=\"txtu hbo\">הַ</span><span class=\"txtu hbo\">נָּהָ֤ר </span><span class=\"txtu hbo\">הַ</span><span class=\"plain rtl  hl\" ><span class=\"txtu hbo\">שְּׁלִישִׁי֙ </span></span><span class=\"txtu hbo\">חִדֶּ֔קֶל </span></span></span></td><td class=\"tf rtl\"><span class=\"rtl ubd\"><span class=\"plain rtl  hl\" ><span class=\"txtu hbo\">שְּׁלִישִׁי֙ </span></span></span></td></tr>\n",
       "<tr class=\"tf rtl\"><td class=\"tf rtl\">3</td><td class=\"tf rtl\"><span class=\"tfsechead ltr\"><a target=\"_blank\" href=\"https://shebanq.ancient-data.org/hebrew/text?book=Genesis&amp;chapter=6&amp;verse=16&amp;version=c&amp;mr=m&amp;qw=q&amp;tp=txt_p&amp;tr=hb&amp;wget=v&amp;qget=v&amp;nget=vt\" title=\"Show this on SHEBANQ\" sec=\"Genesis 6:16\">Genesis 6:16</a></span></td><td class=\"tf rtl\"><span class=\"rtl ubd\"><span class=\"plain rtl  hlbx\" ><span class=\"txtu hbo\">תַּחְתִּיִּ֛ם </span><span class=\"txtu hbo\">שְׁנִיִּ֥ם </span><span class=\"txtu hbo\">וּ</span><span class=\"plain rtl  hl\" ><span class=\"txtu hbo\">שְׁלִשִׁ֖ים </span></span><span class=\"txtu hbo\">תַּֽעֲשֶֽׂהָ׃ </span></span></span></td><td class=\"tf rtl\"><span class=\"rtl ubd\"><span class=\"plain rtl  hl\" ><span class=\"txtu hbo\">שְׁלִשִׁ֖ים </span></span></span></td></tr>\n",
       "<tr class=\"tf rtl\"><td class=\"tf rtl\">4</td><td class=\"tf rtl\"><span class=\"tfsechead ltr\"><a target=\"_blank\" href=\"https://shebanq.ancient-data.org/hebrew/text?book=Genesis&amp;chapter=22&amp;verse=4&amp;version=c&amp;mr=m&amp;qw=q&amp;tp=txt_p&amp;tr=hb&amp;wget=v&amp;qget=v&amp;nget=vt\" title=\"Show this on SHEBANQ\" sec=\"Genesis 22:4\">Genesis 22:4</a></span></td><td class=\"tf rtl\"><span class=\"rtl ubd\"><span class=\"plain rtl  hlbx\" ><span class=\"txtu hbo\">בַּ</span><span class=\"txtu hbo\">יֹּ֣ום </span><span class=\"txtu hbo\">הַ</span><span class=\"plain rtl  hl\" ><span class=\"txtu hbo\">שְּׁלִישִׁ֗י </span></span></span></span></td><td class=\"tf rtl\"><span class=\"rtl ubd\"><span class=\"plain rtl  hl\" ><span class=\"txtu hbo\">שְּׁלִישִׁ֗י </span></span></span></td></tr>\n",
       "<tr class=\"tf rtl\"><td class=\"tf rtl\">5</td><td class=\"tf rtl\"><span class=\"tfsechead ltr\"><a target=\"_blank\" href=\"https://shebanq.ancient-data.org/hebrew/text?book=Genesis&amp;chapter=31&amp;verse=22&amp;version=c&amp;mr=m&amp;qw=q&amp;tp=txt_p&amp;tr=hb&amp;wget=v&amp;qget=v&amp;nget=vt\" title=\"Show this on SHEBANQ\" sec=\"Genesis 31:22\">Genesis 31:22</a></span></td><td class=\"tf rtl\"><span class=\"rtl ubd\"><span class=\"plain rtl  hlbx\" ><span class=\"txtu hbo\">וַ</span><span class=\"txtu hbo\">יֻּגַּ֥ד </span><span class=\"txtu hbo\">לְ</span><span class=\"txtu hbo\">לָבָ֖ן </span><span class=\"txtu hbo\">בַּ</span><span class=\"txtu hbo\">יֹּ֣ום </span><span class=\"txtu hbo\">הַ</span><span class=\"plain rtl  hl\" ><span class=\"txtu hbo\">שְּׁלִישִׁ֑י </span></span></span></span></td><td class=\"tf rtl\"><span class=\"rtl ubd\"><span class=\"plain rtl  hl\" ><span class=\"txtu hbo\">שְּׁלִישִׁ֑י </span></span></span></td></tr>\n",
       "<tr class=\"tf rtl\"><td class=\"tf rtl\">6</td><td class=\"tf rtl\"><span class=\"tfsechead ltr\"><a target=\"_blank\" href=\"https://shebanq.ancient-data.org/hebrew/text?book=Genesis&amp;chapter=32&amp;verse=20&amp;version=c&amp;mr=m&amp;qw=q&amp;tp=txt_p&amp;tr=hb&amp;wget=v&amp;qget=v&amp;nget=vt\" title=\"Show this on SHEBANQ\" sec=\"Genesis 32:20\">Genesis 32:20</a></span></td><td class=\"tf rtl\"><span class=\"rtl ubd\"><span class=\"plain rtl  hlbx\" ><span class=\"txtu hbo\">וַ</span><span class=\"txtu hbo\">יְצַ֞ו </span><span class=\"txtu hbo\">גַּ֣ם </span><span class=\"txtu hbo\">אֶת־</span><span class=\"txtu hbo\">הַ</span><span class=\"txtu hbo\">שֵּׁנִ֗י </span><span class=\"txtu hbo\">גַּ֚ם </span><span class=\"txtu hbo\">אֶת־</span><span class=\"txtu hbo\">הַ</span><span class=\"plain rtl  hl\" ><span class=\"txtu hbo\">שְּׁלִישִׁ֔י </span></span><span class=\"txtu hbo\">גַּ֚ם </span><span class=\"txtu hbo\">אֶת־</span><span class=\"txtu hbo\">כָּל־</span></span></span></td><td class=\"tf rtl\"><span class=\"rtl ubd\"><span class=\"plain rtl  hl\" ><span class=\"txtu hbo\">שְּׁלִישִׁ֔י </span></span></span></td></tr>\n",
       "<tr class=\"tf rtl\"><td class=\"tf rtl\">7</td><td class=\"tf rtl\"><span class=\"tfsechead ltr\"><a target=\"_blank\" href=\"https://shebanq.ancient-data.org/hebrew/text?book=Genesis&amp;chapter=34&amp;verse=25&amp;version=c&amp;mr=m&amp;qw=q&amp;tp=txt_p&amp;tr=hb&amp;wget=v&amp;qget=v&amp;nget=vt\" title=\"Show this on SHEBANQ\" sec=\"Genesis 34:25\">Genesis 34:25</a></span></td><td class=\"tf rtl\"><span class=\"rtl ubd\"><span class=\"plain rtl  hlbx\" ><span class=\"txtu hbo\">וַ</span><span class=\"txtu hbo\">יְהִי֩ </span><span class=\"txtu hbo\">בַ</span><span class=\"txtu hbo\">יֹּ֨ום </span><span class=\"txtu hbo\">הַ</span><span class=\"plain rtl  hl\" ><span class=\"txtu hbo\">שְּׁלִישִׁ֜י </span></span></span></span></td><td class=\"tf rtl\"><span class=\"rtl ubd\"><span class=\"plain rtl  hl\" ><span class=\"txtu hbo\">שְּׁלִישִׁ֜י </span></span></span></td></tr>\n",
       "<tr class=\"tf rtl\"><td class=\"tf rtl\">8</td><td class=\"tf rtl\"><span class=\"tfsechead ltr\"><a target=\"_blank\" href=\"https://shebanq.ancient-data.org/hebrew/text?book=Genesis&amp;chapter=40&amp;verse=20&amp;version=c&amp;mr=m&amp;qw=q&amp;tp=txt_p&amp;tr=hb&amp;wget=v&amp;qget=v&amp;nget=vt\" title=\"Show this on SHEBANQ\" sec=\"Genesis 40:20\">Genesis 40:20</a></span></td><td class=\"tf rtl\"><span class=\"rtl ubd\"><span class=\"plain rtl  hlbx\" ><span class=\"txtu hbo\">וַ</span><span class=\"txtu hbo\">יְהִ֣י׀ </span><span class=\"txtu hbo\">בַּ</span><span class=\"txtu hbo\">יֹּ֣ום </span><span class=\"txtu hbo\">הַ</span><span class=\"plain rtl  hl\" ><span class=\"txtu hbo\">שְּׁלִישִׁ֗י </span></span><span class=\"txtu hbo\">יֹ֚ום </span></span></span></td><td class=\"tf rtl\"><span class=\"rtl ubd\"><span class=\"plain rtl  hl\" ><span class=\"txtu hbo\">שְּׁלִישִׁ֗י </span></span></span></td></tr>\n",
       "<tr class=\"tf rtl\"><td class=\"tf rtl\">9</td><td class=\"tf rtl\"><span class=\"tfsechead ltr\"><a target=\"_blank\" href=\"https://shebanq.ancient-data.org/hebrew/text?book=Genesis&amp;chapter=42&amp;verse=18&amp;version=c&amp;mr=m&amp;qw=q&amp;tp=txt_p&amp;tr=hb&amp;wget=v&amp;qget=v&amp;nget=vt\" title=\"Show this on SHEBANQ\" sec=\"Genesis 42:18\">Genesis 42:18</a></span></td><td class=\"tf rtl\"><span class=\"rtl ubd\"><span class=\"plain rtl  hlbx\" ><span class=\"txtu hbo\">וַ</span><span class=\"txtu hbo\">יֹּ֨אמֶר </span><span class=\"txtu hbo\">אֲלֵהֶ֤ם </span><span class=\"txtu hbo\">יֹוסֵף֙ </span><span class=\"txtu hbo\">בַּ</span><span class=\"txtu hbo\">יֹּ֣ום </span><span class=\"txtu hbo\">הַ</span><span class=\"plain rtl  hl\" ><span class=\"txtu hbo\">שְּׁלִישִׁ֔י </span></span></span></span></td><td class=\"tf rtl\"><span class=\"rtl ubd\"><span class=\"plain rtl  hl\" ><span class=\"txtu hbo\">שְּׁלִישִׁ֔י </span></span></span></td></tr>\n",
       "<tr class=\"tf rtl\"><td class=\"tf rtl\">10</td><td class=\"tf rtl\"><span class=\"tfsechead ltr\"><a target=\"_blank\" href=\"https://shebanq.ancient-data.org/hebrew/text?book=Exodus&amp;chapter=19&amp;verse=1&amp;version=c&amp;mr=m&amp;qw=q&amp;tp=txt_p&amp;tr=hb&amp;wget=v&amp;qget=v&amp;nget=vt\" title=\"Show this on SHEBANQ\" sec=\"Exodus 19:1\">Exodus 19:1</a></span></td><td class=\"tf rtl\"><span class=\"rtl ubd\"><span class=\"plain rtl l hlbx\" ><span class=\"txtu hbo\">בַּ</span><span class=\"txtu hbo\">חֹ֨דֶשׁ֙ </span><span class=\"txtu hbo\">הַ</span><span class=\"plain rtl  hl\" ><span class=\"txtu hbo\">שְּׁלִישִׁ֔י </span></span></span><span class=\"plain rtl r hlbx\" ><span class=\"txtu hbo\">בַּ</span><span class=\"txtu hbo\">יֹּ֣ום </span><span class=\"txtu hbo\">הַ</span><span class=\"txtu hbo\">זֶּ֔ה </span><span class=\"txtu hbo\">בָּ֖אוּ </span><span class=\"txtu hbo\">מִדְבַּ֥ר </span><span class=\"txtu hbo\">סִינָֽי׃ </span></span></span></td><td class=\"tf rtl\"><span class=\"rtl ubd\"><span class=\"plain rtl  hl\" ><span class=\"txtu hbo\">שְּׁלִישִׁ֔י </span></span></span></td></tr></table>"
      ],
      "text/plain": [
       "<IPython.core.display.HTML object>"
      ]
     },
     "metadata": {}
    }
   ],
   "metadata": {}
  },
  {
   "cell_type": "code",
   "execution_count": 11,
   "source": [
    "A.table(A.search('''\r\n",
    "clause\r\n",
    "    word lex_utf8=שׁלישׁי sp=adjv gn=f\r\n",
    "''')[0:10])"
   ],
   "outputs": [
    {
     "output_type": "stream",
     "name": "stdout",
     "text": [
      "  0.39s 13 results\n"
     ]
    },
    {
     "output_type": "display_data",
     "data": {
      "text/html": [
       "<table><tr class=\"tf rtl\"><th class=\"tf rtl\">n</th><th class=\"tf rtl\">p</th><th class=\"tf rtl\">clause</th><th class=\"tf\">word</th></tr>\n",
       "<tr class=\"tf rtl\"><td class=\"tf rtl\">1</td><td class=\"tf rtl\"><span class=\"tfsechead ltr\"><a target=\"_blank\" href=\"https://shebanq.ancient-data.org/hebrew/text?book=Deuteronomium&amp;chapter=26&amp;verse=12&amp;version=c&amp;mr=m&amp;qw=q&amp;tp=txt_p&amp;tr=hb&amp;wget=v&amp;qget=v&amp;nget=vt\" title=\"Show this on SHEBANQ\" sec=\"Deuteronomy 26:12\">Deuteronomy 26:12</a></span></td><td class=\"tf rtl\"><span class=\"rtl ubd\"><span class=\"plain rtl  hlbx\" ><span class=\"txtu hbo\">לַ֠</span><span class=\"txtu hbo\">עְשֵׂר </span><span class=\"txtu hbo\">אֶת־</span><span class=\"txtu hbo\">כָּל־</span><span class=\"txtu hbo\">מַעְשַׂ֧ר </span><span class=\"txtu hbo\">תְּבוּאָתְךָ֛ </span><span class=\"txtu hbo\">בַּ</span><span class=\"txtu hbo\">שָּׁנָ֥ה </span><span class=\"txtu hbo\">הַ</span><span class=\"plain rtl  hl\" ><span class=\"txtu hbo\">שְּׁלִישִׁ֖ת </span></span><span class=\"txtu hbo\">שְׁנַ֣ת </span><span class=\"txtu hbo\">הַֽ</span><span class=\"txtu hbo\">מַּעֲשֵׂ֑ר </span></span></span></td><td class=\"tf rtl\"><span class=\"rtl ubd\"><span class=\"plain rtl  hl\" ><span class=\"txtu hbo\">שְּׁלִישִׁ֖ת </span></span></span></td></tr>\n",
       "<tr class=\"tf rtl\"><td class=\"tf rtl\">2</td><td class=\"tf rtl\"><span class=\"tfsechead ltr\"><a target=\"_blank\" href=\"https://shebanq.ancient-data.org/hebrew/text?book=Samuel_I&amp;chapter=3&amp;verse=8&amp;version=c&amp;mr=m&amp;qw=q&amp;tp=txt_p&amp;tr=hb&amp;wget=v&amp;qget=v&amp;nget=vt\" title=\"Show this on SHEBANQ\" sec=\"1_Samuel 3:8\">1_Samuel 3:8</a></span></td><td class=\"tf rtl\"><span class=\"rtl ubd\"><span class=\"plain rtl l hlbx\" ><span class=\"txtu hbo\">וַ</span><span class=\"txtu hbo\">יֹּ֨סֶף </span><span class=\"txtu hbo\">יְהוָ֥ה </span></span><span class=\"plain rtl r hlbx\" ><span class=\"txtu hbo\">בַּ</span><span class=\"plain rtl  hl\" ><span class=\"txtu hbo\">שְּׁלִשִׁית֒ </span></span></span></span></td><td class=\"tf rtl\"><span class=\"rtl ubd\"><span class=\"plain rtl  hl\" ><span class=\"txtu hbo\">שְּׁלִשִׁית֒ </span></span></span></td></tr>\n",
       "<tr class=\"tf rtl\"><td class=\"tf rtl\">3</td><td class=\"tf rtl\"><span class=\"tfsechead ltr\"><a target=\"_blank\" href=\"https://shebanq.ancient-data.org/hebrew/text?book=Samuel_I&amp;chapter=20&amp;verse=5&amp;version=c&amp;mr=m&amp;qw=q&amp;tp=txt_p&amp;tr=hb&amp;wget=v&amp;qget=v&amp;nget=vt\" title=\"Show this on SHEBANQ\" sec=\"1_Samuel 20:5\">1_Samuel 20:5</a></span></td><td class=\"tf rtl\"><span class=\"rtl ubd\"><span class=\"plain rtl  hlbx\" ><span class=\"txtu hbo\">וְ</span><span class=\"txtu hbo\">נִסְתַּרְתִּ֣י </span><span class=\"txtu hbo\">בַ</span><span class=\"txtu hbo\">שָּׂדֶ֔ה </span><span class=\"txtu hbo\">עַ֖ד </span><span class=\"txtu hbo\">הָ</span><span class=\"txtu hbo\">עֶ֥רֶב </span><span class=\"txtu hbo\">הַ</span><span class=\"plain rtl  hl\" ><span class=\"txtu hbo\">שְּׁלִשִֽׁית׃ </span></span></span></span></td><td class=\"tf rtl\"><span class=\"rtl ubd\"><span class=\"plain rtl  hl\" ><span class=\"txtu hbo\">שְּׁלִשִֽׁית׃ </span></span></span></td></tr>\n",
       "<tr class=\"tf rtl\"><td class=\"tf rtl\">4</td><td class=\"tf rtl\"><span class=\"tfsechead ltr\"><a target=\"_blank\" href=\"https://shebanq.ancient-data.org/hebrew/text?book=Samuel_I&amp;chapter=20&amp;verse=12&amp;version=c&amp;mr=m&amp;qw=q&amp;tp=txt_p&amp;tr=hb&amp;wget=v&amp;qget=v&amp;nget=vt\" title=\"Show this on SHEBANQ\" sec=\"1_Samuel 20:12\">1_Samuel 20:12</a></span></td><td class=\"tf rtl\"><span class=\"rtl ubd\"><span class=\"plain rtl  hlbx\" ><span class=\"txtu hbo\">כִּֽי־</span><span class=\"txtu hbo\">אֶחְקֹ֣ר </span><span class=\"txtu hbo\">אֶת־</span><span class=\"txtu hbo\">אָבִ֗י </span><span class=\"txtu hbo\">כָּ</span><span class=\"txtu hbo\">עֵ֤ת׀ </span><span class=\"txtu hbo\">מָחָר֙ </span><span class=\"txtu hbo\">הַ</span><span class=\"plain rtl  hl\" ><span class=\"txtu hbo\">שְּׁלִשִׁ֔ית </span></span></span></span></td><td class=\"tf rtl\"><span class=\"rtl ubd\"><span class=\"plain rtl  hl\" ><span class=\"txtu hbo\">שְּׁלִשִׁ֔ית </span></span></span></td></tr>\n",
       "<tr class=\"tf rtl\"><td class=\"tf rtl\">5</td><td class=\"tf rtl\"><span class=\"tfsechead ltr\"><a target=\"_blank\" href=\"https://shebanq.ancient-data.org/hebrew/text?book=Reges_I&amp;chapter=6&amp;verse=6&amp;version=c&amp;mr=m&amp;qw=q&amp;tp=txt_p&amp;tr=hb&amp;wget=v&amp;qget=v&amp;nget=vt\" title=\"Show this on SHEBANQ\" sec=\"1_Kings 6:6\">1_Kings 6:6</a></span></td><td class=\"tf rtl\"><span class=\"rtl ubd\"><span class=\"plain rtl  hlbx\" ><span class=\"txtu hbo\">וְ</span><span class=\"txtu hbo\">הַ֨</span><span class=\"plain rtl  hl\" ><span class=\"txtu hbo\">שְּׁלִישִׁ֔ית </span></span></span></span></td><td class=\"tf rtl\"><span class=\"rtl ubd\"><span class=\"plain rtl  hl\" ><span class=\"txtu hbo\">שְּׁלִישִׁ֔ית </span></span></span></td></tr>\n",
       "<tr class=\"tf rtl\"><td class=\"tf rtl\">6</td><td class=\"tf rtl\"><span class=\"tfsechead ltr\"><a target=\"_blank\" href=\"https://shebanq.ancient-data.org/hebrew/text?book=Reges_I&amp;chapter=18&amp;verse=1&amp;version=c&amp;mr=m&amp;qw=q&amp;tp=txt_p&amp;tr=hb&amp;wget=v&amp;qget=v&amp;nget=vt\" title=\"Show this on SHEBANQ\" sec=\"1_Kings 18:1\">1_Kings 18:1</a></span></td><td class=\"tf rtl\"><span class=\"rtl ubd\"><span class=\"plain rtl  hlbx\" ><span class=\"txtu hbo\">וּ</span><span class=\"txtu hbo\">דְבַר־</span><span class=\"txtu hbo\">יְהוָ֗ה </span><span class=\"txtu hbo\">הָיָה֙ </span><span class=\"txtu hbo\">אֶל־</span><span class=\"txtu hbo\">אֵ֣לִיָּ֔הוּ </span><span class=\"txtu hbo\">בַּ</span><span class=\"txtu hbo\">שָּׁנָ֥ה </span><span class=\"txtu hbo\">הַ</span><span class=\"plain rtl  hl\" ><span class=\"txtu hbo\">שְּׁלִישִׁ֖ית </span></span></span></span></td><td class=\"tf rtl\"><span class=\"rtl ubd\"><span class=\"plain rtl  hl\" ><span class=\"txtu hbo\">שְּׁלִישִׁ֖ית </span></span></span></td></tr>\n",
       "<tr class=\"tf rtl\"><td class=\"tf rtl\">7</td><td class=\"tf rtl\"><span class=\"tfsechead ltr\"><a target=\"_blank\" href=\"https://shebanq.ancient-data.org/hebrew/text?book=Reges_I&amp;chapter=22&amp;verse=2&amp;version=c&amp;mr=m&amp;qw=q&amp;tp=txt_p&amp;tr=hb&amp;wget=v&amp;qget=v&amp;nget=vt\" title=\"Show this on SHEBANQ\" sec=\"1_Kings 22:2\">1_Kings 22:2</a></span></td><td class=\"tf rtl\"><span class=\"rtl ubd\"><span class=\"plain rtl  hlbx\" ><span class=\"txtu hbo\">וַ</span><span class=\"txtu hbo\">יְהִ֖י </span><span class=\"txtu hbo\">בַּ</span><span class=\"txtu hbo\">שָּׁנָ֣ה </span><span class=\"txtu hbo\">הַ</span><span class=\"plain rtl  hl\" ><span class=\"txtu hbo\">שְּׁלִישִׁ֑ית </span></span></span></span></td><td class=\"tf rtl\"><span class=\"rtl ubd\"><span class=\"plain rtl  hl\" ><span class=\"txtu hbo\">שְּׁלִישִׁ֑ית </span></span></span></td></tr>\n",
       "<tr class=\"tf rtl\"><td class=\"tf rtl\">8</td><td class=\"tf rtl\"><span class=\"tfsechead ltr\"><a target=\"_blank\" href=\"https://shebanq.ancient-data.org/hebrew/text?book=Reges_II&amp;chapter=19&amp;verse=29&amp;version=c&amp;mr=m&amp;qw=q&amp;tp=txt_p&amp;tr=hb&amp;wget=v&amp;qget=v&amp;nget=vt\" title=\"Show this on SHEBANQ\" sec=\"2_Kings 19:29\">2_Kings 19:29</a></span></td><td class=\"tf rtl\"><span class=\"rtl ubd\"><span class=\"plain rtl  hlbx\" ><span class=\"txtu hbo\">וּ</span><span class=\"txtu hbo\">בַ</span><span class=\"txtu hbo\">שָּׁנָ֣ה </span><span class=\"txtu hbo\">הַ</span><span class=\"plain rtl  hl\" ><span class=\"txtu hbo\">שְּׁלִישִׁ֗ית </span></span><span class=\"txtu hbo\">זִרְע֧וּ </span></span></span></td><td class=\"tf rtl\"><span class=\"rtl ubd\"><span class=\"plain rtl  hl\" ><span class=\"txtu hbo\">שְּׁלִישִׁ֗ית </span></span></span></td></tr>\n",
       "<tr class=\"tf rtl\"><td class=\"tf rtl\">9</td><td class=\"tf rtl\"><span class=\"tfsechead ltr\"><a target=\"_blank\" href=\"https://shebanq.ancient-data.org/hebrew/text?book=Jesaia&amp;chapter=19&amp;verse=24&amp;version=c&amp;mr=m&amp;qw=q&amp;tp=txt_p&amp;tr=hb&amp;wget=v&amp;qget=v&amp;nget=vt\" title=\"Show this on SHEBANQ\" sec=\"Isaiah 19:24\">Isaiah 19:24</a></span></td><td class=\"tf rtl\"><span class=\"rtl ubd\"><span class=\"plain rtl  hlbx\" ><span class=\"txtu hbo\">בַּ</span><span class=\"txtu hbo\">יֹּ֣ום </span><span class=\"txtu hbo\">הַ</span><span class=\"txtu hbo\">ה֗וּא </span><span class=\"txtu hbo\">יִהְיֶ֤ה </span><span class=\"txtu hbo\">יִשְׂרָאֵל֙ </span><span class=\"plain rtl  hl\" ><span class=\"txtu hbo\">שְׁלִ֣ישִׁיָּ֔ה </span></span><span class=\"txtu hbo\">לְ</span><span class=\"txtu hbo\">מִצְרַ֖יִם </span><span class=\"txtu hbo\">וּ</span><span class=\"txtu hbo\">לְ</span><span class=\"txtu hbo\">אַשּׁ֑וּר </span></span></span></td><td class=\"tf rtl\"><span class=\"rtl ubd\"><span class=\"plain rtl  hl\" ><span class=\"txtu hbo\">שְׁלִ֣ישִׁיָּ֔ה </span></span></span></td></tr>\n",
       "<tr class=\"tf rtl\"><td class=\"tf rtl\">10</td><td class=\"tf rtl\"><span class=\"tfsechead ltr\"><a target=\"_blank\" href=\"https://shebanq.ancient-data.org/hebrew/text?book=Jesaia&amp;chapter=37&amp;verse=30&amp;version=c&amp;mr=m&amp;qw=q&amp;tp=txt_p&amp;tr=hb&amp;wget=v&amp;qget=v&amp;nget=vt\" title=\"Show this on SHEBANQ\" sec=\"Isaiah 37:30\">Isaiah 37:30</a></span></td><td class=\"tf rtl\"><span class=\"rtl ubd\"><span class=\"plain rtl  hlbx\" ><span class=\"txtu hbo\">וּ</span><span class=\"txtu hbo\">בַ</span><span class=\"txtu hbo\">שָּׁנָ֣ה </span><span class=\"txtu hbo\">הַ</span><span class=\"plain rtl  hl\" ><span class=\"txtu hbo\">שְּׁלִישִׁ֗ית </span></span><span class=\"txtu hbo\">זִרְע֧וּ </span></span></span></td><td class=\"tf rtl\"><span class=\"rtl ubd\"><span class=\"plain rtl  hl\" ><span class=\"txtu hbo\">שְּׁלִישִׁ֗ית </span></span></span></td></tr></table>"
      ],
      "text/plain": [
       "<IPython.core.display.HTML object>"
      ]
     },
     "metadata": {}
    }
   ],
   "metadata": {}
  },
  {
   "cell_type": "markdown",
   "source": [
    "## 4th"
   ],
   "metadata": {}
  },
  {
   "cell_type": "code",
   "execution_count": 12,
   "source": [
    "A.table(A.search('''\r\n",
    "clause\r\n",
    "    word lex_utf8=רביעי sp=adjv gn=m\r\n",
    "''')[0:10])"
   ],
   "outputs": [
    {
     "output_type": "stream",
     "name": "stdout",
     "text": [
      "  0.49s 34 results\n"
     ]
    },
    {
     "output_type": "display_data",
     "data": {
      "text/html": [
       "<table><tr class=\"tf rtl\"><th class=\"tf rtl\">n</th><th class=\"tf rtl\">p</th><th class=\"tf rtl\">clause</th><th class=\"tf\">word</th></tr>\n",
       "<tr class=\"tf rtl\"><td class=\"tf rtl\">1</td><td class=\"tf rtl\"><span class=\"tfsechead ltr\"><a target=\"_blank\" href=\"https://shebanq.ancient-data.org/hebrew/text?book=Genesis&amp;chapter=1&amp;verse=19&amp;version=c&amp;mr=m&amp;qw=q&amp;tp=txt_p&amp;tr=hb&amp;wget=v&amp;qget=v&amp;nget=vt\" title=\"Show this on SHEBANQ\" sec=\"Genesis 1:19\">Genesis 1:19</a></span></td><td class=\"tf rtl\"><span class=\"rtl ubd\"><span class=\"plain rtl  hlbx\" ><span class=\"txtu hbo\">יֹ֥ום </span><span class=\"plain rtl  hl\" ><span class=\"txtu hbo\">רְבִיעִֽי׃ פ </span></span></span></span></td><td class=\"tf rtl\"><span class=\"rtl ubd\"><span class=\"plain rtl  hl\" ><span class=\"txtu hbo\">רְבִיעִֽי׃ פ </span></span></span></td></tr>\n",
       "<tr class=\"tf rtl\"><td class=\"tf rtl\">2</td><td class=\"tf rtl\"><span class=\"tfsechead ltr\"><a target=\"_blank\" href=\"https://shebanq.ancient-data.org/hebrew/text?book=Genesis&amp;chapter=2&amp;verse=14&amp;version=c&amp;mr=m&amp;qw=q&amp;tp=txt_p&amp;tr=hb&amp;wget=v&amp;qget=v&amp;nget=vt\" title=\"Show this on SHEBANQ\" sec=\"Genesis 2:14\">Genesis 2:14</a></span></td><td class=\"tf rtl\"><span class=\"rtl ubd\"><span class=\"plain rtl  hlbx\" ><span class=\"txtu hbo\">וְ</span><span class=\"txtu hbo\">הַ</span><span class=\"txtu hbo\">נָּהָ֥ר </span><span class=\"txtu hbo\">הָֽ</span><span class=\"plain rtl  hl\" ><span class=\"txtu hbo\">רְבִיעִ֖י </span></span></span></span></td><td class=\"tf rtl\"><span class=\"rtl ubd\"><span class=\"plain rtl  hl\" ><span class=\"txtu hbo\">רְבִיעִ֖י </span></span></span></td></tr>\n",
       "<tr class=\"tf rtl\"><td class=\"tf rtl\">3</td><td class=\"tf rtl\"><span class=\"tfsechead ltr\"><a target=\"_blank\" href=\"https://shebanq.ancient-data.org/hebrew/text?book=Genesis&amp;chapter=15&amp;verse=16&amp;version=c&amp;mr=m&amp;qw=q&amp;tp=txt_p&amp;tr=hb&amp;wget=v&amp;qget=v&amp;nget=vt\" title=\"Show this on SHEBANQ\" sec=\"Genesis 15:16\">Genesis 15:16</a></span></td><td class=\"tf rtl\"><span class=\"rtl ubd\"><span class=\"plain rtl  hlbx\" ><span class=\"txtu hbo\">וְ</span><span class=\"txtu hbo\">דֹ֥ור </span><span class=\"plain rtl  hl\" ><span class=\"txtu hbo\">רְבִיעִ֖י </span></span><span class=\"txtu hbo\">יָשׁ֣וּבוּ </span><span class=\"txtu hbo\">הֵ֑נָּה </span></span></span></td><td class=\"tf rtl\"><span class=\"rtl ubd\"><span class=\"plain rtl  hl\" ><span class=\"txtu hbo\">רְבִיעִ֖י </span></span></span></td></tr>\n",
       "<tr class=\"tf rtl\"><td class=\"tf rtl\">4</td><td class=\"tf rtl\"><span class=\"tfsechead ltr\"><a target=\"_blank\" href=\"https://shebanq.ancient-data.org/hebrew/text?book=Exodus&amp;chapter=28&amp;verse=20&amp;version=c&amp;mr=m&amp;qw=q&amp;tp=txt_p&amp;tr=hb&amp;wget=v&amp;qget=v&amp;nget=vt\" title=\"Show this on SHEBANQ\" sec=\"Exodus 28:20\">Exodus 28:20</a></span></td><td class=\"tf rtl\"><span class=\"rtl ubd\"><span class=\"plain rtl  hlbx\" ><span class=\"txtu hbo\">וְ</span><span class=\"txtu hbo\">הַ</span><span class=\"txtu hbo\">טּוּר֙ </span><span class=\"txtu hbo\">הָ</span><span class=\"plain rtl  hl\" ><span class=\"txtu hbo\">רְבִיעִ֔י </span></span><span class=\"txtu hbo\">תַּרְשִׁ֥ישׁ </span><span class=\"txtu hbo\">וְ</span><span class=\"txtu hbo\">שֹׁ֖הַם </span><span class=\"txtu hbo\">וְ</span><span class=\"txtu hbo\">יָשְׁפֵ֑ה </span></span></span></td><td class=\"tf rtl\"><span class=\"rtl ubd\"><span class=\"plain rtl  hl\" ><span class=\"txtu hbo\">רְבִיעִ֔י </span></span></span></td></tr>\n",
       "<tr class=\"tf rtl\"><td class=\"tf rtl\">5</td><td class=\"tf rtl\"><span class=\"tfsechead ltr\"><a target=\"_blank\" href=\"https://shebanq.ancient-data.org/hebrew/text?book=Exodus&amp;chapter=39&amp;verse=13&amp;version=c&amp;mr=m&amp;qw=q&amp;tp=txt_p&amp;tr=hb&amp;wget=v&amp;qget=v&amp;nget=vt\" title=\"Show this on SHEBANQ\" sec=\"Exodus 39:13\">Exodus 39:13</a></span></td><td class=\"tf rtl\"><span class=\"rtl ubd\"><span class=\"plain rtl  hlbx\" ><span class=\"txtu hbo\">וְ</span><span class=\"txtu hbo\">הַ</span><span class=\"txtu hbo\">טּוּר֙ </span><span class=\"txtu hbo\">הָֽ</span><span class=\"plain rtl  hl\" ><span class=\"txtu hbo\">רְבִיעִ֔י </span></span><span class=\"txtu hbo\">תַּרְשִׁ֥ישׁ </span><span class=\"txtu hbo\">שֹׁ֖הַם </span><span class=\"txtu hbo\">וְ</span><span class=\"txtu hbo\">יָשְׁפֵ֑ה </span></span></span></td><td class=\"tf rtl\"><span class=\"rtl ubd\"><span class=\"plain rtl  hl\" ><span class=\"txtu hbo\">רְבִיעִ֔י </span></span></span></td></tr>\n",
       "<tr class=\"tf rtl\"><td class=\"tf rtl\">6</td><td class=\"tf rtl\"><span class=\"tfsechead ltr\"><a target=\"_blank\" href=\"https://shebanq.ancient-data.org/hebrew/text?book=Numeri&amp;chapter=7&amp;verse=30&amp;version=c&amp;mr=m&amp;qw=q&amp;tp=txt_p&amp;tr=hb&amp;wget=v&amp;qget=v&amp;nget=vt\" title=\"Show this on SHEBANQ\" sec=\"Numbers 7:30\">Numbers 7:30</a></span></td><td class=\"tf rtl\"><span class=\"rtl ubd\"><span class=\"plain rtl  hlbx\" ><span class=\"txtu hbo\">בַּ</span><span class=\"txtu hbo\">יֹּום֙ </span><span class=\"txtu hbo\">הָ</span><span class=\"plain rtl  hl\" ><span class=\"txtu hbo\">רְבִיעִ֔י </span></span><span class=\"txtu hbo\">נָשִׂ֖יא </span><span class=\"txtu hbo\">לִ</span><span class=\"txtu hbo\">בְנֵ֣י </span><span class=\"txtu hbo\">רְאוּבֵ֑ן </span><span class=\"txtu hbo\">אֱלִיצ֖וּר </span><span class=\"txtu hbo\">בֶּן־</span><span class=\"txtu hbo\">שְׁדֵיאֽוּר׃ </span></span></span></td><td class=\"tf rtl\"><span class=\"rtl ubd\"><span class=\"plain rtl  hl\" ><span class=\"txtu hbo\">רְבִיעִ֔י </span></span></span></td></tr>\n",
       "<tr class=\"tf rtl\"><td class=\"tf rtl\">7</td><td class=\"tf rtl\"><span class=\"tfsechead ltr\"><a target=\"_blank\" href=\"https://shebanq.ancient-data.org/hebrew/text?book=Numeri&amp;chapter=29&amp;verse=23&amp;version=c&amp;mr=m&amp;qw=q&amp;tp=txt_p&amp;tr=hb&amp;wget=v&amp;qget=v&amp;nget=vt\" title=\"Show this on SHEBANQ\" sec=\"Numbers 29:23\">Numbers 29:23</a></span></td><td class=\"tf rtl\"><span class=\"rtl ubd\"><span class=\"plain rtl  hlbx\" ><span class=\"txtu hbo\">וּ</span><span class=\"txtu hbo\">בַ</span><span class=\"txtu hbo\">יֹּ֧ום </span><span class=\"txtu hbo\">הָ</span><span class=\"plain rtl  hl\" ><span class=\"txtu hbo\">רְבִיעִ֛י </span></span><span class=\"txtu hbo\">פָּרִ֥ים </span><span class=\"txtu hbo\">עֲשָׂרָ֖ה </span><span class=\"txtu hbo\">אֵילִ֣ם </span><span class=\"txtu hbo\">שְׁנָ֑יִם </span><span class=\"txtu hbo\">כְּבָשִׂ֧ים </span><span class=\"txtu hbo\">בְּנֵֽי־</span><span class=\"txtu hbo\">שָׁנָ֛ה </span><span class=\"txtu hbo\">אַרְבָּעָ֥ה </span><span class=\"txtu hbo\">עָשָׂ֖ר </span><span class=\"txtu hbo\">תְּמִימִֽם׃ </span></span></span></td><td class=\"tf rtl\"><span class=\"rtl ubd\"><span class=\"plain rtl  hl\" ><span class=\"txtu hbo\">רְבִיעִ֛י </span></span></span></td></tr>\n",
       "<tr class=\"tf rtl\"><td class=\"tf rtl\">8</td><td class=\"tf rtl\"><span class=\"tfsechead ltr\"><a target=\"_blank\" href=\"https://shebanq.ancient-data.org/hebrew/text?book=Josua&amp;chapter=19&amp;verse=17&amp;version=c&amp;mr=m&amp;qw=q&amp;tp=txt_p&amp;tr=hb&amp;wget=v&amp;qget=v&amp;nget=vt\" title=\"Show this on SHEBANQ\" sec=\"Joshua 19:17\">Joshua 19:17</a></span></td><td class=\"tf rtl\"><span class=\"rtl ubd\"><span class=\"plain rtl  hlbx\" ><span class=\"txtu hbo\">לְ</span><span class=\"txtu hbo\">יִ֨שָּׂשכָ֔ר </span><span class=\"txtu hbo\">יָצָ֖א </span><span class=\"txtu hbo\">הַ</span><span class=\"txtu hbo\">גֹּורָ֣ל </span><span class=\"txtu hbo\">הָֽ</span><span class=\"plain rtl  hl\" ><span class=\"txtu hbo\">רְבִיעִ֑י </span></span><span class=\"txtu hbo\">לִ</span><span class=\"txtu hbo\">בְנֵ֥י </span><span class=\"txtu hbo\">יִשָּׂשכָ֖ר </span><span class=\"txtu hbo\">לְ</span><span class=\"txtu hbo\">מִשְׁפְּחֹותָֽם׃ </span></span></span></td><td class=\"tf rtl\"><span class=\"rtl ubd\"><span class=\"plain rtl  hl\" ><span class=\"txtu hbo\">רְבִיעִ֑י </span></span></span></td></tr>\n",
       "<tr class=\"tf rtl\"><td class=\"tf rtl\">9</td><td class=\"tf rtl\"><span class=\"tfsechead ltr\"><a target=\"_blank\" href=\"https://shebanq.ancient-data.org/hebrew/text?book=Judices&amp;chapter=19&amp;verse=5&amp;version=c&amp;mr=m&amp;qw=q&amp;tp=txt_p&amp;tr=hb&amp;wget=v&amp;qget=v&amp;nget=vt\" title=\"Show this on SHEBANQ\" sec=\"Judges 19:5\">Judges 19:5</a></span></td><td class=\"tf rtl\"><span class=\"rtl ubd\"><span class=\"plain rtl  hlbx\" ><span class=\"txtu hbo\">וַֽ</span><span class=\"txtu hbo\">יְהִי֙ </span><span class=\"txtu hbo\">בַּ</span><span class=\"txtu hbo\">יֹּ֣ום </span><span class=\"txtu hbo\">הָ</span><span class=\"plain rtl  hl\" ><span class=\"txtu hbo\">רְבִיעִ֔י </span></span></span></span></td><td class=\"tf rtl\"><span class=\"rtl ubd\"><span class=\"plain rtl  hl\" ><span class=\"txtu hbo\">רְבִיעִ֔י </span></span></span></td></tr>\n",
       "<tr class=\"tf rtl\"><td class=\"tf rtl\">10</td><td class=\"tf rtl\"><span class=\"tfsechead ltr\"><a target=\"_blank\" href=\"https://shebanq.ancient-data.org/hebrew/text?book=Samuel_II&amp;chapter=3&amp;verse=4&amp;version=c&amp;mr=m&amp;qw=q&amp;tp=txt_p&amp;tr=hb&amp;wget=v&amp;qget=v&amp;nget=vt\" title=\"Show this on SHEBANQ\" sec=\"2_Samuel 3:4\">2_Samuel 3:4</a></span></td><td class=\"tf rtl\"><span class=\"rtl ubd\"><span class=\"plain rtl  hlbx\" ><span class=\"txtu hbo\">וְ</span><span class=\"txtu hbo\">הָ</span><span class=\"plain rtl  hl\" ><span class=\"txtu hbo\">רְבִיעִ֖י </span></span><span class=\"txtu hbo\">אֲדֹנִיָּ֣ה </span><span class=\"txtu hbo\">בֶן־</span><span class=\"txtu hbo\">חַגִּ֑ית </span></span></span></td><td class=\"tf rtl\"><span class=\"rtl ubd\"><span class=\"plain rtl  hl\" ><span class=\"txtu hbo\">רְבִיעִ֖י </span></span></span></td></tr></table>"
      ],
      "text/plain": [
       "<IPython.core.display.HTML object>"
      ]
     },
     "metadata": {}
    }
   ],
   "metadata": {}
  },
  {
   "cell_type": "code",
   "execution_count": 13,
   "source": [
    "A.table(A.search('''\r\n",
    "clause\r\n",
    "    word lex_utf8=רביעי sp=adjv gn=f\r\n",
    "''')[0:10])"
   ],
   "outputs": [
    {
     "output_type": "stream",
     "name": "stdout",
     "text": [
      "  0.39s 28 results\n"
     ]
    },
    {
     "output_type": "display_data",
     "data": {
      "text/html": [
       "<table><tr class=\"tf rtl\"><th class=\"tf rtl\">n</th><th class=\"tf rtl\">p</th><th class=\"tf rtl\">clause</th><th class=\"tf\">word</th></tr>\n",
       "<tr class=\"tf rtl\"><td class=\"tf rtl\">1</td><td class=\"tf rtl\"><span class=\"tfsechead ltr\"><a target=\"_blank\" href=\"https://shebanq.ancient-data.org/hebrew/text?book=Exodus&amp;chapter=29&amp;verse=40&amp;version=c&amp;mr=m&amp;qw=q&amp;tp=txt_p&amp;tr=hb&amp;wget=v&amp;qget=v&amp;nget=vt\" title=\"Show this on SHEBANQ\" sec=\"Exodus 29:40\">Exodus 29:40</a></span></td><td class=\"tf rtl\"><span class=\"rtl ubd\"><span class=\"plain rtl l hlbx\" ><span class=\"txtu hbo\">וְ</span><span class=\"plain rtl l \" ><span class=\"txtu hbo\">עִשָּׂרֹ֨ן </span><span class=\"txtu hbo\">סֹ֜לֶת </span></span></span><span class=\"plain rtl r hlbx\" ><span class=\"plain rtl r \" ><span class=\"txtu hbo\">וְ</span><span class=\"txtu hbo\">נֵ֕סֶךְ </span><span class=\"plain rtl  hl\" ><span class=\"txtu hbo\">רְבִעִ֥ית </span></span><span class=\"txtu hbo\">הַ</span><span class=\"txtu hbo\">הִ֖ין </span><span class=\"txtu hbo\">יָ֑יִן </span></span><span class=\"txtu hbo\">לַ</span><span class=\"txtu hbo\">כֶּ֖בֶשׂ </span><span class=\"txtu hbo\">הָ</span><span class=\"txtu hbo\">אֶחָֽד׃ </span></span></span></td><td class=\"tf rtl\"><span class=\"rtl ubd\"><span class=\"plain rtl  hl\" ><span class=\"txtu hbo\">רְבִעִ֥ית </span></span></span></td></tr>\n",
       "<tr class=\"tf rtl\"><td class=\"tf rtl\">2</td><td class=\"tf rtl\"><span class=\"tfsechead ltr\"><a target=\"_blank\" href=\"https://shebanq.ancient-data.org/hebrew/text?book=Leviticus&amp;chapter=19&amp;verse=24&amp;version=c&amp;mr=m&amp;qw=q&amp;tp=txt_p&amp;tr=hb&amp;wget=v&amp;qget=v&amp;nget=vt\" title=\"Show this on SHEBANQ\" sec=\"Leviticus 19:24\">Leviticus 19:24</a></span></td><td class=\"tf rtl\"><span class=\"rtl ubd\"><span class=\"plain rtl  hlbx\" ><span class=\"txtu hbo\">וּ</span><span class=\"txtu hbo\">בַ</span><span class=\"txtu hbo\">שָּׁנָה֙ </span><span class=\"txtu hbo\">הָ</span><span class=\"plain rtl  hl\" ><span class=\"txtu hbo\">רְבִיעִ֔ת </span></span><span class=\"txtu hbo\">יִהְיֶ֖ה </span><span class=\"txtu hbo\">כָּל־</span><span class=\"txtu hbo\">פִּרְיֹ֑ו </span><span class=\"txtu hbo\">קֹ֥דֶשׁ </span></span></span></td><td class=\"tf rtl\"><span class=\"rtl ubd\"><span class=\"plain rtl  hl\" ><span class=\"txtu hbo\">רְבִיעִ֔ת </span></span></span></td></tr>\n",
       "<tr class=\"tf rtl\"><td class=\"tf rtl\">3</td><td class=\"tf rtl\"><span class=\"tfsechead ltr\"><a target=\"_blank\" href=\"https://shebanq.ancient-data.org/hebrew/text?book=Leviticus&amp;chapter=23&amp;verse=13&amp;version=c&amp;mr=m&amp;qw=q&amp;tp=txt_p&amp;tr=hb&amp;wget=v&amp;qget=v&amp;nget=vt\" title=\"Show this on SHEBANQ\" sec=\"Leviticus 23:13\">Leviticus 23:13</a></span></td><td class=\"tf rtl\"><span class=\"rtl ubd\"><span class=\"plain rtl  hlbx\" ><span class=\"txtu hbo\">וְ</span><span class=\"txtu hbo\">נִסְכֹּ֥ו </span><span class=\"txtu hbo\">יַ֖יִן </span><span class=\"plain rtl  hl\" ><span class=\"txtu hbo\">רְבִיעִ֥ת </span></span><span class=\"txtu hbo\">הַ</span><span class=\"txtu hbo\">הִֽין׃ </span></span></span></td><td class=\"tf rtl\"><span class=\"rtl ubd\"><span class=\"plain rtl  hl\" ><span class=\"txtu hbo\">רְבִיעִ֥ת </span></span></span></td></tr>\n",
       "<tr class=\"tf rtl\"><td class=\"tf rtl\">4</td><td class=\"tf rtl\"><span class=\"tfsechead ltr\"><a target=\"_blank\" href=\"https://shebanq.ancient-data.org/hebrew/text?book=Numeri&amp;chapter=15&amp;verse=4&amp;version=c&amp;mr=m&amp;qw=q&amp;tp=txt_p&amp;tr=hb&amp;wget=v&amp;qget=v&amp;nget=vt\" title=\"Show this on SHEBANQ\" sec=\"Numbers 15:4\">Numbers 15:4</a></span></td><td class=\"tf rtl\"><span class=\"rtl ubd\"><span class=\"plain rtl  hlbx\" ><span class=\"txtu hbo\">בָּל֕וּל </span><span class=\"txtu hbo\">בִּ</span><span class=\"plain rtl  hl\" ><span class=\"txtu hbo\">רְבִעִ֥ית </span></span><span class=\"txtu hbo\">הַ</span><span class=\"txtu hbo\">הִ֖ין </span><span class=\"txtu hbo\">שָֽׁמֶן׃ </span></span></span></td><td class=\"tf rtl\"><span class=\"rtl ubd\"><span class=\"plain rtl  hl\" ><span class=\"txtu hbo\">רְבִעִ֥ית </span></span></span></td></tr>\n",
       "<tr class=\"tf rtl\"><td class=\"tf rtl\">5</td><td class=\"tf rtl\"><span class=\"tfsechead ltr\"><a target=\"_blank\" href=\"https://shebanq.ancient-data.org/hebrew/text?book=Numeri&amp;chapter=15&amp;verse=5&amp;version=c&amp;mr=m&amp;qw=q&amp;tp=txt_p&amp;tr=hb&amp;wget=v&amp;qget=v&amp;nget=vt\" title=\"Show this on SHEBANQ\" sec=\"Numbers 15:5\">Numbers 15:5</a></span></td><td class=\"tf rtl\"><span class=\"rtl ubd\"><span class=\"plain rtl  hlbx\" ><span class=\"txtu hbo\">וְ</span><span class=\"txtu hbo\">יַ֤יִן </span><span class=\"txtu hbo\">לַ</span><span class=\"txtu hbo\">נֶּ֨סֶךְ֙ </span><span class=\"plain rtl  hl\" ><span class=\"txtu hbo\">רְבִיעִ֣ית </span></span><span class=\"txtu hbo\">הַ</span><span class=\"txtu hbo\">הִ֔ין </span><span class=\"txtu hbo\">תַּעֲשֶׂ֥ה </span><span class=\"txtu hbo\">עַל־</span><span class=\"txtu hbo\">הָ</span><span class=\"txtu hbo\">עֹלָ֖ה </span><span class=\"txtu hbo\">אֹ֣ו </span><span class=\"txtu hbo\">לַ</span><span class=\"txtu hbo\">זָּ֑בַח </span><span class=\"txtu hbo\">לַ</span><span class=\"txtu hbo\">כֶּ֖בֶשׂ </span><span class=\"txtu hbo\">הָ</span><span class=\"txtu hbo\">אֶחָֽד׃ </span></span></span></td><td class=\"tf rtl\"><span class=\"rtl ubd\"><span class=\"plain rtl  hl\" ><span class=\"txtu hbo\">רְבִיעִ֣ית </span></span></span></td></tr>\n",
       "<tr class=\"tf rtl\"><td class=\"tf rtl\">6</td><td class=\"tf rtl\"><span class=\"tfsechead ltr\"><a target=\"_blank\" href=\"https://shebanq.ancient-data.org/hebrew/text?book=Numeri&amp;chapter=28&amp;verse=5&amp;version=c&amp;mr=m&amp;qw=q&amp;tp=txt_p&amp;tr=hb&amp;wget=v&amp;qget=v&amp;nget=vt\" title=\"Show this on SHEBANQ\" sec=\"Numbers 28:5\">Numbers 28:5</a></span></td><td class=\"tf rtl\"><span class=\"rtl ubd\"><span class=\"plain rtl  hlbx\" ><span class=\"txtu hbo\">בְּלוּלָ֛ה </span><span class=\"txtu hbo\">בְּ</span><span class=\"txtu hbo\">שֶׁ֥מֶן </span><span class=\"txtu hbo\">כָּתִ֖ית </span><span class=\"plain rtl  hl\" ><span class=\"txtu hbo\">רְבִיעִ֥ת </span></span><span class=\"txtu hbo\">הַ</span><span class=\"txtu hbo\">הִֽין׃ </span></span></span></td><td class=\"tf rtl\"><span class=\"rtl ubd\"><span class=\"plain rtl  hl\" ><span class=\"txtu hbo\">רְבִיעִ֥ת </span></span></span></td></tr>\n",
       "<tr class=\"tf rtl\"><td class=\"tf rtl\">7</td><td class=\"tf rtl\"><span class=\"tfsechead ltr\"><a target=\"_blank\" href=\"https://shebanq.ancient-data.org/hebrew/text?book=Numeri&amp;chapter=28&amp;verse=7&amp;version=c&amp;mr=m&amp;qw=q&amp;tp=txt_p&amp;tr=hb&amp;wget=v&amp;qget=v&amp;nget=vt\" title=\"Show this on SHEBANQ\" sec=\"Numbers 28:7\">Numbers 28:7</a></span></td><td class=\"tf rtl\"><span class=\"rtl ubd\"><span class=\"plain rtl  hlbx\" ><span class=\"txtu hbo\">וְ</span><span class=\"txtu hbo\">נִסְכֹּו֙ </span><span class=\"plain rtl  hl\" ><span class=\"txtu hbo\">רְבִיעִ֣ת </span></span><span class=\"txtu hbo\">הַ</span><span class=\"txtu hbo\">הִ֔ין </span><span class=\"txtu hbo\">לַ</span><span class=\"txtu hbo\">כֶּ֖בֶשׂ </span><span class=\"txtu hbo\">הָ</span><span class=\"txtu hbo\">אֶחָ֑ד </span></span></span></td><td class=\"tf rtl\"><span class=\"rtl ubd\"><span class=\"plain rtl  hl\" ><span class=\"txtu hbo\">רְבִיעִ֣ת </span></span></span></td></tr>\n",
       "<tr class=\"tf rtl\"><td class=\"tf rtl\">8</td><td class=\"tf rtl\"><span class=\"tfsechead ltr\"><a target=\"_blank\" href=\"https://shebanq.ancient-data.org/hebrew/text?book=Numeri&amp;chapter=28&amp;verse=14&amp;version=c&amp;mr=m&amp;qw=q&amp;tp=txt_p&amp;tr=hb&amp;wget=v&amp;qget=v&amp;nget=vt\" title=\"Show this on SHEBANQ\" sec=\"Numbers 28:14\">Numbers 28:14</a></span></td><td class=\"tf rtl\"><span class=\"rtl ubd\"><span class=\"plain rtl  hlbx\" ><span class=\"txtu hbo\">וּ</span><span class=\"plain rtl  hl\" ><span class=\"txtu hbo\">רְבִיעִ֥ת </span></span><span class=\"txtu hbo\">הַ</span><span class=\"txtu hbo\">הִ֛ין </span><span class=\"txtu hbo\">לַ</span><span class=\"txtu hbo\">כֶּ֖בֶשׂ </span><span class=\"txtu hbo\">יָ֑יִן </span></span></span></td><td class=\"tf rtl\"><span class=\"rtl ubd\"><span class=\"plain rtl  hl\" ><span class=\"txtu hbo\">רְבִיעִ֥ת </span></span></span></td></tr>\n",
       "<tr class=\"tf rtl\"><td class=\"tf rtl\">9</td><td class=\"tf rtl\"><span class=\"tfsechead ltr\"><a target=\"_blank\" href=\"https://shebanq.ancient-data.org/hebrew/text?book=Reges_I&amp;chapter=6&amp;verse=1&amp;version=c&amp;mr=m&amp;qw=q&amp;tp=txt_p&amp;tr=hb&amp;wget=v&amp;qget=v&amp;nget=vt\" title=\"Show this on SHEBANQ\" sec=\"1_Kings 6:1\">1_Kings 6:1</a></span></td><td class=\"tf rtl\"><span class=\"rtl ubd\"><span class=\"plain rtl l hlbx\" ><span class=\"txtu hbo\">וַ</span><span class=\"txtu hbo\">יְהִ֣י </span><span class=\"txtu hbo\">בִ</span><span class=\"txtu hbo\">שְׁמֹונִ֣ים </span><span class=\"txtu hbo\">שָׁנָ֣ה </span><span class=\"txtu hbo\">וְ</span><span class=\"txtu hbo\">אַרְבַּ֣ע </span><span class=\"txtu hbo\">מֵאֹ֣ות </span><span class=\"txtu hbo\">שָׁנָ֡ה </span></span><span class=\"plain rtl r hlbx\" ><span class=\"txtu hbo\">בַּ</span><span class=\"txtu hbo\">שָּׁנָ֨ה </span><span class=\"txtu hbo\">הָ</span><span class=\"plain rtl  hl\" ><span class=\"txtu hbo\">רְבִיעִ֜ית </span></span><span class=\"txtu hbo\">בְּ</span><span class=\"txtu hbo\">חֹ֣דֶשׁ </span><span class=\"txtu hbo\">זִ֗ו </span></span></span></td><td class=\"tf rtl\"><span class=\"rtl ubd\"><span class=\"plain rtl  hl\" ><span class=\"txtu hbo\">רְבִיעִ֜ית </span></span></span></td></tr>\n",
       "<tr class=\"tf rtl\"><td class=\"tf rtl\">10</td><td class=\"tf rtl\"><span class=\"tfsechead ltr\"><a target=\"_blank\" href=\"https://shebanq.ancient-data.org/hebrew/text?book=Reges_I&amp;chapter=6&amp;verse=33&amp;version=c&amp;mr=m&amp;qw=q&amp;tp=txt_p&amp;tr=hb&amp;wget=v&amp;qget=v&amp;nget=vt\" title=\"Show this on SHEBANQ\" sec=\"1_Kings 6:33\">1_Kings 6:33</a></span></td><td class=\"tf rtl\"><span class=\"rtl ubd\"><span class=\"plain rtl  hlbx\" ><span class=\"txtu hbo\">וְ</span><span class=\"txtu hbo\">כֵ֥ן </span><span class=\"txtu hbo\">עָשָׂ֛ה </span><span class=\"txtu hbo\">לְ</span><span class=\"txtu hbo\">פֶ֥תַח </span><span class=\"txtu hbo\">הַֽ</span><span class=\"txtu hbo\">הֵיכָ֖ל </span><span class=\"txtu hbo\">מְזוּזֹ֣ות </span><span class=\"txtu hbo\">עֲצֵי־</span><span class=\"txtu hbo\">שָׁ֑מֶן </span><span class=\"txtu hbo\">מֵ</span><span class=\"txtu hbo\">אֵ֖ת </span><span class=\"plain rtl  hl\" ><span class=\"txtu hbo\">רְבִעִֽית׃ </span></span></span></span></td><td class=\"tf rtl\"><span class=\"rtl ubd\"><span class=\"plain rtl  hl\" ><span class=\"txtu hbo\">רְבִעִֽית׃ </span></span></span></td></tr></table>"
      ],
      "text/plain": [
       "<IPython.core.display.HTML object>"
      ]
     },
     "metadata": {}
    }
   ],
   "metadata": {}
  },
  {
   "cell_type": "markdown",
   "source": [
    "## 5th"
   ],
   "metadata": {}
  },
  {
   "cell_type": "code",
   "execution_count": 15,
   "source": [
    "A.table(A.search('''\r\n",
    "clause\r\n",
    "    word lex_utf8=חמישׁי sp=adjv gn=m\r\n",
    "''')[0:10])"
   ],
   "outputs": [
    {
     "output_type": "stream",
     "name": "stdout",
     "text": [
      "  0.48s 28 results\n"
     ]
    },
    {
     "output_type": "display_data",
     "data": {
      "text/html": [
       "<table><tr class=\"tf rtl\"><th class=\"tf rtl\">n</th><th class=\"tf rtl\">p</th><th class=\"tf rtl\">clause</th><th class=\"tf\">word</th></tr>\n",
       "<tr class=\"tf rtl\"><td class=\"tf rtl\">1</td><td class=\"tf rtl\"><span class=\"tfsechead ltr\"><a target=\"_blank\" href=\"https://shebanq.ancient-data.org/hebrew/text?book=Genesis&amp;chapter=1&amp;verse=23&amp;version=c&amp;mr=m&amp;qw=q&amp;tp=txt_p&amp;tr=hb&amp;wget=v&amp;qget=v&amp;nget=vt\" title=\"Show this on SHEBANQ\" sec=\"Genesis 1:23\">Genesis 1:23</a></span></td><td class=\"tf rtl\"><span class=\"rtl ubd\"><span class=\"plain rtl  hlbx\" ><span class=\"txtu hbo\">יֹ֥ום </span><span class=\"plain rtl  hl\" ><span class=\"txtu hbo\">חֲמִישִֽׁי׃ פ </span></span></span></span></td><td class=\"tf rtl\"><span class=\"rtl ubd\"><span class=\"plain rtl  hl\" ><span class=\"txtu hbo\">חֲמִישִֽׁי׃ פ </span></span></span></td></tr>\n",
       "<tr class=\"tf rtl\"><td class=\"tf rtl\">2</td><td class=\"tf rtl\"><span class=\"tfsechead ltr\"><a target=\"_blank\" href=\"https://shebanq.ancient-data.org/hebrew/text?book=Genesis&amp;chapter=30&amp;verse=17&amp;version=c&amp;mr=m&amp;qw=q&amp;tp=txt_p&amp;tr=hb&amp;wget=v&amp;qget=v&amp;nget=vt\" title=\"Show this on SHEBANQ\" sec=\"Genesis 30:17\">Genesis 30:17</a></span></td><td class=\"tf rtl\"><span class=\"rtl ubd\"><span class=\"plain rtl  hlbx\" ><span class=\"txtu hbo\">וַ</span><span class=\"txtu hbo\">תֵּ֥לֶד </span><span class=\"txtu hbo\">לְ</span><span class=\"txtu hbo\">יַעֲקֹ֖ב </span><span class=\"txtu hbo\">בֵּ֥ן </span><span class=\"plain rtl  hl\" ><span class=\"txtu hbo\">חֲמִישִֽׁי׃ </span></span></span></span></td><td class=\"tf rtl\"><span class=\"rtl ubd\"><span class=\"plain rtl  hl\" ><span class=\"txtu hbo\">חֲמִישִֽׁי׃ </span></span></span></td></tr>\n",
       "<tr class=\"tf rtl\"><td class=\"tf rtl\">3</td><td class=\"tf rtl\"><span class=\"tfsechead ltr\"><a target=\"_blank\" href=\"https://shebanq.ancient-data.org/hebrew/text?book=Numeri&amp;chapter=7&amp;verse=36&amp;version=c&amp;mr=m&amp;qw=q&amp;tp=txt_p&amp;tr=hb&amp;wget=v&amp;qget=v&amp;nget=vt\" title=\"Show this on SHEBANQ\" sec=\"Numbers 7:36\">Numbers 7:36</a></span></td><td class=\"tf rtl\"><span class=\"rtl ubd\"><span class=\"plain rtl  hlbx\" ><span class=\"txtu hbo\">בַּ</span><span class=\"txtu hbo\">יֹּום֙ </span><span class=\"txtu hbo\">הַ</span><span class=\"plain rtl  hl\" ><span class=\"txtu hbo\">חֲמִישִׁ֔י </span></span><span class=\"txtu hbo\">נָשִׂ֖יא </span><span class=\"txtu hbo\">לִ</span><span class=\"txtu hbo\">בְנֵ֣י </span><span class=\"txtu hbo\">שִׁמְעֹ֑ון </span><span class=\"txtu hbo\">שְׁלֻֽמִיאֵ֖ל </span><span class=\"txtu hbo\">בֶּן־</span><span class=\"txtu hbo\">צוּרִֽישַׁדָּֽי׃ </span></span></span></td><td class=\"tf rtl\"><span class=\"rtl ubd\"><span class=\"plain rtl  hl\" ><span class=\"txtu hbo\">חֲמִישִׁ֔י </span></span></span></td></tr>\n",
       "<tr class=\"tf rtl\"><td class=\"tf rtl\">4</td><td class=\"tf rtl\"><span class=\"tfsechead ltr\"><a target=\"_blank\" href=\"https://shebanq.ancient-data.org/hebrew/text?book=Numeri&amp;chapter=29&amp;verse=26&amp;version=c&amp;mr=m&amp;qw=q&amp;tp=txt_p&amp;tr=hb&amp;wget=v&amp;qget=v&amp;nget=vt\" title=\"Show this on SHEBANQ\" sec=\"Numbers 29:26\">Numbers 29:26</a></span></td><td class=\"tf rtl\"><span class=\"rtl ubd\"><span class=\"plain rtl  hlbx\" ><span class=\"txtu hbo\">וּ</span><span class=\"txtu hbo\">בַ</span><span class=\"txtu hbo\">יֹּ֧ום </span><span class=\"txtu hbo\">הַ</span><span class=\"plain rtl  hl\" ><span class=\"txtu hbo\">חֲמִישִׁ֛י </span></span><span class=\"txtu hbo\">פָּרִ֥ים </span><span class=\"txtu hbo\">תִּשְׁעָ֖ה </span><span class=\"txtu hbo\">אֵילִ֣ם </span><span class=\"txtu hbo\">שְׁנָ֑יִם </span><span class=\"txtu hbo\">כְּבָשִׂ֧ים </span><span class=\"txtu hbo\">בְּנֵֽי־</span><span class=\"txtu hbo\">שָׁנָ֛ה </span><span class=\"txtu hbo\">אַרְבָּעָ֥ה </span><span class=\"txtu hbo\">עָשָׂ֖ר </span><span class=\"txtu hbo\">תְּמִימִֽם׃ </span></span></span></td><td class=\"tf rtl\"><span class=\"rtl ubd\"><span class=\"plain rtl  hl\" ><span class=\"txtu hbo\">חֲמִישִׁ֛י </span></span></span></td></tr>\n",
       "<tr class=\"tf rtl\"><td class=\"tf rtl\">5</td><td class=\"tf rtl\"><span class=\"tfsechead ltr\"><a target=\"_blank\" href=\"https://shebanq.ancient-data.org/hebrew/text?book=Numeri&amp;chapter=33&amp;verse=38&amp;version=c&amp;mr=m&amp;qw=q&amp;tp=txt_p&amp;tr=hb&amp;wget=v&amp;qget=v&amp;nget=vt\" title=\"Show this on SHEBANQ\" sec=\"Numbers 33:38\">Numbers 33:38</a></span></td><td class=\"tf rtl\"><span class=\"rtl ubd\"><span class=\"plain rtl l hlbx\" ><span class=\"txtu hbo\">וַ</span><span class=\"txtu hbo\">יָּ֣מָת </span><span class=\"txtu hbo\">שָׁ֑ם </span><span class=\"plain rtl l \" ><span class=\"txtu hbo\">בִּ</span><span class=\"txtu hbo\">שְׁנַ֣ת </span><span class=\"txtu hbo\">הָֽ</span><span class=\"txtu hbo\">אַרְבָּעִ֗ים </span></span></span><span class=\"plain rtl r hlbx\" ><span class=\"plain rtl r \" ><span class=\"txtu hbo\">בַּ</span><span class=\"txtu hbo\">חֹ֥דֶשׁ </span><span class=\"txtu hbo\">הַ</span><span class=\"plain rtl  hl\" ><span class=\"txtu hbo\">חֲמִישִׁ֖י </span></span><span class=\"txtu hbo\">בְּ</span><span class=\"txtu hbo\">אֶחָ֥ד </span><span class=\"txtu hbo\">לַ</span><span class=\"txtu hbo\">חֹֽדֶשׁ׃ </span></span></span></span></td><td class=\"tf rtl\"><span class=\"rtl ubd\"><span class=\"plain rtl  hl\" ><span class=\"txtu hbo\">חֲמִישִׁ֖י </span></span></span></td></tr>\n",
       "<tr class=\"tf rtl\"><td class=\"tf rtl\">6</td><td class=\"tf rtl\"><span class=\"tfsechead ltr\"><a target=\"_blank\" href=\"https://shebanq.ancient-data.org/hebrew/text?book=Josua&amp;chapter=19&amp;verse=24&amp;version=c&amp;mr=m&amp;qw=q&amp;tp=txt_p&amp;tr=hb&amp;wget=v&amp;qget=v&amp;nget=vt\" title=\"Show this on SHEBANQ\" sec=\"Joshua 19:24\">Joshua 19:24</a></span></td><td class=\"tf rtl\"><span class=\"rtl ubd\"><span class=\"plain rtl  hlbx\" ><span class=\"txtu hbo\">וַ</span><span class=\"txtu hbo\">יֵּצֵא֙ </span><span class=\"txtu hbo\">הַ</span><span class=\"txtu hbo\">גֹּורָ֣ל </span><span class=\"txtu hbo\">הַֽ</span><span class=\"plain rtl  hl\" ><span class=\"txtu hbo\">חֲמִישִׁ֔י </span></span><span class=\"txtu hbo\">לְ</span><span class=\"txtu hbo\">מַטֵּ֥ה </span><span class=\"txtu hbo\">בְנֵֽי־</span><span class=\"txtu hbo\">אָשֵׁ֖ר </span><span class=\"txtu hbo\">לְ</span><span class=\"txtu hbo\">מִשְׁפְּחֹותָֽם׃ </span></span></span></td><td class=\"tf rtl\"><span class=\"rtl ubd\"><span class=\"plain rtl  hl\" ><span class=\"txtu hbo\">חֲמִישִׁ֔י </span></span></span></td></tr>\n",
       "<tr class=\"tf rtl\"><td class=\"tf rtl\">7</td><td class=\"tf rtl\"><span class=\"tfsechead ltr\"><a target=\"_blank\" href=\"https://shebanq.ancient-data.org/hebrew/text?book=Judices&amp;chapter=19&amp;verse=8&amp;version=c&amp;mr=m&amp;qw=q&amp;tp=txt_p&amp;tr=hb&amp;wget=v&amp;qget=v&amp;nget=vt\" title=\"Show this on SHEBANQ\" sec=\"Judges 19:8\">Judges 19:8</a></span></td><td class=\"tf rtl\"><span class=\"rtl ubd\"><span class=\"plain rtl  hlbx\" ><span class=\"txtu hbo\">וַ</span><span class=\"txtu hbo\">יַּשְׁכֵּ֨ם </span><span class=\"txtu hbo\">בַּ</span><span class=\"txtu hbo\">בֹּ֜קֶר </span><span class=\"txtu hbo\">בַּ</span><span class=\"txtu hbo\">יֹּ֣ום </span><span class=\"txtu hbo\">הַ</span><span class=\"plain rtl  hl\" ><span class=\"txtu hbo\">חֲמִישִׁי֮ </span></span></span></span></td><td class=\"tf rtl\"><span class=\"rtl ubd\"><span class=\"plain rtl  hl\" ><span class=\"txtu hbo\">חֲמִישִׁי֮ </span></span></span></td></tr>\n",
       "<tr class=\"tf rtl\"><td class=\"tf rtl\">8</td><td class=\"tf rtl\"><span class=\"tfsechead ltr\"><a target=\"_blank\" href=\"https://shebanq.ancient-data.org/hebrew/text?book=Samuel_II&amp;chapter=3&amp;verse=4&amp;version=c&amp;mr=m&amp;qw=q&amp;tp=txt_p&amp;tr=hb&amp;wget=v&amp;qget=v&amp;nget=vt\" title=\"Show this on SHEBANQ\" sec=\"2_Samuel 3:4\">2_Samuel 3:4</a></span></td><td class=\"tf rtl\"><span class=\"rtl ubd\"><span class=\"plain rtl  hlbx\" ><span class=\"txtu hbo\">וְ</span><span class=\"txtu hbo\">הַ</span><span class=\"plain rtl  hl\" ><span class=\"txtu hbo\">חֲמִישִׁ֖י </span></span><span class=\"txtu hbo\">שְׁפַטְיָ֥ה </span><span class=\"txtu hbo\">בֶן־</span><span class=\"txtu hbo\">אֲבִיטָֽל׃ </span></span></span></td><td class=\"tf rtl\"><span class=\"rtl ubd\"><span class=\"plain rtl  hl\" ><span class=\"txtu hbo\">חֲמִישִׁ֖י </span></span></span></td></tr>\n",
       "<tr class=\"tf rtl\"><td class=\"tf rtl\">9</td><td class=\"tf rtl\"><span class=\"tfsechead ltr\"><a target=\"_blank\" href=\"https://shebanq.ancient-data.org/hebrew/text?book=Reges_II&amp;chapter=25&amp;verse=8&amp;version=c&amp;mr=m&amp;qw=q&amp;tp=txt_p&amp;tr=hb&amp;wget=v&amp;qget=v&amp;nget=vt\" title=\"Show this on SHEBANQ\" sec=\"2_Kings 25:8\">2_Kings 25:8</a></span></td><td class=\"tf rtl\"><span class=\"rtl ubd\"><span class=\"plain rtl l hlbx\" ><span class=\"txtu hbo\">וּ</span><span class=\"txtu hbo\">בַ</span><span class=\"txtu hbo\">חֹ֤דֶשׁ </span><span class=\"txtu hbo\">הַֽ</span><span class=\"plain rtl  hl\" ><span class=\"txtu hbo\">חֲמִישִׁי֙ </span></span><span class=\"txtu hbo\">בְּ</span><span class=\"txtu hbo\">שִׁבְעָ֣ה </span><span class=\"txtu hbo\">לַ</span><span class=\"txtu hbo\">חֹ֔דֶשׁ </span></span><span class=\"plain rtl r hlbx\" ><span class=\"txtu hbo\">בָּ֞א </span><span class=\"txtu hbo\">נְבוּזַרְאֲדָ֧ן </span><span class=\"txtu hbo\">רַב־</span><span class=\"txtu hbo\">טַבָּחִ֛ים </span><span class=\"txtu hbo\">עֶ֥בֶד </span><span class=\"txtu hbo\">מֶֽלֶךְ־</span><span class=\"txtu hbo\">בָּבֶ֖ל </span><span class=\"txtu hbo\">יְרוּשָׁלִָֽם׃ </span></span></span></td><td class=\"tf rtl\"><span class=\"rtl ubd\"><span class=\"plain rtl  hl\" ><span class=\"txtu hbo\">חֲמִישִׁי֙ </span></span></span></td></tr>\n",
       "<tr class=\"tf rtl\"><td class=\"tf rtl\">10</td><td class=\"tf rtl\"><span class=\"tfsechead ltr\"><a target=\"_blank\" href=\"https://shebanq.ancient-data.org/hebrew/text?book=Jeremia&amp;chapter=1&amp;verse=3&amp;version=c&amp;mr=m&amp;qw=q&amp;tp=txt_p&amp;tr=hb&amp;wget=v&amp;qget=v&amp;nget=vt\" title=\"Show this on SHEBANQ\" sec=\"Jeremiah 1:3\">Jeremiah 1:3</a></span></td><td class=\"tf rtl\"><span class=\"rtl ubd\"><span class=\"plain rtl  hlbx\" ><span class=\"txtu hbo\">עַד־</span><span class=\"txtu hbo\">גְּלֹ֥ות </span><span class=\"txtu hbo\">יְרוּשָׁלִַ֖ם </span><span class=\"txtu hbo\">בַּ</span><span class=\"txtu hbo\">חֹ֥דֶשׁ </span><span class=\"txtu hbo\">הַ</span><span class=\"plain rtl  hl\" ><span class=\"txtu hbo\">חֲמִישִֽׁי׃ ס </span></span></span></span></td><td class=\"tf rtl\"><span class=\"rtl ubd\"><span class=\"plain rtl  hl\" ><span class=\"txtu hbo\">חֲמִישִֽׁי׃ ס </span></span></span></td></tr></table>"
      ],
      "text/plain": [
       "<IPython.core.display.HTML object>"
      ]
     },
     "metadata": {}
    }
   ],
   "metadata": {}
  },
  {
   "cell_type": "code",
   "execution_count": 16,
   "source": [
    "A.table(A.search('''\r\n",
    "clause\r\n",
    "    word lex_utf8=חמישׁי sp=adjv gn=f\r\n",
    "''')[0:10])"
   ],
   "outputs": [
    {
     "output_type": "stream",
     "name": "stdout",
     "text": [
      "  0.38s 6 results\n"
     ]
    },
    {
     "output_type": "display_data",
     "data": {
      "text/html": [
       "<table><tr class=\"tf rtl\"><th class=\"tf rtl\">n</th><th class=\"tf rtl\">p</th><th class=\"tf rtl\">clause</th><th class=\"tf\">word</th></tr>\n",
       "<tr class=\"tf rtl\"><td class=\"tf rtl\">1</td><td class=\"tf rtl\"><span class=\"tfsechead ltr\"><a target=\"_blank\" href=\"https://shebanq.ancient-data.org/hebrew/text?book=Leviticus&amp;chapter=19&amp;verse=25&amp;version=c&amp;mr=m&amp;qw=q&amp;tp=txt_p&amp;tr=hb&amp;wget=v&amp;qget=v&amp;nget=vt\" title=\"Show this on SHEBANQ\" sec=\"Leviticus 19:25\">Leviticus 19:25</a></span></td><td class=\"tf rtl\"><span class=\"rtl ubd\"><span class=\"plain rtl  hlbx\" ><span class=\"txtu hbo\">וּ</span><span class=\"txtu hbo\">בַ</span><span class=\"txtu hbo\">שָּׁנָ֣ה </span><span class=\"txtu hbo\">הַ</span><span class=\"plain rtl  hl\" ><span class=\"txtu hbo\">חֲמִישִׁ֗ת </span></span><span class=\"txtu hbo\">תֹּֽאכְלוּ֙ </span><span class=\"txtu hbo\">אֶת־</span><span class=\"txtu hbo\">פִּרְיֹ֔ו </span></span></span></td><td class=\"tf rtl\"><span class=\"rtl ubd\"><span class=\"plain rtl  hl\" ><span class=\"txtu hbo\">חֲמִישִׁ֗ת </span></span></span></td></tr>\n",
       "<tr class=\"tf rtl\"><td class=\"tf rtl\">2</td><td class=\"tf rtl\"><span class=\"tfsechead ltr\"><a target=\"_blank\" href=\"https://shebanq.ancient-data.org/hebrew/text?book=Reges_I&amp;chapter=14&amp;verse=25&amp;version=c&amp;mr=m&amp;qw=q&amp;tp=txt_p&amp;tr=hb&amp;wget=v&amp;qget=v&amp;nget=vt\" title=\"Show this on SHEBANQ\" sec=\"1_Kings 14:25\">1_Kings 14:25</a></span></td><td class=\"tf rtl\"><span class=\"rtl ubd\"><span class=\"plain rtl  hlbx\" ><span class=\"txtu hbo\">וַ</span><span class=\"txtu hbo\">יְהִ֛י </span><span class=\"txtu hbo\">בַּ</span><span class=\"txtu hbo\">שָּׁנָ֥ה </span><span class=\"txtu hbo\">הַ</span><span class=\"plain rtl  hl\" ><span class=\"txtu hbo\">חֲמִישִׁ֖ית </span></span><span class=\"txtu hbo\">לַ</span><span class=\"txtu hbo\">מֶּ֣לֶךְ </span><span class=\"txtu hbo\">רְחַבְעָ֑ם </span></span></span></td><td class=\"tf rtl\"><span class=\"rtl ubd\"><span class=\"plain rtl  hl\" ><span class=\"txtu hbo\">חֲמִישִׁ֖ית </span></span></span></td></tr>\n",
       "<tr class=\"tf rtl\"><td class=\"tf rtl\">3</td><td class=\"tf rtl\"><span class=\"tfsechead ltr\"><a target=\"_blank\" href=\"https://shebanq.ancient-data.org/hebrew/text?book=Jeremia&amp;chapter=36&amp;verse=9&amp;version=c&amp;mr=m&amp;qw=q&amp;tp=txt_p&amp;tr=hb&amp;wget=v&amp;qget=v&amp;nget=vt\" title=\"Show this on SHEBANQ\" sec=\"Jeremiah 36:9\">Jeremiah 36:9</a></span></td><td class=\"tf rtl\"><span class=\"rtl ubd\"><span class=\"plain rtl  hlbx\" ><span class=\"txtu hbo\">וַ</span><span class=\"txtu hbo\">יְהִ֣י </span><span class=\"txtu hbo\">בַ</span><span class=\"txtu hbo\">שָּׁנָ֣ה </span><span class=\"txtu hbo\">הַ֠</span><span class=\"plain rtl  hl\" ><span class=\"txtu hbo\">חֲמִשִׁית </span></span><span class=\"txtu hbo\">לִ</span><span class=\"txtu hbo\">יהֹויָקִ֨ים </span><span class=\"txtu hbo\">בֶּן־</span><span class=\"txtu hbo\">יֹאשִׁיָּ֤הוּ </span><span class=\"txtu hbo\">מֶֽלֶךְ־</span><span class=\"txtu hbo\">יְהוּדָה֙ </span><span class=\"txtu hbo\">בַּ</span><span class=\"txtu hbo\">חֹ֣דֶשׁ </span><span class=\"txtu hbo\">הַ</span><span class=\"txtu hbo\">תְּשִׁעִ֔י </span></span></span></td><td class=\"tf rtl\"><span class=\"rtl ubd\"><span class=\"plain rtl  hl\" ><span class=\"txtu hbo\">חֲמִשִׁית </span></span></span></td></tr>\n",
       "<tr class=\"tf rtl\"><td class=\"tf rtl\">4</td><td class=\"tf rtl\"><span class=\"tfsechead ltr\"><a target=\"_blank\" href=\"https://shebanq.ancient-data.org/hebrew/text?book=Ezechiel&amp;chapter=1&amp;verse=2&amp;version=c&amp;mr=m&amp;qw=q&amp;tp=txt_p&amp;tr=hb&amp;wget=v&amp;qget=v&amp;nget=vt\" title=\"Show this on SHEBANQ\" sec=\"Ezekiel 1:2\">Ezekiel 1:2</a></span></td><td class=\"tf rtl\"><span class=\"rtl ubd\"><span class=\"plain rtl  hlbx\" ><span class=\"txtu hbo\">הִ֚יא </span><span class=\"txtu hbo\">הַ</span><span class=\"txtu hbo\">שָּׁנָ֣ה </span><span class=\"txtu hbo\">הַ</span><span class=\"plain rtl  hl\" ><span class=\"txtu hbo\">חֲמִישִׁ֔ית </span></span><span class=\"txtu hbo\">לְ</span><span class=\"txtu hbo\">גָל֖וּת </span><span class=\"txtu hbo\">הַ</span><span class=\"txtu hbo\">מֶּ֥לֶךְ </span><span class=\"txtu hbo\">יֹויָכִֽין׃ </span></span></span></td><td class=\"tf rtl\"><span class=\"rtl ubd\"><span class=\"plain rtl  hl\" ><span class=\"txtu hbo\">חֲמִישִׁ֔ית </span></span></span></td></tr>\n",
       "<tr class=\"tf rtl\"><td class=\"tf rtl\">5</td><td class=\"tf rtl\"><span class=\"tfsechead ltr\"><a target=\"_blank\" href=\"https://shebanq.ancient-data.org/hebrew/text?book=Nehemia&amp;chapter=6&amp;verse=5&amp;version=c&amp;mr=m&amp;qw=q&amp;tp=txt_p&amp;tr=hb&amp;wget=v&amp;qget=v&amp;nget=vt\" title=\"Show this on SHEBANQ\" sec=\"Nehemiah 6:5\">Nehemiah 6:5</a></span></td><td class=\"tf rtl\"><span class=\"rtl ubd\"><span class=\"plain rtl  hlbx\" ><span class=\"txtu hbo\">וַ</span><span class=\"txtu hbo\">יִּשְׁלַח֩ </span><span class=\"txtu hbo\">אֵלַ֨י </span><span class=\"txtu hbo\">סַנְבַלַּ֜ט </span><span class=\"txtu hbo\">כַּ</span><span class=\"txtu hbo\">דָּבָ֥ר </span><span class=\"txtu hbo\">הַ</span><span class=\"txtu hbo\">זֶּ֛ה </span><span class=\"txtu hbo\">פַּ֥עַם </span><span class=\"plain rtl  hl\" ><span class=\"txtu hbo\">חֲמִישִׁ֖ית </span></span><span class=\"txtu hbo\">אֶֽת־</span><span class=\"txtu hbo\">נַעֲרֹ֑ו </span></span></span></td><td class=\"tf rtl\"><span class=\"rtl ubd\"><span class=\"plain rtl  hl\" ><span class=\"txtu hbo\">חֲמִישִׁ֖ית </span></span></span></td></tr>\n",
       "<tr class=\"tf rtl\"><td class=\"tf rtl\">6</td><td class=\"tf rtl\"><span class=\"tfsechead ltr\"><a target=\"_blank\" href=\"https://shebanq.ancient-data.org/hebrew/text?book=Chronica_II&amp;chapter=12&amp;verse=2&amp;version=c&amp;mr=m&amp;qw=q&amp;tp=txt_p&amp;tr=hb&amp;wget=v&amp;qget=v&amp;nget=vt\" title=\"Show this on SHEBANQ\" sec=\"2_Chronicles 12:2\">2_Chronicles 12:2</a></span></td><td class=\"tf rtl\"><span class=\"rtl ubd\"><span class=\"plain rtl  hlbx\" ><span class=\"txtu hbo\">וַ</span><span class=\"txtu hbo\">יְהִ֞י </span><span class=\"txtu hbo\">בַּ</span><span class=\"txtu hbo\">שָּׁנָ֤ה </span><span class=\"txtu hbo\">הַֽ</span><span class=\"plain rtl  hl\" ><span class=\"txtu hbo\">חֲמִישִׁית֙ </span></span><span class=\"txtu hbo\">לַ</span><span class=\"txtu hbo\">מֶּ֣לֶךְ </span><span class=\"txtu hbo\">רְחַבְעָ֔ם </span></span></span></td><td class=\"tf rtl\"><span class=\"rtl ubd\"><span class=\"plain rtl  hl\" ><span class=\"txtu hbo\">חֲמִישִׁית֙ </span></span></span></td></tr></table>"
      ],
      "text/plain": [
       "<IPython.core.display.HTML object>"
      ]
     },
     "metadata": {}
    }
   ],
   "metadata": {}
  },
  {
   "cell_type": "markdown",
   "source": [
    "## 6th"
   ],
   "metadata": {}
  },
  {
   "cell_type": "code",
   "execution_count": 17,
   "source": [
    "A.table(A.search('''\r\n",
    "clause\r\n",
    "    word lex_utf8=שׁשׁי sp=adjv gn=m\r\n",
    "''')[0:10])"
   ],
   "outputs": [
    {
     "output_type": "stream",
     "name": "stdout",
     "text": [
      "  0.49s 22 results\n"
     ]
    },
    {
     "output_type": "display_data",
     "data": {
      "text/html": [
       "<table><tr class=\"tf rtl\"><th class=\"tf rtl\">n</th><th class=\"tf rtl\">p</th><th class=\"tf rtl\">clause</th><th class=\"tf\">word</th></tr>\n",
       "<tr class=\"tf rtl\"><td class=\"tf rtl\">1</td><td class=\"tf rtl\"><span class=\"tfsechead ltr\"><a target=\"_blank\" href=\"https://shebanq.ancient-data.org/hebrew/text?book=Genesis&amp;chapter=1&amp;verse=31&amp;version=c&amp;mr=m&amp;qw=q&amp;tp=txt_p&amp;tr=hb&amp;wget=v&amp;qget=v&amp;nget=vt\" title=\"Show this on SHEBANQ\" sec=\"Genesis 1:31\">Genesis 1:31</a></span></td><td class=\"tf rtl\"><span class=\"rtl ubd\"><span class=\"plain rtl  hlbx\" ><span class=\"txtu hbo\">יֹ֥ום </span><span class=\"txtu hbo\">הַ</span><span class=\"plain rtl  hl\" ><span class=\"txtu hbo\">שִּׁשִּֽׁי׃ פ </span></span></span></span></td><td class=\"tf rtl\"><span class=\"rtl ubd\"><span class=\"plain rtl  hl\" ><span class=\"txtu hbo\">שִּׁשִּֽׁי׃ פ </span></span></span></td></tr>\n",
       "<tr class=\"tf rtl\"><td class=\"tf rtl\">2</td><td class=\"tf rtl\"><span class=\"tfsechead ltr\"><a target=\"_blank\" href=\"https://shebanq.ancient-data.org/hebrew/text?book=Genesis&amp;chapter=30&amp;verse=19&amp;version=c&amp;mr=m&amp;qw=q&amp;tp=txt_p&amp;tr=hb&amp;wget=v&amp;qget=v&amp;nget=vt\" title=\"Show this on SHEBANQ\" sec=\"Genesis 30:19\">Genesis 30:19</a></span></td><td class=\"tf rtl\"><span class=\"rtl ubd\"><span class=\"plain rtl  hlbx\" ><span class=\"txtu hbo\">וַ</span><span class=\"txtu hbo\">תֵּ֥לֶד </span><span class=\"txtu hbo\">בֵּן־</span><span class=\"plain rtl  hl\" ><span class=\"txtu hbo\">שִׁשִּׁ֖י </span></span><span class=\"txtu hbo\">לְּ</span><span class=\"txtu hbo\">יַעֲקֹֽב׃ </span></span></span></td><td class=\"tf rtl\"><span class=\"rtl ubd\"><span class=\"plain rtl  hl\" ><span class=\"txtu hbo\">שִׁשִּׁ֖י </span></span></span></td></tr>\n",
       "<tr class=\"tf rtl\"><td class=\"tf rtl\">3</td><td class=\"tf rtl\"><span class=\"tfsechead ltr\"><a target=\"_blank\" href=\"https://shebanq.ancient-data.org/hebrew/text?book=Exodus&amp;chapter=16&amp;verse=5&amp;version=c&amp;mr=m&amp;qw=q&amp;tp=txt_p&amp;tr=hb&amp;wget=v&amp;qget=v&amp;nget=vt\" title=\"Show this on SHEBANQ\" sec=\"Exodus 16:5\">Exodus 16:5</a></span></td><td class=\"tf rtl\"><span class=\"rtl ubd\"><span class=\"plain rtl  hlbx\" ><span class=\"txtu hbo\">וְ</span><span class=\"txtu hbo\">הָיָה֙ </span><span class=\"txtu hbo\">בַּ</span><span class=\"txtu hbo\">יֹּ֣ום </span><span class=\"txtu hbo\">הַ</span><span class=\"plain rtl  hl\" ><span class=\"txtu hbo\">שִּׁשִּׁ֔י </span></span></span></span></td><td class=\"tf rtl\"><span class=\"rtl ubd\"><span class=\"plain rtl  hl\" ><span class=\"txtu hbo\">שִּׁשִּׁ֔י </span></span></span></td></tr>\n",
       "<tr class=\"tf rtl\"><td class=\"tf rtl\">4</td><td class=\"tf rtl\"><span class=\"tfsechead ltr\"><a target=\"_blank\" href=\"https://shebanq.ancient-data.org/hebrew/text?book=Exodus&amp;chapter=16&amp;verse=22&amp;version=c&amp;mr=m&amp;qw=q&amp;tp=txt_p&amp;tr=hb&amp;wget=v&amp;qget=v&amp;nget=vt\" title=\"Show this on SHEBANQ\" sec=\"Exodus 16:22\">Exodus 16:22</a></span></td><td class=\"tf rtl\"><span class=\"rtl ubd\"><span class=\"plain rtl  hlbx\" ><span class=\"txtu hbo\">בַּ</span><span class=\"txtu hbo\">יֹּ֣ום </span><span class=\"txtu hbo\">הַ</span><span class=\"plain rtl  hl\" ><span class=\"txtu hbo\">שִּׁשִּׁ֗י </span></span><span class=\"txtu hbo\">לָֽקְט֥וּ </span><span class=\"txtu hbo\">לֶ֨חֶם֙ </span><span class=\"txtu hbo\">מִשְׁנֶ֔ה </span><span class=\"txtu hbo\">שְׁנֵ֥י </span><span class=\"txtu hbo\">הָ</span><span class=\"txtu hbo\">עֹ֖מֶר </span><span class=\"txtu hbo\">לָ</span><span class=\"txtu hbo\">אֶחָ֑ד </span></span></span></td><td class=\"tf rtl\"><span class=\"rtl ubd\"><span class=\"plain rtl  hl\" ><span class=\"txtu hbo\">שִּׁשִּׁ֗י </span></span></span></td></tr>\n",
       "<tr class=\"tf rtl\"><td class=\"tf rtl\">5</td><td class=\"tf rtl\"><span class=\"tfsechead ltr\"><a target=\"_blank\" href=\"https://shebanq.ancient-data.org/hebrew/text?book=Exodus&amp;chapter=16&amp;verse=29&amp;version=c&amp;mr=m&amp;qw=q&amp;tp=txt_p&amp;tr=hb&amp;wget=v&amp;qget=v&amp;nget=vt\" title=\"Show this on SHEBANQ\" sec=\"Exodus 16:29\">Exodus 16:29</a></span></td><td class=\"tf rtl\"><span class=\"rtl ubd\"><span class=\"plain rtl  hlbx\" ><span class=\"txtu hbo\">עַל־</span><span class=\"txtu hbo\">כֵּ֠ן </span><span class=\"txtu hbo\">ה֣וּא </span><span class=\"txtu hbo\">נֹתֵ֥ן </span><span class=\"txtu hbo\">לָכֶ֛ם </span><span class=\"txtu hbo\">בַּ</span><span class=\"txtu hbo\">יֹּ֥ום </span><span class=\"txtu hbo\">הַ</span><span class=\"plain rtl  hl\" ><span class=\"txtu hbo\">שִּׁשִּׁ֖י </span></span><span class=\"txtu hbo\">לֶ֣חֶם </span><span class=\"txtu hbo\">יֹומָ֑יִם </span></span></span></td><td class=\"tf rtl\"><span class=\"rtl ubd\"><span class=\"plain rtl  hl\" ><span class=\"txtu hbo\">שִּׁשִּׁ֖י </span></span></span></td></tr>\n",
       "<tr class=\"tf rtl\"><td class=\"tf rtl\">6</td><td class=\"tf rtl\"><span class=\"tfsechead ltr\"><a target=\"_blank\" href=\"https://shebanq.ancient-data.org/hebrew/text?book=Numeri&amp;chapter=7&amp;verse=42&amp;version=c&amp;mr=m&amp;qw=q&amp;tp=txt_p&amp;tr=hb&amp;wget=v&amp;qget=v&amp;nget=vt\" title=\"Show this on SHEBANQ\" sec=\"Numbers 7:42\">Numbers 7:42</a></span></td><td class=\"tf rtl\"><span class=\"rtl ubd\"><span class=\"plain rtl  hlbx\" ><span class=\"txtu hbo\">בַּ</span><span class=\"txtu hbo\">יֹּום֙ </span><span class=\"txtu hbo\">הַ</span><span class=\"plain rtl  hl\" ><span class=\"txtu hbo\">שִּׁשִּׁ֔י </span></span><span class=\"txtu hbo\">נָשִׂ֖יא </span><span class=\"txtu hbo\">לִ</span><span class=\"txtu hbo\">בְנֵ֣י </span><span class=\"txtu hbo\">גָ֑ד </span><span class=\"txtu hbo\">אֶלְיָסָ֖ף </span><span class=\"txtu hbo\">בֶּן־</span><span class=\"txtu hbo\">דְּעוּאֵֽל׃ </span></span></span></td><td class=\"tf rtl\"><span class=\"rtl ubd\"><span class=\"plain rtl  hl\" ><span class=\"txtu hbo\">שִּׁשִּׁ֔י </span></span></span></td></tr>\n",
       "<tr class=\"tf rtl\"><td class=\"tf rtl\">7</td><td class=\"tf rtl\"><span class=\"tfsechead ltr\"><a target=\"_blank\" href=\"https://shebanq.ancient-data.org/hebrew/text?book=Numeri&amp;chapter=29&amp;verse=29&amp;version=c&amp;mr=m&amp;qw=q&amp;tp=txt_p&amp;tr=hb&amp;wget=v&amp;qget=v&amp;nget=vt\" title=\"Show this on SHEBANQ\" sec=\"Numbers 29:29\">Numbers 29:29</a></span></td><td class=\"tf rtl\"><span class=\"rtl ubd\"><span class=\"plain rtl  hlbx\" ><span class=\"txtu hbo\">וּ</span><span class=\"txtu hbo\">בַ</span><span class=\"txtu hbo\">יֹּ֧ום </span><span class=\"txtu hbo\">הַ</span><span class=\"plain rtl  hl\" ><span class=\"txtu hbo\">שִּׁשִּׁ֛י </span></span><span class=\"txtu hbo\">פָּרִ֥ים </span><span class=\"txtu hbo\">שְׁמֹנָ֖ה </span><span class=\"txtu hbo\">אֵילִ֣ם </span><span class=\"txtu hbo\">שְׁנָ֑יִם </span><span class=\"txtu hbo\">כְּבָשִׂ֧ים </span><span class=\"txtu hbo\">בְּנֵי־</span><span class=\"txtu hbo\">שָׁנָ֛ה </span><span class=\"txtu hbo\">אַרְבָּעָ֥ה </span><span class=\"txtu hbo\">עָשָׂ֖ר </span><span class=\"txtu hbo\">תְּמִימִֽם׃ </span></span></span></td><td class=\"tf rtl\"><span class=\"rtl ubd\"><span class=\"plain rtl  hl\" ><span class=\"txtu hbo\">שִּׁשִּׁ֛י </span></span></span></td></tr>\n",
       "<tr class=\"tf rtl\"><td class=\"tf rtl\">8</td><td class=\"tf rtl\"><span class=\"tfsechead ltr\"><a target=\"_blank\" href=\"https://shebanq.ancient-data.org/hebrew/text?book=Josua&amp;chapter=19&amp;verse=32&amp;version=c&amp;mr=m&amp;qw=q&amp;tp=txt_p&amp;tr=hb&amp;wget=v&amp;qget=v&amp;nget=vt\" title=\"Show this on SHEBANQ\" sec=\"Joshua 19:32\">Joshua 19:32</a></span></td><td class=\"tf rtl\"><span class=\"rtl ubd\"><span class=\"plain rtl  hlbx\" ><span class=\"txtu hbo\">לִ</span><span class=\"txtu hbo\">בְנֵ֣י </span><span class=\"txtu hbo\">נַפְתָּלִ֔י </span><span class=\"txtu hbo\">יָצָ֖א </span><span class=\"txtu hbo\">הַ</span><span class=\"txtu hbo\">גֹּורָ֣ל </span><span class=\"txtu hbo\">הַ</span><span class=\"plain rtl  hl\" ><span class=\"txtu hbo\">שִּׁשִּׁ֑י </span></span><span class=\"txtu hbo\">לִ</span><span class=\"txtu hbo\">בְנֵ֥י </span><span class=\"txtu hbo\">נַפְתָּלִ֖י </span><span class=\"txtu hbo\">לְ</span><span class=\"txtu hbo\">מִשְׁפְּחֹתָֽם׃ </span></span></span></td><td class=\"tf rtl\"><span class=\"rtl ubd\"><span class=\"plain rtl  hl\" ><span class=\"txtu hbo\">שִּׁשִּׁ֑י </span></span></span></td></tr>\n",
       "<tr class=\"tf rtl\"><td class=\"tf rtl\">9</td><td class=\"tf rtl\"><span class=\"tfsechead ltr\"><a target=\"_blank\" href=\"https://shebanq.ancient-data.org/hebrew/text?book=Samuel_II&amp;chapter=3&amp;verse=5&amp;version=c&amp;mr=m&amp;qw=q&amp;tp=txt_p&amp;tr=hb&amp;wget=v&amp;qget=v&amp;nget=vt\" title=\"Show this on SHEBANQ\" sec=\"2_Samuel 3:5\">2_Samuel 3:5</a></span></td><td class=\"tf rtl\"><span class=\"rtl ubd\"><span class=\"plain rtl  hlbx\" ><span class=\"txtu hbo\">וְ</span><span class=\"txtu hbo\">הַ</span><span class=\"plain rtl  hl\" ><span class=\"txtu hbo\">שִּׁשִּׁ֣י </span></span><span class=\"txtu hbo\">יִתְרְעָ֔ם </span><span class=\"txtu hbo\">לְ</span><span class=\"txtu hbo\">עֶגְלָ֖ה </span><span class=\"txtu hbo\">אֵ֣שֶׁת </span><span class=\"txtu hbo\">דָּוִ֑ד </span></span></span></td><td class=\"tf rtl\"><span class=\"rtl ubd\"><span class=\"plain rtl  hl\" ><span class=\"txtu hbo\">שִּׁשִּׁ֣י </span></span></span></td></tr>\n",
       "<tr class=\"tf rtl\"><td class=\"tf rtl\">10</td><td class=\"tf rtl\"><span class=\"tfsechead ltr\"><a target=\"_blank\" href=\"https://shebanq.ancient-data.org/hebrew/text?book=Ezechiel&amp;chapter=8&amp;verse=1&amp;version=c&amp;mr=m&amp;qw=q&amp;tp=txt_p&amp;tr=hb&amp;wget=v&amp;qget=v&amp;nget=vt\" title=\"Show this on SHEBANQ\" sec=\"Ezekiel 8:1\">Ezekiel 8:1</a></span></td><td class=\"tf rtl\"><span class=\"rtl ubd\"><span class=\"plain rtl  hlbx\" ><span class=\"txtu hbo\">וַ</span><span class=\"txtu hbo\">יְהִ֣י׀ </span><span class=\"txtu hbo\">בַּ</span><span class=\"txtu hbo\">שָּׁנָ֣ה </span><span class=\"txtu hbo\">הַ</span><span class=\"txtu hbo\">שִּׁשִּׁ֗ית </span><span class=\"txtu hbo\">בַּ</span><span class=\"plain rtl  hl\" ><span class=\"txtu hbo\">שִּׁשִּׁי֙ </span></span><span class=\"txtu hbo\">בַּ</span><span class=\"txtu hbo\">חֲמִשָּׁ֣ה </span><span class=\"txtu hbo\">לַ</span><span class=\"txtu hbo\">חֹ֔דֶשׁ </span></span></span></td><td class=\"tf rtl\"><span class=\"rtl ubd\"><span class=\"plain rtl  hl\" ><span class=\"txtu hbo\">שִּׁשִּׁי֙ </span></span></span></td></tr></table>"
      ],
      "text/plain": [
       "<IPython.core.display.HTML object>"
      ]
     },
     "metadata": {}
    }
   ],
   "metadata": {}
  },
  {
   "cell_type": "code",
   "execution_count": 18,
   "source": [
    "A.table(A.search('''\r\n",
    "clause\r\n",
    "    word lex_utf8=שׁשׁי sp=adjv gn=f\r\n",
    "''')[0:10])"
   ],
   "outputs": [
    {
     "output_type": "stream",
     "name": "stdout",
     "text": [
      "  0.39s 6 results\n"
     ]
    },
    {
     "output_type": "display_data",
     "data": {
      "text/html": [
       "<table><tr class=\"tf rtl\"><th class=\"tf rtl\">n</th><th class=\"tf rtl\">p</th><th class=\"tf rtl\">clause</th><th class=\"tf\">word</th></tr>\n",
       "<tr class=\"tf rtl\"><td class=\"tf rtl\">1</td><td class=\"tf rtl\"><span class=\"tfsechead ltr\"><a target=\"_blank\" href=\"https://shebanq.ancient-data.org/hebrew/text?book=Exodus&amp;chapter=26&amp;verse=9&amp;version=c&amp;mr=m&amp;qw=q&amp;tp=txt_p&amp;tr=hb&amp;wget=v&amp;qget=v&amp;nget=vt\" title=\"Show this on SHEBANQ\" sec=\"Exodus 26:9\">Exodus 26:9</a></span></td><td class=\"tf rtl\"><span class=\"rtl ubd\"><span class=\"plain rtl  hlbx\" ><span class=\"txtu hbo\">וְ</span><span class=\"txtu hbo\">כָפַלְתָּ֙ </span><span class=\"txtu hbo\">אֶת־</span><span class=\"txtu hbo\">הַ</span><span class=\"txtu hbo\">יְרִיעָ֣ה </span><span class=\"txtu hbo\">הַ</span><span class=\"plain rtl  hl\" ><span class=\"txtu hbo\">שִּׁשִּׁ֔ית </span></span><span class=\"txtu hbo\">אֶל־</span><span class=\"txtu hbo\">מ֖וּל </span><span class=\"txtu hbo\">פְּנֵ֥י </span><span class=\"txtu hbo\">הָ</span><span class=\"txtu hbo\">אֹֽהֶל׃ </span></span></span></td><td class=\"tf rtl\"><span class=\"rtl ubd\"><span class=\"plain rtl  hl\" ><span class=\"txtu hbo\">שִּׁשִּׁ֔ית </span></span></span></td></tr>\n",
       "<tr class=\"tf rtl\"><td class=\"tf rtl\">2</td><td class=\"tf rtl\"><span class=\"tfsechead ltr\"><a target=\"_blank\" href=\"https://shebanq.ancient-data.org/hebrew/text?book=Leviticus&amp;chapter=25&amp;verse=21&amp;version=c&amp;mr=m&amp;qw=q&amp;tp=txt_p&amp;tr=hb&amp;wget=v&amp;qget=v&amp;nget=vt\" title=\"Show this on SHEBANQ\" sec=\"Leviticus 25:21\">Leviticus 25:21</a></span></td><td class=\"tf rtl\"><span class=\"rtl ubd\"><span class=\"plain rtl  hlbx\" ><span class=\"txtu hbo\">וְ</span><span class=\"txtu hbo\">צִוִּ֤יתִי </span><span class=\"txtu hbo\">אֶת־</span><span class=\"txtu hbo\">בִּרְכָתִי֙ </span><span class=\"txtu hbo\">לָכֶ֔ם </span><span class=\"txtu hbo\">בַּ</span><span class=\"txtu hbo\">שָּׁנָ֖ה </span><span class=\"txtu hbo\">הַ</span><span class=\"plain rtl  hl\" ><span class=\"txtu hbo\">שִּׁשִּׁ֑ית </span></span></span></span></td><td class=\"tf rtl\"><span class=\"rtl ubd\"><span class=\"plain rtl  hl\" ><span class=\"txtu hbo\">שִּׁשִּׁ֑ית </span></span></span></td></tr>\n",
       "<tr class=\"tf rtl\"><td class=\"tf rtl\">3</td><td class=\"tf rtl\"><span class=\"tfsechead ltr\"><a target=\"_blank\" href=\"https://shebanq.ancient-data.org/hebrew/text?book=Ezechiel&amp;chapter=4&amp;verse=11&amp;version=c&amp;mr=m&amp;qw=q&amp;tp=txt_p&amp;tr=hb&amp;wget=v&amp;qget=v&amp;nget=vt\" title=\"Show this on SHEBANQ\" sec=\"Ezekiel 4:11\">Ezekiel 4:11</a></span></td><td class=\"tf rtl\"><span class=\"rtl ubd\"><span class=\"plain rtl  hlbx\" ><span class=\"plain rtl  hl\" ><span class=\"txtu hbo\">שִׁשִּׁ֣ית </span></span><span class=\"txtu hbo\">הַ</span><span class=\"txtu hbo\">הִ֑ין </span></span></span></td><td class=\"tf rtl\"><span class=\"rtl ubd\"><span class=\"plain rtl  hl\" ><span class=\"txtu hbo\">שִׁשִּׁ֣ית </span></span></span></td></tr>\n",
       "<tr class=\"tf rtl\"><td class=\"tf rtl\">4</td><td class=\"tf rtl\"><span class=\"tfsechead ltr\"><a target=\"_blank\" href=\"https://shebanq.ancient-data.org/hebrew/text?book=Ezechiel&amp;chapter=8&amp;verse=1&amp;version=c&amp;mr=m&amp;qw=q&amp;tp=txt_p&amp;tr=hb&amp;wget=v&amp;qget=v&amp;nget=vt\" title=\"Show this on SHEBANQ\" sec=\"Ezekiel 8:1\">Ezekiel 8:1</a></span></td><td class=\"tf rtl\"><span class=\"rtl ubd\"><span class=\"plain rtl  hlbx\" ><span class=\"txtu hbo\">וַ</span><span class=\"txtu hbo\">יְהִ֣י׀ </span><span class=\"txtu hbo\">בַּ</span><span class=\"txtu hbo\">שָּׁנָ֣ה </span><span class=\"txtu hbo\">הַ</span><span class=\"plain rtl  hl\" ><span class=\"txtu hbo\">שִּׁשִּׁ֗ית </span></span><span class=\"txtu hbo\">בַּ</span><span class=\"txtu hbo\">שִּׁשִּׁי֙ </span><span class=\"txtu hbo\">בַּ</span><span class=\"txtu hbo\">חֲמִשָּׁ֣ה </span><span class=\"txtu hbo\">לַ</span><span class=\"txtu hbo\">חֹ֔דֶשׁ </span></span></span></td><td class=\"tf rtl\"><span class=\"rtl ubd\"><span class=\"plain rtl  hl\" ><span class=\"txtu hbo\">שִּׁשִּׁ֗ית </span></span></span></td></tr>\n",
       "<tr class=\"tf rtl\"><td class=\"tf rtl\">5</td><td class=\"tf rtl\"><span class=\"tfsechead ltr\"><a target=\"_blank\" href=\"https://shebanq.ancient-data.org/hebrew/text?book=Ezechiel&amp;chapter=45&amp;verse=13&amp;version=c&amp;mr=m&amp;qw=q&amp;tp=txt_p&amp;tr=hb&amp;wget=v&amp;qget=v&amp;nget=vt\" title=\"Show this on SHEBANQ\" sec=\"Ezekiel 45:13\">Ezekiel 45:13</a></span></td><td class=\"tf rtl\"><span class=\"rtl ubd\"><span class=\"plain rtl  hlbx\" ><span class=\"plain rtl  hl\" ><span class=\"txtu hbo\">שִׁשִּׁ֤ית </span></span><span class=\"txtu hbo\">הָֽ</span><span class=\"txtu hbo\">אֵיפָה֙ </span><span class=\"txtu hbo\">מֵ</span><span class=\"txtu hbo\">חֹ֣מֶר </span><span class=\"txtu hbo\">הַֽ</span><span class=\"txtu hbo\">חִטִּ֔ים </span></span></span></td><td class=\"tf rtl\"><span class=\"rtl ubd\"><span class=\"plain rtl  hl\" ><span class=\"txtu hbo\">שִׁשִּׁ֤ית </span></span></span></td></tr>\n",
       "<tr class=\"tf rtl\"><td class=\"tf rtl\">6</td><td class=\"tf rtl\"><span class=\"tfsechead ltr\"><a target=\"_blank\" href=\"https://shebanq.ancient-data.org/hebrew/text?book=Ezechiel&amp;chapter=46&amp;verse=14&amp;version=c&amp;mr=m&amp;qw=q&amp;tp=txt_p&amp;tr=hb&amp;wget=v&amp;qget=v&amp;nget=vt\" title=\"Show this on SHEBANQ\" sec=\"Ezekiel 46:14\">Ezekiel 46:14</a></span></td><td class=\"tf rtl\"><span class=\"rtl ubd\"><span class=\"plain rtl  hlbx\" ><span class=\"txtu hbo\">וּ</span><span class=\"txtu hbo\">מִנְחָה֩ </span><span class=\"txtu hbo\">תַעֲשֶׂ֨ה </span><span class=\"txtu hbo\">עָלָ֜יו </span><span class=\"txtu hbo\">בַּ</span><span class=\"txtu hbo\">בֹּ֤קֶר </span><span class=\"txtu hbo\">בַּ</span><span class=\"txtu hbo\">בֹּ֨קֶר֙ </span><span class=\"plain rtl  hl\" ><span class=\"txtu hbo\">שִׁשִּׁ֣ית </span></span><span class=\"txtu hbo\">הָֽ</span><span class=\"txtu hbo\">אֵיפָ֔ה </span></span></span></td><td class=\"tf rtl\"><span class=\"rtl ubd\"><span class=\"plain rtl  hl\" ><span class=\"txtu hbo\">שִׁשִּׁ֣ית </span></span></span></td></tr></table>"
      ],
      "text/plain": [
       "<IPython.core.display.HTML object>"
      ]
     },
     "metadata": {}
    }
   ],
   "metadata": {}
  },
  {
   "cell_type": "markdown",
   "source": [
    "## 7th"
   ],
   "metadata": {}
  },
  {
   "cell_type": "code",
   "execution_count": 19,
   "source": [
    "A.table(A.search('''\r\n",
    "clause\r\n",
    "    word lex_utf8=שׁביעי sp=adjv gn=m\r\n",
    "''')[0:10])"
   ],
   "outputs": [
    {
     "output_type": "stream",
     "name": "stdout",
     "text": [
      "  0.49s 84 results\n"
     ]
    },
    {
     "output_type": "display_data",
     "data": {
      "text/html": [
       "<table><tr class=\"tf rtl\"><th class=\"tf rtl\">n</th><th class=\"tf rtl\">p</th><th class=\"tf rtl\">clause</th><th class=\"tf\">word</th></tr>\n",
       "<tr class=\"tf rtl\"><td class=\"tf rtl\">1</td><td class=\"tf rtl\"><span class=\"tfsechead ltr\"><a target=\"_blank\" href=\"https://shebanq.ancient-data.org/hebrew/text?book=Genesis&amp;chapter=2&amp;verse=2&amp;version=c&amp;mr=m&amp;qw=q&amp;tp=txt_p&amp;tr=hb&amp;wget=v&amp;qget=v&amp;nget=vt\" title=\"Show this on SHEBANQ\" sec=\"Genesis 2:2\">Genesis 2:2</a></span></td><td class=\"tf rtl\"><span class=\"rtl ubd\"><span class=\"plain rtl  hlbx\" ><span class=\"txtu hbo\">וַ</span><span class=\"txtu hbo\">יְכַ֤ל </span><span class=\"txtu hbo\">אֱלֹהִים֙ </span><span class=\"txtu hbo\">בַּ</span><span class=\"txtu hbo\">יֹּ֣ום </span><span class=\"txtu hbo\">הַ</span><span class=\"plain rtl  hl\" ><span class=\"txtu hbo\">שְּׁבִיעִ֔י </span></span><span class=\"txtu hbo\">מְלַאכְתֹּ֖ו </span></span></span></td><td class=\"tf rtl\"><span class=\"rtl ubd\"><span class=\"plain rtl  hl\" ><span class=\"txtu hbo\">שְּׁבִיעִ֔י </span></span></span></td></tr>\n",
       "<tr class=\"tf rtl\"><td class=\"tf rtl\">2</td><td class=\"tf rtl\"><span class=\"tfsechead ltr\"><a target=\"_blank\" href=\"https://shebanq.ancient-data.org/hebrew/text?book=Genesis&amp;chapter=2&amp;verse=2&amp;version=c&amp;mr=m&amp;qw=q&amp;tp=txt_p&amp;tr=hb&amp;wget=v&amp;qget=v&amp;nget=vt\" title=\"Show this on SHEBANQ\" sec=\"Genesis 2:2\">Genesis 2:2</a></span></td><td class=\"tf rtl\"><span class=\"rtl ubd\"><span class=\"plain rtl  hlbx\" ><span class=\"txtu hbo\">וַ</span><span class=\"txtu hbo\">יִּשְׁבֹּת֙ </span><span class=\"txtu hbo\">בַּ</span><span class=\"txtu hbo\">יֹּ֣ום </span><span class=\"txtu hbo\">הַ</span><span class=\"plain rtl  hl\" ><span class=\"txtu hbo\">שְּׁבִיעִ֔י </span></span><span class=\"txtu hbo\">מִ</span><span class=\"txtu hbo\">כָּל־</span><span class=\"txtu hbo\">מְלַאכְתֹּ֖ו </span></span></span></td><td class=\"tf rtl\"><span class=\"rtl ubd\"><span class=\"plain rtl  hl\" ><span class=\"txtu hbo\">שְּׁבִיעִ֔י </span></span></span></td></tr>\n",
       "<tr class=\"tf rtl\"><td class=\"tf rtl\">3</td><td class=\"tf rtl\"><span class=\"tfsechead ltr\"><a target=\"_blank\" href=\"https://shebanq.ancient-data.org/hebrew/text?book=Genesis&amp;chapter=2&amp;verse=3&amp;version=c&amp;mr=m&amp;qw=q&amp;tp=txt_p&amp;tr=hb&amp;wget=v&amp;qget=v&amp;nget=vt\" title=\"Show this on SHEBANQ\" sec=\"Genesis 2:3\">Genesis 2:3</a></span></td><td class=\"tf rtl\"><span class=\"rtl ubd\"><span class=\"plain rtl  hlbx\" ><span class=\"txtu hbo\">וַ</span><span class=\"txtu hbo\">יְבָ֤רֶךְ </span><span class=\"txtu hbo\">אֱלֹהִים֙ </span><span class=\"txtu hbo\">אֶת־</span><span class=\"txtu hbo\">יֹ֣ום </span><span class=\"txtu hbo\">הַ</span><span class=\"plain rtl  hl\" ><span class=\"txtu hbo\">שְּׁבִיעִ֔י </span></span></span></span></td><td class=\"tf rtl\"><span class=\"rtl ubd\"><span class=\"plain rtl  hl\" ><span class=\"txtu hbo\">שְּׁבִיעִ֔י </span></span></span></td></tr>\n",
       "<tr class=\"tf rtl\"><td class=\"tf rtl\">4</td><td class=\"tf rtl\"><span class=\"tfsechead ltr\"><a target=\"_blank\" href=\"https://shebanq.ancient-data.org/hebrew/text?book=Genesis&amp;chapter=8&amp;verse=4&amp;version=c&amp;mr=m&amp;qw=q&amp;tp=txt_p&amp;tr=hb&amp;wget=v&amp;qget=v&amp;nget=vt\" title=\"Show this on SHEBANQ\" sec=\"Genesis 8:4\">Genesis 8:4</a></span></td><td class=\"tf rtl\"><span class=\"rtl ubd\"><span class=\"plain rtl  hlbx\" ><span class=\"txtu hbo\">וַ</span><span class=\"txtu hbo\">תָּ֤נַח </span><span class=\"txtu hbo\">הַ</span><span class=\"txtu hbo\">תֵּבָה֙ </span><span class=\"txtu hbo\">בַּ</span><span class=\"txtu hbo\">חֹ֣דֶשׁ </span><span class=\"txtu hbo\">הַ</span><span class=\"plain rtl  hl\" ><span class=\"txtu hbo\">שְּׁבִיעִ֔י </span></span><span class=\"txtu hbo\">בְּ</span><span class=\"txtu hbo\">שִׁבְעָה־</span><span class=\"txtu hbo\">עָשָׂ֥ר </span><span class=\"txtu hbo\">יֹ֖ום </span><span class=\"txtu hbo\">לַ</span><span class=\"txtu hbo\">חֹ֑דֶשׁ </span><span class=\"txtu hbo\">עַ֖ל </span><span class=\"txtu hbo\">הָרֵ֥י </span><span class=\"txtu hbo\">אֲרָרָֽט׃ </span></span></span></td><td class=\"tf rtl\"><span class=\"rtl ubd\"><span class=\"plain rtl  hl\" ><span class=\"txtu hbo\">שְּׁבִיעִ֔י </span></span></span></td></tr>\n",
       "<tr class=\"tf rtl\"><td class=\"tf rtl\">5</td><td class=\"tf rtl\"><span class=\"tfsechead ltr\"><a target=\"_blank\" href=\"https://shebanq.ancient-data.org/hebrew/text?book=Exodus&amp;chapter=12&amp;verse=15&amp;version=c&amp;mr=m&amp;qw=q&amp;tp=txt_p&amp;tr=hb&amp;wget=v&amp;qget=v&amp;nget=vt\" title=\"Show this on SHEBANQ\" sec=\"Exodus 12:15\">Exodus 12:15</a></span></td><td class=\"tf rtl\"><span class=\"rtl ubd\"><span class=\"plain rtl  hlbx\" ><span class=\"txtu hbo\">וְ</span><span class=\"txtu hbo\">נִכְרְתָ֞ה </span><span class=\"txtu hbo\">הַ</span><span class=\"txtu hbo\">נֶּ֤פֶשׁ </span><span class=\"txtu hbo\">הַ</span><span class=\"txtu hbo\">הִוא֙ </span><span class=\"txtu hbo\">מִ</span><span class=\"txtu hbo\">יִּשְׂרָאֵ֔ל </span><span class=\"txtu hbo\">מִ</span><span class=\"txtu hbo\">יֹּ֥ום </span><span class=\"txtu hbo\">הָ</span><span class=\"txtu hbo\">רִאשֹׁ֖ן </span><span class=\"txtu hbo\">עַד־</span><span class=\"txtu hbo\">יֹ֥ום </span><span class=\"txtu hbo\">הַ</span><span class=\"plain rtl  hl\" ><span class=\"txtu hbo\">שְּׁבִעִֽי׃ </span></span></span></span></td><td class=\"tf rtl\"><span class=\"rtl ubd\"><span class=\"plain rtl  hl\" ><span class=\"txtu hbo\">שְּׁבִעִֽי׃ </span></span></span></td></tr>\n",
       "<tr class=\"tf rtl\"><td class=\"tf rtl\">6</td><td class=\"tf rtl\"><span class=\"tfsechead ltr\"><a target=\"_blank\" href=\"https://shebanq.ancient-data.org/hebrew/text?book=Exodus&amp;chapter=12&amp;verse=16&amp;version=c&amp;mr=m&amp;qw=q&amp;tp=txt_p&amp;tr=hb&amp;wget=v&amp;qget=v&amp;nget=vt\" title=\"Show this on SHEBANQ\" sec=\"Exodus 12:16\">Exodus 12:16</a></span></td><td class=\"tf rtl\"><span class=\"rtl ubd\"><span class=\"plain rtl  hlbx\" ><span class=\"txtu hbo\">וּ</span><span class=\"txtu hbo\">בַ</span><span class=\"txtu hbo\">יֹּום֙ </span><span class=\"txtu hbo\">הַ</span><span class=\"plain rtl  hl\" ><span class=\"txtu hbo\">שְּׁבִיעִ֔י </span></span><span class=\"txtu hbo\">מִקְרָא־</span><span class=\"txtu hbo\">קֹ֖דֶשׁ </span><span class=\"txtu hbo\">יִהְיֶ֣ה </span><span class=\"txtu hbo\">לָכֶ֑ם </span></span></span></td><td class=\"tf rtl\"><span class=\"rtl ubd\"><span class=\"plain rtl  hl\" ><span class=\"txtu hbo\">שְּׁבִיעִ֔י </span></span></span></td></tr>\n",
       "<tr class=\"tf rtl\"><td class=\"tf rtl\">7</td><td class=\"tf rtl\"><span class=\"tfsechead ltr\"><a target=\"_blank\" href=\"https://shebanq.ancient-data.org/hebrew/text?book=Exodus&amp;chapter=13&amp;verse=6&amp;version=c&amp;mr=m&amp;qw=q&amp;tp=txt_p&amp;tr=hb&amp;wget=v&amp;qget=v&amp;nget=vt\" title=\"Show this on SHEBANQ\" sec=\"Exodus 13:6\">Exodus 13:6</a></span></td><td class=\"tf rtl\"><span class=\"rtl ubd\"><span class=\"plain rtl  hlbx\" ><span class=\"txtu hbo\">וּ</span><span class=\"txtu hbo\">בַ</span><span class=\"txtu hbo\">יֹּום֙ </span><span class=\"txtu hbo\">הַ</span><span class=\"plain rtl  hl\" ><span class=\"txtu hbo\">שְּׁבִיעִ֔י </span></span><span class=\"txtu hbo\">חַ֖ג </span><span class=\"txtu hbo\">לַ</span><span class=\"txtu hbo\">יהוָֽה׃ </span></span></span></td><td class=\"tf rtl\"><span class=\"rtl ubd\"><span class=\"plain rtl  hl\" ><span class=\"txtu hbo\">שְּׁבִיעִ֔י </span></span></span></td></tr>\n",
       "<tr class=\"tf rtl\"><td class=\"tf rtl\">8</td><td class=\"tf rtl\"><span class=\"tfsechead ltr\"><a target=\"_blank\" href=\"https://shebanq.ancient-data.org/hebrew/text?book=Exodus&amp;chapter=16&amp;verse=26&amp;version=c&amp;mr=m&amp;qw=q&amp;tp=txt_p&amp;tr=hb&amp;wget=v&amp;qget=v&amp;nget=vt\" title=\"Show this on SHEBANQ\" sec=\"Exodus 16:26\">Exodus 16:26</a></span></td><td class=\"tf rtl\"><span class=\"rtl ubd\"><span class=\"plain rtl  hlbx\" ><span class=\"txtu hbo\">וּ</span><span class=\"txtu hbo\">בַ</span><span class=\"txtu hbo\">יֹּ֧ום </span><span class=\"txtu hbo\">הַ</span><span class=\"plain rtl  hl\" ><span class=\"txtu hbo\">שְּׁבִיעִ֛י </span></span><span class=\"txtu hbo\">שַׁבָּ֖ת </span></span></span></td><td class=\"tf rtl\"><span class=\"rtl ubd\"><span class=\"plain rtl  hl\" ><span class=\"txtu hbo\">שְּׁבִיעִ֛י </span></span></span></td></tr>\n",
       "<tr class=\"tf rtl\"><td class=\"tf rtl\">9</td><td class=\"tf rtl\"><span class=\"tfsechead ltr\"><a target=\"_blank\" href=\"https://shebanq.ancient-data.org/hebrew/text?book=Exodus&amp;chapter=16&amp;verse=27&amp;version=c&amp;mr=m&amp;qw=q&amp;tp=txt_p&amp;tr=hb&amp;wget=v&amp;qget=v&amp;nget=vt\" title=\"Show this on SHEBANQ\" sec=\"Exodus 16:27\">Exodus 16:27</a></span></td><td class=\"tf rtl\"><span class=\"rtl ubd\"><span class=\"plain rtl  hlbx\" ><span class=\"txtu hbo\">בַּ</span><span class=\"txtu hbo\">יֹּ֣ום </span><span class=\"txtu hbo\">הַ</span><span class=\"plain rtl  hl\" ><span class=\"txtu hbo\">שְּׁבִיעִ֔י </span></span><span class=\"txtu hbo\">יָצְא֥וּ </span><span class=\"txtu hbo\">מִן־</span><span class=\"txtu hbo\">הָ</span><span class=\"txtu hbo\">עָ֖ם </span></span></span></td><td class=\"tf rtl\"><span class=\"rtl ubd\"><span class=\"plain rtl  hl\" ><span class=\"txtu hbo\">שְּׁבִיעִ֔י </span></span></span></td></tr>\n",
       "<tr class=\"tf rtl\"><td class=\"tf rtl\">10</td><td class=\"tf rtl\"><span class=\"tfsechead ltr\"><a target=\"_blank\" href=\"https://shebanq.ancient-data.org/hebrew/text?book=Exodus&amp;chapter=16&amp;verse=29&amp;version=c&amp;mr=m&amp;qw=q&amp;tp=txt_p&amp;tr=hb&amp;wget=v&amp;qget=v&amp;nget=vt\" title=\"Show this on SHEBANQ\" sec=\"Exodus 16:29\">Exodus 16:29</a></span></td><td class=\"tf rtl\"><span class=\"rtl ubd\"><span class=\"plain rtl  hlbx\" ><span class=\"txtu hbo\">אַל־</span><span class=\"txtu hbo\">יֵ֥צֵא </span><span class=\"txtu hbo\">אִ֛ישׁ </span><span class=\"txtu hbo\">מִ</span><span class=\"txtu hbo\">מְּקֹמֹ֖ו </span><span class=\"txtu hbo\">בַּ</span><span class=\"txtu hbo\">יֹּ֥ום </span><span class=\"txtu hbo\">הַ</span><span class=\"plain rtl  hl\" ><span class=\"txtu hbo\">שְּׁבִיעִֽי׃ </span></span></span></span></td><td class=\"tf rtl\"><span class=\"rtl ubd\"><span class=\"plain rtl  hl\" ><span class=\"txtu hbo\">שְּׁבִיעִֽי׃ </span></span></span></td></tr></table>"
      ],
      "text/plain": [
       "<IPython.core.display.HTML object>"
      ]
     },
     "metadata": {}
    }
   ],
   "metadata": {}
  },
  {
   "cell_type": "code",
   "execution_count": 20,
   "source": [
    "A.table(A.search('''\r\n",
    "clause\r\n",
    "    word lex_utf8=שׁביעי sp=adjv gn=f\r\n",
    "''')[0:10])"
   ],
   "outputs": [
    {
     "output_type": "stream",
     "name": "stdout",
     "text": [
      "  0.39s 14 results\n"
     ]
    },
    {
     "output_type": "display_data",
     "data": {
      "text/html": [
       "<table><tr class=\"tf rtl\"><th class=\"tf rtl\">n</th><th class=\"tf rtl\">p</th><th class=\"tf rtl\">clause</th><th class=\"tf\">word</th></tr>\n",
       "<tr class=\"tf rtl\"><td class=\"tf rtl\">1</td><td class=\"tf rtl\"><span class=\"tfsechead ltr\"><a target=\"_blank\" href=\"https://shebanq.ancient-data.org/hebrew/text?book=Exodus&amp;chapter=21&amp;verse=2&amp;version=c&amp;mr=m&amp;qw=q&amp;tp=txt_p&amp;tr=hb&amp;wget=v&amp;qget=v&amp;nget=vt\" title=\"Show this on SHEBANQ\" sec=\"Exodus 21:2\">Exodus 21:2</a></span></td><td class=\"tf rtl\"><span class=\"rtl ubd\"><span class=\"plain rtl  hlbx\" ><span class=\"txtu hbo\">וּ</span><span class=\"txtu hbo\">בַ֨</span><span class=\"plain rtl  hl\" ><span class=\"txtu hbo\">שְּׁבִעִ֔ת </span></span><span class=\"txtu hbo\">יֵצֵ֥א </span><span class=\"txtu hbo\">לַֽ</span><span class=\"txtu hbo\">חָפְשִׁ֖י </span><span class=\"txtu hbo\">חִנָּֽם׃ </span></span></span></td><td class=\"tf rtl\"><span class=\"rtl ubd\"><span class=\"plain rtl  hl\" ><span class=\"txtu hbo\">שְּׁבִעִ֔ת </span></span></span></td></tr>\n",
       "<tr class=\"tf rtl\"><td class=\"tf rtl\">2</td><td class=\"tf rtl\"><span class=\"tfsechead ltr\"><a target=\"_blank\" href=\"https://shebanq.ancient-data.org/hebrew/text?book=Exodus&amp;chapter=23&amp;verse=11&amp;version=c&amp;mr=m&amp;qw=q&amp;tp=txt_p&amp;tr=hb&amp;wget=v&amp;qget=v&amp;nget=vt\" title=\"Show this on SHEBANQ\" sec=\"Exodus 23:11\">Exodus 23:11</a></span></td><td class=\"tf rtl\"><span class=\"rtl ubd\"><span class=\"plain rtl  hlbx\" ><span class=\"txtu hbo\">וְ</span><span class=\"txtu hbo\">הַ</span><span class=\"plain rtl  hl\" ><span class=\"txtu hbo\">שְּׁבִיעִ֞ת </span></span><span class=\"txtu hbo\">תִּשְׁמְטֶ֣נָּה </span></span></span></td><td class=\"tf rtl\"><span class=\"rtl ubd\"><span class=\"plain rtl  hl\" ><span class=\"txtu hbo\">שְּׁבִיעִ֞ת </span></span></span></td></tr>\n",
       "<tr class=\"tf rtl\"><td class=\"tf rtl\">3</td><td class=\"tf rtl\"><span class=\"tfsechead ltr\"><a target=\"_blank\" href=\"https://shebanq.ancient-data.org/hebrew/text?book=Leviticus&amp;chapter=23&amp;verse=16&amp;version=c&amp;mr=m&amp;qw=q&amp;tp=txt_p&amp;tr=hb&amp;wget=v&amp;qget=v&amp;nget=vt\" title=\"Show this on SHEBANQ\" sec=\"Leviticus 23:16\">Leviticus 23:16</a></span></td><td class=\"tf rtl\"><span class=\"rtl ubd\"><span class=\"plain rtl  hlbx\" ><span class=\"txtu hbo\">עַ֣ד </span><span class=\"txtu hbo\">מִֽ</span><span class=\"txtu hbo\">מָּחֳרַ֤ת </span><span class=\"txtu hbo\">הַ</span><span class=\"txtu hbo\">שַּׁבָּת֙ </span><span class=\"txtu hbo\">הַ</span><span class=\"plain rtl  hl\" ><span class=\"txtu hbo\">שְּׁבִיעִ֔ת </span></span><span class=\"txtu hbo\">תִּסְפְּר֖וּ </span><span class=\"txtu hbo\">חֲמִשִּׁ֣ים </span><span class=\"txtu hbo\">יֹ֑ום </span></span></span></td><td class=\"tf rtl\"><span class=\"rtl ubd\"><span class=\"plain rtl  hl\" ><span class=\"txtu hbo\">שְּׁבִיעִ֔ת </span></span></span></td></tr>\n",
       "<tr class=\"tf rtl\"><td class=\"tf rtl\">4</td><td class=\"tf rtl\"><span class=\"tfsechead ltr\"><a target=\"_blank\" href=\"https://shebanq.ancient-data.org/hebrew/text?book=Leviticus&amp;chapter=25&amp;verse=4&amp;version=c&amp;mr=m&amp;qw=q&amp;tp=txt_p&amp;tr=hb&amp;wget=v&amp;qget=v&amp;nget=vt\" title=\"Show this on SHEBANQ\" sec=\"Leviticus 25:4\">Leviticus 25:4</a></span></td><td class=\"tf rtl\"><span class=\"rtl ubd\"><span class=\"plain rtl  hlbx\" ><span class=\"txtu hbo\">וּ</span><span class=\"txtu hbo\">בַ</span><span class=\"txtu hbo\">שָּׁנָ֣ה </span><span class=\"txtu hbo\">הַ</span><span class=\"plain rtl  hl\" ><span class=\"txtu hbo\">שְּׁבִיעִ֗ת </span></span><span class=\"plain rtl l \" ><span class=\"txtu hbo\">שַׁבַּ֤ת </span><span class=\"txtu hbo\">שַׁבָּתֹון֙ </span></span><span class=\"txtu hbo\">יִהְיֶ֣ה </span><span class=\"txtu hbo\">לָ</span><span class=\"txtu hbo\">אָ֔רֶץ </span><span class=\"plain rtl r \" ><span class=\"txtu hbo\">שַׁבָּ֖ת </span><span class=\"txtu hbo\">לַ</span><span class=\"txtu hbo\">יהוָ֑ה </span></span></span></span></td><td class=\"tf rtl\"><span class=\"rtl ubd\"><span class=\"plain rtl  hl\" ><span class=\"txtu hbo\">שְּׁבִיעִ֗ת </span></span></span></td></tr>\n",
       "<tr class=\"tf rtl\"><td class=\"tf rtl\">5</td><td class=\"tf rtl\"><span class=\"tfsechead ltr\"><a target=\"_blank\" href=\"https://shebanq.ancient-data.org/hebrew/text?book=Leviticus&amp;chapter=25&amp;verse=20&amp;version=c&amp;mr=m&amp;qw=q&amp;tp=txt_p&amp;tr=hb&amp;wget=v&amp;qget=v&amp;nget=vt\" title=\"Show this on SHEBANQ\" sec=\"Leviticus 25:20\">Leviticus 25:20</a></span></td><td class=\"tf rtl\"><span class=\"rtl ubd\"><span class=\"plain rtl  hlbx\" ><span class=\"txtu hbo\">מַה־</span><span class=\"txtu hbo\">נֹּאכַ֤ל </span><span class=\"txtu hbo\">בַּ</span><span class=\"txtu hbo\">שָּׁנָ֣ה </span><span class=\"txtu hbo\">הַ</span><span class=\"plain rtl  hl\" ><span class=\"txtu hbo\">שְּׁבִיעִ֑ת </span></span></span></span></td><td class=\"tf rtl\"><span class=\"rtl ubd\"><span class=\"plain rtl  hl\" ><span class=\"txtu hbo\">שְּׁבִיעִ֑ת </span></span></span></td></tr>\n",
       "<tr class=\"tf rtl\"><td class=\"tf rtl\">6</td><td class=\"tf rtl\"><span class=\"tfsechead ltr\"><a target=\"_blank\" href=\"https://shebanq.ancient-data.org/hebrew/text?book=Deuteronomium&amp;chapter=15&amp;verse=12&amp;version=c&amp;mr=m&amp;qw=q&amp;tp=txt_p&amp;tr=hb&amp;wget=v&amp;qget=v&amp;nget=vt\" title=\"Show this on SHEBANQ\" sec=\"Deuteronomy 15:12\">Deuteronomy 15:12</a></span></td><td class=\"tf rtl\"><span class=\"rtl ubd\"><span class=\"plain rtl  hlbx\" ><span class=\"txtu hbo\">וּ</span><span class=\"txtu hbo\">בַ</span><span class=\"txtu hbo\">שָּׁנָה֙ </span><span class=\"txtu hbo\">הַ</span><span class=\"plain rtl  hl\" ><span class=\"txtu hbo\">שְּׁבִיעִ֔ת </span></span><span class=\"txtu hbo\">תְּשַׁלְּחֶ֥נּוּ </span><span class=\"txtu hbo\">חָפְשִׁ֖י </span><span class=\"txtu hbo\">מֵ</span><span class=\"txtu hbo\">עִמָּֽךְ׃ </span></span></span></td><td class=\"tf rtl\"><span class=\"rtl ubd\"><span class=\"plain rtl  hl\" ><span class=\"txtu hbo\">שְּׁבִיעִ֔ת </span></span></span></td></tr>\n",
       "<tr class=\"tf rtl\"><td class=\"tf rtl\">7</td><td class=\"tf rtl\"><span class=\"tfsechead ltr\"><a target=\"_blank\" href=\"https://shebanq.ancient-data.org/hebrew/text?book=Josua&amp;chapter=6&amp;verse=16&amp;version=c&amp;mr=m&amp;qw=q&amp;tp=txt_p&amp;tr=hb&amp;wget=v&amp;qget=v&amp;nget=vt\" title=\"Show this on SHEBANQ\" sec=\"Joshua 6:16\">Joshua 6:16</a></span></td><td class=\"tf rtl\"><span class=\"rtl ubd\"><span class=\"plain rtl  hlbx\" ><span class=\"txtu hbo\">וַ</span><span class=\"txtu hbo\">יְהִי֙ </span><span class=\"txtu hbo\">בַּ</span><span class=\"txtu hbo\">פַּ֣עַם </span><span class=\"txtu hbo\">הַ</span><span class=\"plain rtl  hl\" ><span class=\"txtu hbo\">שְּׁבִיעִ֔ית </span></span></span></span></td><td class=\"tf rtl\"><span class=\"rtl ubd\"><span class=\"plain rtl  hl\" ><span class=\"txtu hbo\">שְּׁבִיעִ֔ית </span></span></span></td></tr>\n",
       "<tr class=\"tf rtl\"><td class=\"tf rtl\">8</td><td class=\"tf rtl\"><span class=\"tfsechead ltr\"><a target=\"_blank\" href=\"https://shebanq.ancient-data.org/hebrew/text?book=Reges_I&amp;chapter=18&amp;verse=44&amp;version=c&amp;mr=m&amp;qw=q&amp;tp=txt_p&amp;tr=hb&amp;wget=v&amp;qget=v&amp;nget=vt\" title=\"Show this on SHEBANQ\" sec=\"1_Kings 18:44\">1_Kings 18:44</a></span></td><td class=\"tf rtl\"><span class=\"rtl ubd\"><span class=\"plain rtl  hlbx\" ><span class=\"txtu hbo\">וַֽ</span><span class=\"txtu hbo\">יְהִי֙ </span><span class=\"txtu hbo\">בַּ</span><span class=\"plain rtl  hl\" ><span class=\"txtu hbo\">שְּׁבִעִ֔ית </span></span></span></span></td><td class=\"tf rtl\"><span class=\"rtl ubd\"><span class=\"plain rtl  hl\" ><span class=\"txtu hbo\">שְּׁבִעִ֔ית </span></span></span></td></tr>\n",
       "<tr class=\"tf rtl\"><td class=\"tf rtl\">9</td><td class=\"tf rtl\"><span class=\"tfsechead ltr\"><a target=\"_blank\" href=\"https://shebanq.ancient-data.org/hebrew/text?book=Reges_II&amp;chapter=11&amp;verse=4&amp;version=c&amp;mr=m&amp;qw=q&amp;tp=txt_p&amp;tr=hb&amp;wget=v&amp;qget=v&amp;nget=vt\" title=\"Show this on SHEBANQ\" sec=\"2_Kings 11:4\">2_Kings 11:4</a></span></td><td class=\"tf rtl\"><span class=\"rtl ubd\"><span class=\"plain rtl  hlbx\" ><span class=\"txtu hbo\">וּ</span><span class=\"txtu hbo\">בַ</span><span class=\"txtu hbo\">שָּׁנָ֣ה </span><span class=\"txtu hbo\">הַ֠</span><span class=\"plain rtl  hl\" ><span class=\"txtu hbo\">שְּׁבִיעִית </span></span><span class=\"txtu hbo\">שָׁלַ֨ח </span><span class=\"txtu hbo\">יְהֹויָדָ֜ע </span></span></span></td><td class=\"tf rtl\"><span class=\"rtl ubd\"><span class=\"plain rtl  hl\" ><span class=\"txtu hbo\">שְּׁבִיעִית </span></span></span></td></tr>\n",
       "<tr class=\"tf rtl\"><td class=\"tf rtl\">10</td><td class=\"tf rtl\"><span class=\"tfsechead ltr\"><a target=\"_blank\" href=\"https://shebanq.ancient-data.org/hebrew/text?book=Reges_II&amp;chapter=18&amp;verse=9&amp;version=c&amp;mr=m&amp;qw=q&amp;tp=txt_p&amp;tr=hb&amp;wget=v&amp;qget=v&amp;nget=vt\" title=\"Show this on SHEBANQ\" sec=\"2_Kings 18:9\">2_Kings 18:9</a></span></td><td class=\"tf rtl\"><span class=\"rtl ubd\"><span class=\"plain rtl  hlbx\" ><span class=\"txtu hbo\">הִ֚יא </span><span class=\"txtu hbo\">הַ</span><span class=\"txtu hbo\">שָּׁנָ֣ה </span><span class=\"txtu hbo\">הַ</span><span class=\"plain rtl  hl\" ><span class=\"txtu hbo\">שְּׁבִיעִ֔ית </span></span><span class=\"txtu hbo\">לְ</span><span class=\"txtu hbo\">הֹושֵׁ֥עַ </span><span class=\"txtu hbo\">בֶּן־</span><span class=\"txtu hbo\">אֵלָ֖ה </span><span class=\"txtu hbo\">מֶ֣לֶךְ </span><span class=\"txtu hbo\">יִשְׂרָאֵ֑ל </span></span></span></td><td class=\"tf rtl\"><span class=\"rtl ubd\"><span class=\"plain rtl  hl\" ><span class=\"txtu hbo\">שְּׁבִיעִ֔ית </span></span></span></td></tr></table>"
      ],
      "text/plain": [
       "<IPython.core.display.HTML object>"
      ]
     },
     "metadata": {}
    }
   ],
   "metadata": {}
  },
  {
   "cell_type": "markdown",
   "source": [
    "## 8th"
   ],
   "metadata": {}
  },
  {
   "cell_type": "code",
   "execution_count": 21,
   "source": [
    "A.table(A.search('''\r\n",
    "clause\r\n",
    "    word lex_utf8=שׁמיני sp=adjv gn=m\r\n",
    "''')[0:10])"
   ],
   "outputs": [
    {
     "output_type": "stream",
     "name": "stdout",
     "text": [
      "  0.48s 27 results\n"
     ]
    },
    {
     "output_type": "display_data",
     "data": {
      "text/html": [
       "<table><tr class=\"tf rtl\"><th class=\"tf rtl\">n</th><th class=\"tf rtl\">p</th><th class=\"tf rtl\">clause</th><th class=\"tf\">word</th></tr>\n",
       "<tr class=\"tf rtl\"><td class=\"tf rtl\">1</td><td class=\"tf rtl\"><span class=\"tfsechead ltr\"><a target=\"_blank\" href=\"https://shebanq.ancient-data.org/hebrew/text?book=Exodus&amp;chapter=22&amp;verse=29&amp;version=c&amp;mr=m&amp;qw=q&amp;tp=txt_p&amp;tr=hb&amp;wget=v&amp;qget=v&amp;nget=vt\" title=\"Show this on SHEBANQ\" sec=\"Exodus 22:29\">Exodus 22:29</a></span></td><td class=\"tf rtl\"><span class=\"rtl ubd\"><span class=\"plain rtl  hlbx\" ><span class=\"txtu hbo\">בַּ</span><span class=\"txtu hbo\">יֹּ֥ום </span><span class=\"txtu hbo\">הַ</span><span class=\"plain rtl  hl\" ><span class=\"txtu hbo\">שְּׁמִינִ֖י </span></span><span class=\"txtu hbo\">תִּתְּנֹו־</span><span class=\"txtu hbo\">לִֽי׃ </span></span></span></td><td class=\"tf rtl\"><span class=\"rtl ubd\"><span class=\"plain rtl  hl\" ><span class=\"txtu hbo\">שְּׁמִינִ֖י </span></span></span></td></tr>\n",
       "<tr class=\"tf rtl\"><td class=\"tf rtl\">2</td><td class=\"tf rtl\"><span class=\"tfsechead ltr\"><a target=\"_blank\" href=\"https://shebanq.ancient-data.org/hebrew/text?book=Leviticus&amp;chapter=9&amp;verse=1&amp;version=c&amp;mr=m&amp;qw=q&amp;tp=txt_p&amp;tr=hb&amp;wget=v&amp;qget=v&amp;nget=vt\" title=\"Show this on SHEBANQ\" sec=\"Leviticus 9:1\">Leviticus 9:1</a></span></td><td class=\"tf rtl\"><span class=\"rtl ubd\"><span class=\"plain rtl  hlbx\" ><span class=\"txtu hbo\">וַ</span><span class=\"txtu hbo\">יְהִי֙ </span><span class=\"txtu hbo\">בַּ</span><span class=\"txtu hbo\">יֹּ֣ום </span><span class=\"txtu hbo\">הַ</span><span class=\"plain rtl  hl\" ><span class=\"txtu hbo\">שְּׁמִינִ֔י </span></span></span></span></td><td class=\"tf rtl\"><span class=\"rtl ubd\"><span class=\"plain rtl  hl\" ><span class=\"txtu hbo\">שְּׁמִינִ֔י </span></span></span></td></tr>\n",
       "<tr class=\"tf rtl\"><td class=\"tf rtl\">3</td><td class=\"tf rtl\"><span class=\"tfsechead ltr\"><a target=\"_blank\" href=\"https://shebanq.ancient-data.org/hebrew/text?book=Leviticus&amp;chapter=12&amp;verse=3&amp;version=c&amp;mr=m&amp;qw=q&amp;tp=txt_p&amp;tr=hb&amp;wget=v&amp;qget=v&amp;nget=vt\" title=\"Show this on SHEBANQ\" sec=\"Leviticus 12:3\">Leviticus 12:3</a></span></td><td class=\"tf rtl\"><span class=\"rtl ubd\"><span class=\"plain rtl  hlbx\" ><span class=\"txtu hbo\">וּ</span><span class=\"txtu hbo\">בַ</span><span class=\"txtu hbo\">יֹּ֖ום </span><span class=\"txtu hbo\">הַ</span><span class=\"plain rtl  hl\" ><span class=\"txtu hbo\">שְּׁמִינִ֑י </span></span><span class=\"txtu hbo\">יִמֹּ֖ול </span><span class=\"txtu hbo\">בְּשַׂ֥ר </span><span class=\"txtu hbo\">עָרְלָתֹֽו׃ </span></span></span></td><td class=\"tf rtl\"><span class=\"rtl ubd\"><span class=\"plain rtl  hl\" ><span class=\"txtu hbo\">שְּׁמִינִ֑י </span></span></span></td></tr>\n",
       "<tr class=\"tf rtl\"><td class=\"tf rtl\">4</td><td class=\"tf rtl\"><span class=\"tfsechead ltr\"><a target=\"_blank\" href=\"https://shebanq.ancient-data.org/hebrew/text?book=Leviticus&amp;chapter=14&amp;verse=10&amp;version=c&amp;mr=m&amp;qw=q&amp;tp=txt_p&amp;tr=hb&amp;wget=v&amp;qget=v&amp;nget=vt\" title=\"Show this on SHEBANQ\" sec=\"Leviticus 14:10\">Leviticus 14:10</a></span></td><td class=\"tf rtl\"><span class=\"rtl ubd\"><span class=\"plain rtl l hlbx\" ><span class=\"txtu hbo\">וּ</span><span class=\"txtu hbo\">בַ</span><span class=\"txtu hbo\">יֹּ֣ום </span><span class=\"txtu hbo\">הַ</span><span class=\"plain rtl  hl\" ><span class=\"txtu hbo\">שְּׁמִינִ֗י </span></span><span class=\"txtu hbo\">יִקַּ֤ח </span><span class=\"plain rtl l \" ><span class=\"txtu hbo\">שְׁנֵֽי־</span><span class=\"txtu hbo\">כְבָשִׂים֙ </span><span class=\"txtu hbo\">תְּמִימִ֔ים </span><span class=\"txtu hbo\">וְ</span><span class=\"txtu hbo\">כַבְשָׂ֥ה </span><span class=\"txtu hbo\">אַחַ֛ת </span><span class=\"txtu hbo\">בַּת־</span><span class=\"txtu hbo\">שְׁנָתָ֖הּ </span><span class=\"txtu hbo\">תְּמִימָ֑ה </span><span class=\"txtu hbo\">וּ</span><span class=\"txtu hbo\">שְׁלֹשָׁ֣ה </span><span class=\"txtu hbo\">עֶשְׂרֹנִ֗ים </span><span class=\"txtu hbo\">סֹ֤לֶת </span><span class=\"txtu hbo\">מִנְחָה֙ </span></span></span><span class=\"plain rtl r hlbx\" ><span class=\"plain rtl r \" ><span class=\"txtu hbo\">וְ</span><span class=\"txtu hbo\">לֹ֥ג </span><span class=\"txtu hbo\">אֶחָ֖ד </span><span class=\"txtu hbo\">שָֽׁמֶן׃ </span></span></span></span></td><td class=\"tf rtl\"><span class=\"rtl ubd\"><span class=\"plain rtl  hl\" ><span class=\"txtu hbo\">שְּׁמִינִ֗י </span></span></span></td></tr>\n",
       "<tr class=\"tf rtl\"><td class=\"tf rtl\">5</td><td class=\"tf rtl\"><span class=\"tfsechead ltr\"><a target=\"_blank\" href=\"https://shebanq.ancient-data.org/hebrew/text?book=Leviticus&amp;chapter=14&amp;verse=23&amp;version=c&amp;mr=m&amp;qw=q&amp;tp=txt_p&amp;tr=hb&amp;wget=v&amp;qget=v&amp;nget=vt\" title=\"Show this on SHEBANQ\" sec=\"Leviticus 14:23\">Leviticus 14:23</a></span></td><td class=\"tf rtl\"><span class=\"rtl ubd\"><span class=\"plain rtl  hlbx\" ><span class=\"txtu hbo\">וְ</span><span class=\"txtu hbo\">הֵבִ֨יא </span><span class=\"txtu hbo\">אֹתָ֜ם </span><span class=\"txtu hbo\">בַּ</span><span class=\"txtu hbo\">יֹּ֧ום </span><span class=\"txtu hbo\">הַ</span><span class=\"plain rtl  hl\" ><span class=\"txtu hbo\">שְּׁמִינִ֛י </span></span><span class=\"txtu hbo\">לְ</span><span class=\"txtu hbo\">טָהֳרָתֹ֖ו </span><span class=\"txtu hbo\">אֶל־</span><span class=\"txtu hbo\">הַ</span><span class=\"txtu hbo\">כֹּהֵ֑ן </span><span class=\"txtu hbo\">אֶל־</span><span class=\"txtu hbo\">פֶּ֥תַח </span><span class=\"txtu hbo\">אֹֽהֶל־</span><span class=\"txtu hbo\">מֹועֵ֖ד </span><span class=\"txtu hbo\">לִ</span><span class=\"txtu hbo\">פְנֵ֥י </span><span class=\"txtu hbo\">יְהוָֽה׃ </span></span></span></td><td class=\"tf rtl\"><span class=\"rtl ubd\"><span class=\"plain rtl  hl\" ><span class=\"txtu hbo\">שְּׁמִינִ֛י </span></span></span></td></tr>\n",
       "<tr class=\"tf rtl\"><td class=\"tf rtl\">6</td><td class=\"tf rtl\"><span class=\"tfsechead ltr\"><a target=\"_blank\" href=\"https://shebanq.ancient-data.org/hebrew/text?book=Leviticus&amp;chapter=15&amp;verse=14&amp;version=c&amp;mr=m&amp;qw=q&amp;tp=txt_p&amp;tr=hb&amp;wget=v&amp;qget=v&amp;nget=vt\" title=\"Show this on SHEBANQ\" sec=\"Leviticus 15:14\">Leviticus 15:14</a></span></td><td class=\"tf rtl\"><span class=\"rtl ubd\"><span class=\"plain rtl  hlbx\" ><span class=\"txtu hbo\">וּ</span><span class=\"txtu hbo\">בַ</span><span class=\"txtu hbo\">יֹּ֣ום </span><span class=\"txtu hbo\">הַ</span><span class=\"plain rtl  hl\" ><span class=\"txtu hbo\">שְּׁמִינִ֗י </span></span><span class=\"txtu hbo\">יִֽקַּֽח־</span><span class=\"txtu hbo\">לֹו֙ </span><span class=\"txtu hbo\">שְׁתֵּ֣י </span><span class=\"txtu hbo\">תֹרִ֔ים </span><span class=\"txtu hbo\">אֹ֥ו </span><span class=\"txtu hbo\">שְׁנֵ֖י </span><span class=\"txtu hbo\">בְּנֵ֣י </span><span class=\"txtu hbo\">יֹונָ֑ה </span></span></span></td><td class=\"tf rtl\"><span class=\"rtl ubd\"><span class=\"plain rtl  hl\" ><span class=\"txtu hbo\">שְּׁמִינִ֗י </span></span></span></td></tr>\n",
       "<tr class=\"tf rtl\"><td class=\"tf rtl\">7</td><td class=\"tf rtl\"><span class=\"tfsechead ltr\"><a target=\"_blank\" href=\"https://shebanq.ancient-data.org/hebrew/text?book=Leviticus&amp;chapter=15&amp;verse=29&amp;version=c&amp;mr=m&amp;qw=q&amp;tp=txt_p&amp;tr=hb&amp;wget=v&amp;qget=v&amp;nget=vt\" title=\"Show this on SHEBANQ\" sec=\"Leviticus 15:29\">Leviticus 15:29</a></span></td><td class=\"tf rtl\"><span class=\"rtl ubd\"><span class=\"plain rtl  hlbx\" ><span class=\"txtu hbo\">וּ</span><span class=\"txtu hbo\">בַ</span><span class=\"txtu hbo\">יֹּ֣ום </span><span class=\"txtu hbo\">הַ</span><span class=\"plain rtl  hl\" ><span class=\"txtu hbo\">שְּׁמִינִ֗י </span></span><span class=\"txtu hbo\">תִּֽקַּֽח־</span><span class=\"txtu hbo\">לָהּ֙ </span><span class=\"txtu hbo\">שְׁתֵּ֣י </span><span class=\"txtu hbo\">תֹרִ֔ים </span><span class=\"txtu hbo\">אֹ֥ו </span><span class=\"txtu hbo\">שְׁנֵ֖י </span><span class=\"txtu hbo\">בְּנֵ֣י </span><span class=\"txtu hbo\">יֹונָ֑ה </span></span></span></td><td class=\"tf rtl\"><span class=\"rtl ubd\"><span class=\"plain rtl  hl\" ><span class=\"txtu hbo\">שְּׁמִינִ֗י </span></span></span></td></tr>\n",
       "<tr class=\"tf rtl\"><td class=\"tf rtl\">8</td><td class=\"tf rtl\"><span class=\"tfsechead ltr\"><a target=\"_blank\" href=\"https://shebanq.ancient-data.org/hebrew/text?book=Leviticus&amp;chapter=22&amp;verse=27&amp;version=c&amp;mr=m&amp;qw=q&amp;tp=txt_p&amp;tr=hb&amp;wget=v&amp;qget=v&amp;nget=vt\" title=\"Show this on SHEBANQ\" sec=\"Leviticus 22:27\">Leviticus 22:27</a></span></td><td class=\"tf rtl\"><span class=\"rtl ubd\"><span class=\"plain rtl  hlbx\" ><span class=\"txtu hbo\">וּ</span><span class=\"txtu hbo\">מִ</span><span class=\"txtu hbo\">יֹּ֤ום </span><span class=\"txtu hbo\">הַ</span><span class=\"plain rtl  hl\" ><span class=\"txtu hbo\">שְּׁמִינִי֙ </span></span><span class=\"txtu hbo\">וָ</span><span class=\"txtu hbo\">הָ֔לְאָה </span><span class=\"txtu hbo\">יֵרָצֶ֕ה </span><span class=\"txtu hbo\">לְ</span><span class=\"txtu hbo\">קָרְבַּ֥ן </span><span class=\"txtu hbo\">אִשֶּׁ֖ה </span><span class=\"txtu hbo\">לַ</span><span class=\"txtu hbo\">יהוָֽה׃ </span></span></span></td><td class=\"tf rtl\"><span class=\"rtl ubd\"><span class=\"plain rtl  hl\" ><span class=\"txtu hbo\">שְּׁמִינִי֙ </span></span></span></td></tr>\n",
       "<tr class=\"tf rtl\"><td class=\"tf rtl\">9</td><td class=\"tf rtl\"><span class=\"tfsechead ltr\"><a target=\"_blank\" href=\"https://shebanq.ancient-data.org/hebrew/text?book=Leviticus&amp;chapter=23&amp;verse=36&amp;version=c&amp;mr=m&amp;qw=q&amp;tp=txt_p&amp;tr=hb&amp;wget=v&amp;qget=v&amp;nget=vt\" title=\"Show this on SHEBANQ\" sec=\"Leviticus 23:36\">Leviticus 23:36</a></span></td><td class=\"tf rtl\"><span class=\"rtl ubd\"><span class=\"plain rtl  hlbx\" ><span class=\"txtu hbo\">בַּ</span><span class=\"txtu hbo\">יֹּ֣ום </span><span class=\"txtu hbo\">הַ</span><span class=\"plain rtl  hl\" ><span class=\"txtu hbo\">שְּׁמִינִ֡י </span></span><span class=\"txtu hbo\">מִקְרָא־</span><span class=\"txtu hbo\">קֹדֶשׁ֩ </span><span class=\"txtu hbo\">יִהְיֶ֨ה </span><span class=\"txtu hbo\">לָכֶ֜ם </span></span></span></td><td class=\"tf rtl\"><span class=\"rtl ubd\"><span class=\"plain rtl  hl\" ><span class=\"txtu hbo\">שְּׁמִינִ֡י </span></span></span></td></tr>\n",
       "<tr class=\"tf rtl\"><td class=\"tf rtl\">10</td><td class=\"tf rtl\"><span class=\"tfsechead ltr\"><a target=\"_blank\" href=\"https://shebanq.ancient-data.org/hebrew/text?book=Leviticus&amp;chapter=23&amp;verse=39&amp;version=c&amp;mr=m&amp;qw=q&amp;tp=txt_p&amp;tr=hb&amp;wget=v&amp;qget=v&amp;nget=vt\" title=\"Show this on SHEBANQ\" sec=\"Leviticus 23:39\">Leviticus 23:39</a></span></td><td class=\"tf rtl\"><span class=\"rtl ubd\"><span class=\"plain rtl  hlbx\" ><span class=\"txtu hbo\">וּ</span><span class=\"txtu hbo\">בַ</span><span class=\"txtu hbo\">יֹּ֥ום </span><span class=\"txtu hbo\">הַ</span><span class=\"plain rtl  hl\" ><span class=\"txtu hbo\">שְּׁמִינִ֖י </span></span><span class=\"txtu hbo\">שַׁבָּתֹֽון׃ </span></span></span></td><td class=\"tf rtl\"><span class=\"rtl ubd\"><span class=\"plain rtl  hl\" ><span class=\"txtu hbo\">שְּׁמִינִ֖י </span></span></span></td></tr></table>"
      ],
      "text/plain": [
       "<IPython.core.display.HTML object>"
      ]
     },
     "metadata": {}
    }
   ],
   "metadata": {}
  },
  {
   "cell_type": "code",
   "execution_count": 22,
   "source": [
    "A.table(A.search('''\r\n",
    "clause\r\n",
    "    word lex_utf8=שׁמיני sp=adjv gn=f\r\n",
    "''')[0:10])"
   ],
   "outputs": [
    {
     "output_type": "stream",
     "name": "stdout",
     "text": [
      "  0.39s 4 results\n"
     ]
    },
    {
     "output_type": "display_data",
     "data": {
      "text/html": [
       "<table><tr class=\"tf rtl\"><th class=\"tf rtl\">n</th><th class=\"tf rtl\">p</th><th class=\"tf rtl\">clause</th><th class=\"tf\">word</th></tr>\n",
       "<tr class=\"tf rtl\"><td class=\"tf rtl\">1</td><td class=\"tf rtl\"><span class=\"tfsechead ltr\"><a target=\"_blank\" href=\"https://shebanq.ancient-data.org/hebrew/text?book=Leviticus&amp;chapter=25&amp;verse=22&amp;version=c&amp;mr=m&amp;qw=q&amp;tp=txt_p&amp;tr=hb&amp;wget=v&amp;qget=v&amp;nget=vt\" title=\"Show this on SHEBANQ\" sec=\"Leviticus 25:22\">Leviticus 25:22</a></span></td><td class=\"tf rtl\"><span class=\"rtl ubd\"><span class=\"plain rtl  hlbx\" ><span class=\"txtu hbo\">וּ</span><span class=\"txtu hbo\">זְרַעְתֶּ֗ם </span><span class=\"txtu hbo\">אֵ֚ת </span><span class=\"txtu hbo\">הַ</span><span class=\"txtu hbo\">שָּׁנָ֣ה </span><span class=\"txtu hbo\">הַ</span><span class=\"plain rtl  hl\" ><span class=\"txtu hbo\">שְּׁמִינִ֔ת </span></span></span></span></td><td class=\"tf rtl\"><span class=\"rtl ubd\"><span class=\"plain rtl  hl\" ><span class=\"txtu hbo\">שְּׁמִינִ֔ת </span></span></span></td></tr>\n",
       "<tr class=\"tf rtl\"><td class=\"tf rtl\">2</td><td class=\"tf rtl\"><span class=\"tfsechead ltr\"><a target=\"_blank\" href=\"https://shebanq.ancient-data.org/hebrew/text?book=Psalmi&amp;chapter=6&amp;verse=1&amp;version=c&amp;mr=m&amp;qw=q&amp;tp=txt_p&amp;tr=hb&amp;wget=v&amp;qget=v&amp;nget=vt\" title=\"Show this on SHEBANQ\" sec=\"Psalms 6:1\">Psalms 6:1</a></span></td><td class=\"tf rtl\"><span class=\"rtl ubd\"><span class=\"plain rtl  hlbx\" ><span class=\"txtu hbo\">עַֽל־</span><span class=\"txtu hbo\">הַ</span><span class=\"plain rtl  hl\" ><span class=\"txtu hbo\">שְּׁמִינִ֗ית </span></span></span></span></td><td class=\"tf rtl\"><span class=\"rtl ubd\"><span class=\"plain rtl  hl\" ><span class=\"txtu hbo\">שְּׁמִינִ֗ית </span></span></span></td></tr>\n",
       "<tr class=\"tf rtl\"><td class=\"tf rtl\">3</td><td class=\"tf rtl\"><span class=\"tfsechead ltr\"><a target=\"_blank\" href=\"https://shebanq.ancient-data.org/hebrew/text?book=Psalmi&amp;chapter=12&amp;verse=1&amp;version=c&amp;mr=m&amp;qw=q&amp;tp=txt_p&amp;tr=hb&amp;wget=v&amp;qget=v&amp;nget=vt\" title=\"Show this on SHEBANQ\" sec=\"Psalms 12:1\">Psalms 12:1</a></span></td><td class=\"tf rtl\"><span class=\"rtl ubd\"><span class=\"plain rtl  hlbx\" ><span class=\"txtu hbo\">עַֽל־</span><span class=\"txtu hbo\">הַ</span><span class=\"plain rtl  hl\" ><span class=\"txtu hbo\">שְּׁמִינִ֗ית </span></span></span></span></td><td class=\"tf rtl\"><span class=\"rtl ubd\"><span class=\"plain rtl  hl\" ><span class=\"txtu hbo\">שְּׁמִינִ֗ית </span></span></span></td></tr>\n",
       "<tr class=\"tf rtl\"><td class=\"tf rtl\">4</td><td class=\"tf rtl\"><span class=\"tfsechead ltr\"><a target=\"_blank\" href=\"https://shebanq.ancient-data.org/hebrew/text?book=Chronica_I&amp;chapter=15&amp;verse=21&amp;version=c&amp;mr=m&amp;qw=q&amp;tp=txt_p&amp;tr=hb&amp;wget=v&amp;qget=v&amp;nget=vt\" title=\"Show this on SHEBANQ\" sec=\"1_Chronicles 15:21\">1_Chronicles 15:21</a></span></td><td class=\"tf rtl\"><span class=\"rtl ubd\"><span class=\"plain rtl  hlbx\" ><span class=\"txtu hbo\">וּ</span><span class=\"txtu hbo\">מַתִּתְיָ֣הוּ </span><span class=\"txtu hbo\">וֶ</span><span class=\"txtu hbo\">אֱלִֽיפְלֵ֗הוּ </span><span class=\"txtu hbo\">וּ</span><span class=\"txtu hbo\">מִקְנֵיָ֨הוּ֙ </span><span class=\"txtu hbo\">וְ</span><span class=\"txtu hbo\">עֹבֵ֣ד אֱדֹ֔ם </span><span class=\"txtu hbo\">וִֽ</span><span class=\"txtu hbo\">יעִיאֵ֖ל </span><span class=\"txtu hbo\">וַ</span><span class=\"txtu hbo\">עֲזַזְיָ֑הוּ </span><span class=\"txtu hbo\">בְּ</span><span class=\"txtu hbo\">כִנֹּרֹ֥ות </span><span class=\"txtu hbo\">עַל־</span><span class=\"txtu hbo\">הַ</span><span class=\"plain rtl  hl\" ><span class=\"txtu hbo\">שְּׁמִינִ֖ית </span></span></span></span></td><td class=\"tf rtl\"><span class=\"rtl ubd\"><span class=\"plain rtl  hl\" ><span class=\"txtu hbo\">שְּׁמִינִ֖ית </span></span></span></td></tr></table>"
      ],
      "text/plain": [
       "<IPython.core.display.HTML object>"
      ]
     },
     "metadata": {}
    }
   ],
   "metadata": {}
  },
  {
   "cell_type": "markdown",
   "source": [
    "## 9th"
   ],
   "metadata": {}
  },
  {
   "cell_type": "code",
   "execution_count": 23,
   "source": [
    "A.table(A.search('''\r\n",
    "clause\r\n",
    "    word lex_utf8=תשׁיעי sp=adjv gn=m\r\n",
    "''')[0:10])"
   ],
   "outputs": [
    {
     "output_type": "stream",
     "name": "stdout",
     "text": [
      "  0.49s 12 results\n"
     ]
    },
    {
     "output_type": "display_data",
     "data": {
      "text/html": [
       "<table><tr class=\"tf rtl\"><th class=\"tf rtl\">n</th><th class=\"tf rtl\">p</th><th class=\"tf rtl\">clause</th><th class=\"tf\">word</th></tr>\n",
       "<tr class=\"tf rtl\"><td class=\"tf rtl\">1</td><td class=\"tf rtl\"><span class=\"tfsechead ltr\"><a target=\"_blank\" href=\"https://shebanq.ancient-data.org/hebrew/text?book=Numeri&amp;chapter=7&amp;verse=60&amp;version=c&amp;mr=m&amp;qw=q&amp;tp=txt_p&amp;tr=hb&amp;wget=v&amp;qget=v&amp;nget=vt\" title=\"Show this on SHEBANQ\" sec=\"Numbers 7:60\">Numbers 7:60</a></span></td><td class=\"tf rtl\"><span class=\"rtl ubd\"><span class=\"plain rtl  hlbx\" ><span class=\"txtu hbo\">בַּ</span><span class=\"txtu hbo\">יֹּום֙ </span><span class=\"txtu hbo\">הַ</span><span class=\"plain rtl  hl\" ><span class=\"txtu hbo\">תְּשִׁיעִ֔י </span></span><span class=\"txtu hbo\">נָשִׂ֖יא </span><span class=\"txtu hbo\">לִ</span><span class=\"txtu hbo\">בְנֵ֣י </span><span class=\"txtu hbo\">בִנְיָמִ֑ן </span><span class=\"txtu hbo\">אֲבִידָ֖ן </span><span class=\"txtu hbo\">בֶּן־</span><span class=\"txtu hbo\">גִּדְעֹנִֽי׃ </span></span></span></td><td class=\"tf rtl\"><span class=\"rtl ubd\"><span class=\"plain rtl  hl\" ><span class=\"txtu hbo\">תְּשִׁיעִ֔י </span></span></span></td></tr>\n",
       "<tr class=\"tf rtl\"><td class=\"tf rtl\">2</td><td class=\"tf rtl\"><span class=\"tfsechead ltr\"><a target=\"_blank\" href=\"https://shebanq.ancient-data.org/hebrew/text?book=Jeremia&amp;chapter=36&amp;verse=9&amp;version=c&amp;mr=m&amp;qw=q&amp;tp=txt_p&amp;tr=hb&amp;wget=v&amp;qget=v&amp;nget=vt\" title=\"Show this on SHEBANQ\" sec=\"Jeremiah 36:9\">Jeremiah 36:9</a></span></td><td class=\"tf rtl\"><span class=\"rtl ubd\"><span class=\"plain rtl  hlbx\" ><span class=\"txtu hbo\">וַ</span><span class=\"txtu hbo\">יְהִ֣י </span><span class=\"txtu hbo\">בַ</span><span class=\"txtu hbo\">שָּׁנָ֣ה </span><span class=\"txtu hbo\">הַ֠</span><span class=\"txtu hbo\">חֲמִשִׁית </span><span class=\"txtu hbo\">לִ</span><span class=\"txtu hbo\">יהֹויָקִ֨ים </span><span class=\"txtu hbo\">בֶּן־</span><span class=\"txtu hbo\">יֹאשִׁיָּ֤הוּ </span><span class=\"txtu hbo\">מֶֽלֶךְ־</span><span class=\"txtu hbo\">יְהוּדָה֙ </span><span class=\"txtu hbo\">בַּ</span><span class=\"txtu hbo\">חֹ֣דֶשׁ </span><span class=\"txtu hbo\">הַ</span><span class=\"plain rtl  hl\" ><span class=\"txtu hbo\">תְּשִׁעִ֔י </span></span></span></span></td><td class=\"tf rtl\"><span class=\"rtl ubd\"><span class=\"plain rtl  hl\" ><span class=\"txtu hbo\">תְּשִׁעִ֔י </span></span></span></td></tr>\n",
       "<tr class=\"tf rtl\"><td class=\"tf rtl\">3</td><td class=\"tf rtl\"><span class=\"tfsechead ltr\"><a target=\"_blank\" href=\"https://shebanq.ancient-data.org/hebrew/text?book=Jeremia&amp;chapter=36&amp;verse=22&amp;version=c&amp;mr=m&amp;qw=q&amp;tp=txt_p&amp;tr=hb&amp;wget=v&amp;qget=v&amp;nget=vt\" title=\"Show this on SHEBANQ\" sec=\"Jeremiah 36:22\">Jeremiah 36:22</a></span></td><td class=\"tf rtl\"><span class=\"rtl ubd\"><span class=\"plain rtl  hlbx\" ><span class=\"txtu hbo\">וְ</span><span class=\"txtu hbo\">הַ</span><span class=\"txtu hbo\">מֶּ֗לֶךְ </span><span class=\"txtu hbo\">יֹושֵׁב֙ </span><span class=\"txtu hbo\">בֵּ֣ית </span><span class=\"txtu hbo\">הַ</span><span class=\"txtu hbo\">חֹ֔רֶף </span><span class=\"txtu hbo\">בַּ</span><span class=\"txtu hbo\">חֹ֖דֶשׁ </span><span class=\"txtu hbo\">הַ</span><span class=\"plain rtl  hl\" ><span class=\"txtu hbo\">תְּשִׁיעִ֑י </span></span></span></span></td><td class=\"tf rtl\"><span class=\"rtl ubd\"><span class=\"plain rtl  hl\" ><span class=\"txtu hbo\">תְּשִׁיעִ֑י </span></span></span></td></tr>\n",
       "<tr class=\"tf rtl\"><td class=\"tf rtl\">4</td><td class=\"tf rtl\"><span class=\"tfsechead ltr\"><a target=\"_blank\" href=\"https://shebanq.ancient-data.org/hebrew/text?book=Haggai&amp;chapter=2&amp;verse=10&amp;version=c&amp;mr=m&amp;qw=q&amp;tp=txt_p&amp;tr=hb&amp;wget=v&amp;qget=v&amp;nget=vt\" title=\"Show this on SHEBANQ\" sec=\"Haggai 2:10\">Haggai 2:10</a></span></td><td class=\"tf rtl\"><span class=\"rtl ubd\"><span class=\"plain rtl  hlbx\" ><span class=\"txtu hbo\">בְּ</span><span class=\"txtu hbo\">עֶשְׂרִ֤ים </span><span class=\"txtu hbo\">וְ</span><span class=\"txtu hbo\">אַרְבָּעָה֙ </span><span class=\"txtu hbo\">לַ</span><span class=\"plain rtl  hl\" ><span class=\"txtu hbo\">תְּשִׁיעִ֔י </span></span><span class=\"txtu hbo\">בִּ</span><span class=\"txtu hbo\">שְׁנַ֥ת </span><span class=\"txtu hbo\">שְׁתַּ֖יִם </span><span class=\"txtu hbo\">לְ</span><span class=\"txtu hbo\">דָרְיָ֑וֶשׁ </span><span class=\"txtu hbo\">הָיָה֙ </span><span class=\"txtu hbo\">דְּבַר־</span><span class=\"txtu hbo\">יְהוָ֔ה </span><span class=\"txtu hbo\">אֶל־</span><span class=\"txtu hbo\">חַגַּ֥י </span><span class=\"txtu hbo\">הַ</span><span class=\"txtu hbo\">נָּבִ֖יא </span></span></span></td><td class=\"tf rtl\"><span class=\"rtl ubd\"><span class=\"plain rtl  hl\" ><span class=\"txtu hbo\">תְּשִׁיעִ֔י </span></span></span></td></tr>\n",
       "<tr class=\"tf rtl\"><td class=\"tf rtl\">5</td><td class=\"tf rtl\"><span class=\"tfsechead ltr\"><a target=\"_blank\" href=\"https://shebanq.ancient-data.org/hebrew/text?book=Haggai&amp;chapter=2&amp;verse=18&amp;version=c&amp;mr=m&amp;qw=q&amp;tp=txt_p&amp;tr=hb&amp;wget=v&amp;qget=v&amp;nget=vt\" title=\"Show this on SHEBANQ\" sec=\"Haggai 2:18\">Haggai 2:18</a></span></td><td class=\"tf rtl\"><span class=\"rtl ubd\"><span class=\"plain rtl  hlbx\" ><span class=\"txtu hbo\">שִׂימוּ־</span><span class=\"txtu hbo\">נָ֣א </span><span class=\"txtu hbo\">לְבַבְכֶ֔ם </span><span class=\"txtu hbo\">מִן־</span><span class=\"txtu hbo\">הַ</span><span class=\"txtu hbo\">יֹּ֥ום </span><span class=\"txtu hbo\">הַ</span><span class=\"txtu hbo\">זֶּ֖ה </span><span class=\"txtu hbo\">וָ</span><span class=\"txtu hbo\">מָ֑עְלָה </span><span class=\"txtu hbo\">מִ</span><span class=\"txtu hbo\">יֹּום֩ </span><span class=\"txtu hbo\">עֶשְׂרִ֨ים </span><span class=\"txtu hbo\">וְ</span><span class=\"txtu hbo\">אַרְבָּעָ֜ה </span><span class=\"txtu hbo\">לַ</span><span class=\"plain rtl  hl\" ><span class=\"txtu hbo\">תְּשִׁיעִ֗י </span></span><span class=\"txtu hbo\">לְ</span><span class=\"txtu hbo\">מִן־</span><span class=\"txtu hbo\">הַ</span><span class=\"txtu hbo\">יֹּ֛ום </span></span></span></td><td class=\"tf rtl\"><span class=\"rtl ubd\"><span class=\"plain rtl  hl\" ><span class=\"txtu hbo\">תְּשִׁיעִ֗י </span></span></span></td></tr>\n",
       "<tr class=\"tf rtl\"><td class=\"tf rtl\">6</td><td class=\"tf rtl\"><span class=\"tfsechead ltr\"><a target=\"_blank\" href=\"https://shebanq.ancient-data.org/hebrew/text?book=Sacharia&amp;chapter=7&amp;verse=1&amp;version=c&amp;mr=m&amp;qw=q&amp;tp=txt_p&amp;tr=hb&amp;wget=v&amp;qget=v&amp;nget=vt\" title=\"Show this on SHEBANQ\" sec=\"Zechariah 7:1\">Zechariah 7:1</a></span></td><td class=\"tf rtl\"><span class=\"rtl ubd\"><span class=\"plain rtl  hlbx\" ><span class=\"txtu hbo\">הָיָ֨ה </span><span class=\"txtu hbo\">דְבַר־</span><span class=\"txtu hbo\">יְהוָ֜ה </span><span class=\"txtu hbo\">אֶל־</span><span class=\"txtu hbo\">זְכַרְיָ֗ה </span><span class=\"txtu hbo\">בְּ</span><span class=\"txtu hbo\">אַרְבָּעָ֛ה </span><span class=\"txtu hbo\">לַ</span><span class=\"txtu hbo\">חֹ֥דֶשׁ </span><span class=\"txtu hbo\">הַ</span><span class=\"plain rtl  hl\" ><span class=\"txtu hbo\">תְּשִׁעִ֖י </span></span><span class=\"txtu hbo\">בְּ</span><span class=\"txtu hbo\">כִסְלֵֽו׃ </span></span></span></td><td class=\"tf rtl\"><span class=\"rtl ubd\"><span class=\"plain rtl  hl\" ><span class=\"txtu hbo\">תְּשִׁעִ֖י </span></span></span></td></tr>\n",
       "<tr class=\"tf rtl\"><td class=\"tf rtl\">7</td><td class=\"tf rtl\"><span class=\"tfsechead ltr\"><a target=\"_blank\" href=\"https://shebanq.ancient-data.org/hebrew/text?book=Esra&amp;chapter=10&amp;verse=9&amp;version=c&amp;mr=m&amp;qw=q&amp;tp=txt_p&amp;tr=hb&amp;wget=v&amp;qget=v&amp;nget=vt\" title=\"Show this on SHEBANQ\" sec=\"Ezra 10:9\">Ezra 10:9</a></span></td><td class=\"tf rtl\"><span class=\"rtl ubd\"><span class=\"plain rtl  hlbx\" ><span class=\"txtu hbo\">ה֛וּא </span><span class=\"txtu hbo\">חֹ֥דֶשׁ </span><span class=\"txtu hbo\">הַ</span><span class=\"plain rtl  hl\" ><span class=\"txtu hbo\">תְּשִׁיעִ֖י </span></span></span></span></td><td class=\"tf rtl\"><span class=\"rtl ubd\"><span class=\"plain rtl  hl\" ><span class=\"txtu hbo\">תְּשִׁיעִ֖י </span></span></span></td></tr>\n",
       "<tr class=\"tf rtl\"><td class=\"tf rtl\">8</td><td class=\"tf rtl\"><span class=\"tfsechead ltr\"><a target=\"_blank\" href=\"https://shebanq.ancient-data.org/hebrew/text?book=Chronica_I&amp;chapter=12&amp;verse=13&amp;version=c&amp;mr=m&amp;qw=q&amp;tp=txt_p&amp;tr=hb&amp;wget=v&amp;qget=v&amp;nget=vt\" title=\"Show this on SHEBANQ\" sec=\"1_Chronicles 12:13\">1_Chronicles 12:13</a></span></td><td class=\"tf rtl\"><span class=\"rtl ubd\"><span class=\"plain rtl  hlbx\" ><span class=\"txtu hbo\">אֶלְזָבָ֖ד </span><span class=\"txtu hbo\">הַ</span><span class=\"plain rtl  hl\" ><span class=\"txtu hbo\">תְּשִׁיעִֽי׃ </span></span></span></span></td><td class=\"tf rtl\"><span class=\"rtl ubd\"><span class=\"plain rtl  hl\" ><span class=\"txtu hbo\">תְּשִׁיעִֽי׃ </span></span></span></td></tr>\n",
       "<tr class=\"tf rtl\"><td class=\"tf rtl\">9</td><td class=\"tf rtl\"><span class=\"tfsechead ltr\"><a target=\"_blank\" href=\"https://shebanq.ancient-data.org/hebrew/text?book=Chronica_I&amp;chapter=24&amp;verse=11&amp;version=c&amp;mr=m&amp;qw=q&amp;tp=txt_p&amp;tr=hb&amp;wget=v&amp;qget=v&amp;nget=vt\" title=\"Show this on SHEBANQ\" sec=\"1_Chronicles 24:11\">1_Chronicles 24:11</a></span></td><td class=\"tf rtl\"><span class=\"rtl ubd\"><span class=\"plain rtl  hlbx\" ><span class=\"txtu hbo\">לְ</span><span class=\"txtu hbo\">יֵשׁ֨וּעַ֙ </span><span class=\"txtu hbo\">הַ</span><span class=\"plain rtl  hl\" ><span class=\"txtu hbo\">תְּשִׁעִ֔י </span></span></span></span></td><td class=\"tf rtl\"><span class=\"rtl ubd\"><span class=\"plain rtl  hl\" ><span class=\"txtu hbo\">תְּשִׁעִ֔י </span></span></span></td></tr>\n",
       "<tr class=\"tf rtl\"><td class=\"tf rtl\">10</td><td class=\"tf rtl\"><span class=\"tfsechead ltr\"><a target=\"_blank\" href=\"https://shebanq.ancient-data.org/hebrew/text?book=Chronica_I&amp;chapter=25&amp;verse=16&amp;version=c&amp;mr=m&amp;qw=q&amp;tp=txt_p&amp;tr=hb&amp;wget=v&amp;qget=v&amp;nget=vt\" title=\"Show this on SHEBANQ\" sec=\"1_Chronicles 25:16\">1_Chronicles 25:16</a></span></td><td class=\"tf rtl\"><span class=\"rtl ubd\"><span class=\"plain rtl  hlbx\" ><span class=\"txtu hbo\">הַ</span><span class=\"plain rtl  hl\" ><span class=\"txtu hbo\">תְּשִׁיעִ֣י </span></span><span class=\"txtu hbo\">מַתַּנְיָ֔הוּ </span></span></span></td><td class=\"tf rtl\"><span class=\"rtl ubd\"><span class=\"plain rtl  hl\" ><span class=\"txtu hbo\">תְּשִׁיעִ֣י </span></span></span></td></tr></table>"
      ],
      "text/plain": [
       "<IPython.core.display.HTML object>"
      ]
     },
     "metadata": {}
    }
   ],
   "metadata": {}
  },
  {
   "cell_type": "code",
   "execution_count": 27,
   "source": [
    "A.table(A.search('''\r\n",
    "clause\r\n",
    "    word lex_utf8=תשׁיעי sp=adjv gn=f\r\n",
    "''')[0:10])"
   ],
   "outputs": [
    {
     "output_type": "stream",
     "name": "stdout",
     "text": [
      "  0.38s 6 results\n"
     ]
    },
    {
     "output_type": "display_data",
     "data": {
      "text/html": [
       "<table><tr class=\"tf rtl\"><th class=\"tf rtl\">n</th><th class=\"tf rtl\">p</th><th class=\"tf rtl\">clause</th><th class=\"tf\">word</th></tr>\n",
       "<tr class=\"tf rtl\"><td class=\"tf rtl\">1</td><td class=\"tf rtl\"><span class=\"tfsechead ltr\"><a target=\"_blank\" href=\"https://shebanq.ancient-data.org/hebrew/text?book=Leviticus&amp;chapter=25&amp;verse=22&amp;version=c&amp;mr=m&amp;qw=q&amp;tp=txt_p&amp;tr=hb&amp;wget=v&amp;qget=v&amp;nget=vt\" title=\"Show this on SHEBANQ\" sec=\"Leviticus 25:22\">Leviticus 25:22</a></span></td><td class=\"tf rtl\"><span class=\"rtl ubd\"><span class=\"plain rtl  hlbx\" ><span class=\"txtu hbo\">וַ</span><span class=\"txtu hbo\">אֲכַלְתֶּ֖ם </span><span class=\"txtu hbo\">מִן־</span><span class=\"txtu hbo\">הַ</span><span class=\"txtu hbo\">תְּבוּאָ֣ה </span><span class=\"txtu hbo\">יָשָׁ֑ן </span><span class=\"txtu hbo\">עַ֣ד׀ </span><span class=\"txtu hbo\">הַ</span><span class=\"txtu hbo\">שָּׁנָ֣ה </span><span class=\"txtu hbo\">הַ</span><span class=\"plain rtl  hl\" ><span class=\"txtu hbo\">תְּשִׁיעִ֗ת </span></span></span></span></td><td class=\"tf rtl\"><span class=\"rtl ubd\"><span class=\"plain rtl  hl\" ><span class=\"txtu hbo\">תְּשִׁיעִ֗ת </span></span></span></td></tr>\n",
       "<tr class=\"tf rtl\"><td class=\"tf rtl\">2</td><td class=\"tf rtl\"><span class=\"tfsechead ltr\"><a target=\"_blank\" href=\"https://shebanq.ancient-data.org/hebrew/text?book=Reges_II&amp;chapter=17&amp;verse=6&amp;version=c&amp;mr=m&amp;qw=q&amp;tp=txt_p&amp;tr=hb&amp;wget=v&amp;qget=v&amp;nget=vt\" title=\"Show this on SHEBANQ\" sec=\"2_Kings 17:6\">2_Kings 17:6</a></span></td><td class=\"tf rtl\"><span class=\"rtl ubd\"><span class=\"plain rtl  hlbx\" ><span class=\"txtu hbo\">בִּ</span><span class=\"txtu hbo\">שְׁנַ֨ת </span><span class=\"txtu hbo\">הַ</span><span class=\"plain rtl  hl\" ><span class=\"txtu hbo\">תְּשִׁיעִ֜ית </span></span><span class=\"txtu hbo\">לְ</span><span class=\"txtu hbo\">הֹושֵׁ֗עַ </span><span class=\"txtu hbo\">לָכַ֤ד </span><span class=\"txtu hbo\">מֶֽלֶךְ־</span><span class=\"txtu hbo\">אַשּׁוּר֙ </span><span class=\"txtu hbo\">אֶת־</span><span class=\"txtu hbo\">שֹׁ֣מְרֹ֔ון </span></span></span></td><td class=\"tf rtl\"><span class=\"rtl ubd\"><span class=\"plain rtl  hl\" ><span class=\"txtu hbo\">תְּשִׁיעִ֜ית </span></span></span></td></tr>\n",
       "<tr class=\"tf rtl\"><td class=\"tf rtl\">3</td><td class=\"tf rtl\"><span class=\"tfsechead ltr\"><a target=\"_blank\" href=\"https://shebanq.ancient-data.org/hebrew/text?book=Reges_II&amp;chapter=25&amp;verse=1&amp;version=c&amp;mr=m&amp;qw=q&amp;tp=txt_p&amp;tr=hb&amp;wget=v&amp;qget=v&amp;nget=vt\" title=\"Show this on SHEBANQ\" sec=\"2_Kings 25:1\">2_Kings 25:1</a></span></td><td class=\"tf rtl\"><span class=\"rtl ubd\"><span class=\"plain rtl  hlbx\" ><span class=\"txtu hbo\">וַ</span><span class=\"txtu hbo\">יְהִי֩ </span><span class=\"txtu hbo\">בִ</span><span class=\"txtu hbo\">שְׁנַ֨ת </span><span class=\"txtu hbo\">הַ</span><span class=\"plain rtl  hl\" ><span class=\"txtu hbo\">תְּשִׁיעִ֜ית </span></span></span></span></td><td class=\"tf rtl\"><span class=\"rtl ubd\"><span class=\"plain rtl  hl\" ><span class=\"txtu hbo\">תְּשִׁיעִ֜ית </span></span></span></td></tr>\n",
       "<tr class=\"tf rtl\"><td class=\"tf rtl\">4</td><td class=\"tf rtl\"><span class=\"tfsechead ltr\"><a target=\"_blank\" href=\"https://shebanq.ancient-data.org/hebrew/text?book=Jeremia&amp;chapter=39&amp;verse=1&amp;version=c&amp;mr=m&amp;qw=q&amp;tp=txt_p&amp;tr=hb&amp;wget=v&amp;qget=v&amp;nget=vt\" title=\"Show this on SHEBANQ\" sec=\"Jeremiah 39:1\">Jeremiah 39:1</a></span></td><td class=\"tf rtl\"><span class=\"rtl ubd\"><span class=\"plain rtl  hlbx\" ><span class=\"txtu hbo\">בַּ</span><span class=\"txtu hbo\">שָּׁנָ֣ה </span><span class=\"txtu hbo\">הַ֠</span><span class=\"plain rtl  hl\" ><span class=\"txtu hbo\">תְּשִׁעִית </span></span><span class=\"txtu hbo\">לְ</span><span class=\"txtu hbo\">צִדְקִיָּ֨הוּ </span><span class=\"txtu hbo\">מֶלֶךְ־</span><span class=\"txtu hbo\">יְהוּדָ֜ה </span><span class=\"txtu hbo\">בַּ</span><span class=\"txtu hbo\">חֹ֣דֶשׁ </span><span class=\"txtu hbo\">הָ</span><span class=\"txtu hbo\">עֲשִׂרִ֗י </span><span class=\"txtu hbo\">בָּ֠א </span><span class=\"txtu hbo\">נְבוּכַדְרֶאצַּ֨ר </span><span class=\"txtu hbo\">מֶֽלֶךְ־</span><span class=\"txtu hbo\">בָּבֶ֤ל </span><span class=\"txtu hbo\">וְ</span><span class=\"txtu hbo\">כָל־</span><span class=\"txtu hbo\">חֵילֹו֙ </span><span class=\"txtu hbo\">אֶל־</span><span class=\"txtu hbo\">יְר֣וּשָׁלִַ֔ם </span></span></span></td><td class=\"tf rtl\"><span class=\"rtl ubd\"><span class=\"plain rtl  hl\" ><span class=\"txtu hbo\">תְּשִׁעִית </span></span></span></td></tr>\n",
       "<tr class=\"tf rtl\"><td class=\"tf rtl\">5</td><td class=\"tf rtl\"><span class=\"tfsechead ltr\"><a target=\"_blank\" href=\"https://shebanq.ancient-data.org/hebrew/text?book=Jeremia&amp;chapter=52&amp;verse=4&amp;version=c&amp;mr=m&amp;qw=q&amp;tp=txt_p&amp;tr=hb&amp;wget=v&amp;qget=v&amp;nget=vt\" title=\"Show this on SHEBANQ\" sec=\"Jeremiah 52:4\">Jeremiah 52:4</a></span></td><td class=\"tf rtl\"><span class=\"rtl ubd\"><span class=\"plain rtl l hlbx\" ><span class=\"txtu hbo\">וַ</span><span class=\"txtu hbo\">יְהִי֩ </span><span class=\"plain rtl l \" ><span class=\"txtu hbo\">בַ</span><span class=\"txtu hbo\">שָּׁנָ֨ה </span><span class=\"txtu hbo\">הַ</span><span class=\"plain rtl  hl\" ><span class=\"txtu hbo\">תְּשִׁעִ֜ית </span></span></span></span><span class=\"plain rtl r hlbx\" ><span class=\"plain rtl r \" ><span class=\"txtu hbo\">בַּ</span><span class=\"txtu hbo\">חֹ֣דֶשׁ </span><span class=\"txtu hbo\">הָ</span><span class=\"txtu hbo\">עֲשִׂירִי֮ </span><span class=\"txtu hbo\">בֶּ</span><span class=\"txtu hbo\">עָשֹׂ֣ור </span><span class=\"txtu hbo\">לַ</span><span class=\"txtu hbo\">חֹדֶשׁ֒ </span></span></span></span></td><td class=\"tf rtl\"><span class=\"rtl ubd\"><span class=\"plain rtl  hl\" ><span class=\"txtu hbo\">תְּשִׁעִ֜ית </span></span></span></td></tr>\n",
       "<tr class=\"tf rtl\"><td class=\"tf rtl\">6</td><td class=\"tf rtl\"><span class=\"tfsechead ltr\"><a target=\"_blank\" href=\"https://shebanq.ancient-data.org/hebrew/text?book=Ezechiel&amp;chapter=24&amp;verse=1&amp;version=c&amp;mr=m&amp;qw=q&amp;tp=txt_p&amp;tr=hb&amp;wget=v&amp;qget=v&amp;nget=vt\" title=\"Show this on SHEBANQ\" sec=\"Ezekiel 24:1\">Ezekiel 24:1</a></span></td><td class=\"tf rtl\"><span class=\"rtl ubd\"><span class=\"plain rtl  hlbx\" ><span class=\"txtu hbo\">וַ</span><span class=\"txtu hbo\">יְהִי֩ </span><span class=\"txtu hbo\">דְבַר־</span><span class=\"txtu hbo\">יְהוָ֨ה </span><span class=\"txtu hbo\">אֵלַ֜י </span><span class=\"txtu hbo\">בַּ</span><span class=\"txtu hbo\">שָּׁנָ֤ה </span><span class=\"txtu hbo\">הַ</span><span class=\"plain rtl  hl\" ><span class=\"txtu hbo\">תְּשִׁיעִית֙ </span></span><span class=\"txtu hbo\">בַּ</span><span class=\"txtu hbo\">חֹ֣דֶשׁ </span><span class=\"txtu hbo\">הָ</span><span class=\"txtu hbo\">עֲשִׂירִ֔י </span><span class=\"txtu hbo\">בֶּ</span><span class=\"txtu hbo\">עָשֹׂ֥ור </span><span class=\"txtu hbo\">לַ</span><span class=\"txtu hbo\">חֹ֖דֶשׁ </span></span></span></td><td class=\"tf rtl\"><span class=\"rtl ubd\"><span class=\"plain rtl  hl\" ><span class=\"txtu hbo\">תְּשִׁיעִית֙ </span></span></span></td></tr></table>"
      ],
      "text/plain": [
       "<IPython.core.display.HTML object>"
      ]
     },
     "metadata": {}
    }
   ],
   "metadata": {}
  },
  {
   "cell_type": "markdown",
   "source": [
    "## 10th"
   ],
   "metadata": {}
  },
  {
   "cell_type": "code",
   "execution_count": 25,
   "source": [
    "A.table(A.search('''\r\n",
    "clause\r\n",
    "    word lex_utf8=עשׂירי sp=adjv gn=m\r\n",
    "''')[0:10])"
   ],
   "outputs": [
    {
     "output_type": "stream",
     "name": "stdout",
     "text": [
      "  0.49s 20 results\n"
     ]
    },
    {
     "output_type": "display_data",
     "data": {
      "text/html": [
       "<table><tr class=\"tf rtl\"><th class=\"tf rtl\">n</th><th class=\"tf rtl\">p</th><th class=\"tf rtl\">clause</th><th class=\"tf\">word</th></tr>\n",
       "<tr class=\"tf rtl\"><td class=\"tf rtl\">1</td><td class=\"tf rtl\"><span class=\"tfsechead ltr\"><a target=\"_blank\" href=\"https://shebanq.ancient-data.org/hebrew/text?book=Genesis&amp;chapter=8&amp;verse=5&amp;version=c&amp;mr=m&amp;qw=q&amp;tp=txt_p&amp;tr=hb&amp;wget=v&amp;qget=v&amp;nget=vt\" title=\"Show this on SHEBANQ\" sec=\"Genesis 8:5\">Genesis 8:5</a></span></td><td class=\"tf rtl\"><span class=\"rtl ubd\"><span class=\"plain rtl  hlbx\" ><span class=\"txtu hbo\">וְ</span><span class=\"txtu hbo\">הַ</span><span class=\"txtu hbo\">מַּ֗יִם </span><span class=\"txtu hbo\">הָיוּ֙ </span><span class=\"txtu hbo\">הָלֹ֣וךְ </span><span class=\"txtu hbo\">וְ</span><span class=\"txtu hbo\">חָסֹ֔ור </span><span class=\"txtu hbo\">עַ֖ד </span><span class=\"txtu hbo\">הַ</span><span class=\"txtu hbo\">חֹ֣דֶשׁ </span><span class=\"txtu hbo\">הָֽ</span><span class=\"plain rtl  hl\" ><span class=\"txtu hbo\">עֲשִׂירִ֑י </span></span></span></span></td><td class=\"tf rtl\"><span class=\"rtl ubd\"><span class=\"plain rtl  hl\" ><span class=\"txtu hbo\">עֲשִׂירִ֑י </span></span></span></td></tr>\n",
       "<tr class=\"tf rtl\"><td class=\"tf rtl\">2</td><td class=\"tf rtl\"><span class=\"tfsechead ltr\"><a target=\"_blank\" href=\"https://shebanq.ancient-data.org/hebrew/text?book=Genesis&amp;chapter=8&amp;verse=5&amp;version=c&amp;mr=m&amp;qw=q&amp;tp=txt_p&amp;tr=hb&amp;wget=v&amp;qget=v&amp;nget=vt\" title=\"Show this on SHEBANQ\" sec=\"Genesis 8:5\">Genesis 8:5</a></span></td><td class=\"tf rtl\"><span class=\"rtl ubd\"><span class=\"plain rtl  hlbx\" ><span class=\"txtu hbo\">בָּֽ</span><span class=\"plain rtl  hl\" ><span class=\"txtu hbo\">עֲשִׂירִי֙ </span></span><span class=\"txtu hbo\">בְּ</span><span class=\"txtu hbo\">אֶחָ֣ד </span><span class=\"txtu hbo\">לַ</span><span class=\"txtu hbo\">חֹ֔דֶשׁ </span><span class=\"txtu hbo\">נִרְא֖וּ </span><span class=\"txtu hbo\">רָאשֵׁ֥י </span><span class=\"txtu hbo\">הֶֽ</span><span class=\"txtu hbo\">הָרִֽים׃ </span></span></span></td><td class=\"tf rtl\"><span class=\"rtl ubd\"><span class=\"plain rtl  hl\" ><span class=\"txtu hbo\">עֲשִׂירִי֙ </span></span></span></td></tr>\n",
       "<tr class=\"tf rtl\"><td class=\"tf rtl\">3</td><td class=\"tf rtl\"><span class=\"tfsechead ltr\"><a target=\"_blank\" href=\"https://shebanq.ancient-data.org/hebrew/text?book=Leviticus&amp;chapter=27&amp;verse=32&amp;version=c&amp;mr=m&amp;qw=q&amp;tp=txt_p&amp;tr=hb&amp;wget=v&amp;qget=v&amp;nget=vt\" title=\"Show this on SHEBANQ\" sec=\"Leviticus 27:32\">Leviticus 27:32</a></span></td><td class=\"tf rtl\"><span class=\"rtl ubd\"><span class=\"plain rtl  hlbx\" ><span class=\"txtu hbo\">הָֽ</span><span class=\"plain rtl  hl\" ><span class=\"txtu hbo\">עֲשִׂירִ֕י </span></span><span class=\"txtu hbo\">יִֽהְיֶה־</span><span class=\"txtu hbo\">קֹּ֖דֶשׁ </span><span class=\"txtu hbo\">לַֽ</span><span class=\"txtu hbo\">יהוָֽה׃ </span></span></span></td><td class=\"tf rtl\"><span class=\"rtl ubd\"><span class=\"plain rtl  hl\" ><span class=\"txtu hbo\">עֲשִׂירִ֕י </span></span></span></td></tr>\n",
       "<tr class=\"tf rtl\"><td class=\"tf rtl\">4</td><td class=\"tf rtl\"><span class=\"tfsechead ltr\"><a target=\"_blank\" href=\"https://shebanq.ancient-data.org/hebrew/text?book=Numeri&amp;chapter=7&amp;verse=66&amp;version=c&amp;mr=m&amp;qw=q&amp;tp=txt_p&amp;tr=hb&amp;wget=v&amp;qget=v&amp;nget=vt\" title=\"Show this on SHEBANQ\" sec=\"Numbers 7:66\">Numbers 7:66</a></span></td><td class=\"tf rtl\"><span class=\"rtl ubd\"><span class=\"plain rtl  hlbx\" ><span class=\"txtu hbo\">בַּ</span><span class=\"txtu hbo\">יֹּום֙ </span><span class=\"txtu hbo\">הָ</span><span class=\"plain rtl  hl\" ><span class=\"txtu hbo\">עֲשִׂירִ֔י </span></span><span class=\"txtu hbo\">נָשִׂ֖יא </span><span class=\"txtu hbo\">לִ</span><span class=\"txtu hbo\">בְנֵ֣י </span><span class=\"txtu hbo\">דָ֑ן </span><span class=\"txtu hbo\">אֲחִיעֶ֖זֶר </span><span class=\"txtu hbo\">בֶּן־</span><span class=\"txtu hbo\">עַמִּישַׁדָּֽי׃ </span></span></span></td><td class=\"tf rtl\"><span class=\"rtl ubd\"><span class=\"plain rtl  hl\" ><span class=\"txtu hbo\">עֲשִׂירִ֔י </span></span></span></td></tr>\n",
       "<tr class=\"tf rtl\"><td class=\"tf rtl\">5</td><td class=\"tf rtl\"><span class=\"tfsechead ltr\"><a target=\"_blank\" href=\"https://shebanq.ancient-data.org/hebrew/text?book=Deuteronomium&amp;chapter=23&amp;verse=3&amp;version=c&amp;mr=m&amp;qw=q&amp;tp=txt_p&amp;tr=hb&amp;wget=v&amp;qget=v&amp;nget=vt\" title=\"Show this on SHEBANQ\" sec=\"Deuteronomy 23:3\">Deuteronomy 23:3</a></span></td><td class=\"tf rtl\"><span class=\"rtl ubd\"><span class=\"plain rtl  hlbx\" ><span class=\"plain rtl l \" ><span class=\"txtu hbo\">גַּ֚ם </span><span class=\"txtu hbo\">דֹּ֣ור </span><span class=\"plain rtl  hl\" ><span class=\"txtu hbo\">עֲשִׂירִ֔י </span></span></span><span class=\"txtu hbo\">לֹא־</span><span class=\"txtu hbo\">יָ֥בֹא </span><span class=\"plain rtl r \" ><span class=\"txtu hbo\">לֹ֖ו </span></span><span class=\"txtu hbo\">בִּ</span><span class=\"txtu hbo\">קְהַ֥ל </span><span class=\"txtu hbo\">יְהוָֽה׃ ס </span></span></span></td><td class=\"tf rtl\"><span class=\"rtl ubd\"><span class=\"plain rtl  hl\" ><span class=\"txtu hbo\">עֲשִׂירִ֔י </span></span></span></td></tr>\n",
       "<tr class=\"tf rtl\"><td class=\"tf rtl\">6</td><td class=\"tf rtl\"><span class=\"tfsechead ltr\"><a target=\"_blank\" href=\"https://shebanq.ancient-data.org/hebrew/text?book=Deuteronomium&amp;chapter=23&amp;verse=4&amp;version=c&amp;mr=m&amp;qw=q&amp;tp=txt_p&amp;tr=hb&amp;wget=v&amp;qget=v&amp;nget=vt\" title=\"Show this on SHEBANQ\" sec=\"Deuteronomy 23:4\">Deuteronomy 23:4</a></span></td><td class=\"tf rtl\"><span class=\"rtl ubd\"><span class=\"plain rtl  hlbx\" ><span class=\"plain rtl l \" ><span class=\"txtu hbo\">גַּ֚ם </span><span class=\"txtu hbo\">דֹּ֣ור </span><span class=\"plain rtl  hl\" ><span class=\"txtu hbo\">עֲשִׂירִ֔י </span></span></span><span class=\"txtu hbo\">לֹא־</span><span class=\"txtu hbo\">יָבֹ֥א </span><span class=\"plain rtl r \" ><span class=\"txtu hbo\">לָהֶ֛ם </span></span><span class=\"txtu hbo\">בִּ</span><span class=\"txtu hbo\">קְהַ֥ל </span><span class=\"txtu hbo\">יְהוָ֖ה </span><span class=\"txtu hbo\">עַד־</span><span class=\"txtu hbo\">עֹולָֽם׃ </span></span></span></td><td class=\"tf rtl\"><span class=\"rtl ubd\"><span class=\"plain rtl  hl\" ><span class=\"txtu hbo\">עֲשִׂירִ֔י </span></span></span></td></tr>\n",
       "<tr class=\"tf rtl\"><td class=\"tf rtl\">7</td><td class=\"tf rtl\"><span class=\"tfsechead ltr\"><a target=\"_blank\" href=\"https://shebanq.ancient-data.org/hebrew/text?book=Reges_II&amp;chapter=25&amp;verse=1&amp;version=c&amp;mr=m&amp;qw=q&amp;tp=txt_p&amp;tr=hb&amp;wget=v&amp;qget=v&amp;nget=vt\" title=\"Show this on SHEBANQ\" sec=\"2_Kings 25:1\">2_Kings 25:1</a></span></td><td class=\"tf rtl\"><span class=\"rtl ubd\"><span class=\"plain rtl  hlbx\" ><span class=\"txtu hbo\">בַּ</span><span class=\"txtu hbo\">חֹ֣דֶשׁ </span><span class=\"txtu hbo\">הָ</span><span class=\"plain rtl  hl\" ><span class=\"txtu hbo\">עֲשִׂירִי֮ </span></span><span class=\"txtu hbo\">בֶּ</span><span class=\"txtu hbo\">עָשֹׂ֣ור </span><span class=\"txtu hbo\">לַ</span><span class=\"txtu hbo\">חֹדֶשׁ֒ </span><span class=\"txtu hbo\">בָּ֠א </span><span class=\"txtu hbo\">נְבֻכַדְנֶאצַּ֨ר </span><span class=\"txtu hbo\">מֶֽלֶךְ־</span><span class=\"txtu hbo\">בָּבֶ֜ל </span><span class=\"txtu hbo\">ה֧וּא </span><span class=\"txtu hbo\">וְ</span><span class=\"txtu hbo\">כָל־</span><span class=\"txtu hbo\">חֵילֹ֛ו </span><span class=\"txtu hbo\">עַל־</span><span class=\"txtu hbo\">יְרוּשָׁלִַ֖ם </span></span></span></td><td class=\"tf rtl\"><span class=\"rtl ubd\"><span class=\"plain rtl  hl\" ><span class=\"txtu hbo\">עֲשִׂירִי֮ </span></span></span></td></tr>\n",
       "<tr class=\"tf rtl\"><td class=\"tf rtl\">8</td><td class=\"tf rtl\"><span class=\"tfsechead ltr\"><a target=\"_blank\" href=\"https://shebanq.ancient-data.org/hebrew/text?book=Jeremia&amp;chapter=39&amp;verse=1&amp;version=c&amp;mr=m&amp;qw=q&amp;tp=txt_p&amp;tr=hb&amp;wget=v&amp;qget=v&amp;nget=vt\" title=\"Show this on SHEBANQ\" sec=\"Jeremiah 39:1\">Jeremiah 39:1</a></span></td><td class=\"tf rtl\"><span class=\"rtl ubd\"><span class=\"plain rtl  hlbx\" ><span class=\"txtu hbo\">בַּ</span><span class=\"txtu hbo\">שָּׁנָ֣ה </span><span class=\"txtu hbo\">הַ֠</span><span class=\"txtu hbo\">תְּשִׁעִית </span><span class=\"txtu hbo\">לְ</span><span class=\"txtu hbo\">צִדְקִיָּ֨הוּ </span><span class=\"txtu hbo\">מֶלֶךְ־</span><span class=\"txtu hbo\">יְהוּדָ֜ה </span><span class=\"txtu hbo\">בַּ</span><span class=\"txtu hbo\">חֹ֣דֶשׁ </span><span class=\"txtu hbo\">הָ</span><span class=\"plain rtl  hl\" ><span class=\"txtu hbo\">עֲשִׂרִ֗י </span></span><span class=\"txtu hbo\">בָּ֠א </span><span class=\"txtu hbo\">נְבוּכַדְרֶאצַּ֨ר </span><span class=\"txtu hbo\">מֶֽלֶךְ־</span><span class=\"txtu hbo\">בָּבֶ֤ל </span><span class=\"txtu hbo\">וְ</span><span class=\"txtu hbo\">כָל־</span><span class=\"txtu hbo\">חֵילֹו֙ </span><span class=\"txtu hbo\">אֶל־</span><span class=\"txtu hbo\">יְר֣וּשָׁלִַ֔ם </span></span></span></td><td class=\"tf rtl\"><span class=\"rtl ubd\"><span class=\"plain rtl  hl\" ><span class=\"txtu hbo\">עֲשִׂרִ֗י </span></span></span></td></tr>\n",
       "<tr class=\"tf rtl\"><td class=\"tf rtl\">9</td><td class=\"tf rtl\"><span class=\"tfsechead ltr\"><a target=\"_blank\" href=\"https://shebanq.ancient-data.org/hebrew/text?book=Jeremia&amp;chapter=52&amp;verse=4&amp;version=c&amp;mr=m&amp;qw=q&amp;tp=txt_p&amp;tr=hb&amp;wget=v&amp;qget=v&amp;nget=vt\" title=\"Show this on SHEBANQ\" sec=\"Jeremiah 52:4\">Jeremiah 52:4</a></span></td><td class=\"tf rtl\"><span class=\"rtl ubd\"><span class=\"plain rtl l hlbx\" ><span class=\"txtu hbo\">וַ</span><span class=\"txtu hbo\">יְהִי֩ </span><span class=\"plain rtl l \" ><span class=\"txtu hbo\">בַ</span><span class=\"txtu hbo\">שָּׁנָ֨ה </span><span class=\"txtu hbo\">הַ</span><span class=\"txtu hbo\">תְּשִׁעִ֜ית </span></span></span><span class=\"plain rtl r hlbx\" ><span class=\"plain rtl r \" ><span class=\"txtu hbo\">בַּ</span><span class=\"txtu hbo\">חֹ֣דֶשׁ </span><span class=\"txtu hbo\">הָ</span><span class=\"plain rtl  hl\" ><span class=\"txtu hbo\">עֲשִׂירִי֮ </span></span><span class=\"txtu hbo\">בֶּ</span><span class=\"txtu hbo\">עָשֹׂ֣ור </span><span class=\"txtu hbo\">לַ</span><span class=\"txtu hbo\">חֹדֶשׁ֒ </span></span></span></span></td><td class=\"tf rtl\"><span class=\"rtl ubd\"><span class=\"plain rtl  hl\" ><span class=\"txtu hbo\">עֲשִׂירִי֮ </span></span></span></td></tr>\n",
       "<tr class=\"tf rtl\"><td class=\"tf rtl\">10</td><td class=\"tf rtl\"><span class=\"tfsechead ltr\"><a target=\"_blank\" href=\"https://shebanq.ancient-data.org/hebrew/text?book=Ezechiel&amp;chapter=24&amp;verse=1&amp;version=c&amp;mr=m&amp;qw=q&amp;tp=txt_p&amp;tr=hb&amp;wget=v&amp;qget=v&amp;nget=vt\" title=\"Show this on SHEBANQ\" sec=\"Ezekiel 24:1\">Ezekiel 24:1</a></span></td><td class=\"tf rtl\"><span class=\"rtl ubd\"><span class=\"plain rtl  hlbx\" ><span class=\"txtu hbo\">וַ</span><span class=\"txtu hbo\">יְהִי֩ </span><span class=\"txtu hbo\">דְבַר־</span><span class=\"txtu hbo\">יְהוָ֨ה </span><span class=\"txtu hbo\">אֵלַ֜י </span><span class=\"txtu hbo\">בַּ</span><span class=\"txtu hbo\">שָּׁנָ֤ה </span><span class=\"txtu hbo\">הַ</span><span class=\"txtu hbo\">תְּשִׁיעִית֙ </span><span class=\"txtu hbo\">בַּ</span><span class=\"txtu hbo\">חֹ֣דֶשׁ </span><span class=\"txtu hbo\">הָ</span><span class=\"plain rtl  hl\" ><span class=\"txtu hbo\">עֲשִׂירִ֔י </span></span><span class=\"txtu hbo\">בֶּ</span><span class=\"txtu hbo\">עָשֹׂ֥ור </span><span class=\"txtu hbo\">לַ</span><span class=\"txtu hbo\">חֹ֖דֶשׁ </span></span></span></td><td class=\"tf rtl\"><span class=\"rtl ubd\"><span class=\"plain rtl  hl\" ><span class=\"txtu hbo\">עֲשִׂירִ֔י </span></span></span></td></tr></table>"
      ],
      "text/plain": [
       "<IPython.core.display.HTML object>"
      ]
     },
     "metadata": {}
    }
   ],
   "metadata": {}
  },
  {
   "cell_type": "code",
   "execution_count": 26,
   "source": [
    "A.table(A.search('''\r\n",
    "clause\r\n",
    "    word lex_utf8=עשׂירי sp=adjv gn=f\r\n",
    "''')[0:10])"
   ],
   "outputs": [
    {
     "output_type": "stream",
     "name": "stdout",
     "text": [
      "  0.39s 9 results\n"
     ]
    },
    {
     "output_type": "display_data",
     "data": {
      "text/html": [
       "<table><tr class=\"tf rtl\"><th class=\"tf rtl\">n</th><th class=\"tf rtl\">p</th><th class=\"tf rtl\">clause</th><th class=\"tf\">word</th></tr>\n",
       "<tr class=\"tf rtl\"><td class=\"tf rtl\">1</td><td class=\"tf rtl\"><span class=\"tfsechead ltr\"><a target=\"_blank\" href=\"https://shebanq.ancient-data.org/hebrew/text?book=Exodus&amp;chapter=16&amp;verse=36&amp;version=c&amp;mr=m&amp;qw=q&amp;tp=txt_p&amp;tr=hb&amp;wget=v&amp;qget=v&amp;nget=vt\" title=\"Show this on SHEBANQ\" sec=\"Exodus 16:36\">Exodus 16:36</a></span></td><td class=\"tf rtl\"><span class=\"rtl ubd\"><span class=\"plain rtl  hlbx\" ><span class=\"plain rtl  hl\" ><span class=\"txtu hbo\">עֲשִׂרִ֥ית </span></span><span class=\"txtu hbo\">הָ</span><span class=\"txtu hbo\">אֵיפָ֖ה </span><span class=\"txtu hbo\">הֽוּא׃ פ </span></span></span></td><td class=\"tf rtl\"><span class=\"rtl ubd\"><span class=\"plain rtl  hl\" ><span class=\"txtu hbo\">עֲשִׂרִ֥ית </span></span></span></td></tr>\n",
       "<tr class=\"tf rtl\"><td class=\"tf rtl\">2</td><td class=\"tf rtl\"><span class=\"tfsechead ltr\"><a target=\"_blank\" href=\"https://shebanq.ancient-data.org/hebrew/text?book=Leviticus&amp;chapter=5&amp;verse=11&amp;version=c&amp;mr=m&amp;qw=q&amp;tp=txt_p&amp;tr=hb&amp;wget=v&amp;qget=v&amp;nget=vt\" title=\"Show this on SHEBANQ\" sec=\"Leviticus 5:11\">Leviticus 5:11</a></span></td><td class=\"tf rtl\"><span class=\"rtl ubd\"><span class=\"plain rtl l hlbx\" ><span class=\"txtu hbo\">וְ</span><span class=\"txtu hbo\">הֵבִ֨יא </span><span class=\"txtu hbo\">אֶת־</span><span class=\"txtu hbo\">קָרְבָּנֹ֜ו </span></span><span class=\"plain rtl r hlbx\" ><span class=\"plain rtl  hl\" ><span class=\"txtu hbo\">עֲשִׂירִ֧ת </span></span><span class=\"txtu hbo\">הָ</span><span class=\"txtu hbo\">אֵפָ֛ה </span><span class=\"txtu hbo\">סֹ֖לֶת </span><span class=\"txtu hbo\">לְ</span><span class=\"txtu hbo\">חַטָּ֑את </span></span></span></td><td class=\"tf rtl\"><span class=\"rtl ubd\"><span class=\"plain rtl  hl\" ><span class=\"txtu hbo\">עֲשִׂירִ֧ת </span></span></span></td></tr>\n",
       "<tr class=\"tf rtl\"><td class=\"tf rtl\">3</td><td class=\"tf rtl\"><span class=\"tfsechead ltr\"><a target=\"_blank\" href=\"https://shebanq.ancient-data.org/hebrew/text?book=Leviticus&amp;chapter=6&amp;verse=13&amp;version=c&amp;mr=m&amp;qw=q&amp;tp=txt_p&amp;tr=hb&amp;wget=v&amp;qget=v&amp;nget=vt\" title=\"Show this on SHEBANQ\" sec=\"Leviticus 6:13\">Leviticus 6:13</a></span></td><td class=\"tf rtl\"><span class=\"rtl ubd\"><span class=\"plain rtl  hlbx\" ><span class=\"plain rtl  hl\" ><span class=\"txtu hbo\">עֲשִׂירִ֨ת </span></span><span class=\"txtu hbo\">הָ</span><span class=\"txtu hbo\">אֵפָ֥ה </span><span class=\"txtu hbo\">סֹ֛לֶת </span></span></span></td><td class=\"tf rtl\"><span class=\"rtl ubd\"><span class=\"plain rtl  hl\" ><span class=\"txtu hbo\">עֲשִׂירִ֨ת </span></span></span></td></tr>\n",
       "<tr class=\"tf rtl\"><td class=\"tf rtl\">4</td><td class=\"tf rtl\"><span class=\"tfsechead ltr\"><a target=\"_blank\" href=\"https://shebanq.ancient-data.org/hebrew/text?book=Numeri&amp;chapter=5&amp;verse=15&amp;version=c&amp;mr=m&amp;qw=q&amp;tp=txt_p&amp;tr=hb&amp;wget=v&amp;qget=v&amp;nget=vt\" title=\"Show this on SHEBANQ\" sec=\"Numbers 5:15\">Numbers 5:15</a></span></td><td class=\"tf rtl\"><span class=\"rtl ubd\"><span class=\"plain rtl  hlbx\" ><span class=\"txtu hbo\">וְ</span><span class=\"txtu hbo\">הֵבִ֤יא </span><span class=\"plain rtl l \" ><span class=\"txtu hbo\">אֶת־</span><span class=\"txtu hbo\">קָרְבָּנָהּ֙ </span></span><span class=\"txtu hbo\">עָלֶ֔יהָ </span><span class=\"plain rtl r \" ><span class=\"plain rtl  hl\" ><span class=\"txtu hbo\">עֲשִׂירִ֥ת </span></span><span class=\"txtu hbo\">הָ</span><span class=\"txtu hbo\">אֵיפָ֖ה </span><span class=\"txtu hbo\">קֶ֣מַח </span><span class=\"txtu hbo\">שְׂעֹרִ֑ים </span></span></span></span></td><td class=\"tf rtl\"><span class=\"rtl ubd\"><span class=\"plain rtl  hl\" ><span class=\"txtu hbo\">עֲשִׂירִ֥ת </span></span></span></td></tr>\n",
       "<tr class=\"tf rtl\"><td class=\"tf rtl\">5</td><td class=\"tf rtl\"><span class=\"tfsechead ltr\"><a target=\"_blank\" href=\"https://shebanq.ancient-data.org/hebrew/text?book=Numeri&amp;chapter=28&amp;verse=5&amp;version=c&amp;mr=m&amp;qw=q&amp;tp=txt_p&amp;tr=hb&amp;wget=v&amp;qget=v&amp;nget=vt\" title=\"Show this on SHEBANQ\" sec=\"Numbers 28:5\">Numbers 28:5</a></span></td><td class=\"tf rtl\"><span class=\"rtl ubd\"><span class=\"plain rtl  hlbx\" ><span class=\"txtu hbo\">וַ</span><span class=\"plain rtl  hl\" ><span class=\"txtu hbo\">עֲשִׂירִ֧ית </span></span><span class=\"txtu hbo\">הָ</span><span class=\"txtu hbo\">אֵיפָ֛ה </span><span class=\"txtu hbo\">סֹ֖לֶת </span><span class=\"txtu hbo\">לְ</span><span class=\"txtu hbo\">מִנְחָ֑ה </span></span></span></td><td class=\"tf rtl\"><span class=\"rtl ubd\"><span class=\"plain rtl  hl\" ><span class=\"txtu hbo\">עֲשִׂירִ֧ית </span></span></span></td></tr>\n",
       "<tr class=\"tf rtl\"><td class=\"tf rtl\">6</td><td class=\"tf rtl\"><span class=\"tfsechead ltr\"><a target=\"_blank\" href=\"https://shebanq.ancient-data.org/hebrew/text?book=Jesaia&amp;chapter=6&amp;verse=13&amp;version=c&amp;mr=m&amp;qw=q&amp;tp=txt_p&amp;tr=hb&amp;wget=v&amp;qget=v&amp;nget=vt\" title=\"Show this on SHEBANQ\" sec=\"Isaiah 6:13\">Isaiah 6:13</a></span></td><td class=\"tf rtl\"><span class=\"rtl ubd\"><span class=\"plain rtl  hlbx\" ><span class=\"txtu hbo\">וְ</span><span class=\"txtu hbo\">עֹ֥וד </span><span class=\"txtu hbo\">בָּהּ֙ </span><span class=\"plain rtl  hl\" ><span class=\"txtu hbo\">עֲשִׂ֣רִיָּ֔ה </span></span></span></span></td><td class=\"tf rtl\"><span class=\"rtl ubd\"><span class=\"plain rtl  hl\" ><span class=\"txtu hbo\">עֲשִׂ֣רִיָּ֔ה </span></span></span></td></tr>\n",
       "<tr class=\"tf rtl\"><td class=\"tf rtl\">7</td><td class=\"tf rtl\"><span class=\"tfsechead ltr\"><a target=\"_blank\" href=\"https://shebanq.ancient-data.org/hebrew/text?book=Jeremia&amp;chapter=32&amp;verse=1&amp;version=c&amp;mr=m&amp;qw=q&amp;tp=txt_p&amp;tr=hb&amp;wget=v&amp;qget=v&amp;nget=vt\" title=\"Show this on SHEBANQ\" sec=\"Jeremiah 32:1\">Jeremiah 32:1</a></span></td><td class=\"tf rtl\"><span class=\"rtl ubd\"><span class=\"plain rtl  hlbx\" ><span class=\"txtu hbo\">אֲשֶׁר־</span><span class=\"txtu hbo\">הָיָ֤ה </span><span class=\"txtu hbo\">אֶֽל־</span><span class=\"txtu hbo\">יִרְמְיָ֨הוּ֙ </span><span class=\"txtu hbo\">מֵ</span><span class=\"txtu hbo\">אֵ֣ת </span><span class=\"txtu hbo\">יְהוָ֔ה </span><span class=\"txtu hbo\">בַּ</span><span class=\"txtu hbo\">שָּׁנָה֙ </span><span class=\"txtu hbo\">הָ</span><span class=\"plain rtl  hl\" ><span class=\"txtu hbo\">עֲשִׂרִ֔ית </span></span><span class=\"txtu hbo\">לְ</span><span class=\"txtu hbo\">צִדְקִיָּ֖הוּ </span><span class=\"txtu hbo\">מֶ֣לֶךְ </span><span class=\"txtu hbo\">יְהוּדָ֑ה </span></span></span></td><td class=\"tf rtl\"><span class=\"rtl ubd\"><span class=\"plain rtl  hl\" ><span class=\"txtu hbo\">עֲשִׂרִ֔ית </span></span></span></td></tr>\n",
       "<tr class=\"tf rtl\"><td class=\"tf rtl\">8</td><td class=\"tf rtl\"><span class=\"tfsechead ltr\"><a target=\"_blank\" href=\"https://shebanq.ancient-data.org/hebrew/text?book=Ezechiel&amp;chapter=29&amp;verse=1&amp;version=c&amp;mr=m&amp;qw=q&amp;tp=txt_p&amp;tr=hb&amp;wget=v&amp;qget=v&amp;nget=vt\" title=\"Show this on SHEBANQ\" sec=\"Ezekiel 29:1\">Ezekiel 29:1</a></span></td><td class=\"tf rtl\"><span class=\"rtl ubd\"><span class=\"plain rtl  hlbx\" ><span class=\"txtu hbo\">בַּ</span><span class=\"txtu hbo\">שָּׁנָה֙ </span><span class=\"txtu hbo\">הָ</span><span class=\"plain rtl  hl\" ><span class=\"txtu hbo\">עֲשִׂירִ֔ית </span></span><span class=\"txtu hbo\">בָּ</span><span class=\"txtu hbo\">עֲשִׂרִ֕י </span><span class=\"txtu hbo\">בִּ</span><span class=\"txtu hbo\">שְׁנֵ֥ים </span><span class=\"txtu hbo\">עָשָׂ֖ר </span><span class=\"txtu hbo\">לַ</span><span class=\"txtu hbo\">חֹ֑דֶשׁ </span></span></span></td><td class=\"tf rtl\"><span class=\"rtl ubd\"><span class=\"plain rtl  hl\" ><span class=\"txtu hbo\">עֲשִׂירִ֔ית </span></span></span></td></tr>\n",
       "<tr class=\"tf rtl\"><td class=\"tf rtl\">9</td><td class=\"tf rtl\"><span class=\"tfsechead ltr\"><a target=\"_blank\" href=\"https://shebanq.ancient-data.org/hebrew/text?book=Ezechiel&amp;chapter=45&amp;verse=11&amp;version=c&amp;mr=m&amp;qw=q&amp;tp=txt_p&amp;tr=hb&amp;wget=v&amp;qget=v&amp;nget=vt\" title=\"Show this on SHEBANQ\" sec=\"Ezekiel 45:11\">Ezekiel 45:11</a></span></td><td class=\"tf rtl\"><span class=\"rtl ubd\"><span class=\"plain rtl  hlbx\" ><span class=\"txtu hbo\">וַ</span><span class=\"plain rtl  hl\" ><span class=\"txtu hbo\">עֲשִׂירִ֤ת </span></span><span class=\"txtu hbo\">הַ</span><span class=\"txtu hbo\">חֹ֨מֶר֙ </span><span class=\"txtu hbo\">הָֽ</span><span class=\"txtu hbo\">אֵיפָ֔ה </span></span></span></td><td class=\"tf rtl\"><span class=\"rtl ubd\"><span class=\"plain rtl  hl\" ><span class=\"txtu hbo\">עֲשִׂירִ֤ת </span></span></span></td></tr></table>"
      ],
      "text/plain": [
       "<IPython.core.display.HTML object>"
      ]
     },
     "metadata": {}
    }
   ],
   "metadata": {}
  }
 ],
 "metadata": {
  "orig_nbformat": 4,
  "language_info": {
   "name": "python",
   "version": "3.8.5",
   "mimetype": "text/x-python",
   "codemirror_mode": {
    "name": "ipython",
    "version": 3
   },
   "pygments_lexer": "ipython3",
   "nbconvert_exporter": "python",
   "file_extension": ".py"
  },
  "kernelspec": {
   "name": "python3",
   "display_name": "Python 3.8.5 64-bit ('base': conda)"
  },
  "interpreter": {
   "hash": "a707b6ce8c685eb936424fcc3009d4b4b7a52543c4db09380a3fc49186ceb509"
  }
 },
 "nbformat": 4,
 "nbformat_minor": 2
}