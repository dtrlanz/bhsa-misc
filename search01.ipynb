{
 "cells": [
  {
   "cell_type": "code",
   "execution_count": 34,
   "source": [
    "from tf.app import use\r\n",
    "A = use('bhsa')\r\n",
    "F = A.TF.api.F"
   ],
   "outputs": [
    {
     "output_type": "display_data",
     "data": {
      "text/plain": [
       "<IPython.core.display.HTML object>"
      ],
      "text/html": [
       "<b title=\"local release\">TF-app:</b> <span title=\"rv2.3.0=#113c0687cfce3077734dac1844d244d20f4ace6f offline under ~/text-fabric-data\">C:\\Users\\ittai_n0vs94x/text-fabric-data/annotation/app-bhsa/code</span>"
      ]
     },
     "metadata": {}
    },
    {
     "output_type": "display_data",
     "data": {
      "text/plain": [
       "<IPython.core.display.HTML object>"
      ],
      "text/html": [
       "<b title=\"local release\">data:</b> <span title=\"rv1.6=#bac4a9f5a2bbdede96ba6caea45e762fe88f88c5 offline under ~/text-fabric-data\">C:\\Users\\ittai_n0vs94x/text-fabric-data/etcbc/bhsa/tf/c</span>"
      ]
     },
     "metadata": {}
    },
    {
     "output_type": "display_data",
     "data": {
      "text/plain": [
       "<IPython.core.display.HTML object>"
      ],
      "text/html": [
       "<b title=\"local release\">data:</b> <span title=\"r1.2=#1ac68e976ee4a7f23eb6bb4c6f401a033d0ec169 offline under ~/text-fabric-data\">C:\\Users\\ittai_n0vs94x/text-fabric-data/etcbc/phono/tf/c</span>"
      ]
     },
     "metadata": {}
    },
    {
     "output_type": "display_data",
     "data": {
      "text/plain": [
       "<IPython.core.display.HTML object>"
      ],
      "text/html": [
       "<b title=\"local release\">data:</b> <span title=\"r1.2=#395dfe2cb69c261862fab9f0289e594a52121d5c offline under ~/text-fabric-data\">C:\\Users\\ittai_n0vs94x/text-fabric-data/etcbc/parallels/tf/c</span>"
      ]
     },
     "metadata": {}
    },
    {
     "output_type": "stream",
     "name": "stdout",
     "text": [
      "This is Text-Fabric 9.0.0\n",
      "Api reference : https://annotation.github.io/text-fabric/tf/cheatsheet.html\n",
      "\n",
      "120 features found and 0 ignored\n"
     ]
    },
    {
     "output_type": "display_data",
     "data": {
      "text/plain": [
       "<IPython.core.display.HTML object>"
      ],
      "text/html": [
       "<b>Text-Fabric:</b> <a target=\"_blank\" href=\"https://annotation.github.io/text-fabric/tf/cheatsheet.html\" title=\"text-fabric-api\">Text-Fabric API 9.0.0</a>, <a target=\"_blank\" href=\"https://github.com/annotation/app-bhsa\" title=\"bhsa TF-app\">app-bhsa v3</a>, <a target=\"_blank\" href=\"https://annotation.github.io/text-fabric/tf/about/searchusage.html\" title=\"Search Templates Introduction and Reference\">Search Reference</a><br><b>Data:</b> <a target=\"_blank\" href=\"https://etcbc.github.io/bhsa/0_home\" title=\"provenance of BHSA = Biblia Hebraica Stuttgartensia Amstelodamensis\">BHSA</a>, <a target=\"_blank\" href=\"https://annotation.github.io/text-fabric/tf/writing/hebrew.html\" title=\"How TF features represent text\">Character table</a>, <a target=\"_blank\" href=\"https://etcbc.github.io/bhsa/features/0_home\" title=\"BHSA feature documentation\">Feature docs</a><br><b>Features:</b><br><details><summary><b>Parallel Passages</b></summary><b><i><a target=\"_blank\" href=\"https://nbviewer.jupyter.org/github/etcbc/parallels/blob/master/programs/parallels.ipynb\" title=\"C:\\Users\\ittai_n0vs94x/text-fabric-data/etcbc/parallels/tf/c/crossref.tf\">crossref</a></i></b><br></details><details><summary><b>BHSA = Biblia Hebraica Stuttgartensia Amstelodamensis</b></summary><a target=\"_blank\" href=\"https://etcbc.github.io/bhsa/features/book\" title=\"C:\\Users\\ittai_n0vs94x/text-fabric-data/etcbc/bhsa/tf/c/book.tf\">book</a><br><a target=\"_blank\" href=\"https://etcbc.github.io/bhsa/features/book@ll\" title=\"C:\\Users\\ittai_n0vs94x/text-fabric-data/etcbc/bhsa/tf/c/book@am.tf\">book@ll</a><br><a target=\"_blank\" href=\"https://etcbc.github.io/bhsa/features/chapter\" title=\"C:\\Users\\ittai_n0vs94x/text-fabric-data/etcbc/bhsa/tf/c/chapter.tf\">chapter</a><br><a target=\"_blank\" href=\"https://etcbc.github.io/bhsa/features/code\" title=\"C:\\Users\\ittai_n0vs94x/text-fabric-data/etcbc/bhsa/tf/c/code.tf\">code</a><br><a target=\"_blank\" href=\"https://etcbc.github.io/bhsa/features/det\" title=\"C:\\Users\\ittai_n0vs94x/text-fabric-data/etcbc/bhsa/tf/c/det.tf\">det</a><br><a target=\"_blank\" href=\"https://etcbc.github.io/bhsa/features/domain\" title=\"C:\\Users\\ittai_n0vs94x/text-fabric-data/etcbc/bhsa/tf/c/domain.tf\">domain</a><br><a target=\"_blank\" href=\"https://etcbc.github.io/bhsa/features/freq_lex\" title=\"C:\\Users\\ittai_n0vs94x/text-fabric-data/etcbc/bhsa/tf/c/freq_lex.tf\">freq_lex</a><br><a target=\"_blank\" href=\"https://etcbc.github.io/bhsa/features/function\" title=\"C:\\Users\\ittai_n0vs94x/text-fabric-data/etcbc/bhsa/tf/c/function.tf\">function</a><br><a target=\"_blank\" href=\"https://etcbc.github.io/bhsa/features/g_cons\" title=\"C:\\Users\\ittai_n0vs94x/text-fabric-data/etcbc/bhsa/tf/c/g_cons.tf\">g_cons</a><br><a target=\"_blank\" href=\"https://etcbc.github.io/bhsa/features/g_cons_utf8\" title=\"C:\\Users\\ittai_n0vs94x/text-fabric-data/etcbc/bhsa/tf/c/g_cons_utf8.tf\">g_cons_utf8</a><br><a target=\"_blank\" href=\"https://etcbc.github.io/bhsa/features/g_lex\" title=\"C:\\Users\\ittai_n0vs94x/text-fabric-data/etcbc/bhsa/tf/c/g_lex.tf\">g_lex</a><br><a target=\"_blank\" href=\"https://etcbc.github.io/bhsa/features/g_lex_utf8\" title=\"C:\\Users\\ittai_n0vs94x/text-fabric-data/etcbc/bhsa/tf/c/g_lex_utf8.tf\">g_lex_utf8</a><br><a target=\"_blank\" href=\"https://etcbc.github.io/bhsa/features/g_word\" title=\"C:\\Users\\ittai_n0vs94x/text-fabric-data/etcbc/bhsa/tf/c/g_word.tf\">g_word</a><br><a target=\"_blank\" href=\"https://etcbc.github.io/bhsa/features/g_word_utf8\" title=\"C:\\Users\\ittai_n0vs94x/text-fabric-data/etcbc/bhsa/tf/c/g_word_utf8.tf\">g_word_utf8</a><br><a target=\"_blank\" href=\"https://etcbc.github.io/bhsa/features/gloss\" title=\"C:\\Users\\ittai_n0vs94x/text-fabric-data/etcbc/bhsa/tf/c/gloss.tf\">gloss</a><br><a target=\"_blank\" href=\"https://etcbc.github.io/bhsa/features/gn\" title=\"C:\\Users\\ittai_n0vs94x/text-fabric-data/etcbc/bhsa/tf/c/gn.tf\">gn</a><br><a target=\"_blank\" href=\"https://etcbc.github.io/bhsa/features/label\" title=\"C:\\Users\\ittai_n0vs94x/text-fabric-data/etcbc/bhsa/tf/c/label.tf\">label</a><br><a target=\"_blank\" href=\"https://etcbc.github.io/bhsa/features/language\" title=\"C:\\Users\\ittai_n0vs94x/text-fabric-data/etcbc/bhsa/tf/c/language.tf\">language</a><br><a target=\"_blank\" href=\"https://etcbc.github.io/bhsa/features/lex\" title=\"C:\\Users\\ittai_n0vs94x/text-fabric-data/etcbc/bhsa/tf/c/lex.tf\">lex</a><br><a target=\"_blank\" href=\"https://etcbc.github.io/bhsa/features/lex_utf8\" title=\"C:\\Users\\ittai_n0vs94x/text-fabric-data/etcbc/bhsa/tf/c/lex_utf8.tf\">lex_utf8</a><br><a target=\"_blank\" href=\"https://etcbc.github.io/bhsa/features/ls\" title=\"C:\\Users\\ittai_n0vs94x/text-fabric-data/etcbc/bhsa/tf/c/ls.tf\">ls</a><br><a target=\"_blank\" href=\"https://etcbc.github.io/bhsa/features/nametype\" title=\"C:\\Users\\ittai_n0vs94x/text-fabric-data/etcbc/bhsa/tf/c/nametype.tf\">nametype</a><br><a target=\"_blank\" href=\"https://etcbc.github.io/bhsa/features/nme\" title=\"C:\\Users\\ittai_n0vs94x/text-fabric-data/etcbc/bhsa/tf/c/nme.tf\">nme</a><br><a target=\"_blank\" href=\"https://etcbc.github.io/bhsa/features/nu\" title=\"C:\\Users\\ittai_n0vs94x/text-fabric-data/etcbc/bhsa/tf/c/nu.tf\">nu</a><br><a target=\"_blank\" href=\"https://etcbc.github.io/bhsa/features/number\" title=\"C:\\Users\\ittai_n0vs94x/text-fabric-data/etcbc/bhsa/tf/c/number.tf\">number</a><br><a target=\"_blank\" href=\"https://etcbc.github.io/bhsa/features/otype\" title=\"C:\\Users\\ittai_n0vs94x/text-fabric-data/etcbc/bhsa/tf/c/otype.tf\">otype</a><br><a target=\"_blank\" href=\"https://etcbc.github.io/bhsa/features/pargr\" title=\"C:\\Users\\ittai_n0vs94x/text-fabric-data/etcbc/bhsa/tf/c/pargr.tf\">pargr</a><br><a target=\"_blank\" href=\"https://etcbc.github.io/bhsa/features/pdp\" title=\"C:\\Users\\ittai_n0vs94x/text-fabric-data/etcbc/bhsa/tf/c/pdp.tf\">pdp</a><br><a target=\"_blank\" href=\"https://etcbc.github.io/bhsa/features/pfm\" title=\"C:\\Users\\ittai_n0vs94x/text-fabric-data/etcbc/bhsa/tf/c/pfm.tf\">pfm</a><br><a target=\"_blank\" href=\"https://etcbc.github.io/bhsa/features/prs\" title=\"C:\\Users\\ittai_n0vs94x/text-fabric-data/etcbc/bhsa/tf/c/prs.tf\">prs</a><br><a target=\"_blank\" href=\"https://etcbc.github.io/bhsa/features/prs_gn\" title=\"C:\\Users\\ittai_n0vs94x/text-fabric-data/etcbc/bhsa/tf/c/prs_gn.tf\">prs_gn</a><br><a target=\"_blank\" href=\"https://etcbc.github.io/bhsa/features/prs_nu\" title=\"C:\\Users\\ittai_n0vs94x/text-fabric-data/etcbc/bhsa/tf/c/prs_nu.tf\">prs_nu</a><br><a target=\"_blank\" href=\"https://etcbc.github.io/bhsa/features/prs_ps\" title=\"C:\\Users\\ittai_n0vs94x/text-fabric-data/etcbc/bhsa/tf/c/prs_ps.tf\">prs_ps</a><br><a target=\"_blank\" href=\"https://etcbc.github.io/bhsa/features/ps\" title=\"C:\\Users\\ittai_n0vs94x/text-fabric-data/etcbc/bhsa/tf/c/ps.tf\">ps</a><br><a target=\"_blank\" href=\"https://etcbc.github.io/bhsa/features/qere\" title=\"C:\\Users\\ittai_n0vs94x/text-fabric-data/etcbc/bhsa/tf/c/qere.tf\">qere</a><br><a target=\"_blank\" href=\"https://etcbc.github.io/bhsa/features/qere_trailer\" title=\"C:\\Users\\ittai_n0vs94x/text-fabric-data/etcbc/bhsa/tf/c/qere_trailer.tf\">qere_trailer</a><br><a target=\"_blank\" href=\"https://etcbc.github.io/bhsa/features/qere_trailer_utf8\" title=\"C:\\Users\\ittai_n0vs94x/text-fabric-data/etcbc/bhsa/tf/c/qere_trailer_utf8.tf\">qere_trailer_utf8</a><br><a target=\"_blank\" href=\"https://etcbc.github.io/bhsa/features/qere_utf8\" title=\"C:\\Users\\ittai_n0vs94x/text-fabric-data/etcbc/bhsa/tf/c/qere_utf8.tf\">qere_utf8</a><br><a target=\"_blank\" href=\"https://etcbc.github.io/bhsa/features/rank_lex\" title=\"C:\\Users\\ittai_n0vs94x/text-fabric-data/etcbc/bhsa/tf/c/rank_lex.tf\">rank_lex</a><br><a target=\"_blank\" href=\"https://etcbc.github.io/bhsa/features/rela\" title=\"C:\\Users\\ittai_n0vs94x/text-fabric-data/etcbc/bhsa/tf/c/rela.tf\">rela</a><br><a target=\"_blank\" href=\"https://etcbc.github.io/bhsa/features/sp\" title=\"C:\\Users\\ittai_n0vs94x/text-fabric-data/etcbc/bhsa/tf/c/sp.tf\">sp</a><br><a target=\"_blank\" href=\"https://etcbc.github.io/bhsa/features/st\" title=\"C:\\Users\\ittai_n0vs94x/text-fabric-data/etcbc/bhsa/tf/c/st.tf\">st</a><br><a target=\"_blank\" href=\"https://etcbc.github.io/bhsa/features/tab\" title=\"C:\\Users\\ittai_n0vs94x/text-fabric-data/etcbc/bhsa/tf/c/tab.tf\">tab</a><br><a target=\"_blank\" href=\"https://etcbc.github.io/bhsa/features/trailer\" title=\"C:\\Users\\ittai_n0vs94x/text-fabric-data/etcbc/bhsa/tf/c/trailer.tf\">trailer</a><br><a target=\"_blank\" href=\"https://etcbc.github.io/bhsa/features/trailer_utf8\" title=\"C:\\Users\\ittai_n0vs94x/text-fabric-data/etcbc/bhsa/tf/c/trailer_utf8.tf\">trailer_utf8</a><br><a target=\"_blank\" href=\"https://etcbc.github.io/bhsa/features/txt\" title=\"C:\\Users\\ittai_n0vs94x/text-fabric-data/etcbc/bhsa/tf/c/txt.tf\">txt</a><br><a target=\"_blank\" href=\"https://etcbc.github.io/bhsa/features/typ\" title=\"C:\\Users\\ittai_n0vs94x/text-fabric-data/etcbc/bhsa/tf/c/typ.tf\">typ</a><br><a target=\"_blank\" href=\"https://etcbc.github.io/bhsa/features/uvf\" title=\"C:\\Users\\ittai_n0vs94x/text-fabric-data/etcbc/bhsa/tf/c/uvf.tf\">uvf</a><br><a target=\"_blank\" href=\"https://etcbc.github.io/bhsa/features/vbe\" title=\"C:\\Users\\ittai_n0vs94x/text-fabric-data/etcbc/bhsa/tf/c/vbe.tf\">vbe</a><br><a target=\"_blank\" href=\"https://etcbc.github.io/bhsa/features/vbs\" title=\"C:\\Users\\ittai_n0vs94x/text-fabric-data/etcbc/bhsa/tf/c/vbs.tf\">vbs</a><br><a target=\"_blank\" href=\"https://etcbc.github.io/bhsa/features/verse\" title=\"C:\\Users\\ittai_n0vs94x/text-fabric-data/etcbc/bhsa/tf/c/verse.tf\">verse</a><br><a target=\"_blank\" href=\"https://etcbc.github.io/bhsa/features/voc_lex\" title=\"C:\\Users\\ittai_n0vs94x/text-fabric-data/etcbc/bhsa/tf/c/voc_lex.tf\">voc_lex</a><br><a target=\"_blank\" href=\"https://etcbc.github.io/bhsa/features/voc_lex_utf8\" title=\"C:\\Users\\ittai_n0vs94x/text-fabric-data/etcbc/bhsa/tf/c/voc_lex_utf8.tf\">voc_lex_utf8</a><br><a target=\"_blank\" href=\"https://etcbc.github.io/bhsa/features/vs\" title=\"C:\\Users\\ittai_n0vs94x/text-fabric-data/etcbc/bhsa/tf/c/vs.tf\">vs</a><br><a target=\"_blank\" href=\"https://etcbc.github.io/bhsa/features/vt\" title=\"C:\\Users\\ittai_n0vs94x/text-fabric-data/etcbc/bhsa/tf/c/vt.tf\">vt</a><br><b><i><a target=\"_blank\" href=\"https://etcbc.github.io/bhsa/features/mother\" title=\"C:\\Users\\ittai_n0vs94x/text-fabric-data/etcbc/bhsa/tf/c/mother.tf\">mother</a></i></b><br><b><i><a target=\"_blank\" href=\"https://etcbc.github.io/bhsa/features/oslots\" title=\"C:\\Users\\ittai_n0vs94x/text-fabric-data/etcbc/bhsa/tf/c/oslots.tf\">oslots</a></i></b><br></details><details><summary><b>Phonetic Transcriptions</b></summary><a target=\"_blank\" href=\"https://nbviewer.jupyter.org/github/etcbc/phono/blob/master/programs/phono.ipynb\" title=\"C:\\Users\\ittai_n0vs94x/text-fabric-data/etcbc/phono/tf/c/phono.tf\">phono</a><br><a target=\"_blank\" href=\"https://nbviewer.jupyter.org/github/etcbc/phono/blob/master/programs/phono.ipynb\" title=\"C:\\Users\\ittai_n0vs94x/text-fabric-data/etcbc/phono/tf/c/phono_trailer.tf\">phono_trailer</a><br></details>"
      ]
     },
     "metadata": {}
    },
    {
     "output_type": "display_data",
     "data": {
      "text/plain": [
       "<IPython.core.display.HTML object>"
      ],
      "text/html": [
       "<style>tr.tf.ltr, td.tf.ltr, th.tf.ltr { text-align: left ! important;}\n",
       "tr.tf.rtl, td.tf.rtl, th.tf.rtl { text-align: right ! important;}\n",
       "@font-face {\n",
       "  font-family: \"Gentium Plus\";\n",
       "  src: local('Gentium Plus'), local('GentiumPlus'),\n",
       "    url('/server/static/fonts/GentiumPlus-R.woff') format('woff'),\n",
       "    url('https://github.com/annotation/text-fabric/blob/master/tf/server/static/fonts/GentiumPlus-R.woff?raw=true') format('woff');\n",
       "}\n",
       "\n",
       "@font-face {\n",
       "  font-family: \"Ezra SIL\";\n",
       "  src: local('Ezra SIL'), local('EzraSIL'),\n",
       "    url('/server/static/fonts/SILEOT.woff') format('woff'),\n",
       "    url('https://github.com/annotation/text-fabric/blob/master/tf/server/static/fonts/SILEOT.woff?raw=true') format('woff');\n",
       "}\n",
       "\n",
       "@font-face {\n",
       "  font-family: \"SBL Hebrew\";\n",
       "  src: local('SBL Hebrew'), local('SBLHebrew'),\n",
       "    url('/server/static/fonts/SBL_Hbrw.woff') format('woff'),\n",
       "    url('https://github.com/annotation/text-fabric/blob/master/tf/server/static/fonts/SBL_Hbrw.woff?raw=true') format('woff');\n",
       "}\n",
       "\n",
       "@font-face {\n",
       "  font-family: \"Estrangelo Edessa\";\n",
       "  src: local('Estrangelo Edessa'), local('EstrangeloEdessa');\n",
       "    url('/server/static/fonts/SyrCOMEdessa.woff') format('woff'),\n",
       "    url('https://github.com/annotation/text-fabric/blob/master/tf/server/static/fonts/SyrCOMEdessa.woff?raw=true') format('woff');\n",
       "}\n",
       "\n",
       "@font-face {\n",
       "  font-family: AmiriQuran;\n",
       "  font-style: normal;\n",
       "  font-weight: 400;\n",
       "  src: local('Amiri Quran'), local('AmiriQuran'),\n",
       "    url('/server/static/fonts/AmiriQuran.woff') format('woff'),\n",
       "    url('https://github.com/annotation/text-fabric/blob/master/tf/server/static/fonts/AmiriQuran.woff?raw=true') format('woff');\n",
       "}\n",
       "\n",
       "@font-face {\n",
       "  font-family: AmiriQuranColored;\n",
       "  font-style: normal;\n",
       "  font-weight: 400;\n",
       "  src: local('Amiri Quran Colored'), local('AmiriQuranColored'),\n",
       "    url('/server/static/fonts/AmiriQuranColored.woff') format('woff'),\n",
       "    url('https://github.com/annotation/text-fabric/blob/master/tf/server/static/fonts/AmiriQuranColored.woff?raw=true') format('woff');\n",
       "}\n",
       "\n",
       "@font-face {\n",
       "  font-family: \"Santakku\";\n",
       "  src: local('Santakku'),\n",
       "    url('/server/static/fonts/Santakku.woff') format('woff'),\n",
       "    url('https://github.com/annotation/text-fabric/blob/master/tf/server/static/fonts/Santakku.woff?raw=true') format('woff');\n",
       "}\n",
       "\n",
       "@font-face {\n",
       "  font-family: \"SantakkuM\";\n",
       "  src: local('SantakkuM'),\n",
       "    url('/server/static/fonts/SantakkuM.woff') format('woff'),\n",
       "    url('https://github.com/annotation/text-fabric/blob/master/tf/server/static/fonts/SantakkuM.woff?raw=true') format('woff');\n",
       "}\n",
       "/* bypassing some classical notebook settings */\n",
       "div#notebook {\n",
       "  line-height: unset;\n",
       "}\n",
       "/* neutral text */\n",
       ".txtn,.txtn a:visited,.txtn a:link {\n",
       "    font-family: sans-serif;\n",
       "    font-size: medium;\n",
       "    direction: ltr;\n",
       "    unicode-bidi: embed;\n",
       "    text-decoration: none;\n",
       "    color: var(--text-color);\n",
       "}\n",
       "/* transcription text */\n",
       ".txtt,.txtt a:visited,.txtt a:link {\n",
       "    font-family: monospace;\n",
       "    font-size: medium;\n",
       "    direction: ltr;\n",
       "    unicode-bidi: embed;\n",
       "    text-decoration: none;\n",
       "    color: var(--text-color);\n",
       "}\n",
       "/* source text */\n",
       ".txto,.txto a:visited,.txto a:link {\n",
       "    font-family: serif;\n",
       "    font-size: medium;\n",
       "    direction: ltr;\n",
       "    unicode-bidi: embed;\n",
       "    text-decoration: none;\n",
       "    color: var(--text-color);\n",
       "}\n",
       "/* phonetic text */\n",
       ".txtp,.txtp a:visited,.txtp a:link {\n",
       "    font-family: Gentium, sans-serif;\n",
       "    font-size: medium;\n",
       "    direction: ltr;\n",
       "    unicode-bidi: embed;\n",
       "    text-decoration: none;\n",
       "    color: var(--text-color);\n",
       "}\n",
       "/* original script text */\n",
       ".txtu,.txtu a:visited,.txtu a:link {\n",
       "    font-family: Gentium, sans-serif;\n",
       "    font-size: medium;\n",
       "    text-decoration: none;\n",
       "    color: var(--text-color);\n",
       "}\n",
       "/* hebrew */\n",
       ".txtu.hbo,.lex.hbo {\n",
       "    font-family: \"Ezra SIL\", \"SBL Hebrew\", sans-serif;\n",
       "    font-size: large;\n",
       "    direction: rtl ! important;\n",
       "    unicode-bidi: embed;\n",
       "}\n",
       "/* syriac */\n",
       ".txtu.syc,.lex.syc {\n",
       "    font-family: \"Estrangelo Edessa\", sans-serif;\n",
       "    font-size: medium;\n",
       "    direction: rtl ! important;\n",
       "    unicode-bidi: embed;\n",
       "}\n",
       "/* neo aramaic */\n",
       ".txtu.cld,.lex.cld {\n",
       "    font-family: \"CharisSIL-R\", sans-serif;\n",
       "    font-size: medium;\n",
       "    direction: ltr ! important;\n",
       "    unicode-bidi: embed;\n",
       "}\n",
       "/* standard arabic */\n",
       ".txtu.ara,.lex.ara {\n",
       "    font-family: \"AmiriQuran\", sans-serif;\n",
       "    font-size: large;\n",
       "    direction: rtl ! important;\n",
       "    unicode-bidi: embed;\n",
       "}\n",
       "/* cuneiform */\n",
       ".txtu.akk,.lex.akk {\n",
       "    font-family: Santakku, sans-serif;\n",
       "    font-size: large;\n",
       "    direction: ltr ! important;\n",
       "    unicode-bidi: embed;\n",
       "}\n",
       "/* greek */\n",
       ".txtu.grc,.lex.grc a:link {\n",
       "    font-family: Gentium, sans-serif;\n",
       "    font-size: medium;\n",
       "    direction: ltr ! important;\n",
       "    unicode-bidi: embed;\n",
       "}\n",
       "a:hover {\n",
       "    text-decoration: underline | important;\n",
       "    color: #0000ff | important;\n",
       "}\n",
       ".ltr {\n",
       "    direction: ltr ! important;\n",
       "    unicode-bidi: embed;\n",
       "}\n",
       ".rtl {\n",
       "    direction: rtl ! important;\n",
       "    unicode-bidi: embed;\n",
       "}\n",
       ".ubd {\n",
       "    unicode-bidi: embed;\n",
       "}\n",
       ".col {\n",
       "   display: inline-block;\n",
       "}\n",
       ".features {\n",
       "    font-family: monospace;\n",
       "    font-size: medium;\n",
       "    font-weight: bold;\n",
       "    color: var(--features);\n",
       "    display: flex;\n",
       "    flex-flow: column nowrap;\n",
       "    justify-content: flex-start;\n",
       "    align-items: flex-start;\n",
       "    align-content: flex-start;\n",
       "    padding: 2px;\n",
       "    margin: 2px;\n",
       "    direction: ltr;\n",
       "    unicode-bidi: embed;\n",
       "    border: var(--meta-width) solid var(--meta-color);\n",
       "    border-radius: var(--meta-width);\n",
       "}\n",
       ".features div,.features span {\n",
       "    padding: 0;\n",
       "    margin: -2px 0;\n",
       "}\n",
       ".features .f {\n",
       "    font-family: sans-serif;\n",
       "    font-size: small;\n",
       "    font-weight: normal;\n",
       "    color: #5555bb;\n",
       "}\n",
       ".features .xft {\n",
       "  color: #000000;\n",
       "  background-color: #eeeeee;\n",
       "  font-size: medium;\n",
       "  margin: 2px 0px;\n",
       "}\n",
       ".features .xft .f {\n",
       "  color: #000000;\n",
       "  background-color: #eeeeee;\n",
       "  font-size: small;\n",
       "  font-weight: normal;\n",
       "}\n",
       ".tfsechead {\n",
       "    font-family: sans-serif;\n",
       "    font-size: small;\n",
       "    font-weight: bold;\n",
       "    color: var(--tfsechead);\n",
       "    unicode-bidi: embed;\n",
       "    text-align: start;\n",
       "}\n",
       ".structure {\n",
       "    font-family: sans-serif;\n",
       "    font-size: small;\n",
       "    font-weight: bold;\n",
       "    color: var(--structure);\n",
       "    unicode-bidi: embed;\n",
       "    text-align: start;\n",
       "}\n",
       ".comments {\n",
       "    display: flex;\n",
       "    justify-content: flex-start;\n",
       "    align-items: flex-start;\n",
       "    align-content: flex-start;\n",
       "    flex-flow: column nowrap;\n",
       "}\n",
       ".nd, a:link.nd {\n",
       "    font-family: sans-serif;\n",
       "    font-size: small;\n",
       "    color: var(--node);\n",
       "    vertical-align: super;\n",
       "    direction: ltr ! important;\n",
       "    unicode-bidi: embed;\n",
       "}\n",
       ".lex {\n",
       "  color: var(--lex-color);;\n",
       "}\n",
       ".children,.children.ltr {\n",
       "    display: flex;\n",
       "    border: 0;\n",
       "    background-color: #ffffff;\n",
       "    justify-content: flex-start;\n",
       "    align-items: flex-start;\n",
       "    align-content: flex-start;\n",
       "}\n",
       ".children.stretch {\n",
       "    align-items: stretch;\n",
       "}\n",
       ".children.hor {\n",
       "    flex-flow: row nowrap;\n",
       "}\n",
       ".children.hor.wrap {\n",
       "    flex-flow: row wrap;\n",
       "}\n",
       ".children.ver {\n",
       "    flex-flow: column nowrap;\n",
       "}\n",
       ".children.ver.wrap {\n",
       "    flex-flow: column wrap;\n",
       "}\n",
       ".contnr {\n",
       "    width: fit-content;\n",
       "    display: flex;\n",
       "    justify-content: flex-start;\n",
       "    align-items: flex-start;\n",
       "    align-content: flex-start;\n",
       "    flex-flow: column nowrap;\n",
       "    background: #ffffff none repeat scroll 0 0;\n",
       "    padding:  10px 2px 2px 2px;\n",
       "    margin: 16px 2px 2px 2px;\n",
       "    border-style: solid;\n",
       "    font-size: small;\n",
       "}\n",
       ".contnr.trm {\n",
       "    background-attachment: local;\n",
       "}\n",
       ".contnr.cnul {\n",
       "    padding:  0;\n",
       "    margin: 0;\n",
       "    border-style: solid;\n",
       "    font-size: xx-small;\n",
       "}\n",
       ".contnr.cnul,.lbl.cnul {\n",
       "    border-color: var(--border-color-nul);\n",
       "    border-width: var(--border-width-nul);\n",
       "    border-radius: var(--border-width-nul);\n",
       "}\n",
       ".contnr.c0,.lbl.c0 {\n",
       "    border-color: var(--border-color0);\n",
       "    border-width: var(--border-width0);\n",
       "    border-radius: var(--border-width0);\n",
       "}\n",
       ".contnr.c1,.lbl.c1 {\n",
       "    border-color: var(--border-color1);\n",
       "    border-width: var(--border-width1);\n",
       "    border-radius: var(--border-width1);\n",
       "}\n",
       ".contnr.c2,.lbl.c2 {\n",
       "    border-color: var(--border-color2);\n",
       "    border-width: var(--border-width2);\n",
       "    border-radius: var(--border-width2);\n",
       "}\n",
       ".contnr.c3,.lbl.c3 {\n",
       "    border-color: var(--border-color3);\n",
       "    border-width: var(--border-width3);\n",
       "    border-radius: var(--border-width3);\n",
       "}\n",
       ".contnr.c4,.lbl.c4 {\n",
       "    border-color: var(--border-color4);\n",
       "    border-width: var(--border-width4);\n",
       "    border-radius: var(--border-width4);\n",
       "}\n",
       "span.plain {\n",
       "    display: inline-block;\n",
       "    white-space: pre-wrap;\n",
       "}\n",
       ".plain {\n",
       "    background-color: #ffffff;\n",
       "}\n",
       ".plain.l,.contnr.l,.contnr.l>.lbl {\n",
       "    border-left-style: dotted\n",
       "}\n",
       ".plain.r,.contnr.r,.contnr.r>.lbl {\n",
       "    border-right-style: dotted\n",
       "}\n",
       ".plain.lno,.contnr.lno,.contnr.lno>.lbl {\n",
       "    border-left-style: none\n",
       "}\n",
       ".plain.rno,.contnr.rno,.contnr.rno>.lbl {\n",
       "    border-right-style: none\n",
       "}\n",
       ".plain.l {\n",
       "    padding-left: 4px;\n",
       "    margin-left: 2px;\n",
       "    border-width: var(--border-width-plain);\n",
       "}\n",
       ".plain.r {\n",
       "    padding-right: 4px;\n",
       "    margin-right: 2px;\n",
       "    border-width: var(--border-width-plain);\n",
       "}\n",
       ".lbl {\n",
       "    font-family: monospace;\n",
       "    margin-top: -24px;\n",
       "    margin-left: 20px;\n",
       "    background: #ffffff none repeat scroll 0 0;\n",
       "    padding: 0 6px;\n",
       "    border-style: solid;\n",
       "    display: block;\n",
       "    color: var(--label)\n",
       "}\n",
       ".lbl.trm {\n",
       "    background-attachment: local;\n",
       "    margin-top: 2px;\n",
       "    margin-left: 2px;\n",
       "    padding: 2px 2px;\n",
       "    border-style: none;\n",
       "}\n",
       ".lbl.cnul {\n",
       "    font-size: xx-small;\n",
       "}\n",
       ".lbl.c0 {\n",
       "    font-size: small;\n",
       "}\n",
       ".lbl.c1 {\n",
       "    font-size: small;\n",
       "}\n",
       ".lbl.c2 {\n",
       "    font-size: medium;\n",
       "}\n",
       ".lbl.c3 {\n",
       "    font-size: medium;\n",
       "}\n",
       ".lbl.c4 {\n",
       "    font-size: large;\n",
       "}\n",
       ".occs, a:link.occs {\n",
       "    font-size: small;\n",
       "}\n",
       "\n",
       "/* PROVENANCE */\n",
       "\n",
       "div.prov {\n",
       "\tmargin: 40px;\n",
       "\tpadding: 20px;\n",
       "\tborder: 2px solid var(--fog-rim);\n",
       "}\n",
       "div.pline {\n",
       "\tdisplay: flex;\n",
       "\tflex-flow: row nowrap;\n",
       "\tjustify-content: stretch;\n",
       "\talign-items: baseline;\n",
       "}\n",
       "div.p2line {\n",
       "\tmargin-left: 2em;\n",
       "\tdisplay: flex;\n",
       "\tflex-flow: row nowrap;\n",
       "\tjustify-content: stretch;\n",
       "\talign-items: baseline;\n",
       "}\n",
       "div.psline {\n",
       "\tdisplay: flex;\n",
       "\tflex-flow: row nowrap;\n",
       "\tjustify-content: stretch;\n",
       "\talign-items: baseline;\n",
       "\tbackground-color: var(--gold-mist-back);\n",
       "}\n",
       "div.pname {\n",
       "\tflex: 0 0 5rem;\n",
       "\tfont-weight: bold;\n",
       "}\n",
       "div.pval {\n",
       "    flex: 1 1 auto;\n",
       "}\n",
       "\n",
       ":root {\n",
       "\t--node:               hsla(120, 100%,  20%, 1.0  );\n",
       "\t--label:              hsla(  0, 100%,  20%, 1.0  );\n",
       "\t--tfsechead:          hsla(  0, 100%,  25%, 1.0  );\n",
       "\t--structure:          hsla(120, 100%,  25%, 1.0  );\n",
       "\t--features:           hsla(  0,   0%,  30%, 1.0  );\n",
       "  --text-color:         hsla( 60,  80%,  10%, 1.0  );\n",
       "  --lex-color:          hsla(220,  90%,  60%, 1.0  );\n",
       "  --meta-color:         hsla(  0,   0%,  90%, 0.7  );\n",
       "  --meta-width:         3px;\n",
       "  --border-color-nul:   hsla(  0,   0%,  90%, 0.5  );\n",
       "  --border-color0:      hsla(  0,   0%,  90%, 0.9  );\n",
       "  --border-color1:      hsla(  0,   0%,  80%, 0.9  );\n",
       "  --border-color2:      hsla(  0,   0%,  70%, 0.9  );\n",
       "  --border-color3:      hsla(  0,   0%,  80%, 0.8  );\n",
       "  --border-color4:      hsla(  0,   0%,  60%, 0.9  );\n",
       "  --border-width-nul:   2px;\n",
       "  --border-width0:      2px;\n",
       "  --border-width1:      3px;\n",
       "  --border-width2:      4px;\n",
       "  --border-width3:      6px;\n",
       "  --border-width4:      5px;\n",
       "  --border-width-plain: 2px;\n",
       "}\n",
       ".hl {\n",
       "  background-color: var(--hl-strong);\n",
       "}\n",
       "span.hl {\n",
       "\tbackground-color: var(--hl-strong);\n",
       "\tborder-width: 0;\n",
       "\tborder-radius: 2px;\n",
       "\tborder-style: solid;\n",
       "}\n",
       "div.contnr.hl,div.lbl.hl {\n",
       "  background-color: var(--hl-strong);\n",
       "}\n",
       "div.contnr.hl {\n",
       "  border-color: var(--hl-rim) ! important;\n",
       "\tborder-width: 4px ! important;\n",
       "}\n",
       "\n",
       "span.hlbx {\n",
       "\tborder-color: var(--hl-rim);\n",
       "\tborder-width: 4px ! important;\n",
       "\tborder-style: solid;\n",
       "\tborder-radius: 6px;\n",
       "  padding: 4px;\n",
       "  margin: 4px;\n",
       "}\n",
       "\n",
       "span.plain {\n",
       "  display: inline-block;\n",
       "  white-space: pre-wrap;\n",
       "}\n",
       "\n",
       ":root {\n",
       "\t--hl-strong:        hsla( 60, 100%,  70%, 0.9  );\n",
       "\t--hl-rim:           hsla( 55,  80%,  50%, 1.0  );\n",
       "}\n",
       "</style>"
      ]
     },
     "metadata": {}
    }
   ],
   "metadata": {}
  },
  {
   "cell_type": "markdown",
   "source": [
    "# Pronominal suffixes\r\n",
    "I'm trying to figure out how to search for forms with specific pronominal suffixes, for example אֵין with 3mp suffix.\r\n",
    "\r\n",
    "`nme` (nominal ending) would seem to be the relevant feature. It has the following values."
   ],
   "metadata": {}
  },
  {
   "cell_type": "code",
   "execution_count": 35,
   "source": [
    "F.nme.freqList()"
   ],
   "outputs": [
    {
     "output_type": "execute_result",
     "data": {
      "text/plain": [
       "(('n/a', 188846),\n",
       " ('', 121966),\n",
       " ('absent', 56508),\n",
       " ('J', 15826),\n",
       " ('JM', 14661),\n",
       " ('H', 8934),\n",
       " ('T', 8558),\n",
       " ('WT', 6363),\n",
       " ('J=', 1770),\n",
       " ('WTJ', 1672),\n",
       " ('JM=', 562),\n",
       " ('TJM', 257),\n",
       " ('TJ', 256),\n",
       " ('JN', 254),\n",
       " ('T=', 61),\n",
       " ('W', 53),\n",
       " ('N', 24),\n",
       " ('JN=', 5),\n",
       " ('W=', 5),\n",
       " ('TJN', 3))"
      ]
     },
     "metadata": {},
     "execution_count": 35
    }
   ],
   "metadata": {}
  },
  {
   "cell_type": "markdown",
   "source": [
    "Not sure what the difference is between the values 'n/a', '', and 'absent'. But the list is too short to contain all the pronominal suffixes.\r\n",
    "\r\n",
    "Documentation to the rescue! The relevant features are `prs`, `prs_gn`, `prs_nu`, and `prs_ps`.\r\n",
    "See https://etcbc.github.io/bhsa/features/prs/."
   ],
   "metadata": {}
  },
  {
   "cell_type": "code",
   "execution_count": 36,
   "source": [
    "F.prs.freqList()"
   ],
   "outputs": [
    {
     "output_type": "execute_result",
     "data": {
      "text/plain": [
       "(('absent', 235942),\n",
       " ('n/a', 145484),\n",
       " ('W', 11905),\n",
       " ('K', 7134),\n",
       " ('J', 6566),\n",
       " ('M', 3938),\n",
       " ('H', 3352),\n",
       " ('HM', 3047),\n",
       " ('KM', 2657),\n",
       " ('NW', 1635),\n",
       " ('HW', 1611),\n",
       " ('NJ', 1321),\n",
       " ('K=', 1308),\n",
       " ('HN', 192),\n",
       " ('H=', 161),\n",
       " ('MW', 117),\n",
       " ('HJ', 77),\n",
       " ('HWN', 51),\n",
       " ('N', 47),\n",
       " ('KN', 19),\n",
       " ('KWN', 10),\n",
       " ('N>', 10))"
      ]
     },
     "metadata": {},
     "execution_count": 36
    }
   ],
   "metadata": {}
  },
  {
   "cell_type": "code",
   "execution_count": 37,
   "source": [
    "F.prs_ps.freqList()"
   ],
   "outputs": [
    {
     "output_type": "execute_result",
     "data": {
      "text/plain": [
       "(('unknown', 235942),\n",
       " ('NA', 145484),\n",
       " ('p3', 24498),\n",
       " ('p2', 11128),\n",
       " ('p1', 9532))"
      ]
     },
     "metadata": {},
     "execution_count": 37
    }
   ],
   "metadata": {}
  },
  {
   "cell_type": "code",
   "execution_count": 38,
   "source": [
    "F.prs_gn.freqList()"
   ],
   "outputs": [
    {
     "output_type": "execute_result",
     "data": {
      "text/plain": [
       "(('unknown', 245474), ('NA', 145484), ('m', 30708), ('f', 4918))"
      ]
     },
     "metadata": {},
     "execution_count": 38
    }
   ],
   "metadata": {}
  },
  {
   "cell_type": "code",
   "execution_count": 39,
   "source": [
    "F.prs_nu.freqList()"
   ],
   "outputs": [
    {
     "output_type": "execute_result",
     "data": {
      "text/plain": [
       "(('unknown', 235942), ('NA', 145484), ('sg', 33435), ('pl', 11723))"
      ]
     },
     "metadata": {},
     "execution_count": 39
    }
   ],
   "metadata": {}
  },
  {
   "cell_type": "markdown",
   "source": [
    "## אין with suf. 3mp"
   ],
   "metadata": {}
  },
  {
   "cell_type": "code",
   "execution_count": 40,
   "source": [
    "A.table(A.search('''\r\n",
    "word lex_utf8=אין prs_ps=p3 prs_gn=m prs_nu=pl\r\n",
    "'''))"
   ],
   "outputs": [
    {
     "output_type": "stream",
     "name": "stdout",
     "text": [
      "  0.34s 17 results\n"
     ]
    },
    {
     "output_type": "display_data",
     "data": {
      "text/plain": [
       "<IPython.core.display.HTML object>"
      ],
      "text/html": [
       "<table><tr class=\"tf rtl\"><th class=\"tf rtl\">n</th><th class=\"tf rtl\">p</th><th class=\"tf rtl\">word</th></tr>\n",
       "<tr class=\"tf rtl\"><td class=\"tf rtl\">1</td><td class=\"tf rtl\"><span class=\"tfsechead ltr\"><a target=\"_blank\" href=\"https://shebanq.ancient-data.org/hebrew/text?book=Reges_II&amp;chapter=17&amp;verse=26&amp;version=c&amp;mr=m&amp;qw=q&amp;tp=txt_p&amp;tr=hb&amp;wget=v&amp;qget=v&amp;nget=vt\" title=\"Show this on SHEBANQ\" sec=\"2_Kings 17:26\">2_Kings 17:26</a></span></td><td class=\"tf rtl\"><span class=\"rtl ubd\"><span class=\"plain rtl  hl\" ><span class=\"txtu hbo\">אֵינָ֣ם </span></span></span></td></tr>\n",
       "<tr class=\"tf rtl\"><td class=\"tf rtl\">2</td><td class=\"tf rtl\"><span class=\"tfsechead ltr\"><a target=\"_blank\" href=\"https://shebanq.ancient-data.org/hebrew/text?book=Reges_II&amp;chapter=17&amp;verse=34&amp;version=c&amp;mr=m&amp;qw=q&amp;tp=txt_p&amp;tr=hb&amp;wget=v&amp;qget=v&amp;nget=vt\" title=\"Show this on SHEBANQ\" sec=\"2_Kings 17:34\">2_Kings 17:34</a></span></td><td class=\"tf rtl\"><span class=\"rtl ubd\"><span class=\"plain rtl  hl\" ><span class=\"txtu hbo\">אֵינָ֤ם </span></span></span></td></tr>\n",
       "<tr class=\"tf rtl\"><td class=\"tf rtl\">3</td><td class=\"tf rtl\"><span class=\"tfsechead ltr\"><a target=\"_blank\" href=\"https://shebanq.ancient-data.org/hebrew/text?book=Reges_II&amp;chapter=17&amp;verse=34&amp;version=c&amp;mr=m&amp;qw=q&amp;tp=txt_p&amp;tr=hb&amp;wget=v&amp;qget=v&amp;nget=vt\" title=\"Show this on SHEBANQ\" sec=\"2_Kings 17:34\">2_Kings 17:34</a></span></td><td class=\"tf rtl\"><span class=\"rtl ubd\"><span class=\"plain rtl  hl\" ><span class=\"txtu hbo\">אֵינָ֣ם </span></span></span></td></tr>\n",
       "<tr class=\"tf rtl\"><td class=\"tf rtl\">4</td><td class=\"tf rtl\"><span class=\"tfsechead ltr\"><a target=\"_blank\" href=\"https://shebanq.ancient-data.org/hebrew/text?book=Jeremia&amp;chapter=10&amp;verse=20&amp;version=c&amp;mr=m&amp;qw=q&amp;tp=txt_p&amp;tr=hb&amp;wget=v&amp;qget=v&amp;nget=vt\" title=\"Show this on SHEBANQ\" sec=\"Jeremiah 10:20\">Jeremiah 10:20</a></span></td><td class=\"tf rtl\"><span class=\"rtl ubd\"><span class=\"plain rtl  hl\" ><span class=\"txtu hbo\">אֵינָ֔ם </span></span></span></td></tr>\n",
       "<tr class=\"tf rtl\"><td class=\"tf rtl\">5</td><td class=\"tf rtl\"><span class=\"tfsechead ltr\"><a target=\"_blank\" href=\"https://shebanq.ancient-data.org/hebrew/text?book=Jeremia&amp;chapter=32&amp;verse=33&amp;version=c&amp;mr=m&amp;qw=q&amp;tp=txt_p&amp;tr=hb&amp;wget=v&amp;qget=v&amp;nget=vt\" title=\"Show this on SHEBANQ\" sec=\"Jeremiah 32:33\">Jeremiah 32:33</a></span></td><td class=\"tf rtl\"><span class=\"rtl ubd\"><span class=\"plain rtl  hl\" ><span class=\"txtu hbo\">אֵינָ֥ם </span></span></span></td></tr>\n",
       "<tr class=\"tf rtl\"><td class=\"tf rtl\">6</td><td class=\"tf rtl\"><span class=\"tfsechead ltr\"><a target=\"_blank\" href=\"https://shebanq.ancient-data.org/hebrew/text?book=Ezechiel&amp;chapter=3&amp;verse=7&amp;version=c&amp;mr=m&amp;qw=q&amp;tp=txt_p&amp;tr=hb&amp;wget=v&amp;qget=v&amp;nget=vt\" title=\"Show this on SHEBANQ\" sec=\"Ezekiel 3:7\">Ezekiel 3:7</a></span></td><td class=\"tf rtl\"><span class=\"rtl ubd\"><span class=\"plain rtl  hl\" ><span class=\"txtu hbo\">אֵינָ֥ם </span></span></span></td></tr>\n",
       "<tr class=\"tf rtl\"><td class=\"tf rtl\">7</td><td class=\"tf rtl\"><span class=\"tfsechead ltr\"><a target=\"_blank\" href=\"https://shebanq.ancient-data.org/hebrew/text?book=Ezechiel&amp;chapter=33&amp;verse=32&amp;version=c&amp;mr=m&amp;qw=q&amp;tp=txt_p&amp;tr=hb&amp;wget=v&amp;qget=v&amp;nget=vt\" title=\"Show this on SHEBANQ\" sec=\"Ezekiel 33:32\">Ezekiel 33:32</a></span></td><td class=\"tf rtl\"><span class=\"rtl ubd\"><span class=\"plain rtl  hl\" ><span class=\"txtu hbo\">אֵינָ֖ם </span></span></span></td></tr>\n",
       "<tr class=\"tf rtl\"><td class=\"tf rtl\">8</td><td class=\"tf rtl\"><span class=\"tfsechead ltr\"><a target=\"_blank\" href=\"https://shebanq.ancient-data.org/hebrew/text?book=Psalmi&amp;chapter=59&amp;verse=14&amp;version=c&amp;mr=m&amp;qw=q&amp;tp=txt_p&amp;tr=hb&amp;wget=v&amp;qget=v&amp;nget=vt\" title=\"Show this on SHEBANQ\" sec=\"Psalms 59:14\">Psalms 59:14</a></span></td><td class=\"tf rtl\"><span class=\"rtl ubd\"><span class=\"plain rtl  hl\" ><span class=\"txtu hbo\">אֵ֫ינֵ֥מֹו </span></span></span></td></tr>\n",
       "<tr class=\"tf rtl\"><td class=\"tf rtl\">9</td><td class=\"tf rtl\"><span class=\"tfsechead ltr\"><a target=\"_blank\" href=\"https://shebanq.ancient-data.org/hebrew/text?book=Psalmi&amp;chapter=73&amp;verse=5&amp;version=c&amp;mr=m&amp;qw=q&amp;tp=txt_p&amp;tr=hb&amp;wget=v&amp;qget=v&amp;nget=vt\" title=\"Show this on SHEBANQ\" sec=\"Psalms 73:5\">Psalms 73:5</a></span></td><td class=\"tf rtl\"><span class=\"rtl ubd\"><span class=\"plain rtl  hl\" ><span class=\"txtu hbo\">אֵינֵ֑מֹו </span></span></span></td></tr>\n",
       "<tr class=\"tf rtl\"><td class=\"tf rtl\">10</td><td class=\"tf rtl\"><span class=\"tfsechead ltr\"><a target=\"_blank\" href=\"https://shebanq.ancient-data.org/hebrew/text?book=Psalmi&amp;chapter=104&amp;verse=35&amp;version=c&amp;mr=m&amp;qw=q&amp;tp=txt_p&amp;tr=hb&amp;wget=v&amp;qget=v&amp;nget=vt\" title=\"Show this on SHEBANQ\" sec=\"Psalms 104:35\">Psalms 104:35</a></span></td><td class=\"tf rtl\"><span class=\"rtl ubd\"><span class=\"plain rtl  hl\" ><span class=\"txtu hbo\">אֵינָ֗ם </span></span></span></td></tr>\n",
       "<tr class=\"tf rtl\"><td class=\"tf rtl\">11</td><td class=\"tf rtl\"><span class=\"tfsechead ltr\"><a target=\"_blank\" href=\"https://shebanq.ancient-data.org/hebrew/text?book=Proverbia&amp;chapter=12&amp;verse=7&amp;version=c&amp;mr=m&amp;qw=q&amp;tp=txt_p&amp;tr=hb&amp;wget=v&amp;qget=v&amp;nget=vt\" title=\"Show this on SHEBANQ\" sec=\"Proverbs 12:7\">Proverbs 12:7</a></span></td><td class=\"tf rtl\"><span class=\"rtl ubd\"><span class=\"plain rtl  hl\" ><span class=\"txtu hbo\">אֵינָ֑ם </span></span></span></td></tr>\n",
       "<tr class=\"tf rtl\"><td class=\"tf rtl\">12</td><td class=\"tf rtl\"><span class=\"tfsechead ltr\"><a target=\"_blank\" href=\"https://shebanq.ancient-data.org/hebrew/text?book=Ecclesiastes&amp;chapter=4&amp;verse=17&amp;version=c&amp;mr=m&amp;qw=q&amp;tp=txt_p&amp;tr=hb&amp;wget=v&amp;qget=v&amp;nget=vt\" title=\"Show this on SHEBANQ\" sec=\"Ecclesiastes 4:17\">Ecclesiastes 4:17</a></span></td><td class=\"tf rtl\"><span class=\"rtl ubd\"><span class=\"plain rtl  hl\" ><span class=\"txtu hbo\">אֵינָ֥ם </span></span></span></td></tr>\n",
       "<tr class=\"tf rtl\"><td class=\"tf rtl\">13</td><td class=\"tf rtl\"><span class=\"tfsechead ltr\"><a target=\"_blank\" href=\"https://shebanq.ancient-data.org/hebrew/text?book=Ecclesiastes&amp;chapter=9&amp;verse=5&amp;version=c&amp;mr=m&amp;qw=q&amp;tp=txt_p&amp;tr=hb&amp;wget=v&amp;qget=v&amp;nget=vt\" title=\"Show this on SHEBANQ\" sec=\"Ecclesiastes 9:5\">Ecclesiastes 9:5</a></span></td><td class=\"tf rtl\"><span class=\"rtl ubd\"><span class=\"plain rtl  hl\" ><span class=\"txtu hbo\">אֵינָ֧ם </span></span></span></td></tr>\n",
       "<tr class=\"tf rtl\"><td class=\"tf rtl\">14</td><td class=\"tf rtl\"><span class=\"tfsechead ltr\"><a target=\"_blank\" href=\"https://shebanq.ancient-data.org/hebrew/text?book=Ecclesiastes&amp;chapter=9&amp;verse=16&amp;version=c&amp;mr=m&amp;qw=q&amp;tp=txt_p&amp;tr=hb&amp;wget=v&amp;qget=v&amp;nget=vt\" title=\"Show this on SHEBANQ\" sec=\"Ecclesiastes 9:16\">Ecclesiastes 9:16</a></span></td><td class=\"tf rtl\"><span class=\"rtl ubd\"><span class=\"plain rtl  hl\" ><span class=\"txtu hbo\">אֵינָ֥ם </span></span></span></td></tr>\n",
       "<tr class=\"tf rtl\"><td class=\"tf rtl\">15</td><td class=\"tf rtl\"><span class=\"tfsechead ltr\"><a target=\"_blank\" href=\"https://shebanq.ancient-data.org/hebrew/text?book=Threni&amp;chapter=5&amp;verse=7&amp;version=c&amp;mr=m&amp;qw=q&amp;tp=txt_p&amp;tr=hb&amp;wget=v&amp;qget=v&amp;nget=vt\" title=\"Show this on SHEBANQ\" sec=\"Lamentations 5:7\">Lamentations 5:7</a></span></td><td class=\"tf rtl\"><span class=\"rtl ubd\"><span class=\"plain rtl  hl\" ><span class=\"txtu hbo\">אֵינָ֔ם </span></span></span></td></tr>\n",
       "<tr class=\"tf rtl\"><td class=\"tf rtl\">16</td><td class=\"tf rtl\"><span class=\"tfsechead ltr\"><a target=\"_blank\" href=\"https://shebanq.ancient-data.org/hebrew/text?book=Esther&amp;chapter=3&amp;verse=8&amp;version=c&amp;mr=m&amp;qw=q&amp;tp=txt_p&amp;tr=hb&amp;wget=v&amp;qget=v&amp;nget=vt\" title=\"Show this on SHEBANQ\" sec=\"Esther 3:8\">Esther 3:8</a></span></td><td class=\"tf rtl\"><span class=\"rtl ubd\"><span class=\"plain rtl  hl\" ><span class=\"txtu hbo\">אֵינָ֣ם </span></span></span></td></tr>\n",
       "<tr class=\"tf rtl\"><td class=\"tf rtl\">17</td><td class=\"tf rtl\"><span class=\"tfsechead ltr\"><a target=\"_blank\" href=\"https://shebanq.ancient-data.org/hebrew/text?book=Nehemia&amp;chapter=13&amp;verse=24&amp;version=c&amp;mr=m&amp;qw=q&amp;tp=txt_p&amp;tr=hb&amp;wget=v&amp;qget=v&amp;nget=vt\" title=\"Show this on SHEBANQ\" sec=\"Nehemiah 13:24\">Nehemiah 13:24</a></span></td><td class=\"tf rtl\"><span class=\"rtl ubd\"><span class=\"plain rtl  hl\" ><span class=\"txtu hbo\">אֵינָ֥ם </span></span></span></td></tr></table>"
      ]
     },
     "metadata": {}
    }
   ],
   "metadata": {}
  },
  {
   "cell_type": "markdown",
   "source": [
    "Now I'd like to see these forms in context of their clauses."
   ],
   "metadata": {}
  },
  {
   "cell_type": "code",
   "execution_count": 41,
   "source": [
    "A.table(A.search('''\r\n",
    "clause\r\n",
    "    word lex_utf8=אין prs_ps=p3 prs_gn=m prs_nu=pl\r\n",
    "'''))"
   ],
   "outputs": [
    {
     "output_type": "stream",
     "name": "stdout",
     "text": [
      "  0.36s 17 results\n"
     ]
    },
    {
     "output_type": "display_data",
     "data": {
      "text/plain": [
       "<IPython.core.display.HTML object>"
      ],
      "text/html": [
       "<table><tr class=\"tf rtl\"><th class=\"tf rtl\">n</th><th class=\"tf rtl\">p</th><th class=\"tf rtl\">clause</th><th class=\"tf\">word</th></tr>\n",
       "<tr class=\"tf rtl\"><td class=\"tf rtl\">1</td><td class=\"tf rtl\"><span class=\"tfsechead ltr\"><a target=\"_blank\" href=\"https://shebanq.ancient-data.org/hebrew/text?book=Reges_II&amp;chapter=17&amp;verse=26&amp;version=c&amp;mr=m&amp;qw=q&amp;tp=txt_p&amp;tr=hb&amp;wget=v&amp;qget=v&amp;nget=vt\" title=\"Show this on SHEBANQ\" sec=\"2_Kings 17:26\">2_Kings 17:26</a></span></td><td class=\"tf rtl\"><span class=\"rtl ubd\"><span class=\"plain rtl  hlbx\" ><span class=\"txtu hbo\">כַּ</span><span class=\"txtu hbo\">אֲשֶׁר֙ </span><span class=\"plain rtl  hl\" ><span class=\"txtu hbo\">אֵינָ֣ם </span></span><span class=\"txtu hbo\">יֹדְעִ֔ים </span><span class=\"txtu hbo\">אֶת־</span><span class=\"txtu hbo\">מִשְׁפַּ֖ט </span><span class=\"txtu hbo\">אֱלֹהֵ֥י </span><span class=\"txtu hbo\">הָ</span><span class=\"txtu hbo\">אָֽרֶץ׃ </span></span></span></td><td class=\"tf rtl\"><span class=\"rtl ubd\"><span class=\"plain rtl  hl\" ><span class=\"txtu hbo\">אֵינָ֣ם </span></span></span></td></tr>\n",
       "<tr class=\"tf rtl\"><td class=\"tf rtl\">2</td><td class=\"tf rtl\"><span class=\"tfsechead ltr\"><a target=\"_blank\" href=\"https://shebanq.ancient-data.org/hebrew/text?book=Reges_II&amp;chapter=17&amp;verse=34&amp;version=c&amp;mr=m&amp;qw=q&amp;tp=txt_p&amp;tr=hb&amp;wget=v&amp;qget=v&amp;nget=vt\" title=\"Show this on SHEBANQ\" sec=\"2_Kings 17:34\">2_Kings 17:34</a></span></td><td class=\"tf rtl\"><span class=\"rtl ubd\"><span class=\"plain rtl  hlbx\" ><span class=\"plain rtl  hl\" ><span class=\"txtu hbo\">אֵינָ֤ם </span></span><span class=\"txtu hbo\">יְרֵאִים֙ </span><span class=\"txtu hbo\">אֶת־</span><span class=\"txtu hbo\">יְהוָ֔ה </span></span></span></td><td class=\"tf rtl\"><span class=\"rtl ubd\"><span class=\"plain rtl  hl\" ><span class=\"txtu hbo\">אֵינָ֤ם </span></span></span></td></tr>\n",
       "<tr class=\"tf rtl\"><td class=\"tf rtl\">3</td><td class=\"tf rtl\"><span class=\"tfsechead ltr\"><a target=\"_blank\" href=\"https://shebanq.ancient-data.org/hebrew/text?book=Reges_II&amp;chapter=17&amp;verse=34&amp;version=c&amp;mr=m&amp;qw=q&amp;tp=txt_p&amp;tr=hb&amp;wget=v&amp;qget=v&amp;nget=vt\" title=\"Show this on SHEBANQ\" sec=\"2_Kings 17:34\">2_Kings 17:34</a></span></td><td class=\"tf rtl\"><span class=\"rtl ubd\"><span class=\"plain rtl  hlbx\" ><span class=\"txtu hbo\">וְ</span><span class=\"plain rtl  hl\" ><span class=\"txtu hbo\">אֵינָ֣ם </span></span><span class=\"txtu hbo\">עֹשִׂ֗ים </span><span class=\"txtu hbo\">כְּ</span><span class=\"txtu hbo\">חֻקֹּתָם֙ </span><span class=\"txtu hbo\">וּ</span><span class=\"txtu hbo\">כְ</span><span class=\"txtu hbo\">מִשְׁפָּטָ֔ם </span><span class=\"txtu hbo\">וְ</span><span class=\"txtu hbo\">כַ</span><span class=\"txtu hbo\">תֹּורָ֣ה </span><span class=\"txtu hbo\">וְ</span><span class=\"txtu hbo\">כַ</span><span class=\"txtu hbo\">מִּצְוָ֗ה </span></span></span></td><td class=\"tf rtl\"><span class=\"rtl ubd\"><span class=\"plain rtl  hl\" ><span class=\"txtu hbo\">אֵינָ֣ם </span></span></span></td></tr>\n",
       "<tr class=\"tf rtl\"><td class=\"tf rtl\">4</td><td class=\"tf rtl\"><span class=\"tfsechead ltr\"><a target=\"_blank\" href=\"https://shebanq.ancient-data.org/hebrew/text?book=Jeremia&amp;chapter=10&amp;verse=20&amp;version=c&amp;mr=m&amp;qw=q&amp;tp=txt_p&amp;tr=hb&amp;wget=v&amp;qget=v&amp;nget=vt\" title=\"Show this on SHEBANQ\" sec=\"Jeremiah 10:20\">Jeremiah 10:20</a></span></td><td class=\"tf rtl\"><span class=\"rtl ubd\"><span class=\"plain rtl  hlbx\" ><span class=\"txtu hbo\">וְ</span><span class=\"plain rtl  hl\" ><span class=\"txtu hbo\">אֵינָ֔ם </span></span></span></span></td><td class=\"tf rtl\"><span class=\"rtl ubd\"><span class=\"plain rtl  hl\" ><span class=\"txtu hbo\">אֵינָ֔ם </span></span></span></td></tr>\n",
       "<tr class=\"tf rtl\"><td class=\"tf rtl\">5</td><td class=\"tf rtl\"><span class=\"tfsechead ltr\"><a target=\"_blank\" href=\"https://shebanq.ancient-data.org/hebrew/text?book=Jeremia&amp;chapter=32&amp;verse=33&amp;version=c&amp;mr=m&amp;qw=q&amp;tp=txt_p&amp;tr=hb&amp;wget=v&amp;qget=v&amp;nget=vt\" title=\"Show this on SHEBANQ\" sec=\"Jeremiah 32:33\">Jeremiah 32:33</a></span></td><td class=\"tf rtl\"><span class=\"rtl ubd\"><span class=\"plain rtl  hlbx\" ><span class=\"txtu hbo\">וְ</span><span class=\"plain rtl  hl\" ><span class=\"txtu hbo\">אֵינָ֥ם </span></span><span class=\"txtu hbo\">שֹׁמְעִ֖ים </span></span></span></td><td class=\"tf rtl\"><span class=\"rtl ubd\"><span class=\"plain rtl  hl\" ><span class=\"txtu hbo\">אֵינָ֥ם </span></span></span></td></tr>\n",
       "<tr class=\"tf rtl\"><td class=\"tf rtl\">6</td><td class=\"tf rtl\"><span class=\"tfsechead ltr\"><a target=\"_blank\" href=\"https://shebanq.ancient-data.org/hebrew/text?book=Ezechiel&amp;chapter=3&amp;verse=7&amp;version=c&amp;mr=m&amp;qw=q&amp;tp=txt_p&amp;tr=hb&amp;wget=v&amp;qget=v&amp;nget=vt\" title=\"Show this on SHEBANQ\" sec=\"Ezekiel 3:7\">Ezekiel 3:7</a></span></td><td class=\"tf rtl\"><span class=\"rtl ubd\"><span class=\"plain rtl  hlbx\" ><span class=\"txtu hbo\">כִּֽי־</span><span class=\"plain rtl  hl\" ><span class=\"txtu hbo\">אֵינָ֥ם </span></span><span class=\"txtu hbo\">אֹבִ֖ים </span></span></span></td><td class=\"tf rtl\"><span class=\"rtl ubd\"><span class=\"plain rtl  hl\" ><span class=\"txtu hbo\">אֵינָ֥ם </span></span></span></td></tr>\n",
       "<tr class=\"tf rtl\"><td class=\"tf rtl\">7</td><td class=\"tf rtl\"><span class=\"tfsechead ltr\"><a target=\"_blank\" href=\"https://shebanq.ancient-data.org/hebrew/text?book=Ezechiel&amp;chapter=33&amp;verse=32&amp;version=c&amp;mr=m&amp;qw=q&amp;tp=txt_p&amp;tr=hb&amp;wget=v&amp;qget=v&amp;nget=vt\" title=\"Show this on SHEBANQ\" sec=\"Ezekiel 33:32\">Ezekiel 33:32</a></span></td><td class=\"tf rtl\"><span class=\"rtl ubd\"><span class=\"plain rtl  hlbx\" ><span class=\"txtu hbo\">וְ</span><span class=\"txtu hbo\">עֹשִׂ֥ים </span><span class=\"plain rtl  hl\" ><span class=\"txtu hbo\">אֵינָ֖ם </span></span><span class=\"txtu hbo\">אֹותָֽם׃ </span></span></span></td><td class=\"tf rtl\"><span class=\"rtl ubd\"><span class=\"plain rtl  hl\" ><span class=\"txtu hbo\">אֵינָ֖ם </span></span></span></td></tr>\n",
       "<tr class=\"tf rtl\"><td class=\"tf rtl\">8</td><td class=\"tf rtl\"><span class=\"tfsechead ltr\"><a target=\"_blank\" href=\"https://shebanq.ancient-data.org/hebrew/text?book=Psalmi&amp;chapter=59&amp;verse=14&amp;version=c&amp;mr=m&amp;qw=q&amp;tp=txt_p&amp;tr=hb&amp;wget=v&amp;qget=v&amp;nget=vt\" title=\"Show this on SHEBANQ\" sec=\"Psalms 59:14\">Psalms 59:14</a></span></td><td class=\"tf rtl\"><span class=\"rtl ubd\"><span class=\"plain rtl  hlbx\" ><span class=\"txtu hbo\">וְֽ</span><span class=\"plain rtl  hl\" ><span class=\"txtu hbo\">אֵ֫ינֵ֥מֹו </span></span></span></span></td><td class=\"tf rtl\"><span class=\"rtl ubd\"><span class=\"plain rtl  hl\" ><span class=\"txtu hbo\">אֵ֫ינֵ֥מֹו </span></span></span></td></tr>\n",
       "<tr class=\"tf rtl\"><td class=\"tf rtl\">9</td><td class=\"tf rtl\"><span class=\"tfsechead ltr\"><a target=\"_blank\" href=\"https://shebanq.ancient-data.org/hebrew/text?book=Psalmi&amp;chapter=73&amp;verse=5&amp;version=c&amp;mr=m&amp;qw=q&amp;tp=txt_p&amp;tr=hb&amp;wget=v&amp;qget=v&amp;nget=vt\" title=\"Show this on SHEBANQ\" sec=\"Psalms 73:5\">Psalms 73:5</a></span></td><td class=\"tf rtl\"><span class=\"rtl ubd\"><span class=\"plain rtl  hlbx\" ><span class=\"txtu hbo\">בַּ</span><span class=\"txtu hbo\">עֲמַ֣ל </span><span class=\"txtu hbo\">אֱנֹ֣ושׁ </span><span class=\"plain rtl  hl\" ><span class=\"txtu hbo\">אֵינֵ֑מֹו </span></span></span></span></td><td class=\"tf rtl\"><span class=\"rtl ubd\"><span class=\"plain rtl  hl\" ><span class=\"txtu hbo\">אֵינֵ֑מֹו </span></span></span></td></tr>\n",
       "<tr class=\"tf rtl\"><td class=\"tf rtl\">10</td><td class=\"tf rtl\"><span class=\"tfsechead ltr\"><a target=\"_blank\" href=\"https://shebanq.ancient-data.org/hebrew/text?book=Psalmi&amp;chapter=104&amp;verse=35&amp;version=c&amp;mr=m&amp;qw=q&amp;tp=txt_p&amp;tr=hb&amp;wget=v&amp;qget=v&amp;nget=vt\" title=\"Show this on SHEBANQ\" sec=\"Psalms 104:35\">Psalms 104:35</a></span></td><td class=\"tf rtl\"><span class=\"rtl ubd\"><span class=\"plain rtl  hlbx\" ><span class=\"txtu hbo\">עֹ֤וד </span><span class=\"plain rtl  hl\" ><span class=\"txtu hbo\">אֵינָ֗ם </span></span></span></span></td><td class=\"tf rtl\"><span class=\"rtl ubd\"><span class=\"plain rtl  hl\" ><span class=\"txtu hbo\">אֵינָ֗ם </span></span></span></td></tr>\n",
       "<tr class=\"tf rtl\"><td class=\"tf rtl\">11</td><td class=\"tf rtl\"><span class=\"tfsechead ltr\"><a target=\"_blank\" href=\"https://shebanq.ancient-data.org/hebrew/text?book=Proverbia&amp;chapter=12&amp;verse=7&amp;version=c&amp;mr=m&amp;qw=q&amp;tp=txt_p&amp;tr=hb&amp;wget=v&amp;qget=v&amp;nget=vt\" title=\"Show this on SHEBANQ\" sec=\"Proverbs 12:7\">Proverbs 12:7</a></span></td><td class=\"tf rtl\"><span class=\"rtl ubd\"><span class=\"plain rtl  hlbx\" ><span class=\"txtu hbo\">וְ</span><span class=\"plain rtl  hl\" ><span class=\"txtu hbo\">אֵינָ֑ם </span></span></span></span></td><td class=\"tf rtl\"><span class=\"rtl ubd\"><span class=\"plain rtl  hl\" ><span class=\"txtu hbo\">אֵינָ֑ם </span></span></span></td></tr>\n",
       "<tr class=\"tf rtl\"><td class=\"tf rtl\">12</td><td class=\"tf rtl\"><span class=\"tfsechead ltr\"><a target=\"_blank\" href=\"https://shebanq.ancient-data.org/hebrew/text?book=Ecclesiastes&amp;chapter=4&amp;verse=17&amp;version=c&amp;mr=m&amp;qw=q&amp;tp=txt_p&amp;tr=hb&amp;wget=v&amp;qget=v&amp;nget=vt\" title=\"Show this on SHEBANQ\" sec=\"Ecclesiastes 4:17\">Ecclesiastes 4:17</a></span></td><td class=\"tf rtl\"><span class=\"rtl ubd\"><span class=\"plain rtl  hlbx\" ><span class=\"txtu hbo\">כִּֽי־</span><span class=\"plain rtl  hl\" ><span class=\"txtu hbo\">אֵינָ֥ם </span></span><span class=\"txtu hbo\">יֹודְעִ֖ים </span></span></span></td><td class=\"tf rtl\"><span class=\"rtl ubd\"><span class=\"plain rtl  hl\" ><span class=\"txtu hbo\">אֵינָ֥ם </span></span></span></td></tr>\n",
       "<tr class=\"tf rtl\"><td class=\"tf rtl\">13</td><td class=\"tf rtl\"><span class=\"tfsechead ltr\"><a target=\"_blank\" href=\"https://shebanq.ancient-data.org/hebrew/text?book=Ecclesiastes&amp;chapter=9&amp;verse=5&amp;version=c&amp;mr=m&amp;qw=q&amp;tp=txt_p&amp;tr=hb&amp;wget=v&amp;qget=v&amp;nget=vt\" title=\"Show this on SHEBANQ\" sec=\"Ecclesiastes 9:5\">Ecclesiastes 9:5</a></span></td><td class=\"tf rtl\"><span class=\"rtl ubd\"><span class=\"plain rtl  hlbx\" ><span class=\"plain rtl  hl\" ><span class=\"txtu hbo\">אֵינָ֧ם </span></span><span class=\"txtu hbo\">יֹודְעִ֣ים </span><span class=\"txtu hbo\">מְא֗וּמָה </span></span></span></td><td class=\"tf rtl\"><span class=\"rtl ubd\"><span class=\"plain rtl  hl\" ><span class=\"txtu hbo\">אֵינָ֧ם </span></span></span></td></tr>\n",
       "<tr class=\"tf rtl\"><td class=\"tf rtl\">14</td><td class=\"tf rtl\"><span class=\"tfsechead ltr\"><a target=\"_blank\" href=\"https://shebanq.ancient-data.org/hebrew/text?book=Ecclesiastes&amp;chapter=9&amp;verse=16&amp;version=c&amp;mr=m&amp;qw=q&amp;tp=txt_p&amp;tr=hb&amp;wget=v&amp;qget=v&amp;nget=vt\" title=\"Show this on SHEBANQ\" sec=\"Ecclesiastes 9:16\">Ecclesiastes 9:16</a></span></td><td class=\"tf rtl\"><span class=\"rtl ubd\"><span class=\"plain rtl  hlbx\" ><span class=\"plain rtl  hl\" ><span class=\"txtu hbo\">אֵינָ֥ם </span></span><span class=\"txtu hbo\">נִשְׁמָעִֽים׃ </span></span></span></td><td class=\"tf rtl\"><span class=\"rtl ubd\"><span class=\"plain rtl  hl\" ><span class=\"txtu hbo\">אֵינָ֥ם </span></span></span></td></tr>\n",
       "<tr class=\"tf rtl\"><td class=\"tf rtl\">15</td><td class=\"tf rtl\"><span class=\"tfsechead ltr\"><a target=\"_blank\" href=\"https://shebanq.ancient-data.org/hebrew/text?book=Threni&amp;chapter=5&amp;verse=7&amp;version=c&amp;mr=m&amp;qw=q&amp;tp=txt_p&amp;tr=hb&amp;wget=v&amp;qget=v&amp;nget=vt\" title=\"Show this on SHEBANQ\" sec=\"Lamentations 5:7\">Lamentations 5:7</a></span></td><td class=\"tf rtl\"><span class=\"rtl ubd\"><span class=\"plain rtl  hlbx\" ><span class=\"txtu hbo\">וְ</span><span class=\"plain rtl  hl\" ><span class=\"txtu hbo\">אֵינָ֔ם </span></span></span></span></td><td class=\"tf rtl\"><span class=\"rtl ubd\"><span class=\"plain rtl  hl\" ><span class=\"txtu hbo\">אֵינָ֔ם </span></span></span></td></tr>\n",
       "<tr class=\"tf rtl\"><td class=\"tf rtl\">16</td><td class=\"tf rtl\"><span class=\"tfsechead ltr\"><a target=\"_blank\" href=\"https://shebanq.ancient-data.org/hebrew/text?book=Esther&amp;chapter=3&amp;verse=8&amp;version=c&amp;mr=m&amp;qw=q&amp;tp=txt_p&amp;tr=hb&amp;wget=v&amp;qget=v&amp;nget=vt\" title=\"Show this on SHEBANQ\" sec=\"Esther 3:8\">Esther 3:8</a></span></td><td class=\"tf rtl\"><span class=\"rtl ubd\"><span class=\"plain rtl  hlbx\" ><span class=\"txtu hbo\">וְ</span><span class=\"txtu hbo\">אֶת־</span><span class=\"txtu hbo\">דָּתֵ֤י </span><span class=\"txtu hbo\">הַ</span><span class=\"txtu hbo\">מֶּ֨לֶךְ֙ </span><span class=\"plain rtl  hl\" ><span class=\"txtu hbo\">אֵינָ֣ם </span></span><span class=\"txtu hbo\">עֹשִׂ֔ים </span></span></span></td><td class=\"tf rtl\"><span class=\"rtl ubd\"><span class=\"plain rtl  hl\" ><span class=\"txtu hbo\">אֵינָ֣ם </span></span></span></td></tr>\n",
       "<tr class=\"tf rtl\"><td class=\"tf rtl\">17</td><td class=\"tf rtl\"><span class=\"tfsechead ltr\"><a target=\"_blank\" href=\"https://shebanq.ancient-data.org/hebrew/text?book=Nehemia&amp;chapter=13&amp;verse=24&amp;version=c&amp;mr=m&amp;qw=q&amp;tp=txt_p&amp;tr=hb&amp;wget=v&amp;qget=v&amp;nget=vt\" title=\"Show this on SHEBANQ\" sec=\"Nehemiah 13:24\">Nehemiah 13:24</a></span></td><td class=\"tf rtl\"><span class=\"rtl ubd\"><span class=\"plain rtl  hlbx\" ><span class=\"txtu hbo\">וְ</span><span class=\"plain rtl  hl\" ><span class=\"txtu hbo\">אֵינָ֥ם </span></span><span class=\"txtu hbo\">מַכִּירִ֖ים </span></span></span></td><td class=\"tf rtl\"><span class=\"rtl ubd\"><span class=\"plain rtl  hl\" ><span class=\"txtu hbo\">אֵינָ֥ם </span></span></span></td></tr></table>"
      ]
     },
     "metadata": {}
    }
   ],
   "metadata": {}
  }
 ],
 "metadata": {
  "orig_nbformat": 4,
  "language_info": {
   "name": "python",
   "version": "3.8.5",
   "mimetype": "text/x-python",
   "codemirror_mode": {
    "name": "ipython",
    "version": 3
   },
   "pygments_lexer": "ipython3",
   "nbconvert_exporter": "python",
   "file_extension": ".py"
  },
  "kernelspec": {
   "name": "python3",
   "display_name": "Python 3.8.5 64-bit ('base': conda)"
  },
  "interpreter": {
   "hash": "a707b6ce8c685eb936424fcc3009d4b4b7a52543c4db09380a3fc49186ceb509"
  }
 },
 "nbformat": 4,
 "nbformat_minor": 2
}